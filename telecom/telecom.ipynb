{
 "cells": [
  {
   "cell_type": "markdown",
   "metadata": {},
   "source": [
    "# Проект \"Нупозвони\""
   ]
  },
  {
   "cell_type": "markdown",
   "metadata": {},
   "source": [
    "## Этап 1. Знакомство с данными"
   ]
  },
  {
   "cell_type": "markdown",
   "metadata": {},
   "source": [
    "Импортируем необходиме библиотеки."
   ]
  },
  {
   "cell_type": "code",
   "execution_count": 102,
   "metadata": {},
   "outputs": [],
   "source": [
    "import pandas as pd\n",
    "from datetime import datetime, timedelta\n",
    "import numpy as np \n",
    "import seaborn \n",
    "from scipy import stats as st\n",
    "import matplotlib.pyplot as plt"
   ]
  },
  {
   "cell_type": "markdown",
   "metadata": {},
   "source": [
    "Читаем файл, выводим первые строки."
   ]
  },
  {
   "cell_type": "code",
   "execution_count": 103,
   "metadata": {
    "scrolled": false
   },
   "outputs": [
    {
     "data": {
      "text/html": [
       "<div>\n",
       "<style scoped>\n",
       "    .dataframe tbody tr th:only-of-type {\n",
       "        vertical-align: middle;\n",
       "    }\n",
       "\n",
       "    .dataframe tbody tr th {\n",
       "        vertical-align: top;\n",
       "    }\n",
       "\n",
       "    .dataframe thead th {\n",
       "        text-align: right;\n",
       "    }\n",
       "</style>\n",
       "<table border=\"1\" class=\"dataframe\">\n",
       "  <thead>\n",
       "    <tr style=\"text-align: right;\">\n",
       "      <th></th>\n",
       "      <th>user_id</th>\n",
       "      <th>date</th>\n",
       "      <th>direction</th>\n",
       "      <th>internal</th>\n",
       "      <th>operator_id</th>\n",
       "      <th>is_missed_call</th>\n",
       "      <th>calls_count</th>\n",
       "      <th>call_duration</th>\n",
       "      <th>total_call_duration</th>\n",
       "    </tr>\n",
       "  </thead>\n",
       "  <tbody>\n",
       "    <tr>\n",
       "      <th>0</th>\n",
       "      <td>166377</td>\n",
       "      <td>2019-08-04 00:00:00+03:00</td>\n",
       "      <td>in</td>\n",
       "      <td>False</td>\n",
       "      <td>NaN</td>\n",
       "      <td>True</td>\n",
       "      <td>2</td>\n",
       "      <td>0</td>\n",
       "      <td>4</td>\n",
       "    </tr>\n",
       "    <tr>\n",
       "      <th>1</th>\n",
       "      <td>166377</td>\n",
       "      <td>2019-08-05 00:00:00+03:00</td>\n",
       "      <td>out</td>\n",
       "      <td>True</td>\n",
       "      <td>880022.0</td>\n",
       "      <td>True</td>\n",
       "      <td>3</td>\n",
       "      <td>0</td>\n",
       "      <td>5</td>\n",
       "    </tr>\n",
       "    <tr>\n",
       "      <th>2</th>\n",
       "      <td>166377</td>\n",
       "      <td>2019-08-05 00:00:00+03:00</td>\n",
       "      <td>out</td>\n",
       "      <td>True</td>\n",
       "      <td>880020.0</td>\n",
       "      <td>True</td>\n",
       "      <td>1</td>\n",
       "      <td>0</td>\n",
       "      <td>1</td>\n",
       "    </tr>\n",
       "    <tr>\n",
       "      <th>3</th>\n",
       "      <td>166377</td>\n",
       "      <td>2019-08-05 00:00:00+03:00</td>\n",
       "      <td>out</td>\n",
       "      <td>True</td>\n",
       "      <td>880020.0</td>\n",
       "      <td>False</td>\n",
       "      <td>1</td>\n",
       "      <td>10</td>\n",
       "      <td>18</td>\n",
       "    </tr>\n",
       "    <tr>\n",
       "      <th>4</th>\n",
       "      <td>166377</td>\n",
       "      <td>2019-08-05 00:00:00+03:00</td>\n",
       "      <td>out</td>\n",
       "      <td>False</td>\n",
       "      <td>880022.0</td>\n",
       "      <td>True</td>\n",
       "      <td>3</td>\n",
       "      <td>0</td>\n",
       "      <td>25</td>\n",
       "    </tr>\n",
       "  </tbody>\n",
       "</table>\n",
       "</div>"
      ],
      "text/plain": [
       "   user_id                       date direction internal  operator_id  \\\n",
       "0   166377  2019-08-04 00:00:00+03:00        in    False          NaN   \n",
       "1   166377  2019-08-05 00:00:00+03:00       out     True     880022.0   \n",
       "2   166377  2019-08-05 00:00:00+03:00       out     True     880020.0   \n",
       "3   166377  2019-08-05 00:00:00+03:00       out     True     880020.0   \n",
       "4   166377  2019-08-05 00:00:00+03:00       out    False     880022.0   \n",
       "\n",
       "   is_missed_call  calls_count  call_duration  total_call_duration  \n",
       "0            True            2              0                    4  \n",
       "1            True            3              0                    5  \n",
       "2            True            1              0                    1  \n",
       "3           False            1             10                   18  \n",
       "4            True            3              0                   25  "
      ]
     },
     "execution_count": 103,
     "metadata": {},
     "output_type": "execute_result"
    }
   ],
   "source": [
    "data = pd.read_csv('telecom_dataset.csv') \n",
    "data.head()"
   ]
  },
  {
   "cell_type": "markdown",
   "metadata": {},
   "source": [
    "Каждая строка таблицы содержит информацию о количестве и общей продолжительности звонков одного типа у оператора за один день. Проверим данные на наличие дубликатов, пропусков и корректность типов данных."
   ]
  },
  {
   "cell_type": "markdown",
   "metadata": {},
   "source": [
    "## Этап 2. Подготовка данных"
   ]
  },
  {
   "cell_type": "markdown",
   "metadata": {},
   "source": [
    "Рассмотрим данные поближе."
   ]
  },
  {
   "cell_type": "code",
   "execution_count": 104,
   "metadata": {
    "scrolled": false
   },
   "outputs": [
    {
     "name": "stdout",
     "output_type": "stream",
     "text": [
      "<class 'pandas.core.frame.DataFrame'>\n",
      "RangeIndex: 53902 entries, 0 to 53901\n",
      "Data columns (total 9 columns):\n",
      " #   Column               Non-Null Count  Dtype  \n",
      "---  ------               --------------  -----  \n",
      " 0   user_id              53902 non-null  int64  \n",
      " 1   date                 53902 non-null  object \n",
      " 2   direction            53902 non-null  object \n",
      " 3   internal             53785 non-null  object \n",
      " 4   operator_id          45730 non-null  float64\n",
      " 5   is_missed_call       53902 non-null  bool   \n",
      " 6   calls_count          53902 non-null  int64  \n",
      " 7   call_duration        53902 non-null  int64  \n",
      " 8   total_call_duration  53902 non-null  int64  \n",
      "dtypes: bool(1), float64(1), int64(4), object(3)\n",
      "memory usage: 3.3+ MB\n"
     ]
    }
   ],
   "source": [
    "data.info()"
   ]
  },
  {
   "cell_type": "markdown",
   "metadata": {},
   "source": [
    "Проверим на наличие дубликатов."
   ]
  },
  {
   "cell_type": "code",
   "execution_count": 105,
   "metadata": {},
   "outputs": [
    {
     "data": {
      "text/plain": [
       "4900"
      ]
     },
     "execution_count": 105,
     "metadata": {},
     "output_type": "execute_result"
    }
   ],
   "source": [
    "data.duplicated().sum()"
   ]
  },
  {
   "cell_type": "markdown",
   "metadata": {},
   "source": [
    "Удалим дубликаты."
   ]
  },
  {
   "cell_type": "code",
   "execution_count": 106,
   "metadata": {},
   "outputs": [],
   "source": [
    "data = data.drop_duplicates()"
   ]
  },
  {
   "cell_type": "markdown",
   "metadata": {},
   "source": [
    "Посмотрим на пропуски в данных."
   ]
  },
  {
   "cell_type": "code",
   "execution_count": 107,
   "metadata": {},
   "outputs": [
    {
     "data": {
      "text/plain": [
       "user_id                   0\n",
       "date                      0\n",
       "direction                 0\n",
       "internal                110\n",
       "operator_id            7456\n",
       "is_missed_call            0\n",
       "calls_count               0\n",
       "call_duration             0\n",
       "total_call_duration       0\n",
       "dtype: int64"
      ]
     },
     "execution_count": 107,
     "metadata": {},
     "output_type": "execute_result"
    }
   ],
   "source": [
    "data.isna().sum()"
   ]
  },
  {
   "cell_type": "markdown",
   "metadata": {},
   "source": [
    "Рассчитаем долю пропусков в столбце internal в процентах."
   ]
  },
  {
   "cell_type": "code",
   "execution_count": 108,
   "metadata": {},
   "outputs": [
    {
     "data": {
      "text/plain": [
       "0.22"
      ]
     },
     "execution_count": 108,
     "metadata": {},
     "output_type": "execute_result"
    }
   ],
   "source": [
    "round(data['internal'].isna().sum() / data.shape[0] * 100, 2)"
   ]
  },
  {
   "cell_type": "markdown",
   "metadata": {},
   "source": [
    "Процент пропущенных значений маленький, поэтому можно удалить эти пропуски."
   ]
  },
  {
   "cell_type": "code",
   "execution_count": 109,
   "metadata": {},
   "outputs": [],
   "source": [
    "data = data.dropna(subset=['internal'])"
   ]
  },
  {
   "cell_type": "markdown",
   "metadata": {},
   "source": [
    "Рассчитаем долю пропусков в столбце operator_id в процентах."
   ]
  },
  {
   "cell_type": "code",
   "execution_count": 110,
   "metadata": {},
   "outputs": [
    {
     "data": {
      "text/plain": [
       "15.137445798903707"
      ]
     },
     "execution_count": 110,
     "metadata": {},
     "output_type": "execute_result"
    }
   ],
   "source": [
    "data['operator_id'].isna().sum() / data.shape[0] * 100"
   ]
  },
  {
   "cell_type": "markdown",
   "metadata": {},
   "source": [
    "Процент пропущенных значений  по операторам уже довольно большой, однако замену мы найти не сможем, а так как все наше исследование напрямую связано с операторами, то придется удалить эти пропуски."
   ]
  },
  {
   "cell_type": "code",
   "execution_count": 111,
   "metadata": {},
   "outputs": [],
   "source": [
    "data = data.dropna(subset=['operator_id'])"
   ]
  },
  {
   "cell_type": "markdown",
   "metadata": {},
   "source": [
    "Поменяем тип данных в столбцах с датой и внутренними/внешними вызовами."
   ]
  },
  {
   "cell_type": "code",
   "execution_count": 112,
   "metadata": {},
   "outputs": [],
   "source": [
    "data['date'] = pd.to_datetime(data['date']).dt.date"
   ]
  },
  {
   "cell_type": "code",
   "execution_count": 113,
   "metadata": {},
   "outputs": [],
   "source": [
    "data['date'] = pd.to_datetime(data['date'], format='%Y-%m-%d')"
   ]
  },
  {
   "cell_type": "code",
   "execution_count": 114,
   "metadata": {},
   "outputs": [],
   "source": [
    "data = data.astype({'internal': 'bool', 'operator_id': 'object'})"
   ]
  },
  {
   "cell_type": "code",
   "execution_count": 115,
   "metadata": {},
   "outputs": [
    {
     "name": "stdout",
     "output_type": "stream",
     "text": [
      "<class 'pandas.core.frame.DataFrame'>\n",
      "Int64Index: 41491 entries, 1 to 53899\n",
      "Data columns (total 9 columns):\n",
      " #   Column               Non-Null Count  Dtype         \n",
      "---  ------               --------------  -----         \n",
      " 0   user_id              41491 non-null  int64         \n",
      " 1   date                 41491 non-null  datetime64[ns]\n",
      " 2   direction            41491 non-null  object        \n",
      " 3   internal             41491 non-null  bool          \n",
      " 4   operator_id          41491 non-null  object        \n",
      " 5   is_missed_call       41491 non-null  bool          \n",
      " 6   calls_count          41491 non-null  int64         \n",
      " 7   call_duration        41491 non-null  int64         \n",
      " 8   total_call_duration  41491 non-null  int64         \n",
      "dtypes: bool(2), datetime64[ns](1), int64(4), object(2)\n",
      "memory usage: 2.6+ MB\n"
     ]
    }
   ],
   "source": [
    "data.info()"
   ]
  },
  {
   "cell_type": "markdown",
   "metadata": {},
   "source": [
    "Данные готовы к анализу. "
   ]
  },
  {
   "cell_type": "markdown",
   "metadata": {},
   "source": [
    "## Этап 3. Исследовательский анализ данных"
   ]
  },
  {
   "cell_type": "markdown",
   "metadata": {},
   "source": [
    "Для начала посмотрим на количество колл-центров и операторов в них, рассмотрим распределение вызовов по типам (входящий/исходящий, внутренний/внешний, пропущенный/приянтый), исследуем данных на наличие аномалий и ошибок, построим гистограммы распределения и диаграммы размаха разных показателей (длительность, количество звонков), вычислим средние показатели количественных характеристик звонков (количество и продолжительность вызовов, среднее время ожидания).\n",
    "\n",
    "На основании полученных результатов анализа подберем критерии для оценки эффективности операторов и выявим таких операторов."
   ]
  },
  {
   "cell_type": "markdown",
   "metadata": {},
   "source": [
    "На основании проведенного анализа нужно будет выявить критерии для оценки неэффективности операторов. Предварительно, ими могут быть:\n",
    "- много пропущенных входящих вызовов (определить порог этого \"много\"),\n",
    "- долгое ожидание ответа при входящих внешних вызовах (определить порог \"долго\"),\n",
    "- мало исходящих вызовов (для специализирующихся на обзвонах),\n",
    "- количество переадресаций другому оператору (когда оператор не может сам решить вопрос),\n",
    "- очень короткие исходящий вызов (с оператором не захотели разговаривать?), этот критерий пока под вопросом.\n",
    "\n",
    "Возможно, в ходе анализа будут найдены еще интересные закономерности и в результате них будут найдены новые критерии для оценки.\n",
    "\n",
    "Для каждого критерия нужно будет определить порог нормы. Это будет удобно сделать, когда данные будут наглядно представлены (например, графики).\n",
    "\n",
    "Также нужно будет по полученным критериям выделить неэффективных операторов и их количество (долю) в каждом колл-центре, чтобы в целом понять, стоит ли оно того."
   ]
  },
  {
   "cell_type": "markdown",
   "metadata": {},
   "source": [
    "### Даты, колл-центры и операторы"
   ]
  },
  {
   "cell_type": "markdown",
   "metadata": {},
   "source": [
    "Посмотрим, сколько у нас колл-центров и операторов."
   ]
  },
  {
   "cell_type": "code",
   "execution_count": 116,
   "metadata": {
    "scrolled": true
   },
   "outputs": [
    {
     "data": {
      "text/plain": [
       "290"
      ]
     },
     "execution_count": 116,
     "metadata": {},
     "output_type": "execute_result"
    }
   ],
   "source": [
    "data['user_id'].nunique()"
   ]
  },
  {
   "cell_type": "code",
   "execution_count": 117,
   "metadata": {
    "scrolled": true
   },
   "outputs": [
    {
     "data": {
      "text/plain": [
       "1092"
      ]
     },
     "execution_count": 117,
     "metadata": {},
     "output_type": "execute_result"
    }
   ],
   "source": [
    "data['operator_id'].nunique()"
   ]
  },
  {
   "cell_type": "markdown",
   "metadata": {},
   "source": [
    "Всего в 290 колл-центрах работают 1092 оператора. Сколько операторов приходится на каждый колл-центр?"
   ]
  },
  {
   "cell_type": "code",
   "execution_count": 118,
   "metadata": {
    "scrolled": false
   },
   "outputs": [
    {
     "data": {
      "text/html": [
       "<div>\n",
       "<style scoped>\n",
       "    .dataframe tbody tr th:only-of-type {\n",
       "        vertical-align: middle;\n",
       "    }\n",
       "\n",
       "    .dataframe tbody tr th {\n",
       "        vertical-align: top;\n",
       "    }\n",
       "\n",
       "    .dataframe thead th {\n",
       "        text-align: right;\n",
       "    }\n",
       "</style>\n",
       "<table border=\"1\" class=\"dataframe\">\n",
       "  <thead>\n",
       "    <tr style=\"text-align: right;\">\n",
       "      <th></th>\n",
       "      <th>user_id</th>\n",
       "      <th>operator_id</th>\n",
       "    </tr>\n",
       "  </thead>\n",
       "  <tbody>\n",
       "    <tr>\n",
       "      <th>0</th>\n",
       "      <td>168606</td>\n",
       "      <td>1</td>\n",
       "    </tr>\n",
       "    <tr>\n",
       "      <th>1</th>\n",
       "      <td>167238</td>\n",
       "      <td>1</td>\n",
       "    </tr>\n",
       "    <tr>\n",
       "      <th>2</th>\n",
       "      <td>167235</td>\n",
       "      <td>1</td>\n",
       "    </tr>\n",
       "    <tr>\n",
       "      <th>3</th>\n",
       "      <td>167200</td>\n",
       "      <td>1</td>\n",
       "    </tr>\n",
       "    <tr>\n",
       "      <th>4</th>\n",
       "      <td>167199</td>\n",
       "      <td>1</td>\n",
       "    </tr>\n",
       "    <tr>\n",
       "      <th>...</th>\n",
       "      <td>...</td>\n",
       "      <td>...</td>\n",
       "    </tr>\n",
       "    <tr>\n",
       "      <th>285</th>\n",
       "      <td>168062</td>\n",
       "      <td>27</td>\n",
       "    </tr>\n",
       "    <tr>\n",
       "      <th>286</th>\n",
       "      <td>168252</td>\n",
       "      <td>28</td>\n",
       "    </tr>\n",
       "    <tr>\n",
       "      <th>287</th>\n",
       "      <td>167497</td>\n",
       "      <td>30</td>\n",
       "    </tr>\n",
       "    <tr>\n",
       "      <th>288</th>\n",
       "      <td>167626</td>\n",
       "      <td>48</td>\n",
       "    </tr>\n",
       "    <tr>\n",
       "      <th>289</th>\n",
       "      <td>168187</td>\n",
       "      <td>50</td>\n",
       "    </tr>\n",
       "  </tbody>\n",
       "</table>\n",
       "<p>290 rows × 2 columns</p>\n",
       "</div>"
      ],
      "text/plain": [
       "     user_id  operator_id\n",
       "0     168606            1\n",
       "1     167238            1\n",
       "2     167235            1\n",
       "3     167200            1\n",
       "4     167199            1\n",
       "..       ...          ...\n",
       "285   168062           27\n",
       "286   168252           28\n",
       "287   167497           30\n",
       "288   167626           48\n",
       "289   168187           50\n",
       "\n",
       "[290 rows x 2 columns]"
      ]
     },
     "execution_count": 118,
     "metadata": {},
     "output_type": "execute_result"
    }
   ],
   "source": [
    "data.groupby('user_id')['operator_id'].nunique().sort_values().reset_index() "
   ]
  },
  {
   "cell_type": "markdown",
   "metadata": {},
   "source": [
    "В колл-центрах работают от 1 до 50 операторов. Странные колл-центры с одним оператором... Но может быть, это ИП?\n",
    "\n",
    "Рассмотрим даты совершения вызовов."
   ]
  },
  {
   "cell_type": "code",
   "execution_count": 119,
   "metadata": {},
   "outputs": [
    {
     "data": {
      "text/plain": [
       "Timestamp('2019-08-02 00:00:00')"
      ]
     },
     "execution_count": 119,
     "metadata": {},
     "output_type": "execute_result"
    }
   ],
   "source": [
    "data['date'].min()"
   ]
  },
  {
   "cell_type": "code",
   "execution_count": 120,
   "metadata": {},
   "outputs": [
    {
     "data": {
      "text/plain": [
       "Timestamp('2019-11-28 00:00:00')"
      ]
     },
     "execution_count": 120,
     "metadata": {},
     "output_type": "execute_result"
    }
   ],
   "source": [
    "data['date'].max()"
   ]
  },
  {
   "cell_type": "markdown",
   "metadata": {},
   "source": [
    "Итак, у нас данные с 2 августа по 28 ноября 2019 года."
   ]
  },
  {
   "cell_type": "markdown",
   "metadata": {},
   "source": [
    "### Качественные переменные (типы вызовов)"
   ]
  },
  {
   "cell_type": "markdown",
   "metadata": {},
   "source": [
    "Рассмотрим, как распределены вызовы по типам:\n",
    "- входящие/исходящие,\n",
    "- внешние/внутренние,\n",
    "- пропущенные/принятые.\n",
    "\n",
    "И сразу же проверим на наличие нереальных и противоречивых данных."
   ]
  },
  {
   "cell_type": "markdown",
   "metadata": {},
   "source": [
    "Есть ли пропущенные вызовы с длительностью разговора больше нуля? "
   ]
  },
  {
   "cell_type": "code",
   "execution_count": 121,
   "metadata": {
    "scrolled": false
   },
   "outputs": [
    {
     "data": {
      "text/html": [
       "<div>\n",
       "<style scoped>\n",
       "    .dataframe tbody tr th:only-of-type {\n",
       "        vertical-align: middle;\n",
       "    }\n",
       "\n",
       "    .dataframe tbody tr th {\n",
       "        vertical-align: top;\n",
       "    }\n",
       "\n",
       "    .dataframe thead th {\n",
       "        text-align: right;\n",
       "    }\n",
       "</style>\n",
       "<table border=\"1\" class=\"dataframe\">\n",
       "  <thead>\n",
       "    <tr style=\"text-align: right;\">\n",
       "      <th></th>\n",
       "      <th>user_id</th>\n",
       "      <th>date</th>\n",
       "      <th>direction</th>\n",
       "      <th>internal</th>\n",
       "      <th>operator_id</th>\n",
       "      <th>is_missed_call</th>\n",
       "      <th>calls_count</th>\n",
       "      <th>call_duration</th>\n",
       "      <th>total_call_duration</th>\n",
       "    </tr>\n",
       "  </thead>\n",
       "  <tbody>\n",
       "    <tr>\n",
       "      <th>1606</th>\n",
       "      <td>166405</td>\n",
       "      <td>2019-11-19</td>\n",
       "      <td>in</td>\n",
       "      <td>False</td>\n",
       "      <td>939478.0</td>\n",
       "      <td>True</td>\n",
       "      <td>1</td>\n",
       "      <td>165</td>\n",
       "      <td>173</td>\n",
       "    </tr>\n",
       "    <tr>\n",
       "      <th>1635</th>\n",
       "      <td>166405</td>\n",
       "      <td>2019-11-21</td>\n",
       "      <td>in</td>\n",
       "      <td>False</td>\n",
       "      <td>882686.0</td>\n",
       "      <td>True</td>\n",
       "      <td>1</td>\n",
       "      <td>1</td>\n",
       "      <td>5</td>\n",
       "    </tr>\n",
       "    <tr>\n",
       "      <th>1657</th>\n",
       "      <td>166405</td>\n",
       "      <td>2019-11-22</td>\n",
       "      <td>in</td>\n",
       "      <td>False</td>\n",
       "      <td>882686.0</td>\n",
       "      <td>True</td>\n",
       "      <td>1</td>\n",
       "      <td>1</td>\n",
       "      <td>5</td>\n",
       "    </tr>\n",
       "    <tr>\n",
       "      <th>2283</th>\n",
       "      <td>166407</td>\n",
       "      <td>2019-09-23</td>\n",
       "      <td>in</td>\n",
       "      <td>False</td>\n",
       "      <td>888534.0</td>\n",
       "      <td>True</td>\n",
       "      <td>1</td>\n",
       "      <td>133</td>\n",
       "      <td>156</td>\n",
       "    </tr>\n",
       "    <tr>\n",
       "      <th>2869</th>\n",
       "      <td>166482</td>\n",
       "      <td>2019-11-05</td>\n",
       "      <td>in</td>\n",
       "      <td>False</td>\n",
       "      <td>934074.0</td>\n",
       "      <td>True</td>\n",
       "      <td>1</td>\n",
       "      <td>1</td>\n",
       "      <td>15</td>\n",
       "    </tr>\n",
       "    <tr>\n",
       "      <th>...</th>\n",
       "      <td>...</td>\n",
       "      <td>...</td>\n",
       "      <td>...</td>\n",
       "      <td>...</td>\n",
       "      <td>...</td>\n",
       "      <td>...</td>\n",
       "      <td>...</td>\n",
       "      <td>...</td>\n",
       "      <td>...</td>\n",
       "    </tr>\n",
       "    <tr>\n",
       "      <th>51599</th>\n",
       "      <td>168336</td>\n",
       "      <td>2019-11-01</td>\n",
       "      <td>in</td>\n",
       "      <td>False</td>\n",
       "      <td>947304.0</td>\n",
       "      <td>True</td>\n",
       "      <td>1</td>\n",
       "      <td>1</td>\n",
       "      <td>20</td>\n",
       "    </tr>\n",
       "    <tr>\n",
       "      <th>51664</th>\n",
       "      <td>168336</td>\n",
       "      <td>2019-11-12</td>\n",
       "      <td>in</td>\n",
       "      <td>False</td>\n",
       "      <td>947304.0</td>\n",
       "      <td>True</td>\n",
       "      <td>1</td>\n",
       "      <td>69</td>\n",
       "      <td>72</td>\n",
       "    </tr>\n",
       "    <tr>\n",
       "      <th>51693</th>\n",
       "      <td>168336</td>\n",
       "      <td>2019-11-15</td>\n",
       "      <td>in</td>\n",
       "      <td>False</td>\n",
       "      <td>947304.0</td>\n",
       "      <td>True</td>\n",
       "      <td>1</td>\n",
       "      <td>46</td>\n",
       "      <td>49</td>\n",
       "    </tr>\n",
       "    <tr>\n",
       "      <th>51853</th>\n",
       "      <td>168336</td>\n",
       "      <td>2019-11-27</td>\n",
       "      <td>in</td>\n",
       "      <td>False</td>\n",
       "      <td>958416.0</td>\n",
       "      <td>True</td>\n",
       "      <td>1</td>\n",
       "      <td>40</td>\n",
       "      <td>65</td>\n",
       "    </tr>\n",
       "    <tr>\n",
       "      <th>53209</th>\n",
       "      <td>168412</td>\n",
       "      <td>2019-11-05</td>\n",
       "      <td>in</td>\n",
       "      <td>False</td>\n",
       "      <td>953464.0</td>\n",
       "      <td>True</td>\n",
       "      <td>1</td>\n",
       "      <td>1</td>\n",
       "      <td>7</td>\n",
       "    </tr>\n",
       "  </tbody>\n",
       "</table>\n",
       "<p>295 rows × 9 columns</p>\n",
       "</div>"
      ],
      "text/plain": [
       "       user_id       date direction  internal operator_id  is_missed_call  \\\n",
       "1606    166405 2019-11-19        in     False    939478.0            True   \n",
       "1635    166405 2019-11-21        in     False    882686.0            True   \n",
       "1657    166405 2019-11-22        in     False    882686.0            True   \n",
       "2283    166407 2019-09-23        in     False    888534.0            True   \n",
       "2869    166482 2019-11-05        in     False    934074.0            True   \n",
       "...        ...        ...       ...       ...         ...             ...   \n",
       "51599   168336 2019-11-01        in     False    947304.0            True   \n",
       "51664   168336 2019-11-12        in     False    947304.0            True   \n",
       "51693   168336 2019-11-15        in     False    947304.0            True   \n",
       "51853   168336 2019-11-27        in     False    958416.0            True   \n",
       "53209   168412 2019-11-05        in     False    953464.0            True   \n",
       "\n",
       "       calls_count  call_duration  total_call_duration  \n",
       "1606             1            165                  173  \n",
       "1635             1              1                    5  \n",
       "1657             1              1                    5  \n",
       "2283             1            133                  156  \n",
       "2869             1              1                   15  \n",
       "...            ...            ...                  ...  \n",
       "51599            1              1                   20  \n",
       "51664            1             69                   72  \n",
       "51693            1             46                   49  \n",
       "51853            1             40                   65  \n",
       "53209            1              1                    7  \n",
       "\n",
       "[295 rows x 9 columns]"
      ]
     },
     "execution_count": 121,
     "metadata": {},
     "output_type": "execute_result"
    }
   ],
   "source": [
    "data.query('is_missed_call == True and call_duration > 0')"
   ]
  },
  {
   "cell_type": "markdown",
   "metadata": {},
   "source": [
    "Удалим такие вызовы."
   ]
  },
  {
   "cell_type": "code",
   "execution_count": 122,
   "metadata": {},
   "outputs": [],
   "source": [
    "index_names = data.query('is_missed_call == True and call_duration != 0').index\n",
    "data.drop(index_names, inplace = True)"
   ]
  },
  {
   "cell_type": "markdown",
   "metadata": {},
   "source": [
    "Проверяем удаление."
   ]
  },
  {
   "cell_type": "code",
   "execution_count": 123,
   "metadata": {
    "scrolled": true
   },
   "outputs": [
    {
     "data": {
      "text/html": [
       "<div>\n",
       "<style scoped>\n",
       "    .dataframe tbody tr th:only-of-type {\n",
       "        vertical-align: middle;\n",
       "    }\n",
       "\n",
       "    .dataframe tbody tr th {\n",
       "        vertical-align: top;\n",
       "    }\n",
       "\n",
       "    .dataframe thead th {\n",
       "        text-align: right;\n",
       "    }\n",
       "</style>\n",
       "<table border=\"1\" class=\"dataframe\">\n",
       "  <thead>\n",
       "    <tr style=\"text-align: right;\">\n",
       "      <th></th>\n",
       "      <th>user_id</th>\n",
       "      <th>date</th>\n",
       "      <th>direction</th>\n",
       "      <th>internal</th>\n",
       "      <th>operator_id</th>\n",
       "      <th>is_missed_call</th>\n",
       "      <th>calls_count</th>\n",
       "      <th>call_duration</th>\n",
       "      <th>total_call_duration</th>\n",
       "    </tr>\n",
       "  </thead>\n",
       "  <tbody>\n",
       "  </tbody>\n",
       "</table>\n",
       "</div>"
      ],
      "text/plain": [
       "Empty DataFrame\n",
       "Columns: [user_id, date, direction, internal, operator_id, is_missed_call, calls_count, call_duration, total_call_duration]\n",
       "Index: []"
      ]
     },
     "execution_count": 123,
     "metadata": {},
     "output_type": "execute_result"
    }
   ],
   "source": [
    "data.query('is_missed_call == True and call_duration != 0')"
   ]
  },
  {
   "cell_type": "markdown",
   "metadata": {},
   "source": [
    "Есть ли принятые вызовы с продолжительностью разговора ноль?"
   ]
  },
  {
   "cell_type": "code",
   "execution_count": 124,
   "metadata": {
    "scrolled": false
   },
   "outputs": [
    {
     "data": {
      "text/html": [
       "<div>\n",
       "<style scoped>\n",
       "    .dataframe tbody tr th:only-of-type {\n",
       "        vertical-align: middle;\n",
       "    }\n",
       "\n",
       "    .dataframe tbody tr th {\n",
       "        vertical-align: top;\n",
       "    }\n",
       "\n",
       "    .dataframe thead th {\n",
       "        text-align: right;\n",
       "    }\n",
       "</style>\n",
       "<table border=\"1\" class=\"dataframe\">\n",
       "  <thead>\n",
       "    <tr style=\"text-align: right;\">\n",
       "      <th></th>\n",
       "      <th>user_id</th>\n",
       "      <th>date</th>\n",
       "      <th>direction</th>\n",
       "      <th>internal</th>\n",
       "      <th>operator_id</th>\n",
       "      <th>is_missed_call</th>\n",
       "      <th>calls_count</th>\n",
       "      <th>call_duration</th>\n",
       "      <th>total_call_duration</th>\n",
       "    </tr>\n",
       "  </thead>\n",
       "  <tbody>\n",
       "    <tr>\n",
       "      <th>1552</th>\n",
       "      <td>166405</td>\n",
       "      <td>2019-11-16</td>\n",
       "      <td>out</td>\n",
       "      <td>False</td>\n",
       "      <td>902532.0</td>\n",
       "      <td>False</td>\n",
       "      <td>1</td>\n",
       "      <td>0</td>\n",
       "      <td>27</td>\n",
       "    </tr>\n",
       "    <tr>\n",
       "      <th>2931</th>\n",
       "      <td>166485</td>\n",
       "      <td>2019-09-03</td>\n",
       "      <td>out</td>\n",
       "      <td>True</td>\n",
       "      <td>887276.0</td>\n",
       "      <td>False</td>\n",
       "      <td>1</td>\n",
       "      <td>0</td>\n",
       "      <td>4</td>\n",
       "    </tr>\n",
       "    <tr>\n",
       "      <th>9520</th>\n",
       "      <td>166658</td>\n",
       "      <td>2019-11-06</td>\n",
       "      <td>out</td>\n",
       "      <td>True</td>\n",
       "      <td>890410.0</td>\n",
       "      <td>False</td>\n",
       "      <td>1</td>\n",
       "      <td>0</td>\n",
       "      <td>0</td>\n",
       "    </tr>\n",
       "    <tr>\n",
       "      <th>10254</th>\n",
       "      <td>166678</td>\n",
       "      <td>2019-09-04</td>\n",
       "      <td>out</td>\n",
       "      <td>True</td>\n",
       "      <td>888868.0</td>\n",
       "      <td>False</td>\n",
       "      <td>1</td>\n",
       "      <td>0</td>\n",
       "      <td>5</td>\n",
       "    </tr>\n",
       "    <tr>\n",
       "      <th>14854</th>\n",
       "      <td>166874</td>\n",
       "      <td>2019-10-05</td>\n",
       "      <td>out</td>\n",
       "      <td>False</td>\n",
       "      <td>893700.0</td>\n",
       "      <td>False</td>\n",
       "      <td>2</td>\n",
       "      <td>0</td>\n",
       "      <td>83</td>\n",
       "    </tr>\n",
       "    <tr>\n",
       "      <th>21558</th>\n",
       "      <td>167035</td>\n",
       "      <td>2019-10-25</td>\n",
       "      <td>out</td>\n",
       "      <td>False</td>\n",
       "      <td>923528.0</td>\n",
       "      <td>False</td>\n",
       "      <td>1</td>\n",
       "      <td>0</td>\n",
       "      <td>9</td>\n",
       "    </tr>\n",
       "    <tr>\n",
       "      <th>22568</th>\n",
       "      <td>167061</td>\n",
       "      <td>2019-09-01</td>\n",
       "      <td>out</td>\n",
       "      <td>True</td>\n",
       "      <td>901038.0</td>\n",
       "      <td>False</td>\n",
       "      <td>1</td>\n",
       "      <td>0</td>\n",
       "      <td>7</td>\n",
       "    </tr>\n",
       "    <tr>\n",
       "      <th>22655</th>\n",
       "      <td>167071</td>\n",
       "      <td>2019-09-24</td>\n",
       "      <td>out</td>\n",
       "      <td>False</td>\n",
       "      <td>913942.0</td>\n",
       "      <td>False</td>\n",
       "      <td>1</td>\n",
       "      <td>0</td>\n",
       "      <td>23</td>\n",
       "    </tr>\n",
       "    <tr>\n",
       "      <th>23096</th>\n",
       "      <td>167078</td>\n",
       "      <td>2019-10-23</td>\n",
       "      <td>out</td>\n",
       "      <td>True</td>\n",
       "      <td>935348.0</td>\n",
       "      <td>False</td>\n",
       "      <td>1</td>\n",
       "      <td>0</td>\n",
       "      <td>0</td>\n",
       "    </tr>\n",
       "    <tr>\n",
       "      <th>27829</th>\n",
       "      <td>167176</td>\n",
       "      <td>2019-10-18</td>\n",
       "      <td>out</td>\n",
       "      <td>True</td>\n",
       "      <td>907964.0</td>\n",
       "      <td>False</td>\n",
       "      <td>1</td>\n",
       "      <td>0</td>\n",
       "      <td>3</td>\n",
       "    </tr>\n",
       "    <tr>\n",
       "      <th>27943</th>\n",
       "      <td>167176</td>\n",
       "      <td>2019-10-30</td>\n",
       "      <td>out</td>\n",
       "      <td>True</td>\n",
       "      <td>907952.0</td>\n",
       "      <td>False</td>\n",
       "      <td>1</td>\n",
       "      <td>0</td>\n",
       "      <td>2</td>\n",
       "    </tr>\n",
       "    <tr>\n",
       "      <th>28967</th>\n",
       "      <td>167189</td>\n",
       "      <td>2019-10-06</td>\n",
       "      <td>out</td>\n",
       "      <td>False</td>\n",
       "      <td>906070.0</td>\n",
       "      <td>False</td>\n",
       "      <td>1</td>\n",
       "      <td>0</td>\n",
       "      <td>1</td>\n",
       "    </tr>\n",
       "    <tr>\n",
       "      <th>35286</th>\n",
       "      <td>167532</td>\n",
       "      <td>2019-09-24</td>\n",
       "      <td>out</td>\n",
       "      <td>True</td>\n",
       "      <td>917850.0</td>\n",
       "      <td>False</td>\n",
       "      <td>1</td>\n",
       "      <td>0</td>\n",
       "      <td>18</td>\n",
       "    </tr>\n",
       "    <tr>\n",
       "      <th>36047</th>\n",
       "      <td>167580</td>\n",
       "      <td>2019-10-17</td>\n",
       "      <td>out</td>\n",
       "      <td>False</td>\n",
       "      <td>937368.0</td>\n",
       "      <td>False</td>\n",
       "      <td>1</td>\n",
       "      <td>0</td>\n",
       "      <td>12</td>\n",
       "    </tr>\n",
       "    <tr>\n",
       "      <th>41306</th>\n",
       "      <td>167829</td>\n",
       "      <td>2019-11-25</td>\n",
       "      <td>out</td>\n",
       "      <td>True</td>\n",
       "      <td>969272.0</td>\n",
       "      <td>False</td>\n",
       "      <td>1</td>\n",
       "      <td>0</td>\n",
       "      <td>4</td>\n",
       "    </tr>\n",
       "    <tr>\n",
       "      <th>51825</th>\n",
       "      <td>168336</td>\n",
       "      <td>2019-11-26</td>\n",
       "      <td>out</td>\n",
       "      <td>True</td>\n",
       "      <td>948756.0</td>\n",
       "      <td>False</td>\n",
       "      <td>1</td>\n",
       "      <td>0</td>\n",
       "      <td>5</td>\n",
       "    </tr>\n",
       "    <tr>\n",
       "      <th>53896</th>\n",
       "      <td>168606</td>\n",
       "      <td>2019-11-10</td>\n",
       "      <td>out</td>\n",
       "      <td>True</td>\n",
       "      <td>957922.0</td>\n",
       "      <td>False</td>\n",
       "      <td>1</td>\n",
       "      <td>0</td>\n",
       "      <td>25</td>\n",
       "    </tr>\n",
       "  </tbody>\n",
       "</table>\n",
       "</div>"
      ],
      "text/plain": [
       "       user_id       date direction  internal operator_id  is_missed_call  \\\n",
       "1552    166405 2019-11-16       out     False    902532.0           False   \n",
       "2931    166485 2019-09-03       out      True    887276.0           False   \n",
       "9520    166658 2019-11-06       out      True    890410.0           False   \n",
       "10254   166678 2019-09-04       out      True    888868.0           False   \n",
       "14854   166874 2019-10-05       out     False    893700.0           False   \n",
       "21558   167035 2019-10-25       out     False    923528.0           False   \n",
       "22568   167061 2019-09-01       out      True    901038.0           False   \n",
       "22655   167071 2019-09-24       out     False    913942.0           False   \n",
       "23096   167078 2019-10-23       out      True    935348.0           False   \n",
       "27829   167176 2019-10-18       out      True    907964.0           False   \n",
       "27943   167176 2019-10-30       out      True    907952.0           False   \n",
       "28967   167189 2019-10-06       out     False    906070.0           False   \n",
       "35286   167532 2019-09-24       out      True    917850.0           False   \n",
       "36047   167580 2019-10-17       out     False    937368.0           False   \n",
       "41306   167829 2019-11-25       out      True    969272.0           False   \n",
       "51825   168336 2019-11-26       out      True    948756.0           False   \n",
       "53896   168606 2019-11-10       out      True    957922.0           False   \n",
       "\n",
       "       calls_count  call_duration  total_call_duration  \n",
       "1552             1              0                   27  \n",
       "2931             1              0                    4  \n",
       "9520             1              0                    0  \n",
       "10254            1              0                    5  \n",
       "14854            2              0                   83  \n",
       "21558            1              0                    9  \n",
       "22568            1              0                    7  \n",
       "22655            1              0                   23  \n",
       "23096            1              0                    0  \n",
       "27829            1              0                    3  \n",
       "27943            1              0                    2  \n",
       "28967            1              0                    1  \n",
       "35286            1              0                   18  \n",
       "36047            1              0                   12  \n",
       "41306            1              0                    4  \n",
       "51825            1              0                    5  \n",
       "53896            1              0                   25  "
      ]
     },
     "execution_count": 124,
     "metadata": {},
     "output_type": "execute_result"
    }
   ],
   "source": [
    "data.query('is_missed_call == False and call_duration == 0')"
   ]
  },
  {
   "cell_type": "markdown",
   "metadata": {},
   "source": [
    "Да, таких вызовов немало. Однако все они исходящие и у всех есть время ожидания вызова. Полагаю, оператор звонил абоненту, а тот сбросил, либо это автозащита от спама. Оставим их.\n",
    "\n",
    "Проверим, есть ли вызовы, у которых продолжительность разговора больше, чем общее время вместе с ожиданием?"
   ]
  },
  {
   "cell_type": "code",
   "execution_count": 125,
   "metadata": {},
   "outputs": [
    {
     "data": {
      "text/html": [
       "<div>\n",
       "<style scoped>\n",
       "    .dataframe tbody tr th:only-of-type {\n",
       "        vertical-align: middle;\n",
       "    }\n",
       "\n",
       "    .dataframe tbody tr th {\n",
       "        vertical-align: top;\n",
       "    }\n",
       "\n",
       "    .dataframe thead th {\n",
       "        text-align: right;\n",
       "    }\n",
       "</style>\n",
       "<table border=\"1\" class=\"dataframe\">\n",
       "  <thead>\n",
       "    <tr style=\"text-align: right;\">\n",
       "      <th></th>\n",
       "      <th>user_id</th>\n",
       "      <th>date</th>\n",
       "      <th>direction</th>\n",
       "      <th>internal</th>\n",
       "      <th>operator_id</th>\n",
       "      <th>is_missed_call</th>\n",
       "      <th>calls_count</th>\n",
       "      <th>call_duration</th>\n",
       "      <th>total_call_duration</th>\n",
       "    </tr>\n",
       "  </thead>\n",
       "  <tbody>\n",
       "  </tbody>\n",
       "</table>\n",
       "</div>"
      ],
      "text/plain": [
       "Empty DataFrame\n",
       "Columns: [user_id, date, direction, internal, operator_id, is_missed_call, calls_count, call_duration, total_call_duration]\n",
       "Index: []"
      ]
     },
     "execution_count": 125,
     "metadata": {},
     "output_type": "execute_result"
    }
   ],
   "source": [
    "data.query('call_duration > total_call_duration')"
   ]
  },
  {
   "cell_type": "markdown",
   "metadata": {},
   "source": [
    "Таких вызовов нет.\n",
    "\n",
    "Далее рассмотрим распредление вызовов по типам."
   ]
  },
  {
   "cell_type": "code",
   "execution_count": 126,
   "metadata": {},
   "outputs": [
    {
     "data": {
      "text/html": [
       "<div>\n",
       "<style scoped>\n",
       "    .dataframe tbody tr th:only-of-type {\n",
       "        vertical-align: middle;\n",
       "    }\n",
       "\n",
       "    .dataframe tbody tr th {\n",
       "        vertical-align: top;\n",
       "    }\n",
       "\n",
       "    .dataframe thead th {\n",
       "        text-align: right;\n",
       "    }\n",
       "</style>\n",
       "<table border=\"1\" class=\"dataframe\">\n",
       "  <thead>\n",
       "    <tr style=\"text-align: right;\">\n",
       "      <th></th>\n",
       "      <th>calls_count</th>\n",
       "    </tr>\n",
       "    <tr>\n",
       "      <th>direction</th>\n",
       "      <th></th>\n",
       "    </tr>\n",
       "  </thead>\n",
       "  <tbody>\n",
       "    <tr>\n",
       "      <th>in</th>\n",
       "      <td>93344</td>\n",
       "    </tr>\n",
       "    <tr>\n",
       "      <th>out</th>\n",
       "      <td>608264</td>\n",
       "    </tr>\n",
       "  </tbody>\n",
       "</table>\n",
       "</div>"
      ],
      "text/plain": [
       "           calls_count\n",
       "direction             \n",
       "in               93344\n",
       "out             608264"
      ]
     },
     "execution_count": 126,
     "metadata": {},
     "output_type": "execute_result"
    }
   ],
   "source": [
    "df_direction = data.pivot_table(index='direction', values='calls_count', aggfunc='sum')\n",
    "df_direction"
   ]
  },
  {
   "cell_type": "markdown",
   "metadata": {},
   "source": [
    "Исходящих вызовов в несколько раз больше входящих. Видимо, большая часть операторов специализируется на обзвонах."
   ]
  },
  {
   "cell_type": "code",
   "execution_count": 127,
   "metadata": {},
   "outputs": [
    {
     "data": {
      "text/html": [
       "<div>\n",
       "<style scoped>\n",
       "    .dataframe tbody tr th:only-of-type {\n",
       "        vertical-align: middle;\n",
       "    }\n",
       "\n",
       "    .dataframe tbody tr th {\n",
       "        vertical-align: top;\n",
       "    }\n",
       "\n",
       "    .dataframe thead th {\n",
       "        text-align: right;\n",
       "    }\n",
       "</style>\n",
       "<table border=\"1\" class=\"dataframe\">\n",
       "  <thead>\n",
       "    <tr style=\"text-align: right;\">\n",
       "      <th></th>\n",
       "      <th>calls_count</th>\n",
       "    </tr>\n",
       "    <tr>\n",
       "      <th>internal</th>\n",
       "      <th></th>\n",
       "    </tr>\n",
       "  </thead>\n",
       "  <tbody>\n",
       "    <tr>\n",
       "      <th>False</th>\n",
       "      <td>688038</td>\n",
       "    </tr>\n",
       "    <tr>\n",
       "      <th>True</th>\n",
       "      <td>13570</td>\n",
       "    </tr>\n",
       "  </tbody>\n",
       "</table>\n",
       "</div>"
      ],
      "text/plain": [
       "          calls_count\n",
       "internal             \n",
       "False          688038\n",
       "True            13570"
      ]
     },
     "execution_count": 127,
     "metadata": {},
     "output_type": "execute_result"
    }
   ],
   "source": [
    "df_internal = data.pivot_table(index='internal', values='calls_count', aggfunc='sum')\n",
    "df_internal"
   ]
  },
  {
   "cell_type": "markdown",
   "metadata": {},
   "source": [
    "Внешние вызовы многократно превышают внутренние, что вполне логично."
   ]
  },
  {
   "cell_type": "code",
   "execution_count": 128,
   "metadata": {},
   "outputs": [
    {
     "data": {
      "text/html": [
       "<div>\n",
       "<style scoped>\n",
       "    .dataframe tbody tr th:only-of-type {\n",
       "        vertical-align: middle;\n",
       "    }\n",
       "\n",
       "    .dataframe tbody tr th {\n",
       "        vertical-align: top;\n",
       "    }\n",
       "\n",
       "    .dataframe thead th {\n",
       "        text-align: right;\n",
       "    }\n",
       "</style>\n",
       "<table border=\"1\" class=\"dataframe\">\n",
       "  <thead>\n",
       "    <tr style=\"text-align: right;\">\n",
       "      <th></th>\n",
       "      <th>calls_count</th>\n",
       "    </tr>\n",
       "    <tr>\n",
       "      <th>is_missed_call</th>\n",
       "      <th></th>\n",
       "    </tr>\n",
       "  </thead>\n",
       "  <tbody>\n",
       "    <tr>\n",
       "      <th>False</th>\n",
       "      <td>429767</td>\n",
       "    </tr>\n",
       "    <tr>\n",
       "      <th>True</th>\n",
       "      <td>271841</td>\n",
       "    </tr>\n",
       "  </tbody>\n",
       "</table>\n",
       "</div>"
      ],
      "text/plain": [
       "                calls_count\n",
       "is_missed_call             \n",
       "False                429767\n",
       "True                 271841"
      ]
     },
     "execution_count": 128,
     "metadata": {},
     "output_type": "execute_result"
    }
   ],
   "source": [
    "df_is_missed_call = data.pivot_table(index='is_missed_call', values='calls_count', aggfunc='sum')\n",
    "df_is_missed_call"
   ]
  },
  {
   "cell_type": "markdown",
   "metadata": {},
   "source": [
    "Принятых вызовов больше, но пропущенных все равно довольно много. Интересно, пропущенных больше исходящих (абоненты не хотят разговаривать) или входящих (операторы не справляются с потоком звонков)?"
   ]
  },
  {
   "cell_type": "code",
   "execution_count": 129,
   "metadata": {},
   "outputs": [
    {
     "data": {
      "text/html": [
       "<div>\n",
       "<style scoped>\n",
       "    .dataframe tbody tr th:only-of-type {\n",
       "        vertical-align: middle;\n",
       "    }\n",
       "\n",
       "    .dataframe tbody tr th {\n",
       "        vertical-align: top;\n",
       "    }\n",
       "\n",
       "    .dataframe thead th {\n",
       "        text-align: right;\n",
       "    }\n",
       "</style>\n",
       "<table border=\"1\" class=\"dataframe\">\n",
       "  <thead>\n",
       "    <tr style=\"text-align: right;\">\n",
       "      <th>direction</th>\n",
       "      <th>in</th>\n",
       "      <th>out</th>\n",
       "    </tr>\n",
       "    <tr>\n",
       "      <th>is_missed_call</th>\n",
       "      <th></th>\n",
       "      <th></th>\n",
       "    </tr>\n",
       "  </thead>\n",
       "  <tbody>\n",
       "    <tr>\n",
       "      <th>False</th>\n",
       "      <td>92817</td>\n",
       "      <td>336950</td>\n",
       "    </tr>\n",
       "    <tr>\n",
       "      <th>True</th>\n",
       "      <td>527</td>\n",
       "      <td>271314</td>\n",
       "    </tr>\n",
       "  </tbody>\n",
       "</table>\n",
       "</div>"
      ],
      "text/plain": [
       "direction          in     out\n",
       "is_missed_call               \n",
       "False           92817  336950\n",
       "True              527  271314"
      ]
     },
     "execution_count": 129,
     "metadata": {},
     "output_type": "execute_result"
    }
   ],
   "source": [
    "data.pivot_table(index='is_missed_call', columns='direction', values='calls_count', aggfunc='sum')"
   ]
  },
  {
   "cell_type": "markdown",
   "metadata": {},
   "source": [
    "Теперь видим, что практически все пропущенные это исходящие вызовы.\n",
    "\n",
    "Построим диаграммы распределения вызовов по типам:"
   ]
  },
  {
   "cell_type": "code",
   "execution_count": 130,
   "metadata": {
    "scrolled": false
   },
   "outputs": [
    {
     "data": {
      "image/png": "[encoded data removed]",
      "text/plain": [
       "<Figure size 1440x504 with 3 Axes>"
      ]
     },
     "metadata": {},
     "output_type": "display_data"
    }
   ],
   "source": [
    "fig,axis = plt.subplots(nrows=1 , ncols=3, figsize=(20, 7))\n",
    "fig.suptitle('Распределение разных типов вызовов')\n",
    "axis[0].set_title('Входящие/исходящие вызовы')\n",
    "df_direction.plot(y='calls_count', kind='pie', legend=False, ax=axis[0], autopct='%1.0f%%') \n",
    "axis[1].set_title('Внутренний ли вызов')\n",
    "df_internal.plot(y='calls_count', kind='pie', legend=False, ax=axis[1], autopct='%1.0f%%')\n",
    "axis[2].set_title('Пропущенный ли вызов')\n",
    "df_is_missed_call.plot(y='calls_count', kind='pie', legend=False, ax=axis[2], autopct='%1.0f%%')\n",
    "plt.ylabel('')  \n",
    "plt.show()"
   ]
  },
  {
   "cell_type": "markdown",
   "metadata": {},
   "source": [
    "Построим таблицу с подробным распределением вызовов по типам."
   ]
  },
  {
   "cell_type": "code",
   "execution_count": 131,
   "metadata": {},
   "outputs": [
    {
     "data": {
      "text/html": [
       "<div>\n",
       "<style scoped>\n",
       "    .dataframe tbody tr th:only-of-type {\n",
       "        vertical-align: middle;\n",
       "    }\n",
       "\n",
       "    .dataframe tbody tr th {\n",
       "        vertical-align: top;\n",
       "    }\n",
       "\n",
       "    .dataframe thead th {\n",
       "        text-align: right;\n",
       "    }\n",
       "</style>\n",
       "<table border=\"1\" class=\"dataframe\">\n",
       "  <thead>\n",
       "    <tr style=\"text-align: right;\">\n",
       "      <th></th>\n",
       "      <th>internal</th>\n",
       "      <th>is_missed_call</th>\n",
       "      <th>direction</th>\n",
       "      <th>calls_count</th>\n",
       "      <th>percents</th>\n",
       "    </tr>\n",
       "  </thead>\n",
       "  <tbody>\n",
       "    <tr>\n",
       "      <th>1</th>\n",
       "      <td>False</td>\n",
       "      <td>False</td>\n",
       "      <td>out</td>\n",
       "      <td>328995</td>\n",
       "      <td>0.46892</td>\n",
       "    </tr>\n",
       "    <tr>\n",
       "      <th>3</th>\n",
       "      <td>False</td>\n",
       "      <td>True</td>\n",
       "      <td>out</td>\n",
       "      <td>266374</td>\n",
       "      <td>0.37966</td>\n",
       "    </tr>\n",
       "    <tr>\n",
       "      <th>0</th>\n",
       "      <td>False</td>\n",
       "      <td>False</td>\n",
       "      <td>in</td>\n",
       "      <td>92150</td>\n",
       "      <td>0.13134</td>\n",
       "    </tr>\n",
       "    <tr>\n",
       "      <th>5</th>\n",
       "      <td>True</td>\n",
       "      <td>False</td>\n",
       "      <td>out</td>\n",
       "      <td>7955</td>\n",
       "      <td>0.01134</td>\n",
       "    </tr>\n",
       "    <tr>\n",
       "      <th>7</th>\n",
       "      <td>True</td>\n",
       "      <td>True</td>\n",
       "      <td>out</td>\n",
       "      <td>4940</td>\n",
       "      <td>0.00704</td>\n",
       "    </tr>\n",
       "    <tr>\n",
       "      <th>4</th>\n",
       "      <td>True</td>\n",
       "      <td>False</td>\n",
       "      <td>in</td>\n",
       "      <td>667</td>\n",
       "      <td>0.00095</td>\n",
       "    </tr>\n",
       "    <tr>\n",
       "      <th>2</th>\n",
       "      <td>False</td>\n",
       "      <td>True</td>\n",
       "      <td>in</td>\n",
       "      <td>519</td>\n",
       "      <td>0.00074</td>\n",
       "    </tr>\n",
       "    <tr>\n",
       "      <th>6</th>\n",
       "      <td>True</td>\n",
       "      <td>True</td>\n",
       "      <td>in</td>\n",
       "      <td>8</td>\n",
       "      <td>0.00001</td>\n",
       "    </tr>\n",
       "  </tbody>\n",
       "</table>\n",
       "</div>"
      ],
      "text/plain": [
       "   internal  is_missed_call direction  calls_count  percents\n",
       "1     False           False       out       328995   0.46892\n",
       "3     False            True       out       266374   0.37966\n",
       "0     False           False        in        92150   0.13134\n",
       "5      True           False       out         7955   0.01134\n",
       "7      True            True       out         4940   0.00704\n",
       "4      True           False        in          667   0.00095\n",
       "2     False            True        in          519   0.00074\n",
       "6      True            True        in            8   0.00001"
      ]
     },
     "execution_count": 131,
     "metadata": {},
     "output_type": "execute_result"
    }
   ],
   "source": [
    "calls_types = data.pivot_table(index={'direction', 'internal', 'is_missed_call'}, values='calls_count', aggfunc='sum').reset_index()\n",
    "calls_types['percents'] = (calls_types['calls_count'] / calls_types['calls_count'].sum()).round(5)\n",
    "calls_types.sort_values(by='percents', ascending=False)"
   ]
  },
  {
   "cell_type": "markdown",
   "metadata": {},
   "source": [
    "Видим, что большую часть вызовов стоставляют внешние исходящие вызовы (47% пропущенных и 38% принятых), 13% это входящие внешние принятые, остальных вызовов совсем мало, на их долю приходится 2%."
   ]
  },
  {
   "cell_type": "markdown",
   "metadata": {},
   "source": [
    "### Количественные переменные"
   ]
  },
  {
   "cell_type": "markdown",
   "metadata": {},
   "source": [
    "Сразу добавим столбцы, которые понадобятся для дальнейшего анализа: средняя продолжительность разговора и среднее время ожидания ответа."
   ]
  },
  {
   "cell_type": "code",
   "execution_count": 132,
   "metadata": {},
   "outputs": [],
   "source": [
    "data['avg_call_duration'] = data['call_duration'] / data['calls_count'] "
   ]
  },
  {
   "cell_type": "code",
   "execution_count": 133,
   "metadata": {},
   "outputs": [
    {
     "data": {
      "text/html": [
       "<div>\n",
       "<style scoped>\n",
       "    .dataframe tbody tr th:only-of-type {\n",
       "        vertical-align: middle;\n",
       "    }\n",
       "\n",
       "    .dataframe tbody tr th {\n",
       "        vertical-align: top;\n",
       "    }\n",
       "\n",
       "    .dataframe thead th {\n",
       "        text-align: right;\n",
       "    }\n",
       "</style>\n",
       "<table border=\"1\" class=\"dataframe\">\n",
       "  <thead>\n",
       "    <tr style=\"text-align: right;\">\n",
       "      <th></th>\n",
       "      <th>user_id</th>\n",
       "      <th>date</th>\n",
       "      <th>direction</th>\n",
       "      <th>internal</th>\n",
       "      <th>operator_id</th>\n",
       "      <th>is_missed_call</th>\n",
       "      <th>calls_count</th>\n",
       "      <th>call_duration</th>\n",
       "      <th>total_call_duration</th>\n",
       "      <th>avg_call_duration</th>\n",
       "      <th>avg_waiting</th>\n",
       "    </tr>\n",
       "  </thead>\n",
       "  <tbody>\n",
       "    <tr>\n",
       "      <th>1</th>\n",
       "      <td>166377</td>\n",
       "      <td>2019-08-05</td>\n",
       "      <td>out</td>\n",
       "      <td>True</td>\n",
       "      <td>880022.0</td>\n",
       "      <td>True</td>\n",
       "      <td>3</td>\n",
       "      <td>0</td>\n",
       "      <td>5</td>\n",
       "      <td>0.0</td>\n",
       "      <td>1.7</td>\n",
       "    </tr>\n",
       "    <tr>\n",
       "      <th>2</th>\n",
       "      <td>166377</td>\n",
       "      <td>2019-08-05</td>\n",
       "      <td>out</td>\n",
       "      <td>True</td>\n",
       "      <td>880020.0</td>\n",
       "      <td>True</td>\n",
       "      <td>1</td>\n",
       "      <td>0</td>\n",
       "      <td>1</td>\n",
       "      <td>0.0</td>\n",
       "      <td>1.0</td>\n",
       "    </tr>\n",
       "    <tr>\n",
       "      <th>3</th>\n",
       "      <td>166377</td>\n",
       "      <td>2019-08-05</td>\n",
       "      <td>out</td>\n",
       "      <td>True</td>\n",
       "      <td>880020.0</td>\n",
       "      <td>False</td>\n",
       "      <td>1</td>\n",
       "      <td>10</td>\n",
       "      <td>18</td>\n",
       "      <td>10.0</td>\n",
       "      <td>8.0</td>\n",
       "    </tr>\n",
       "    <tr>\n",
       "      <th>4</th>\n",
       "      <td>166377</td>\n",
       "      <td>2019-08-05</td>\n",
       "      <td>out</td>\n",
       "      <td>False</td>\n",
       "      <td>880022.0</td>\n",
       "      <td>True</td>\n",
       "      <td>3</td>\n",
       "      <td>0</td>\n",
       "      <td>25</td>\n",
       "      <td>0.0</td>\n",
       "      <td>8.3</td>\n",
       "    </tr>\n",
       "    <tr>\n",
       "      <th>5</th>\n",
       "      <td>166377</td>\n",
       "      <td>2019-08-05</td>\n",
       "      <td>out</td>\n",
       "      <td>False</td>\n",
       "      <td>880020.0</td>\n",
       "      <td>False</td>\n",
       "      <td>2</td>\n",
       "      <td>3</td>\n",
       "      <td>29</td>\n",
       "      <td>1.5</td>\n",
       "      <td>13.0</td>\n",
       "    </tr>\n",
       "  </tbody>\n",
       "</table>\n",
       "</div>"
      ],
      "text/plain": [
       "   user_id       date direction  internal operator_id  is_missed_call  \\\n",
       "1   166377 2019-08-05       out      True    880022.0            True   \n",
       "2   166377 2019-08-05       out      True    880020.0            True   \n",
       "3   166377 2019-08-05       out      True    880020.0           False   \n",
       "4   166377 2019-08-05       out     False    880022.0            True   \n",
       "5   166377 2019-08-05       out     False    880020.0           False   \n",
       "\n",
       "   calls_count  call_duration  total_call_duration  avg_call_duration  \\\n",
       "1            3              0                    5                0.0   \n",
       "2            1              0                    1                0.0   \n",
       "3            1             10                   18               10.0   \n",
       "4            3              0                   25                0.0   \n",
       "5            2              3                   29                1.5   \n",
       "\n",
       "   avg_waiting  \n",
       "1          1.7  \n",
       "2          1.0  \n",
       "3          8.0  \n",
       "4          8.3  \n",
       "5         13.0  "
      ]
     },
     "execution_count": 133,
     "metadata": {},
     "output_type": "execute_result"
    }
   ],
   "source": [
    "data['avg_waiting'] = ((data['total_call_duration'] - data['call_duration']) / data['calls_count']).round(1)\n",
    "data.head()"
   ]
  },
  {
   "cell_type": "code",
   "execution_count": 134,
   "metadata": {},
   "outputs": [
    {
     "data": {
      "text/html": [
       "<div>\n",
       "<style scoped>\n",
       "    .dataframe tbody tr th:only-of-type {\n",
       "        vertical-align: middle;\n",
       "    }\n",
       "\n",
       "    .dataframe tbody tr th {\n",
       "        vertical-align: top;\n",
       "    }\n",
       "\n",
       "    .dataframe thead th {\n",
       "        text-align: right;\n",
       "    }\n",
       "</style>\n",
       "<table border=\"1\" class=\"dataframe\">\n",
       "  <thead>\n",
       "    <tr style=\"text-align: right;\">\n",
       "      <th></th>\n",
       "      <th>calls_count</th>\n",
       "      <th>call_duration</th>\n",
       "      <th>total_call_duration</th>\n",
       "      <th>avg_call_duration</th>\n",
       "      <th>avg_waiting</th>\n",
       "    </tr>\n",
       "  </thead>\n",
       "  <tbody>\n",
       "    <tr>\n",
       "      <th>count</th>\n",
       "      <td>41196.000000</td>\n",
       "      <td>41196.000000</td>\n",
       "      <td>41196.000000</td>\n",
       "      <td>41196.000000</td>\n",
       "      <td>41196.000000</td>\n",
       "    </tr>\n",
       "    <tr>\n",
       "      <th>mean</th>\n",
       "      <td>17.030974</td>\n",
       "      <td>1017.604525</td>\n",
       "      <td>1331.880352</td>\n",
       "      <td>77.535340</td>\n",
       "      <td>16.541213</td>\n",
       "    </tr>\n",
       "    <tr>\n",
       "      <th>std</th>\n",
       "      <td>59.985700</td>\n",
       "      <td>4080.421104</td>\n",
       "      <td>4804.942098</td>\n",
       "      <td>130.990052</td>\n",
       "      <td>11.924056</td>\n",
       "    </tr>\n",
       "    <tr>\n",
       "      <th>min</th>\n",
       "      <td>1.000000</td>\n",
       "      <td>0.000000</td>\n",
       "      <td>0.000000</td>\n",
       "      <td>0.000000</td>\n",
       "      <td>0.000000</td>\n",
       "    </tr>\n",
       "    <tr>\n",
       "      <th>25%</th>\n",
       "      <td>2.000000</td>\n",
       "      <td>0.000000</td>\n",
       "      <td>68.000000</td>\n",
       "      <td>0.000000</td>\n",
       "      <td>8.500000</td>\n",
       "    </tr>\n",
       "    <tr>\n",
       "      <th>50%</th>\n",
       "      <td>4.000000</td>\n",
       "      <td>108.000000</td>\n",
       "      <td>293.000000</td>\n",
       "      <td>43.104575</td>\n",
       "      <td>14.700000</td>\n",
       "    </tr>\n",
       "    <tr>\n",
       "      <th>75%</th>\n",
       "      <td>14.000000</td>\n",
       "      <td>784.000000</td>\n",
       "      <td>1118.000000</td>\n",
       "      <td>102.000000</td>\n",
       "      <td>21.700000</td>\n",
       "    </tr>\n",
       "    <tr>\n",
       "      <th>max</th>\n",
       "      <td>4817.000000</td>\n",
       "      <td>144395.000000</td>\n",
       "      <td>166155.000000</td>\n",
       "      <td>3550.000000</td>\n",
       "      <td>451.200000</td>\n",
       "    </tr>\n",
       "  </tbody>\n",
       "</table>\n",
       "</div>"
      ],
      "text/plain": [
       "        calls_count  call_duration  total_call_duration  avg_call_duration  \\\n",
       "count  41196.000000   41196.000000         41196.000000       41196.000000   \n",
       "mean      17.030974    1017.604525          1331.880352          77.535340   \n",
       "std       59.985700    4080.421104          4804.942098         130.990052   \n",
       "min        1.000000       0.000000             0.000000           0.000000   \n",
       "25%        2.000000       0.000000            68.000000           0.000000   \n",
       "50%        4.000000     108.000000           293.000000          43.104575   \n",
       "75%       14.000000     784.000000          1118.000000         102.000000   \n",
       "max     4817.000000  144395.000000        166155.000000        3550.000000   \n",
       "\n",
       "        avg_waiting  \n",
       "count  41196.000000  \n",
       "mean      16.541213  \n",
       "std       11.924056  \n",
       "min        0.000000  \n",
       "25%        8.500000  \n",
       "50%       14.700000  \n",
       "75%       21.700000  \n",
       "max      451.200000  "
      ]
     },
     "execution_count": 134,
     "metadata": {},
     "output_type": "execute_result"
    }
   ],
   "source": [
    "data[['calls_count', 'call_duration', 'total_call_duration', 'avg_call_duration', 'avg_waiting']].describe()"
   ]
  },
  {
   "cell_type": "markdown",
   "metadata": {},
   "source": [
    "Уже из общей таблицы видно, что есть аномалии. Рассмотрим показатели отдельно."
   ]
  },
  {
   "cell_type": "markdown",
   "metadata": {},
   "source": [
    "#### Общая длительность вызовов в сутки"
   ]
  },
  {
   "cell_type": "markdown",
   "metadata": {},
   "source": [
    "Рассмотрим суммарное количество продолжительности вызовов в сутки для каждого оператора. Соберем данные в одну таблицу:"
   ]
  },
  {
   "cell_type": "code",
   "execution_count": 135,
   "metadata": {},
   "outputs": [
    {
     "data": {
      "text/html": [
       "<div>\n",
       "<style scoped>\n",
       "    .dataframe tbody tr th:only-of-type {\n",
       "        vertical-align: middle;\n",
       "    }\n",
       "\n",
       "    .dataframe tbody tr th {\n",
       "        vertical-align: top;\n",
       "    }\n",
       "\n",
       "    .dataframe thead th {\n",
       "        text-align: right;\n",
       "    }\n",
       "</style>\n",
       "<table border=\"1\" class=\"dataframe\">\n",
       "  <thead>\n",
       "    <tr style=\"text-align: right;\">\n",
       "      <th></th>\n",
       "      <th>operator_id</th>\n",
       "      <th>date</th>\n",
       "      <th>total_call_duration</th>\n",
       "    </tr>\n",
       "  </thead>\n",
       "  <tbody>\n",
       "    <tr>\n",
       "      <th>0</th>\n",
       "      <td>953460.0</td>\n",
       "      <td>2019-11-28</td>\n",
       "      <td>0</td>\n",
       "    </tr>\n",
       "    <tr>\n",
       "      <th>1</th>\n",
       "      <td>900180.0</td>\n",
       "      <td>2019-10-05</td>\n",
       "      <td>0</td>\n",
       "    </tr>\n",
       "    <tr>\n",
       "      <th>2</th>\n",
       "      <td>933996.0</td>\n",
       "      <td>2019-11-06</td>\n",
       "      <td>0</td>\n",
       "    </tr>\n",
       "    <tr>\n",
       "      <th>3</th>\n",
       "      <td>888868.0</td>\n",
       "      <td>2019-09-01</td>\n",
       "      <td>0</td>\n",
       "    </tr>\n",
       "    <tr>\n",
       "      <th>4</th>\n",
       "      <td>906392.0</td>\n",
       "      <td>2019-10-21</td>\n",
       "      <td>0</td>\n",
       "    </tr>\n",
       "    <tr>\n",
       "      <th>...</th>\n",
       "      <td>...</td>\n",
       "      <td>...</td>\n",
       "      <td>...</td>\n",
       "    </tr>\n",
       "    <tr>\n",
       "      <th>19631</th>\n",
       "      <td>885876.0</td>\n",
       "      <td>2019-10-02</td>\n",
       "      <td>155402</td>\n",
       "    </tr>\n",
       "    <tr>\n",
       "      <th>19632</th>\n",
       "      <td>885876.0</td>\n",
       "      <td>2019-09-18</td>\n",
       "      <td>159178</td>\n",
       "    </tr>\n",
       "    <tr>\n",
       "      <th>19633</th>\n",
       "      <td>885876.0</td>\n",
       "      <td>2019-09-09</td>\n",
       "      <td>160814</td>\n",
       "    </tr>\n",
       "    <tr>\n",
       "      <th>19634</th>\n",
       "      <td>885876.0</td>\n",
       "      <td>2019-09-26</td>\n",
       "      <td>172165</td>\n",
       "    </tr>\n",
       "    <tr>\n",
       "      <th>19635</th>\n",
       "      <td>885876.0</td>\n",
       "      <td>2019-09-25</td>\n",
       "      <td>189989</td>\n",
       "    </tr>\n",
       "  </tbody>\n",
       "</table>\n",
       "<p>19636 rows × 3 columns</p>\n",
       "</div>"
      ],
      "text/plain": [
       "       operator_id       date  total_call_duration\n",
       "0         953460.0 2019-11-28                    0\n",
       "1         900180.0 2019-10-05                    0\n",
       "2         933996.0 2019-11-06                    0\n",
       "3         888868.0 2019-09-01                    0\n",
       "4         906392.0 2019-10-21                    0\n",
       "...            ...        ...                  ...\n",
       "19631     885876.0 2019-10-02               155402\n",
       "19632     885876.0 2019-09-18               159178\n",
       "19633     885876.0 2019-09-09               160814\n",
       "19634     885876.0 2019-09-26               172165\n",
       "19635     885876.0 2019-09-25               189989\n",
       "\n",
       "[19636 rows x 3 columns]"
      ]
     },
     "execution_count": 135,
     "metadata": {},
     "output_type": "execute_result"
    }
   ],
   "source": [
    "day_total_duration = data.pivot_table(index=['operator_id', 'date'], values='total_call_duration', aggfunc='sum') \\\n",
    "     .sort_values(by='total_call_duration').reset_index()\n",
    "day_total_duration"
   ]
  },
  {
   "cell_type": "markdown",
   "metadata": {},
   "source": [
    "Построим боксплот для распределения:"
   ]
  },
  {
   "cell_type": "code",
   "execution_count": 143,
   "metadata": {},
   "outputs": [
    {
     "data": {
      "image/png": "[encoded data removed]",
      "text/plain": [
       "<Figure size 1800x576 with 1 Axes>"
      ]
     },
     "metadata": {
      "needs_background": "light"
     },
     "output_type": "display_data"
    }
   ],
   "source": [
    "pd.plotting.boxplot(data=day_total_duration, column='total_call_duration', figsize=(25, 8), vert=False)\n",
    "plt.xlabel('Общая длительность вызовов в день, сек')\n",
    "plt.show()"
   ]
  },
  {
   "cell_type": "markdown",
   "metadata": {},
   "source": [
    "По графику видно, что очень много выбросов. Предположим, что максимальный рабочий день оператора -- 12 часов. Согласно стандартам СОРС, оптимальная загрузка оператора 68-76% рабочего времени. Пару часов в день пиковая загрузка может достигать 80-90%, а потом упасть до 60%. Однако средняя за день 68-76%, это оптимальный показатель. Если больше -- считается, что оператор слишком сильно может устать и качество его работы значительно падает. Возьмем максимальную границу нормы 76% и найдем операторо-дни, продолжительность разговора который выше этой границы (в секундах)."
   ]
  },
  {
   "cell_type": "code",
   "execution_count": 136,
   "metadata": {
    "scrolled": false
   },
   "outputs": [
    {
     "data": {
      "text/html": [
       "<div>\n",
       "<style scoped>\n",
       "    .dataframe tbody tr th:only-of-type {\n",
       "        vertical-align: middle;\n",
       "    }\n",
       "\n",
       "    .dataframe tbody tr th {\n",
       "        vertical-align: top;\n",
       "    }\n",
       "\n",
       "    .dataframe thead th {\n",
       "        text-align: right;\n",
       "    }\n",
       "</style>\n",
       "<table border=\"1\" class=\"dataframe\">\n",
       "  <thead>\n",
       "    <tr style=\"text-align: right;\">\n",
       "      <th></th>\n",
       "      <th>operator_id</th>\n",
       "      <th>date</th>\n",
       "      <th>total_call_duration</th>\n",
       "    </tr>\n",
       "  </thead>\n",
       "  <tbody>\n",
       "    <tr>\n",
       "      <th>19485</th>\n",
       "      <td>929426.0</td>\n",
       "      <td>2019-11-25</td>\n",
       "      <td>33465</td>\n",
       "    </tr>\n",
       "    <tr>\n",
       "      <th>19486</th>\n",
       "      <td>885876.0</td>\n",
       "      <td>2019-10-29</td>\n",
       "      <td>33812</td>\n",
       "    </tr>\n",
       "    <tr>\n",
       "      <th>19487</th>\n",
       "      <td>885890.0</td>\n",
       "      <td>2019-08-17</td>\n",
       "      <td>33968</td>\n",
       "    </tr>\n",
       "    <tr>\n",
       "      <th>19488</th>\n",
       "      <td>885876.0</td>\n",
       "      <td>2019-09-14</td>\n",
       "      <td>34224</td>\n",
       "    </tr>\n",
       "    <tr>\n",
       "      <th>19489</th>\n",
       "      <td>908640.0</td>\n",
       "      <td>2019-10-11</td>\n",
       "      <td>34974</td>\n",
       "    </tr>\n",
       "  </tbody>\n",
       "</table>\n",
       "</div>"
      ],
      "text/plain": [
       "       operator_id       date  total_call_duration\n",
       "19485     929426.0 2019-11-25                33465\n",
       "19486     885876.0 2019-10-29                33812\n",
       "19487     885890.0 2019-08-17                33968\n",
       "19488     885876.0 2019-09-14                34224\n",
       "19489     908640.0 2019-10-11                34974"
      ]
     },
     "execution_count": 136,
     "metadata": {},
     "output_type": "execute_result"
    }
   ],
   "source": [
    "too_long_calls = day_total_duration.query('total_call_duration > 12*60*60*0.76')\n",
    "too_long_calls.head()"
   ]
  },
  {
   "cell_type": "code",
   "execution_count": 137,
   "metadata": {},
   "outputs": [
    {
     "data": {
      "text/plain": [
       "151"
      ]
     },
     "execution_count": 137,
     "metadata": {},
     "output_type": "execute_result"
    }
   ],
   "source": [
    "too_long_calls.shape[0]"
   ]
  },
  {
   "cell_type": "markdown",
   "metadata": {},
   "source": [
    "151 операторо-дня выше нашей нормы по продолжительности вызовов в день. Удалим соответствующие строки из data. \n",
    "Создадим списки операторов и дат, в которые произошли \"выбросы\". Пройдемся циклом по data, сравним строки с нашими списками и удалим совпадающие."
   ]
  },
  {
   "cell_type": "code",
   "execution_count": 138,
   "metadata": {},
   "outputs": [],
   "source": [
    "too_long_date = too_long_calls['date'].tolist() \n",
    "too_long_operators = too_long_calls['operator_id'].tolist() "
   ]
  },
  {
   "cell_type": "code",
   "execution_count": 139,
   "metadata": {
    "scrolled": false
   },
   "outputs": [],
   "source": [
    "for x,y in zip(data.operator_id, data.date):\n",
    "    if (x in too_long_operators and y in too_long_date):\n",
    "        data = data.drop(data[(data['operator_id'] == x) & (data['date'] == y)].index)"
   ]
  },
  {
   "cell_type": "markdown",
   "metadata": {},
   "source": [
    "Проверим, все ли удадилось. "
   ]
  },
  {
   "cell_type": "code",
   "execution_count": 140,
   "metadata": {},
   "outputs": [
    {
     "data": {
      "text/html": [
       "<div>\n",
       "<style scoped>\n",
       "    .dataframe tbody tr th:only-of-type {\n",
       "        vertical-align: middle;\n",
       "    }\n",
       "\n",
       "    .dataframe tbody tr th {\n",
       "        vertical-align: top;\n",
       "    }\n",
       "\n",
       "    .dataframe thead th {\n",
       "        text-align: right;\n",
       "    }\n",
       "</style>\n",
       "<table border=\"1\" class=\"dataframe\">\n",
       "  <thead>\n",
       "    <tr style=\"text-align: right;\">\n",
       "      <th></th>\n",
       "      <th>operator_id</th>\n",
       "      <th>date</th>\n",
       "      <th>total_call_duration</th>\n",
       "    </tr>\n",
       "  </thead>\n",
       "  <tbody>\n",
       "  </tbody>\n",
       "</table>\n",
       "</div>"
      ],
      "text/plain": [
       "Empty DataFrame\n",
       "Columns: [operator_id, date, total_call_duration]\n",
       "Index: []"
      ]
     },
     "execution_count": 140,
     "metadata": {},
     "output_type": "execute_result"
    }
   ],
   "source": [
    "data.pivot_table(index=['operator_id', 'date'], values='total_call_duration', aggfunc='sum') \\\n",
    "     .sort_values(by='total_call_duration').reset_index().query('total_call_duration > 12*60*60*0.76')"
   ]
  },
  {
   "cell_type": "markdown",
   "metadata": {},
   "source": [
    "Посмотрим еще раз на график, но уже с удаленными аномалиями:"
   ]
  },
  {
   "cell_type": "code",
   "execution_count": 142,
   "metadata": {},
   "outputs": [
    {
     "data": {
      "image/png": "[encoded data removed]",
      "text/plain": [
       "<Figure size 1800x576 with 1 Axes>"
      ]
     },
     "metadata": {
      "needs_background": "light"
     },
     "output_type": "display_data"
    }
   ],
   "source": [
    "day_total_duration_2 = data.pivot_table(index=['operator_id', 'date'], values='total_call_duration', aggfunc='sum') \\\n",
    "     .sort_values(by='total_call_duration').reset_index()\n",
    "\n",
    "pd.plotting.boxplot(data=day_total_duration_2, column='total_call_duration', figsize=(25, 8), vert=False)\n",
    "plt.xlabel('Общая длительность вызовов в день, сек')\n",
    "plt.show()"
   ]
  },
  {
   "cell_type": "markdown",
   "metadata": {},
   "source": [
    "#### Количество звонков в день"
   ]
  },
  {
   "cell_type": "markdown",
   "metadata": {},
   "source": [
    "Рассмотрим суммарное количество всех вызовов на одного оператора в день, за исключением входящих пропущенных (их по сути может быть хоть сколько, на время работы оператора это не влияет). Соберем таблицу:"
   ]
  },
  {
   "cell_type": "code",
   "execution_count": 42,
   "metadata": {},
   "outputs": [
    {
     "data": {
      "text/html": [
       "<div>\n",
       "<style scoped>\n",
       "    .dataframe tbody tr th:only-of-type {\n",
       "        vertical-align: middle;\n",
       "    }\n",
       "\n",
       "    .dataframe tbody tr th {\n",
       "        vertical-align: top;\n",
       "    }\n",
       "\n",
       "    .dataframe thead th {\n",
       "        text-align: right;\n",
       "    }\n",
       "</style>\n",
       "<table border=\"1\" class=\"dataframe\">\n",
       "  <thead>\n",
       "    <tr style=\"text-align: right;\">\n",
       "      <th></th>\n",
       "      <th>operator_id</th>\n",
       "      <th>date</th>\n",
       "      <th>calls_count</th>\n",
       "    </tr>\n",
       "  </thead>\n",
       "  <tbody>\n",
       "    <tr>\n",
       "      <th>0</th>\n",
       "      <td>914036.0</td>\n",
       "      <td>2019-09-18</td>\n",
       "      <td>1</td>\n",
       "    </tr>\n",
       "    <tr>\n",
       "      <th>1</th>\n",
       "      <td>900458.0</td>\n",
       "      <td>2019-08-30</td>\n",
       "      <td>1</td>\n",
       "    </tr>\n",
       "    <tr>\n",
       "      <th>2</th>\n",
       "      <td>896382.0</td>\n",
       "      <td>2019-09-10</td>\n",
       "      <td>1</td>\n",
       "    </tr>\n",
       "    <tr>\n",
       "      <th>3</th>\n",
       "      <td>891160.0</td>\n",
       "      <td>2019-09-20</td>\n",
       "      <td>1</td>\n",
       "    </tr>\n",
       "    <tr>\n",
       "      <th>4</th>\n",
       "      <td>891160.0</td>\n",
       "      <td>2019-09-24</td>\n",
       "      <td>1</td>\n",
       "    </tr>\n",
       "    <tr>\n",
       "      <th>...</th>\n",
       "      <td>...</td>\n",
       "      <td>...</td>\n",
       "      <td>...</td>\n",
       "    </tr>\n",
       "    <tr>\n",
       "      <th>19340</th>\n",
       "      <td>929426.0</td>\n",
       "      <td>2019-11-28</td>\n",
       "      <td>779</td>\n",
       "    </tr>\n",
       "    <tr>\n",
       "      <th>19341</th>\n",
       "      <td>929426.0</td>\n",
       "      <td>2019-11-21</td>\n",
       "      <td>833</td>\n",
       "    </tr>\n",
       "    <tr>\n",
       "      <th>19342</th>\n",
       "      <td>929428.0</td>\n",
       "      <td>2019-11-08</td>\n",
       "      <td>926</td>\n",
       "    </tr>\n",
       "    <tr>\n",
       "      <th>19343</th>\n",
       "      <td>929428.0</td>\n",
       "      <td>2019-11-06</td>\n",
       "      <td>1215</td>\n",
       "    </tr>\n",
       "    <tr>\n",
       "      <th>19344</th>\n",
       "      <td>929428.0</td>\n",
       "      <td>2019-11-11</td>\n",
       "      <td>5022</td>\n",
       "    </tr>\n",
       "  </tbody>\n",
       "</table>\n",
       "<p>19345 rows × 3 columns</p>\n",
       "</div>"
      ],
      "text/plain": [
       "       operator_id       date  calls_count\n",
       "0         914036.0 2019-09-18            1\n",
       "1         900458.0 2019-08-30            1\n",
       "2         896382.0 2019-09-10            1\n",
       "3         891160.0 2019-09-20            1\n",
       "4         891160.0 2019-09-24            1\n",
       "...            ...        ...          ...\n",
       "19340     929426.0 2019-11-28          779\n",
       "19341     929426.0 2019-11-21          833\n",
       "19342     929428.0 2019-11-08          926\n",
       "19343     929428.0 2019-11-06         1215\n",
       "19344     929428.0 2019-11-11         5022\n",
       "\n",
       "[19345 rows x 3 columns]"
      ]
     },
     "execution_count": 42,
     "metadata": {},
     "output_type": "execute_result"
    }
   ],
   "source": [
    "day_total_calls = data.query('(is_missed_call == False and direction == \"in\") or direction == \"out\"').pivot_table(index=['operator_id', 'date'], values='calls_count', aggfunc='sum') \\\n",
    "     .sort_values(by='calls_count').reset_index()\n",
    "day_total_calls"
   ]
  },
  {
   "cell_type": "markdown",
   "metadata": {},
   "source": [
    "Построим боксплот распределения количества вызовов на одного оператора в сутки."
   ]
  },
  {
   "cell_type": "code",
   "execution_count": 43,
   "metadata": {},
   "outputs": [
    {
     "data": {
      "image/png": "[encoded data removed]",
      "text/plain": [
       "<Figure size 1800x576 with 1 Axes>"
      ]
     },
     "metadata": {
      "needs_background": "light"
     },
     "output_type": "display_data"
    }
   ],
   "source": [
    "pd.plotting.boxplot(data=day_total_calls, column='calls_count', figsize=(25, 8), vert=False)\n",
    "plt.xlabel('Количество вызовов в день')\n",
    "plt.show()"
   ]
  },
  {
   "cell_type": "markdown",
   "metadata": {},
   "source": [
    "Видим единичные выбросы. Посмотрим, сколько получается звонков в час."
   ]
  },
  {
   "cell_type": "code",
   "execution_count": 44,
   "metadata": {},
   "outputs": [
    {
     "data": {
      "text/html": [
       "<div>\n",
       "<style scoped>\n",
       "    .dataframe tbody tr th:only-of-type {\n",
       "        vertical-align: middle;\n",
       "    }\n",
       "\n",
       "    .dataframe tbody tr th {\n",
       "        vertical-align: top;\n",
       "    }\n",
       "\n",
       "    .dataframe thead th {\n",
       "        text-align: right;\n",
       "    }\n",
       "</style>\n",
       "<table border=\"1\" class=\"dataframe\">\n",
       "  <thead>\n",
       "    <tr style=\"text-align: right;\">\n",
       "      <th></th>\n",
       "      <th>operator_id</th>\n",
       "      <th>date</th>\n",
       "      <th>calls_count</th>\n",
       "      <th>hour_calls</th>\n",
       "    </tr>\n",
       "  </thead>\n",
       "  <tbody>\n",
       "    <tr>\n",
       "      <th>0</th>\n",
       "      <td>914036.0</td>\n",
       "      <td>2019-09-18</td>\n",
       "      <td>1</td>\n",
       "      <td>0.1</td>\n",
       "    </tr>\n",
       "    <tr>\n",
       "      <th>1</th>\n",
       "      <td>900458.0</td>\n",
       "      <td>2019-08-30</td>\n",
       "      <td>1</td>\n",
       "      <td>0.1</td>\n",
       "    </tr>\n",
       "    <tr>\n",
       "      <th>2</th>\n",
       "      <td>896382.0</td>\n",
       "      <td>2019-09-10</td>\n",
       "      <td>1</td>\n",
       "      <td>0.1</td>\n",
       "    </tr>\n",
       "    <tr>\n",
       "      <th>3</th>\n",
       "      <td>891160.0</td>\n",
       "      <td>2019-09-20</td>\n",
       "      <td>1</td>\n",
       "      <td>0.1</td>\n",
       "    </tr>\n",
       "    <tr>\n",
       "      <th>4</th>\n",
       "      <td>891160.0</td>\n",
       "      <td>2019-09-24</td>\n",
       "      <td>1</td>\n",
       "      <td>0.1</td>\n",
       "    </tr>\n",
       "    <tr>\n",
       "      <th>...</th>\n",
       "      <td>...</td>\n",
       "      <td>...</td>\n",
       "      <td>...</td>\n",
       "      <td>...</td>\n",
       "    </tr>\n",
       "    <tr>\n",
       "      <th>19340</th>\n",
       "      <td>929426.0</td>\n",
       "      <td>2019-11-28</td>\n",
       "      <td>779</td>\n",
       "      <td>64.9</td>\n",
       "    </tr>\n",
       "    <tr>\n",
       "      <th>19341</th>\n",
       "      <td>929426.0</td>\n",
       "      <td>2019-11-21</td>\n",
       "      <td>833</td>\n",
       "      <td>69.4</td>\n",
       "    </tr>\n",
       "    <tr>\n",
       "      <th>19342</th>\n",
       "      <td>929428.0</td>\n",
       "      <td>2019-11-08</td>\n",
       "      <td>926</td>\n",
       "      <td>77.2</td>\n",
       "    </tr>\n",
       "    <tr>\n",
       "      <th>19343</th>\n",
       "      <td>929428.0</td>\n",
       "      <td>2019-11-06</td>\n",
       "      <td>1215</td>\n",
       "      <td>101.2</td>\n",
       "    </tr>\n",
       "    <tr>\n",
       "      <th>19344</th>\n",
       "      <td>929428.0</td>\n",
       "      <td>2019-11-11</td>\n",
       "      <td>5022</td>\n",
       "      <td>418.5</td>\n",
       "    </tr>\n",
       "  </tbody>\n",
       "</table>\n",
       "<p>19345 rows × 4 columns</p>\n",
       "</div>"
      ],
      "text/plain": [
       "       operator_id       date  calls_count  hour_calls\n",
       "0         914036.0 2019-09-18            1         0.1\n",
       "1         900458.0 2019-08-30            1         0.1\n",
       "2         896382.0 2019-09-10            1         0.1\n",
       "3         891160.0 2019-09-20            1         0.1\n",
       "4         891160.0 2019-09-24            1         0.1\n",
       "...            ...        ...          ...         ...\n",
       "19340     929426.0 2019-11-28          779        64.9\n",
       "19341     929426.0 2019-11-21          833        69.4\n",
       "19342     929428.0 2019-11-08          926        77.2\n",
       "19343     929428.0 2019-11-06         1215       101.2\n",
       "19344     929428.0 2019-11-11         5022       418.5\n",
       "\n",
       "[19345 rows x 4 columns]"
      ]
     },
     "execution_count": 44,
     "metadata": {},
     "output_type": "execute_result"
    }
   ],
   "source": [
    "day_total_calls['hour_calls'] = (day_total_calls['calls_count'] / 12).round(1)\n",
    "day_total_calls"
   ]
  },
  {
   "cell_type": "markdown",
   "metadata": {},
   "source": [
    "101 вызов в час совершить еще реально, а вот 418 это уже довольно много, рассмотрим подробнее эти вызовы."
   ]
  },
  {
   "cell_type": "code",
   "execution_count": 144,
   "metadata": {
    "scrolled": false
   },
   "outputs": [
    {
     "data": {
      "text/html": [
       "<div>\n",
       "<style scoped>\n",
       "    .dataframe tbody tr th:only-of-type {\n",
       "        vertical-align: middle;\n",
       "    }\n",
       "\n",
       "    .dataframe tbody tr th {\n",
       "        vertical-align: top;\n",
       "    }\n",
       "\n",
       "    .dataframe thead th {\n",
       "        text-align: right;\n",
       "    }\n",
       "</style>\n",
       "<table border=\"1\" class=\"dataframe\">\n",
       "  <thead>\n",
       "    <tr style=\"text-align: right;\">\n",
       "      <th></th>\n",
       "      <th>user_id</th>\n",
       "      <th>date</th>\n",
       "      <th>direction</th>\n",
       "      <th>internal</th>\n",
       "      <th>operator_id</th>\n",
       "      <th>is_missed_call</th>\n",
       "      <th>calls_count</th>\n",
       "      <th>call_duration</th>\n",
       "      <th>total_call_duration</th>\n",
       "      <th>avg_call_duration</th>\n",
       "      <th>avg_waiting</th>\n",
       "    </tr>\n",
       "  </thead>\n",
       "  <tbody>\n",
       "    <tr>\n",
       "      <th>40731</th>\n",
       "      <td>167827</td>\n",
       "      <td>2019-11-11</td>\n",
       "      <td>out</td>\n",
       "      <td>False</td>\n",
       "      <td>929428.0</td>\n",
       "      <td>False</td>\n",
       "      <td>205</td>\n",
       "      <td>9320</td>\n",
       "      <td>13171</td>\n",
       "      <td>45.463415</td>\n",
       "      <td>18.8</td>\n",
       "    </tr>\n",
       "    <tr>\n",
       "      <th>40733</th>\n",
       "      <td>167827</td>\n",
       "      <td>2019-11-11</td>\n",
       "      <td>out</td>\n",
       "      <td>False</td>\n",
       "      <td>929428.0</td>\n",
       "      <td>True</td>\n",
       "      <td>4817</td>\n",
       "      <td>0</td>\n",
       "      <td>5529</td>\n",
       "      <td>0.000000</td>\n",
       "      <td>1.1</td>\n",
       "    </tr>\n",
       "  </tbody>\n",
       "</table>\n",
       "</div>"
      ],
      "text/plain": [
       "       user_id       date direction  internal operator_id  is_missed_call  \\\n",
       "40731   167827 2019-11-11       out     False    929428.0           False   \n",
       "40733   167827 2019-11-11       out     False    929428.0            True   \n",
       "\n",
       "       calls_count  call_duration  total_call_duration  avg_call_duration  \\\n",
       "40731          205           9320                13171          45.463415   \n",
       "40733         4817              0                 5529           0.000000   \n",
       "\n",
       "       avg_waiting  \n",
       "40731         18.8  \n",
       "40733          1.1  "
      ]
     },
     "execution_count": 144,
     "metadata": {},
     "output_type": "execute_result"
    }
   ],
   "source": [
    "data.query('date == \"2019-11-11\" and operator_id == 929428.0')"
   ]
  },
  {
   "cell_type": "code",
   "execution_count": 149,
   "metadata": {},
   "outputs": [
    {
     "data": {
      "text/plain": [
       "40733    6.690278\n",
       "Name: calls_count, dtype: float64"
      ]
     },
     "execution_count": 149,
     "metadata": {},
     "output_type": "execute_result"
    }
   ],
   "source": [
    "data.query('date == \"2019-11-11\" and operator_id == 929428.0').query('is_missed_call == True')['calls_count'] / 12 / 60"
   ]
  },
  {
   "cell_type": "markdown",
   "metadata": {},
   "source": [
    "Большая часть вызовов этого оператора в этот день -- исходящие пропущенные. Сделав расчет, видим, что почти по 7 вызовов в минуту совершить вполне реально, если на эти вызовы никто не отвечал. Оставим эти данные, они реальны."
   ]
  },
  {
   "cell_type": "markdown",
   "metadata": {},
   "source": [
    "#### Среднее время ожидания ответа"
   ]
  },
  {
   "cell_type": "markdown",
   "metadata": {},
   "source": [
    "Рассмотрим среднее время ожидания входящего вызова по каждому оператору. Время ожидания исходящих вызовов нас не интересует -- оно мало зависит от мастерства оператора."
   ]
  },
  {
   "cell_type": "code",
   "execution_count": 47,
   "metadata": {},
   "outputs": [
    {
     "data": {
      "text/html": [
       "<div>\n",
       "<style scoped>\n",
       "    .dataframe tbody tr th:only-of-type {\n",
       "        vertical-align: middle;\n",
       "    }\n",
       "\n",
       "    .dataframe tbody tr th {\n",
       "        vertical-align: top;\n",
       "    }\n",
       "\n",
       "    .dataframe thead th {\n",
       "        text-align: right;\n",
       "    }\n",
       "</style>\n",
       "<table border=\"1\" class=\"dataframe\">\n",
       "  <thead>\n",
       "    <tr style=\"text-align: right;\">\n",
       "      <th></th>\n",
       "      <th>operator_id</th>\n",
       "      <th>avg_waiting</th>\n",
       "    </tr>\n",
       "  </thead>\n",
       "  <tbody>\n",
       "    <tr>\n",
       "      <th>0</th>\n",
       "      <td>946582.0</td>\n",
       "      <td>1.0</td>\n",
       "    </tr>\n",
       "    <tr>\n",
       "      <th>1</th>\n",
       "      <td>940430.0</td>\n",
       "      <td>1.0</td>\n",
       "    </tr>\n",
       "    <tr>\n",
       "      <th>2</th>\n",
       "      <td>890618.0</td>\n",
       "      <td>1.0</td>\n",
       "    </tr>\n",
       "    <tr>\n",
       "      <th>3</th>\n",
       "      <td>896020.0</td>\n",
       "      <td>1.0</td>\n",
       "    </tr>\n",
       "    <tr>\n",
       "      <th>4</th>\n",
       "      <td>929424.0</td>\n",
       "      <td>1.0</td>\n",
       "    </tr>\n",
       "    <tr>\n",
       "      <th>...</th>\n",
       "      <td>...</td>\n",
       "      <td>...</td>\n",
       "    </tr>\n",
       "    <tr>\n",
       "      <th>748</th>\n",
       "      <td>920930.0</td>\n",
       "      <td>62.0</td>\n",
       "    </tr>\n",
       "    <tr>\n",
       "      <th>749</th>\n",
       "      <td>960296.0</td>\n",
       "      <td>63.0</td>\n",
       "    </tr>\n",
       "    <tr>\n",
       "      <th>750</th>\n",
       "      <td>907174.0</td>\n",
       "      <td>65.0</td>\n",
       "    </tr>\n",
       "    <tr>\n",
       "      <th>751</th>\n",
       "      <td>917680.0</td>\n",
       "      <td>100.0</td>\n",
       "    </tr>\n",
       "    <tr>\n",
       "      <th>752</th>\n",
       "      <td>905842.0</td>\n",
       "      <td>116.0</td>\n",
       "    </tr>\n",
       "  </tbody>\n",
       "</table>\n",
       "<p>753 rows × 2 columns</p>\n",
       "</div>"
      ],
      "text/plain": [
       "     operator_id  avg_waiting\n",
       "0       946582.0          1.0\n",
       "1       940430.0          1.0\n",
       "2       890618.0          1.0\n",
       "3       896020.0          1.0\n",
       "4       929424.0          1.0\n",
       "..           ...          ...\n",
       "748     920930.0         62.0\n",
       "749     960296.0         63.0\n",
       "750     907174.0         65.0\n",
       "751     917680.0        100.0\n",
       "752     905842.0        116.0\n",
       "\n",
       "[753 rows x 2 columns]"
      ]
     },
     "execution_count": 47,
     "metadata": {},
     "output_type": "execute_result"
    }
   ],
   "source": [
    "avg_wait = data.query('direction == \"in\"').groupby('operator_id')['avg_waiting'].mean().round().sort_values().reset_index()\n",
    "avg_wait"
   ]
  },
  {
   "cell_type": "markdown",
   "metadata": {},
   "source": [
    "Построим гистограмму."
   ]
  },
  {
   "cell_type": "code",
   "execution_count": 152,
   "metadata": {},
   "outputs": [
    {
     "data": {
      "image/png": "[encoded data removed]",
      "text/plain": [
       "<Figure size 576x360 with 1 Axes>"
      ]
     },
     "metadata": {
      "needs_background": "light"
     },
     "output_type": "display_data"
    }
   ],
   "source": [
    "avg_wait.avg_waiting.hist(bins=116, figsize=(8,5)).set_title('Распределение времени ожидания входящих вызовов') \n",
    "plt.xlabel('Среднее время ожидания, сек')\n",
    "plt.ylabel('Количество операторов')\n",
    "plt.show()"
   ]
  },
  {
   "cell_type": "markdown",
   "metadata": {},
   "source": [
    "Максимальное среднее время ожидания вызовов -- 116 секунд. Но большая часть вызовов поступает в работу в среднем до 30 секунд."
   ]
  },
  {
   "cell_type": "markdown",
   "metadata": {},
   "source": [
    "#### Пропущенные вызовы"
   ]
  },
  {
   "cell_type": "markdown",
   "metadata": {},
   "source": [
    "Рассмотрим процент пропущенных вызовов исходящих и входящих звонков отдельно, потому как оператор никак не может повлиять на факт пропуска исходящего вызова. Построим таблицу, где для каждого оператора будет указан процент пропущенных входящих звонков."
   ]
  },
  {
   "cell_type": "code",
   "execution_count": 153,
   "metadata": {
    "scrolled": false
   },
   "outputs": [
    {
     "data": {
      "text/html": [
       "<div>\n",
       "<style scoped>\n",
       "    .dataframe tbody tr th:only-of-type {\n",
       "        vertical-align: middle;\n",
       "    }\n",
       "\n",
       "    .dataframe tbody tr th {\n",
       "        vertical-align: top;\n",
       "    }\n",
       "\n",
       "    .dataframe thead th {\n",
       "        text-align: right;\n",
       "    }\n",
       "</style>\n",
       "<table border=\"1\" class=\"dataframe\">\n",
       "  <thead>\n",
       "    <tr style=\"text-align: right;\">\n",
       "      <th></th>\n",
       "      <th>operator_id</th>\n",
       "      <th>not_missed_calls</th>\n",
       "      <th>missed_calls</th>\n",
       "      <th>total_calls</th>\n",
       "      <th>part_missed_calls</th>\n",
       "    </tr>\n",
       "  </thead>\n",
       "  <tbody>\n",
       "    <tr>\n",
       "      <th>0</th>\n",
       "      <td>879896.0</td>\n",
       "      <td>58.0</td>\n",
       "      <td>0.0</td>\n",
       "      <td>58.0</td>\n",
       "      <td>0.0</td>\n",
       "    </tr>\n",
       "    <tr>\n",
       "      <th>476</th>\n",
       "      <td>934608.0</td>\n",
       "      <td>9.0</td>\n",
       "      <td>0.0</td>\n",
       "      <td>9.0</td>\n",
       "      <td>0.0</td>\n",
       "    </tr>\n",
       "    <tr>\n",
       "      <th>477</th>\n",
       "      <td>935216.0</td>\n",
       "      <td>2.0</td>\n",
       "      <td>0.0</td>\n",
       "      <td>2.0</td>\n",
       "      <td>0.0</td>\n",
       "    </tr>\n",
       "    <tr>\n",
       "      <th>478</th>\n",
       "      <td>935244.0</td>\n",
       "      <td>2.0</td>\n",
       "      <td>0.0</td>\n",
       "      <td>2.0</td>\n",
       "      <td>0.0</td>\n",
       "    </tr>\n",
       "    <tr>\n",
       "      <th>479</th>\n",
       "      <td>935264.0</td>\n",
       "      <td>4.0</td>\n",
       "      <td>0.0</td>\n",
       "      <td>4.0</td>\n",
       "      <td>0.0</td>\n",
       "    </tr>\n",
       "    <tr>\n",
       "      <th>...</th>\n",
       "      <td>...</td>\n",
       "      <td>...</td>\n",
       "      <td>...</td>\n",
       "      <td>...</td>\n",
       "      <td>...</td>\n",
       "    </tr>\n",
       "    <tr>\n",
       "      <th>383</th>\n",
       "      <td>924936.0</td>\n",
       "      <td>6.0</td>\n",
       "      <td>2.0</td>\n",
       "      <td>8.0</td>\n",
       "      <td>25.0</td>\n",
       "    </tr>\n",
       "    <tr>\n",
       "      <th>109</th>\n",
       "      <td>897872.0</td>\n",
       "      <td>2.0</td>\n",
       "      <td>1.0</td>\n",
       "      <td>3.0</td>\n",
       "      <td>33.3</td>\n",
       "    </tr>\n",
       "    <tr>\n",
       "      <th>467</th>\n",
       "      <td>934098.0</td>\n",
       "      <td>4.0</td>\n",
       "      <td>2.0</td>\n",
       "      <td>6.0</td>\n",
       "      <td>33.3</td>\n",
       "    </tr>\n",
       "    <tr>\n",
       "      <th>497</th>\n",
       "      <td>937432.0</td>\n",
       "      <td>2.0</td>\n",
       "      <td>1.0</td>\n",
       "      <td>3.0</td>\n",
       "      <td>33.3</td>\n",
       "    </tr>\n",
       "    <tr>\n",
       "      <th>697</th>\n",
       "      <td>957922.0</td>\n",
       "      <td>2.0</td>\n",
       "      <td>1.0</td>\n",
       "      <td>3.0</td>\n",
       "      <td>33.3</td>\n",
       "    </tr>\n",
       "  </tbody>\n",
       "</table>\n",
       "<p>753 rows × 5 columns</p>\n",
       "</div>"
      ],
      "text/plain": [
       "     operator_id  not_missed_calls  missed_calls  total_calls  \\\n",
       "0       879896.0              58.0           0.0         58.0   \n",
       "476     934608.0               9.0           0.0          9.0   \n",
       "477     935216.0               2.0           0.0          2.0   \n",
       "478     935244.0               2.0           0.0          2.0   \n",
       "479     935264.0               4.0           0.0          4.0   \n",
       "..           ...               ...           ...          ...   \n",
       "383     924936.0               6.0           2.0          8.0   \n",
       "109     897872.0               2.0           1.0          3.0   \n",
       "467     934098.0               4.0           2.0          6.0   \n",
       "497     937432.0               2.0           1.0          3.0   \n",
       "697     957922.0               2.0           1.0          3.0   \n",
       "\n",
       "     part_missed_calls  \n",
       "0                  0.0  \n",
       "476                0.0  \n",
       "477                0.0  \n",
       "478                0.0  \n",
       "479                0.0  \n",
       "..                 ...  \n",
       "383               25.0  \n",
       "109               33.3  \n",
       "467               33.3  \n",
       "497               33.3  \n",
       "697               33.3  \n",
       "\n",
       "[753 rows x 5 columns]"
      ]
     },
     "execution_count": 153,
     "metadata": {},
     "output_type": "execute_result"
    }
   ],
   "source": [
    "df_missed_in = data.query('direction == \"in\"') \\\n",
    "               .pivot_table(index='operator_id', columns='is_missed_call', values='calls_count', aggfunc='sum').reset_index()\n",
    "df_missed_in.fillna(0, inplace=True)\n",
    "df_missed_in.columns = ['operator_id', 'not_missed_calls', 'missed_calls']\n",
    "df_missed_in['total_calls'] = df_missed_in['not_missed_calls'] + df_missed_in['missed_calls']\n",
    "df_missed_in['part_missed_calls'] = (df_missed_in['missed_calls'] / df_missed_in['total_calls'] * 100).round(1)\n",
    "df_missed_in = df_missed_in.sort_values(by='part_missed_calls')\n",
    "df_missed_in"
   ]
  },
  {
   "cell_type": "markdown",
   "metadata": {},
   "source": [
    "Аналогично для входящих звонков."
   ]
  },
  {
   "cell_type": "code",
   "execution_count": 155,
   "metadata": {},
   "outputs": [
    {
     "data": {
      "text/html": [
       "<div>\n",
       "<style scoped>\n",
       "    .dataframe tbody tr th:only-of-type {\n",
       "        vertical-align: middle;\n",
       "    }\n",
       "\n",
       "    .dataframe tbody tr th {\n",
       "        vertical-align: top;\n",
       "    }\n",
       "\n",
       "    .dataframe thead th {\n",
       "        text-align: right;\n",
       "    }\n",
       "</style>\n",
       "<table border=\"1\" class=\"dataframe\">\n",
       "  <thead>\n",
       "    <tr style=\"text-align: right;\">\n",
       "      <th></th>\n",
       "      <th>operator_id</th>\n",
       "      <th>not_missed_calls</th>\n",
       "      <th>missed_calls</th>\n",
       "      <th>total_calls</th>\n",
       "      <th>part_missed_calls</th>\n",
       "    </tr>\n",
       "  </thead>\n",
       "  <tbody>\n",
       "    <tr>\n",
       "      <th>774</th>\n",
       "      <td>952968.0</td>\n",
       "      <td>1.0</td>\n",
       "      <td>0.0</td>\n",
       "      <td>1.0</td>\n",
       "      <td>0.0</td>\n",
       "    </tr>\n",
       "    <tr>\n",
       "      <th>829</th>\n",
       "      <td>960666.0</td>\n",
       "      <td>1.0</td>\n",
       "      <td>0.0</td>\n",
       "      <td>1.0</td>\n",
       "      <td>0.0</td>\n",
       "    </tr>\n",
       "    <tr>\n",
       "      <th>121</th>\n",
       "      <td>897894.0</td>\n",
       "      <td>19.0</td>\n",
       "      <td>0.0</td>\n",
       "      <td>19.0</td>\n",
       "      <td>0.0</td>\n",
       "    </tr>\n",
       "    <tr>\n",
       "      <th>483</th>\n",
       "      <td>930692.0</td>\n",
       "      <td>6.0</td>\n",
       "      <td>0.0</td>\n",
       "      <td>6.0</td>\n",
       "      <td>0.0</td>\n",
       "    </tr>\n",
       "    <tr>\n",
       "      <th>652</th>\n",
       "      <td>941816.0</td>\n",
       "      <td>1.0</td>\n",
       "      <td>0.0</td>\n",
       "      <td>1.0</td>\n",
       "      <td>0.0</td>\n",
       "    </tr>\n",
       "    <tr>\n",
       "      <th>...</th>\n",
       "      <td>...</td>\n",
       "      <td>...</td>\n",
       "      <td>...</td>\n",
       "      <td>...</td>\n",
       "      <td>...</td>\n",
       "    </tr>\n",
       "    <tr>\n",
       "      <th>680</th>\n",
       "      <td>945074.0</td>\n",
       "      <td>0.0</td>\n",
       "      <td>3.0</td>\n",
       "      <td>3.0</td>\n",
       "      <td>100.0</td>\n",
       "    </tr>\n",
       "    <tr>\n",
       "      <th>256</th>\n",
       "      <td>908834.0</td>\n",
       "      <td>0.0</td>\n",
       "      <td>1.0</td>\n",
       "      <td>1.0</td>\n",
       "      <td>100.0</td>\n",
       "    </tr>\n",
       "    <tr>\n",
       "      <th>94</th>\n",
       "      <td>894224.0</td>\n",
       "      <td>0.0</td>\n",
       "      <td>33.0</td>\n",
       "      <td>33.0</td>\n",
       "      <td>100.0</td>\n",
       "    </tr>\n",
       "    <tr>\n",
       "      <th>839</th>\n",
       "      <td>962904.0</td>\n",
       "      <td>0.0</td>\n",
       "      <td>2.0</td>\n",
       "      <td>2.0</td>\n",
       "      <td>100.0</td>\n",
       "    </tr>\n",
       "    <tr>\n",
       "      <th>108</th>\n",
       "      <td>896010.0</td>\n",
       "      <td>0.0</td>\n",
       "      <td>4.0</td>\n",
       "      <td>4.0</td>\n",
       "      <td>100.0</td>\n",
       "    </tr>\n",
       "  </tbody>\n",
       "</table>\n",
       "<p>881 rows × 5 columns</p>\n",
       "</div>"
      ],
      "text/plain": [
       "     operator_id  not_missed_calls  missed_calls  total_calls  \\\n",
       "774     952968.0               1.0           0.0          1.0   \n",
       "829     960666.0               1.0           0.0          1.0   \n",
       "121     897894.0              19.0           0.0         19.0   \n",
       "483     930692.0               6.0           0.0          6.0   \n",
       "652     941816.0               1.0           0.0          1.0   \n",
       "..           ...               ...           ...          ...   \n",
       "680     945074.0               0.0           3.0          3.0   \n",
       "256     908834.0               0.0           1.0          1.0   \n",
       "94      894224.0               0.0          33.0         33.0   \n",
       "839     962904.0               0.0           2.0          2.0   \n",
       "108     896010.0               0.0           4.0          4.0   \n",
       "\n",
       "     part_missed_calls  \n",
       "774                0.0  \n",
       "829                0.0  \n",
       "121                0.0  \n",
       "483                0.0  \n",
       "652                0.0  \n",
       "..                 ...  \n",
       "680              100.0  \n",
       "256              100.0  \n",
       "94               100.0  \n",
       "839              100.0  \n",
       "108              100.0  \n",
       "\n",
       "[881 rows x 5 columns]"
      ]
     },
     "execution_count": 155,
     "metadata": {},
     "output_type": "execute_result"
    }
   ],
   "source": [
    "df_missed_out = data.query('direction == \"out\"') \\\n",
    "               .pivot_table(index='operator_id', columns='is_missed_call', values='calls_count', aggfunc='sum').reset_index()\n",
    "df_missed_out.fillna(0, inplace=True)\n",
    "df_missed_out.columns = ['operator_id', 'not_missed_calls', 'missed_calls']\n",
    "df_missed_out['total_calls'] = df_missed_out['not_missed_calls'] + df_missed_out['missed_calls']\n",
    "df_missed_out['part_missed_calls'] = (df_missed_out['missed_calls'] / df_missed_out['total_calls'] * 100).round(1)\n",
    "df_missed_out = df_missed_out.sort_values(by='part_missed_calls')\n",
    "df_missed_out"
   ]
  },
  {
   "cell_type": "markdown",
   "metadata": {},
   "source": [
    "Построим гистрограммы распределения процентов пропущенных входящих и исходящих вызовов по операторам."
   ]
  },
  {
   "cell_type": "code",
   "execution_count": 156,
   "metadata": {},
   "outputs": [
    {
     "data": {
      "image/png": "[encoded data removed]",
      "text/plain": [
       "<Figure size 1080x360 with 2 Axes>"
      ]
     },
     "metadata": {
      "needs_background": "light"
     },
     "output_type": "display_data"
    }
   ],
   "source": [
    "fig,axis = plt.subplots(nrows=1 , ncols=2, figsize=(15, 5))\n",
    "fig.suptitle('Процент средних пропущенных вызовов по операторам')\n",
    "axis[0].set_title('входящих вызовов')\n",
    "df_missed_in.plot(y='part_missed_calls', kind='hist', legend=False, ax=axis[0])\n",
    "axis[1].set_title('исходящих вызовов')\n",
    "df_missed_out.plot(y='part_missed_calls', kind='hist', legend=False, ax=axis[1])\n",
    "plt.ylabel('')\n",
    "plt.show()"
   ]
  },
  {
   "cell_type": "markdown",
   "metadata": {},
   "source": [
    "Большая разница в долях пропущенных исходящих и входящих вызовов. Это можно объяснить тем, что при входящих вызовах колл-центр и оператор заинтересован ответить быстрее. А в исходящих вызовах оператор никак не может повлиять, ответит абонент или нет. Отсюда такой большой процент исходящих непринятых звонков."
   ]
  },
  {
   "cell_type": "markdown",
   "metadata": {},
   "source": [
    "## Этап 4. Определение неэффективных операторов"
   ]
  },
  {
   "cell_type": "markdown",
   "metadata": {},
   "source": [
    "Для оценки некоторых критериев будем опираться на отраслевые стандарты СОРС (Customer Operations Performance Center) -- стандарт, разработанный в 1966 году группой компаний Microsoft, Intel, American Express, Dell, Motorola, Novell, это набор минимальных операционных требований к управлению производительностью. Наример:\n",
    "    \n",
    "- уровень сервиса (SL/Service Level) -- 80% всех входящих звонков должны быть приняты в течение 20 секунд (ключевой показатель уровня сервиса входящей линии),\n",
    "- пропущенные звонки (AR/Abandonment Rate, Aban Rate, Lost Call Rate) <= 5% (ключевой показатель уровня сервиса входящей линии).\n",
    "                                                                          \n",
    "Эти два показателя являются ключевыми для оценки работы операторов по входящим вызовам. По-хорошему, оператор доложен соответствовать обоим этим условиям. Однако, наши данные могут быть такими, что большая часть операторов не подойдет этим критериям, тогда будем корректировать требования. Третий критерий для операторов на входящих вызовах (процент переадресаций на другого оператора) я бы сделала дополнительным. Наример, признать оператора неэффективным, если он не подходит под один из ключевых критериев плюс дополнительный.\n",
    "                                                                          \n",
    "Для оценки работы операторов на исходящих вызовах довольно много критериев, которые мы не можем оценить. Например, конвертация (абоненты, которые согласились выслушать предложение, и абоненты, которые после согласия действительно пришли взять кредит, например), количество продаж в час и другие. У нас нет этих данных, а из того, что есть, разумнее будет оценивать операторов исходящих вызовов по длительности разговора (Average Handle Time/AHT), потому что практика показывает, что чем длиннее разговор, тем вероятнее клиент согласится купить услугу. Попробуем назвать успешными разговоры длиннее 30 секунд. Наверное, быстрее сложно что-то сделать, хотя мы не знаем специализацию операторов (может быть, это соц-опросы на 10 минут?)\n",
    "Пусть оператор считается эффективным, если хотя бы половина его звонков считаются успешными. "
   ]
  },
  {
   "cell_type": "markdown",
   "metadata": {},
   "source": [
    "### Категоризация операторов"
   ]
  },
  {
   "cell_type": "markdown",
   "metadata": {},
   "source": [
    "Входящие и исходящие вызовы имеют разные показатели качества. Поэтому для оценки эффективности работы операторов необходимо присвоить ему \"специализацию\" -- на входящих или исходящих вызовых он чаще работает. Построим таблицу с информацией о проценте исходящих вызовов каждого оператора. На основании Этого присвоим операторам категории: оператор входящих вызовов или исходящих."
   ]
  },
  {
   "cell_type": "code",
   "execution_count": 180,
   "metadata": {},
   "outputs": [
    {
     "data": {
      "text/html": [
       "<div>\n",
       "<style scoped>\n",
       "    .dataframe tbody tr th:only-of-type {\n",
       "        vertical-align: middle;\n",
       "    }\n",
       "\n",
       "    .dataframe tbody tr th {\n",
       "        vertical-align: top;\n",
       "    }\n",
       "\n",
       "    .dataframe thead th {\n",
       "        text-align: right;\n",
       "    }\n",
       "</style>\n",
       "<table border=\"1\" class=\"dataframe\">\n",
       "  <thead>\n",
       "    <tr style=\"text-align: right;\">\n",
       "      <th></th>\n",
       "      <th>operator_id</th>\n",
       "      <th>in_calls</th>\n",
       "      <th>out_calls</th>\n",
       "      <th>part_out_calls</th>\n",
       "    </tr>\n",
       "  </thead>\n",
       "  <tbody>\n",
       "    <tr>\n",
       "      <th>0</th>\n",
       "      <td>879896.0</td>\n",
       "      <td>58.0</td>\n",
       "      <td>816.0</td>\n",
       "      <td>93.4</td>\n",
       "    </tr>\n",
       "    <tr>\n",
       "      <th>1</th>\n",
       "      <td>879898.0</td>\n",
       "      <td>103.0</td>\n",
       "      <td>7191.0</td>\n",
       "      <td>98.6</td>\n",
       "    </tr>\n",
       "    <tr>\n",
       "      <th>2</th>\n",
       "      <td>880020.0</td>\n",
       "      <td>7.0</td>\n",
       "      <td>34.0</td>\n",
       "      <td>82.9</td>\n",
       "    </tr>\n",
       "    <tr>\n",
       "      <th>3</th>\n",
       "      <td>880022.0</td>\n",
       "      <td>8.0</td>\n",
       "      <td>174.0</td>\n",
       "      <td>95.6</td>\n",
       "    </tr>\n",
       "    <tr>\n",
       "      <th>4</th>\n",
       "      <td>880026.0</td>\n",
       "      <td>24.0</td>\n",
       "      <td>2188.0</td>\n",
       "      <td>98.9</td>\n",
       "    </tr>\n",
       "  </tbody>\n",
       "</table>\n",
       "</div>"
      ],
      "text/plain": [
       "   operator_id  in_calls  out_calls  part_out_calls\n",
       "0     879896.0      58.0      816.0            93.4\n",
       "1     879898.0     103.0     7191.0            98.6\n",
       "2     880020.0       7.0       34.0            82.9\n",
       "3     880022.0       8.0      174.0            95.6\n",
       "4     880026.0      24.0     2188.0            98.9"
      ]
     },
     "execution_count": 180,
     "metadata": {},
     "output_type": "execute_result"
    }
   ],
   "source": [
    "operator_types = data.query('internal == False').pivot_table(index='operator_id', columns='direction', values='calls_count', aggfunc='sum').reset_index()\n",
    "operator_types.columns = ['operator_id', 'in_calls', 'out_calls']\n",
    "operator_types.fillna(0, inplace=True)\n",
    "operator_types['part_out_calls'] = (operator_types['out_calls'] / (operator_types['out_calls'] + operator_types['in_calls']) * 100).round(1)\n",
    "operator_types.head()"
   ]
  },
  {
   "cell_type": "markdown",
   "metadata": {},
   "source": [
    "Допустим, оператор специализируется на исходящих вызовах, если половина или больше его вызовов -- исходящие. Напишем функцию для присвоения операторам категории."
   ]
  },
  {
   "cell_type": "code",
   "execution_count": 181,
   "metadata": {},
   "outputs": [],
   "source": [
    "def direction_operator(x):\n",
    "    if x['part_out_calls'] >= 50:\n",
    "        return 'out'\n",
    "    else: \n",
    "        return 'in'"
   ]
  },
  {
   "cell_type": "code",
   "execution_count": 182,
   "metadata": {},
   "outputs": [
    {
     "data": {
      "text/html": [
       "<div>\n",
       "<style scoped>\n",
       "    .dataframe tbody tr th:only-of-type {\n",
       "        vertical-align: middle;\n",
       "    }\n",
       "\n",
       "    .dataframe tbody tr th {\n",
       "        vertical-align: top;\n",
       "    }\n",
       "\n",
       "    .dataframe thead th {\n",
       "        text-align: right;\n",
       "    }\n",
       "</style>\n",
       "<table border=\"1\" class=\"dataframe\">\n",
       "  <thead>\n",
       "    <tr style=\"text-align: right;\">\n",
       "      <th></th>\n",
       "      <th>operator_id</th>\n",
       "      <th>in_calls</th>\n",
       "      <th>out_calls</th>\n",
       "      <th>part_out_calls</th>\n",
       "      <th>type</th>\n",
       "    </tr>\n",
       "  </thead>\n",
       "  <tbody>\n",
       "    <tr>\n",
       "      <th>0</th>\n",
       "      <td>879896.0</td>\n",
       "      <td>58.0</td>\n",
       "      <td>816.0</td>\n",
       "      <td>93.4</td>\n",
       "      <td>out</td>\n",
       "    </tr>\n",
       "    <tr>\n",
       "      <th>1</th>\n",
       "      <td>879898.0</td>\n",
       "      <td>103.0</td>\n",
       "      <td>7191.0</td>\n",
       "      <td>98.6</td>\n",
       "      <td>out</td>\n",
       "    </tr>\n",
       "    <tr>\n",
       "      <th>2</th>\n",
       "      <td>880020.0</td>\n",
       "      <td>7.0</td>\n",
       "      <td>34.0</td>\n",
       "      <td>82.9</td>\n",
       "      <td>out</td>\n",
       "    </tr>\n",
       "    <tr>\n",
       "      <th>3</th>\n",
       "      <td>880022.0</td>\n",
       "      <td>8.0</td>\n",
       "      <td>174.0</td>\n",
       "      <td>95.6</td>\n",
       "      <td>out</td>\n",
       "    </tr>\n",
       "    <tr>\n",
       "      <th>4</th>\n",
       "      <td>880026.0</td>\n",
       "      <td>24.0</td>\n",
       "      <td>2188.0</td>\n",
       "      <td>98.9</td>\n",
       "      <td>out</td>\n",
       "    </tr>\n",
       "  </tbody>\n",
       "</table>\n",
       "</div>"
      ],
      "text/plain": [
       "   operator_id  in_calls  out_calls  part_out_calls type\n",
       "0     879896.0      58.0      816.0            93.4  out\n",
       "1     879898.0     103.0     7191.0            98.6  out\n",
       "2     880020.0       7.0       34.0            82.9  out\n",
       "3     880022.0       8.0      174.0            95.6  out\n",
       "4     880026.0      24.0     2188.0            98.9  out"
      ]
     },
     "execution_count": 182,
     "metadata": {},
     "output_type": "execute_result"
    }
   ],
   "source": [
    "operator_types['type'] = operator_types.apply(direction_operator, axis=1)\n",
    "operator_types.head()"
   ]
  },
  {
   "cell_type": "markdown",
   "metadata": {},
   "source": [
    "Посмотрим, как рапределились операторы по категориям."
   ]
  },
  {
   "cell_type": "code",
   "execution_count": 183,
   "metadata": {},
   "outputs": [
    {
     "data": {
      "text/plain": [
       "out    680\n",
       "in     374\n",
       "Name: type, dtype: int64"
      ]
     },
     "execution_count": 183,
     "metadata": {},
     "output_type": "execute_result"
    }
   ],
   "source": [
    "operator_types['type'].value_counts()"
   ]
  },
  {
   "cell_type": "markdown",
   "metadata": {},
   "source": [
    "Операторов исходящих вызовов получилось почти в два раза больше, чем входящих.\n",
    "Добавим столбец с типом оператора в первоначальный датасет."
   ]
  },
  {
   "cell_type": "code",
   "execution_count": 184,
   "metadata": {
    "scrolled": true
   },
   "outputs": [
    {
     "data": {
      "text/html": [
       "<div>\n",
       "<style scoped>\n",
       "    .dataframe tbody tr th:only-of-type {\n",
       "        vertical-align: middle;\n",
       "    }\n",
       "\n",
       "    .dataframe tbody tr th {\n",
       "        vertical-align: top;\n",
       "    }\n",
       "\n",
       "    .dataframe thead th {\n",
       "        text-align: right;\n",
       "    }\n",
       "</style>\n",
       "<table border=\"1\" class=\"dataframe\">\n",
       "  <thead>\n",
       "    <tr style=\"text-align: right;\">\n",
       "      <th></th>\n",
       "      <th>user_id</th>\n",
       "      <th>date</th>\n",
       "      <th>direction</th>\n",
       "      <th>internal</th>\n",
       "      <th>operator_id</th>\n",
       "      <th>is_missed_call</th>\n",
       "      <th>calls_count</th>\n",
       "      <th>call_duration</th>\n",
       "      <th>total_call_duration</th>\n",
       "      <th>avg_call_duration</th>\n",
       "      <th>avg_waiting</th>\n",
       "      <th>type_x</th>\n",
       "      <th>type_y</th>\n",
       "      <th>type</th>\n",
       "    </tr>\n",
       "  </thead>\n",
       "  <tbody>\n",
       "    <tr>\n",
       "      <th>0</th>\n",
       "      <td>166377</td>\n",
       "      <td>2019-08-05</td>\n",
       "      <td>out</td>\n",
       "      <td>True</td>\n",
       "      <td>880022.0</td>\n",
       "      <td>True</td>\n",
       "      <td>3</td>\n",
       "      <td>0</td>\n",
       "      <td>5</td>\n",
       "      <td>0.0</td>\n",
       "      <td>1.7</td>\n",
       "      <td>out</td>\n",
       "      <td>out</td>\n",
       "      <td>out</td>\n",
       "    </tr>\n",
       "    <tr>\n",
       "      <th>1</th>\n",
       "      <td>166377</td>\n",
       "      <td>2019-08-05</td>\n",
       "      <td>out</td>\n",
       "      <td>False</td>\n",
       "      <td>880022.0</td>\n",
       "      <td>True</td>\n",
       "      <td>3</td>\n",
       "      <td>0</td>\n",
       "      <td>25</td>\n",
       "      <td>0.0</td>\n",
       "      <td>8.3</td>\n",
       "      <td>out</td>\n",
       "      <td>out</td>\n",
       "      <td>out</td>\n",
       "    </tr>\n",
       "    <tr>\n",
       "      <th>2</th>\n",
       "      <td>166377</td>\n",
       "      <td>2019-08-08</td>\n",
       "      <td>out</td>\n",
       "      <td>False</td>\n",
       "      <td>880022.0</td>\n",
       "      <td>False</td>\n",
       "      <td>2</td>\n",
       "      <td>558</td>\n",
       "      <td>568</td>\n",
       "      <td>279.0</td>\n",
       "      <td>5.0</td>\n",
       "      <td>out</td>\n",
       "      <td>out</td>\n",
       "      <td>out</td>\n",
       "    </tr>\n",
       "    <tr>\n",
       "      <th>3</th>\n",
       "      <td>166377</td>\n",
       "      <td>2019-08-08</td>\n",
       "      <td>out</td>\n",
       "      <td>False</td>\n",
       "      <td>880022.0</td>\n",
       "      <td>True</td>\n",
       "      <td>4</td>\n",
       "      <td>0</td>\n",
       "      <td>28</td>\n",
       "      <td>0.0</td>\n",
       "      <td>7.0</td>\n",
       "      <td>out</td>\n",
       "      <td>out</td>\n",
       "      <td>out</td>\n",
       "    </tr>\n",
       "    <tr>\n",
       "      <th>4</th>\n",
       "      <td>166377</td>\n",
       "      <td>2019-08-09</td>\n",
       "      <td>out</td>\n",
       "      <td>False</td>\n",
       "      <td>880022.0</td>\n",
       "      <td>True</td>\n",
       "      <td>2</td>\n",
       "      <td>0</td>\n",
       "      <td>10</td>\n",
       "      <td>0.0</td>\n",
       "      <td>5.0</td>\n",
       "      <td>out</td>\n",
       "      <td>out</td>\n",
       "      <td>out</td>\n",
       "    </tr>\n",
       "  </tbody>\n",
       "</table>\n",
       "</div>"
      ],
      "text/plain": [
       "   user_id       date direction  internal operator_id  is_missed_call  \\\n",
       "0   166377 2019-08-05       out      True    880022.0            True   \n",
       "1   166377 2019-08-05       out     False    880022.0            True   \n",
       "2   166377 2019-08-08       out     False    880022.0           False   \n",
       "3   166377 2019-08-08       out     False    880022.0            True   \n",
       "4   166377 2019-08-09       out     False    880022.0            True   \n",
       "\n",
       "   calls_count  call_duration  total_call_duration  avg_call_duration  \\\n",
       "0            3              0                    5                0.0   \n",
       "1            3              0                   25                0.0   \n",
       "2            2            558                  568              279.0   \n",
       "3            4              0                   28                0.0   \n",
       "4            2              0                   10                0.0   \n",
       "\n",
       "   avg_waiting type_x type_y type  \n",
       "0          1.7    out    out  out  \n",
       "1          8.3    out    out  out  \n",
       "2          5.0    out    out  out  \n",
       "3          7.0    out    out  out  \n",
       "4          5.0    out    out  out  "
      ]
     },
     "execution_count": 184,
     "metadata": {},
     "output_type": "execute_result"
    }
   ],
   "source": [
    "data = data.merge(operator_types[['operator_id', 'type']], on = 'operator_id')\n",
    "data.head()"
   ]
  },
  {
   "cell_type": "markdown",
   "metadata": {},
   "source": [
    "### Операторы входящих вызовов"
   ]
  },
  {
   "cell_type": "markdown",
   "metadata": {},
   "source": [
    "Выявим неэффективных операторов, специализирующихся на исходящих вызовах."
   ]
  },
  {
   "cell_type": "code",
   "execution_count": 228,
   "metadata": {},
   "outputs": [
    {
     "data": {
      "text/html": [
       "<div>\n",
       "<style scoped>\n",
       "    .dataframe tbody tr th:only-of-type {\n",
       "        vertical-align: middle;\n",
       "    }\n",
       "\n",
       "    .dataframe tbody tr th {\n",
       "        vertical-align: top;\n",
       "    }\n",
       "\n",
       "    .dataframe thead th {\n",
       "        text-align: right;\n",
       "    }\n",
       "</style>\n",
       "<table border=\"1\" class=\"dataframe\">\n",
       "  <thead>\n",
       "    <tr style=\"text-align: right;\">\n",
       "      <th></th>\n",
       "      <th>user_id</th>\n",
       "      <th>date</th>\n",
       "      <th>direction</th>\n",
       "      <th>internal</th>\n",
       "      <th>operator_id</th>\n",
       "      <th>is_missed_call</th>\n",
       "      <th>calls_count</th>\n",
       "      <th>call_duration</th>\n",
       "      <th>total_call_duration</th>\n",
       "      <th>avg_call_duration</th>\n",
       "      <th>avg_waiting</th>\n",
       "      <th>type_x</th>\n",
       "      <th>type_y</th>\n",
       "      <th>type</th>\n",
       "      <th>week_day</th>\n",
       "    </tr>\n",
       "  </thead>\n",
       "  <tbody>\n",
       "    <tr>\n",
       "      <th>482</th>\n",
       "      <td>166391</td>\n",
       "      <td>2019-08-06</td>\n",
       "      <td>in</td>\n",
       "      <td>False</td>\n",
       "      <td>882476.0</td>\n",
       "      <td>False</td>\n",
       "      <td>1</td>\n",
       "      <td>175</td>\n",
       "      <td>186</td>\n",
       "      <td>175.0</td>\n",
       "      <td>11.0</td>\n",
       "      <td>in</td>\n",
       "      <td>in</td>\n",
       "      <td>in</td>\n",
       "      <td>1</td>\n",
       "    </tr>\n",
       "    <tr>\n",
       "      <th>483</th>\n",
       "      <td>166391</td>\n",
       "      <td>2019-09-23</td>\n",
       "      <td>in</td>\n",
       "      <td>False</td>\n",
       "      <td>882476.0</td>\n",
       "      <td>False</td>\n",
       "      <td>1</td>\n",
       "      <td>4</td>\n",
       "      <td>24</td>\n",
       "      <td>4.0</td>\n",
       "      <td>20.0</td>\n",
       "      <td>in</td>\n",
       "      <td>in</td>\n",
       "      <td>in</td>\n",
       "      <td>0</td>\n",
       "    </tr>\n",
       "    <tr>\n",
       "      <th>484</th>\n",
       "      <td>166391</td>\n",
       "      <td>2019-11-22</td>\n",
       "      <td>in</td>\n",
       "      <td>False</td>\n",
       "      <td>882476.0</td>\n",
       "      <td>False</td>\n",
       "      <td>1</td>\n",
       "      <td>13</td>\n",
       "      <td>77</td>\n",
       "      <td>13.0</td>\n",
       "      <td>64.0</td>\n",
       "      <td>in</td>\n",
       "      <td>in</td>\n",
       "      <td>in</td>\n",
       "      <td>4</td>\n",
       "    </tr>\n",
       "    <tr>\n",
       "      <th>485</th>\n",
       "      <td>166391</td>\n",
       "      <td>2019-08-07</td>\n",
       "      <td>in</td>\n",
       "      <td>True</td>\n",
       "      <td>882478.0</td>\n",
       "      <td>False</td>\n",
       "      <td>2</td>\n",
       "      <td>11</td>\n",
       "      <td>74</td>\n",
       "      <td>5.5</td>\n",
       "      <td>31.5</td>\n",
       "      <td>in</td>\n",
       "      <td>in</td>\n",
       "      <td>in</td>\n",
       "      <td>2</td>\n",
       "    </tr>\n",
       "    <tr>\n",
       "      <th>486</th>\n",
       "      <td>166391</td>\n",
       "      <td>2019-08-07</td>\n",
       "      <td>in</td>\n",
       "      <td>False</td>\n",
       "      <td>882478.0</td>\n",
       "      <td>False</td>\n",
       "      <td>1</td>\n",
       "      <td>57</td>\n",
       "      <td>70</td>\n",
       "      <td>57.0</td>\n",
       "      <td>13.0</td>\n",
       "      <td>in</td>\n",
       "      <td>in</td>\n",
       "      <td>in</td>\n",
       "      <td>2</td>\n",
       "    </tr>\n",
       "  </tbody>\n",
       "</table>\n",
       "</div>"
      ],
      "text/plain": [
       "     user_id       date direction  internal operator_id  is_missed_call  \\\n",
       "482   166391 2019-08-06        in     False    882476.0           False   \n",
       "483   166391 2019-09-23        in     False    882476.0           False   \n",
       "484   166391 2019-11-22        in     False    882476.0           False   \n",
       "485   166391 2019-08-07        in      True    882478.0           False   \n",
       "486   166391 2019-08-07        in     False    882478.0           False   \n",
       "\n",
       "     calls_count  call_duration  total_call_duration  avg_call_duration  \\\n",
       "482            1            175                  186              175.0   \n",
       "483            1              4                   24                4.0   \n",
       "484            1             13                   77               13.0   \n",
       "485            2             11                   74                5.5   \n",
       "486            1             57                   70               57.0   \n",
       "\n",
       "     avg_waiting type_x type_y type  week_day  \n",
       "482         11.0     in     in   in         1  \n",
       "483         20.0     in     in   in         0  \n",
       "484         64.0     in     in   in         4  \n",
       "485         31.5     in     in   in         2  \n",
       "486         13.0     in     in   in         2  "
      ]
     },
     "execution_count": 228,
     "metadata": {},
     "output_type": "execute_result"
    }
   ],
   "source": [
    "in_data = data.query('type == \"in\"') # выделим \"входящих\" операторов\n",
    "in_data.head()"
   ]
  },
  {
   "cell_type": "markdown",
   "metadata": {},
   "source": [
    "#### Уровень сервиса (SL/Service Level) -- 80% всех входящих звонков должны быть приняты в течение 20 секунд "
   ]
  },
  {
   "cell_type": "markdown",
   "metadata": {},
   "source": [
    "Первый критерий оценки операторов входящих вызовов это уровень сервиса. Согласно стандартам СОРС, 80% всех входящих вызовов должны быть приняты в течение 20 секунд. Вычислим этот показатель по каждому оператору."
   ]
  },
  {
   "cell_type": "markdown",
   "metadata": {},
   "source": [
    "Общее количество входящих вызовов по каждому оператору."
   ]
  },
  {
   "cell_type": "code",
   "execution_count": 227,
   "metadata": {
    "scrolled": true
   },
   "outputs": [
    {
     "data": {
      "text/html": [
       "<div>\n",
       "<style scoped>\n",
       "    .dataframe tbody tr th:only-of-type {\n",
       "        vertical-align: middle;\n",
       "    }\n",
       "\n",
       "    .dataframe tbody tr th {\n",
       "        vertical-align: top;\n",
       "    }\n",
       "\n",
       "    .dataframe thead th {\n",
       "        text-align: right;\n",
       "    }\n",
       "</style>\n",
       "<table border=\"1\" class=\"dataframe\">\n",
       "  <thead>\n",
       "    <tr style=\"text-align: right;\">\n",
       "      <th></th>\n",
       "      <th>operator_id</th>\n",
       "      <th>calls_count</th>\n",
       "    </tr>\n",
       "  </thead>\n",
       "  <tbody>\n",
       "    <tr>\n",
       "      <th>0</th>\n",
       "      <td>882476.0</td>\n",
       "      <td>3</td>\n",
       "    </tr>\n",
       "    <tr>\n",
       "      <th>1</th>\n",
       "      <td>882478.0</td>\n",
       "      <td>3</td>\n",
       "    </tr>\n",
       "    <tr>\n",
       "      <th>2</th>\n",
       "      <td>882680.0</td>\n",
       "      <td>99</td>\n",
       "    </tr>\n",
       "    <tr>\n",
       "      <th>3</th>\n",
       "      <td>884294.0</td>\n",
       "      <td>1</td>\n",
       "    </tr>\n",
       "    <tr>\n",
       "      <th>4</th>\n",
       "      <td>884408.0</td>\n",
       "      <td>32</td>\n",
       "    </tr>\n",
       "  </tbody>\n",
       "</table>\n",
       "</div>"
      ],
      "text/plain": [
       "   operator_id  calls_count\n",
       "0     882476.0            3\n",
       "1     882478.0            3\n",
       "2     882680.0           99\n",
       "3     884294.0            1\n",
       "4     884408.0           32"
      ]
     },
     "execution_count": 227,
     "metadata": {},
     "output_type": "execute_result"
    }
   ],
   "source": [
    "df1 = in_data.query('direction == \"in\"').pivot_table(index='operator_id', values='calls_count', aggfunc='sum').reset_index()\n",
    "df1.head()"
   ]
  },
  {
   "cell_type": "markdown",
   "metadata": {},
   "source": [
    "Общее количество входящих вызовов по каждому оператору, среднее ожидание которых не более 20 секунд."
   ]
  },
  {
   "cell_type": "code",
   "execution_count": 226,
   "metadata": {},
   "outputs": [
    {
     "data": {
      "text/html": [
       "<div>\n",
       "<style scoped>\n",
       "    .dataframe tbody tr th:only-of-type {\n",
       "        vertical-align: middle;\n",
       "    }\n",
       "\n",
       "    .dataframe tbody tr th {\n",
       "        vertical-align: top;\n",
       "    }\n",
       "\n",
       "    .dataframe thead th {\n",
       "        text-align: right;\n",
       "    }\n",
       "</style>\n",
       "<table border=\"1\" class=\"dataframe\">\n",
       "  <thead>\n",
       "    <tr style=\"text-align: right;\">\n",
       "      <th></th>\n",
       "      <th>operator_id</th>\n",
       "      <th>calls_count_wait_less20</th>\n",
       "    </tr>\n",
       "  </thead>\n",
       "  <tbody>\n",
       "    <tr>\n",
       "      <th>0</th>\n",
       "      <td>882476.0</td>\n",
       "      <td>2</td>\n",
       "    </tr>\n",
       "    <tr>\n",
       "      <th>1</th>\n",
       "      <td>882478.0</td>\n",
       "      <td>1</td>\n",
       "    </tr>\n",
       "    <tr>\n",
       "      <th>2</th>\n",
       "      <td>882680.0</td>\n",
       "      <td>75</td>\n",
       "    </tr>\n",
       "    <tr>\n",
       "      <th>3</th>\n",
       "      <td>884294.0</td>\n",
       "      <td>1</td>\n",
       "    </tr>\n",
       "    <tr>\n",
       "      <th>4</th>\n",
       "      <td>884408.0</td>\n",
       "      <td>5</td>\n",
       "    </tr>\n",
       "  </tbody>\n",
       "</table>\n",
       "</div>"
      ],
      "text/plain": [
       "   operator_id  calls_count_wait_less20\n",
       "0     882476.0                        2\n",
       "1     882478.0                        1\n",
       "2     882680.0                       75\n",
       "3     884294.0                        1\n",
       "4     884408.0                        5"
      ]
     },
     "execution_count": 226,
     "metadata": {},
     "output_type": "execute_result"
    }
   ],
   "source": [
    "df2 = in_data.query('direction == \"in\" and avg_waiting <= 20').pivot_table(index='operator_id', values='calls_count', aggfunc='sum').reset_index()\n",
    "df2.columns = ['operator_id', 'calls_count_wait_less20']\n",
    "df2.head()"
   ]
  },
  {
   "cell_type": "markdown",
   "metadata": {},
   "source": [
    "Соединяем полученные таблицы и вычисляем процент вызовов, которые были приняты в течение 20 секунд."
   ]
  },
  {
   "cell_type": "code",
   "execution_count": 188,
   "metadata": {
    "scrolled": true
   },
   "outputs": [
    {
     "data": {
      "text/html": [
       "<div>\n",
       "<style scoped>\n",
       "    .dataframe tbody tr th:only-of-type {\n",
       "        vertical-align: middle;\n",
       "    }\n",
       "\n",
       "    .dataframe tbody tr th {\n",
       "        vertical-align: top;\n",
       "    }\n",
       "\n",
       "    .dataframe thead th {\n",
       "        text-align: right;\n",
       "    }\n",
       "</style>\n",
       "<table border=\"1\" class=\"dataframe\">\n",
       "  <thead>\n",
       "    <tr style=\"text-align: right;\">\n",
       "      <th></th>\n",
       "      <th>operator_id</th>\n",
       "      <th>calls_count</th>\n",
       "      <th>calls_count_wait_less20</th>\n",
       "      <th>sl</th>\n",
       "    </tr>\n",
       "  </thead>\n",
       "  <tbody>\n",
       "    <tr>\n",
       "      <th>0</th>\n",
       "      <td>882476.0</td>\n",
       "      <td>3</td>\n",
       "      <td>2.0</td>\n",
       "      <td>67.0</td>\n",
       "    </tr>\n",
       "    <tr>\n",
       "      <th>1</th>\n",
       "      <td>882478.0</td>\n",
       "      <td>3</td>\n",
       "      <td>1.0</td>\n",
       "      <td>33.0</td>\n",
       "    </tr>\n",
       "    <tr>\n",
       "      <th>2</th>\n",
       "      <td>882680.0</td>\n",
       "      <td>99</td>\n",
       "      <td>75.0</td>\n",
       "      <td>76.0</td>\n",
       "    </tr>\n",
       "    <tr>\n",
       "      <th>3</th>\n",
       "      <td>884294.0</td>\n",
       "      <td>1</td>\n",
       "      <td>1.0</td>\n",
       "      <td>100.0</td>\n",
       "    </tr>\n",
       "    <tr>\n",
       "      <th>4</th>\n",
       "      <td>884408.0</td>\n",
       "      <td>32</td>\n",
       "      <td>5.0</td>\n",
       "      <td>16.0</td>\n",
       "    </tr>\n",
       "    <tr>\n",
       "      <th>...</th>\n",
       "      <td>...</td>\n",
       "      <td>...</td>\n",
       "      <td>...</td>\n",
       "      <td>...</td>\n",
       "    </tr>\n",
       "    <tr>\n",
       "      <th>369</th>\n",
       "      <td>970244.0</td>\n",
       "      <td>2</td>\n",
       "      <td>0.0</td>\n",
       "      <td>0.0</td>\n",
       "    </tr>\n",
       "    <tr>\n",
       "      <th>370</th>\n",
       "      <td>971100.0</td>\n",
       "      <td>3</td>\n",
       "      <td>3.0</td>\n",
       "      <td>100.0</td>\n",
       "    </tr>\n",
       "    <tr>\n",
       "      <th>371</th>\n",
       "      <td>971102.0</td>\n",
       "      <td>76</td>\n",
       "      <td>76.0</td>\n",
       "      <td>100.0</td>\n",
       "    </tr>\n",
       "    <tr>\n",
       "      <th>372</th>\n",
       "      <td>971354.0</td>\n",
       "      <td>6</td>\n",
       "      <td>6.0</td>\n",
       "      <td>100.0</td>\n",
       "    </tr>\n",
       "    <tr>\n",
       "      <th>373</th>\n",
       "      <td>973286.0</td>\n",
       "      <td>2</td>\n",
       "      <td>0.0</td>\n",
       "      <td>0.0</td>\n",
       "    </tr>\n",
       "  </tbody>\n",
       "</table>\n",
       "<p>374 rows × 4 columns</p>\n",
       "</div>"
      ],
      "text/plain": [
       "     operator_id  calls_count  calls_count_wait_less20     sl\n",
       "0       882476.0            3                      2.0   67.0\n",
       "1       882478.0            3                      1.0   33.0\n",
       "2       882680.0           99                     75.0   76.0\n",
       "3       884294.0            1                      1.0  100.0\n",
       "4       884408.0           32                      5.0   16.0\n",
       "..           ...          ...                      ...    ...\n",
       "369     970244.0            2                      0.0    0.0\n",
       "370     971100.0            3                      3.0  100.0\n",
       "371     971102.0           76                     76.0  100.0\n",
       "372     971354.0            6                      6.0  100.0\n",
       "373     973286.0            2                      0.0    0.0\n",
       "\n",
       "[374 rows x 4 columns]"
      ]
     },
     "execution_count": 188,
     "metadata": {},
     "output_type": "execute_result"
    }
   ],
   "source": [
    "sl_operators = pd.merge(df1, df2, how='left') \n",
    "sl_operators.fillna(0, inplace=True)\n",
    "sl_operators['sl'] =(sl_operators['calls_count_wait_less20']/sl_operators['calls_count']*100).round()\n",
    "sl_operators"
   ]
  },
  {
   "cell_type": "markdown",
   "metadata": {},
   "source": [
    "Количество операторов, у которых этот процент меньше 80."
   ]
  },
  {
   "cell_type": "code",
   "execution_count": 189,
   "metadata": {},
   "outputs": [
    {
     "data": {
      "text/plain": [
       "164"
      ]
     },
     "execution_count": 189,
     "metadata": {},
     "output_type": "execute_result"
    }
   ],
   "source": [
    "not_efficient_operators_sl = sl_operators.query('sl < 80')['operator_id']\n",
    "not_efficient_operators_sl.count()"
   ]
  },
  {
   "cell_type": "markdown",
   "metadata": {},
   "source": [
    "164 оператора не успевают принять 80% входящих вызовов в течение 20 секунд"
   ]
  },
  {
   "cell_type": "code",
   "execution_count": 190,
   "metadata": {},
   "outputs": [
    {
     "data": {
      "text/plain": [
       "0.44"
      ]
     },
     "execution_count": 190,
     "metadata": {},
     "output_type": "execute_result"
    }
   ],
   "source": [
    "(not_efficient_operators_sl.count() / in_data['operator_id'].nunique()).round(2)"
   ]
  },
  {
   "cell_type": "markdown",
   "metadata": {},
   "source": [
    "44% операторов входящих вызовов являются неэффективными по первому критерию."
   ]
  },
  {
   "cell_type": "markdown",
   "metadata": {},
   "source": [
    "#### Пропущенные звонки (AR/Abandonment Rate, Aban Rate, Lost Call Rate) <= 5% "
   ]
  },
  {
   "cell_type": "markdown",
   "metadata": {},
   "source": [
    "Следующим ключевым показателем оценки работы оператора входящих вызовов является процент пропущенных вызовов. По стандартам СОРС, он не должен превышать 5%.\n",
    "\n",
    "Выведем общее количество входящих вызовов по каждому оператору."
   ]
  },
  {
   "cell_type": "code",
   "execution_count": 199,
   "metadata": {
    "scrolled": true
   },
   "outputs": [
    {
     "data": {
      "text/html": [
       "<div>\n",
       "<style scoped>\n",
       "    .dataframe tbody tr th:only-of-type {\n",
       "        vertical-align: middle;\n",
       "    }\n",
       "\n",
       "    .dataframe tbody tr th {\n",
       "        vertical-align: top;\n",
       "    }\n",
       "\n",
       "    .dataframe thead th {\n",
       "        text-align: right;\n",
       "    }\n",
       "</style>\n",
       "<table border=\"1\" class=\"dataframe\">\n",
       "  <thead>\n",
       "    <tr style=\"text-align: right;\">\n",
       "      <th></th>\n",
       "      <th>operator_id</th>\n",
       "      <th>calls_count</th>\n",
       "    </tr>\n",
       "  </thead>\n",
       "  <tbody>\n",
       "    <tr>\n",
       "      <th>0</th>\n",
       "      <td>882476.0</td>\n",
       "      <td>3</td>\n",
       "    </tr>\n",
       "    <tr>\n",
       "      <th>1</th>\n",
       "      <td>882478.0</td>\n",
       "      <td>3</td>\n",
       "    </tr>\n",
       "    <tr>\n",
       "      <th>2</th>\n",
       "      <td>882680.0</td>\n",
       "      <td>99</td>\n",
       "    </tr>\n",
       "    <tr>\n",
       "      <th>3</th>\n",
       "      <td>884294.0</td>\n",
       "      <td>1</td>\n",
       "    </tr>\n",
       "    <tr>\n",
       "      <th>4</th>\n",
       "      <td>884408.0</td>\n",
       "      <td>32</td>\n",
       "    </tr>\n",
       "  </tbody>\n",
       "</table>\n",
       "</div>"
      ],
      "text/plain": [
       "   operator_id  calls_count\n",
       "0     882476.0            3\n",
       "1     882478.0            3\n",
       "2     882680.0           99\n",
       "3     884294.0            1\n",
       "4     884408.0           32"
      ]
     },
     "execution_count": 199,
     "metadata": {},
     "output_type": "execute_result"
    }
   ],
   "source": [
    "df1.head()"
   ]
  },
  {
   "cell_type": "markdown",
   "metadata": {},
   "source": [
    "Количество входящих пропущенных звонков по каждому оператору."
   ]
  },
  {
   "cell_type": "code",
   "execution_count": 201,
   "metadata": {},
   "outputs": [
    {
     "data": {
      "text/html": [
       "<div>\n",
       "<style scoped>\n",
       "    .dataframe tbody tr th:only-of-type {\n",
       "        vertical-align: middle;\n",
       "    }\n",
       "\n",
       "    .dataframe tbody tr th {\n",
       "        vertical-align: top;\n",
       "    }\n",
       "\n",
       "    .dataframe thead th {\n",
       "        text-align: right;\n",
       "    }\n",
       "</style>\n",
       "<table border=\"1\" class=\"dataframe\">\n",
       "  <thead>\n",
       "    <tr style=\"text-align: right;\">\n",
       "      <th></th>\n",
       "      <th>operator_id</th>\n",
       "      <th>missed_calls_count</th>\n",
       "    </tr>\n",
       "  </thead>\n",
       "  <tbody>\n",
       "    <tr>\n",
       "      <th>0</th>\n",
       "      <td>882680.0</td>\n",
       "      <td>3</td>\n",
       "    </tr>\n",
       "    <tr>\n",
       "      <th>1</th>\n",
       "      <td>884408.0</td>\n",
       "      <td>1</td>\n",
       "    </tr>\n",
       "    <tr>\n",
       "      <th>2</th>\n",
       "      <td>888406.0</td>\n",
       "      <td>1</td>\n",
       "    </tr>\n",
       "    <tr>\n",
       "      <th>3</th>\n",
       "      <td>888532.0</td>\n",
       "      <td>2</td>\n",
       "    </tr>\n",
       "    <tr>\n",
       "      <th>4</th>\n",
       "      <td>890582.0</td>\n",
       "      <td>1</td>\n",
       "    </tr>\n",
       "  </tbody>\n",
       "</table>\n",
       "</div>"
      ],
      "text/plain": [
       "   operator_id  missed_calls_count\n",
       "0     882680.0                   3\n",
       "1     884408.0                   1\n",
       "2     888406.0                   1\n",
       "3     888532.0                   2\n",
       "4     890582.0                   1"
      ]
     },
     "execution_count": 201,
     "metadata": {},
     "output_type": "execute_result"
    }
   ],
   "source": [
    "df3 = in_data.query('direction == \"in\" and is_missed_call == True').pivot_table(index='operator_id', values='calls_count', aggfunc='sum').reset_index()\n",
    "df3.columns = ['operator_id', 'missed_calls_count']\n",
    "df3.head()"
   ]
  },
  {
   "cell_type": "code",
   "execution_count": 193,
   "metadata": {},
   "outputs": [
    {
     "data": {
      "text/html": [
       "<div>\n",
       "<style scoped>\n",
       "    .dataframe tbody tr th:only-of-type {\n",
       "        vertical-align: middle;\n",
       "    }\n",
       "\n",
       "    .dataframe tbody tr th {\n",
       "        vertical-align: top;\n",
       "    }\n",
       "\n",
       "    .dataframe thead th {\n",
       "        text-align: right;\n",
       "    }\n",
       "</style>\n",
       "<table border=\"1\" class=\"dataframe\">\n",
       "  <thead>\n",
       "    <tr style=\"text-align: right;\">\n",
       "      <th></th>\n",
       "      <th>operator_id</th>\n",
       "      <th>calls_count</th>\n",
       "      <th>missed_calls_count</th>\n",
       "      <th>ar</th>\n",
       "    </tr>\n",
       "  </thead>\n",
       "  <tbody>\n",
       "    <tr>\n",
       "      <th>0</th>\n",
       "      <td>882476.0</td>\n",
       "      <td>3</td>\n",
       "      <td>0.0</td>\n",
       "      <td>0.0</td>\n",
       "    </tr>\n",
       "    <tr>\n",
       "      <th>1</th>\n",
       "      <td>882478.0</td>\n",
       "      <td>3</td>\n",
       "      <td>0.0</td>\n",
       "      <td>0.0</td>\n",
       "    </tr>\n",
       "    <tr>\n",
       "      <th>2</th>\n",
       "      <td>882680.0</td>\n",
       "      <td>99</td>\n",
       "      <td>3.0</td>\n",
       "      <td>3.0</td>\n",
       "    </tr>\n",
       "    <tr>\n",
       "      <th>3</th>\n",
       "      <td>884294.0</td>\n",
       "      <td>1</td>\n",
       "      <td>0.0</td>\n",
       "      <td>0.0</td>\n",
       "    </tr>\n",
       "    <tr>\n",
       "      <th>4</th>\n",
       "      <td>884408.0</td>\n",
       "      <td>32</td>\n",
       "      <td>1.0</td>\n",
       "      <td>3.0</td>\n",
       "    </tr>\n",
       "  </tbody>\n",
       "</table>\n",
       "</div>"
      ],
      "text/plain": [
       "   operator_id  calls_count  missed_calls_count   ar\n",
       "0     882476.0            3                 0.0  0.0\n",
       "1     882478.0            3                 0.0  0.0\n",
       "2     882680.0           99                 3.0  3.0\n",
       "3     884294.0            1                 0.0  0.0\n",
       "4     884408.0           32                 1.0  3.0"
      ]
     },
     "execution_count": 193,
     "metadata": {},
     "output_type": "execute_result"
    }
   ],
   "source": [
    "ar_operators = pd.merge(df1, df3, how='left') \n",
    "# объединяем таблицы\n",
    "ar_operators.fillna(0, inplace=True)\n",
    "ar_operators['ar'] =(ar_operators['missed_calls_count']/ar_operators['calls_count']*100).round()\n",
    "# вычисляем процент пропущенных входящих вызовов\n",
    "ar_operators.head()"
   ]
  },
  {
   "cell_type": "markdown",
   "metadata": {},
   "source": [
    "Выведем список операторов, у которых процент пропущенных вызовов больше 5."
   ]
  },
  {
   "cell_type": "code",
   "execution_count": 202,
   "metadata": {
    "scrolled": true
   },
   "outputs": [
    {
     "data": {
      "text/plain": [
       "23"
      ]
     },
     "execution_count": 202,
     "metadata": {},
     "output_type": "execute_result"
    }
   ],
   "source": [
    "not_efficient_operators_ar = ar_operators.query('ar > 5')['operator_id']\n",
    "not_efficient_operators_ar.count()"
   ]
  },
  {
   "cell_type": "markdown",
   "metadata": {},
   "source": [
    "Посчитаем процент таких операторов."
   ]
  },
  {
   "cell_type": "code",
   "execution_count": 196,
   "metadata": {},
   "outputs": [
    {
     "data": {
      "text/plain": [
       "0.06"
      ]
     },
     "execution_count": 196,
     "metadata": {},
     "output_type": "execute_result"
    }
   ],
   "source": [
    "round(not_efficient_operators_ar.count() / in_data['operator_id'].nunique(), 2)"
   ]
  },
  {
   "cell_type": "markdown",
   "metadata": {},
   "source": [
    "Всего 6% операторов исходящих вызовов не удовлетворяют второму критерию."
   ]
  },
  {
   "cell_type": "markdown",
   "metadata": {},
   "source": [
    "#### Доля переведенных вызовов"
   ]
  },
  {
   "cell_type": "markdown",
   "metadata": {},
   "source": [
    "Дополнительным критерием оценки работы операторов входящих вызовов хотим рассмотреть процент звонков, переведенных на другого оператора. Это означает, что оператор не смог самостоятельно решить вопрос абонента. Составим соответствующую таблицу."
   ]
  },
  {
   "cell_type": "markdown",
   "metadata": {},
   "source": [
    "Выделим все непропущенные звонки по каждому оператору."
   ]
  },
  {
   "cell_type": "code",
   "execution_count": 229,
   "metadata": {
    "scrolled": true
   },
   "outputs": [
    {
     "data": {
      "text/html": [
       "<div>\n",
       "<style scoped>\n",
       "    .dataframe tbody tr th:only-of-type {\n",
       "        vertical-align: middle;\n",
       "    }\n",
       "\n",
       "    .dataframe tbody tr th {\n",
       "        vertical-align: top;\n",
       "    }\n",
       "\n",
       "    .dataframe thead th {\n",
       "        text-align: right;\n",
       "    }\n",
       "</style>\n",
       "<table border=\"1\" class=\"dataframe\">\n",
       "  <thead>\n",
       "    <tr style=\"text-align: right;\">\n",
       "      <th></th>\n",
       "      <th>operator_id</th>\n",
       "      <th>calls_count</th>\n",
       "    </tr>\n",
       "  </thead>\n",
       "  <tbody>\n",
       "    <tr>\n",
       "      <th>0</th>\n",
       "      <td>879896.0</td>\n",
       "      <td>679</td>\n",
       "    </tr>\n",
       "    <tr>\n",
       "      <th>1</th>\n",
       "      <td>879898.0</td>\n",
       "      <td>4952</td>\n",
       "    </tr>\n",
       "    <tr>\n",
       "      <th>2</th>\n",
       "      <td>880020.0</td>\n",
       "      <td>23</td>\n",
       "    </tr>\n",
       "    <tr>\n",
       "      <th>3</th>\n",
       "      <td>880022.0</td>\n",
       "      <td>92</td>\n",
       "    </tr>\n",
       "    <tr>\n",
       "      <th>4</th>\n",
       "      <td>880026.0</td>\n",
       "      <td>1584</td>\n",
       "    </tr>\n",
       "  </tbody>\n",
       "</table>\n",
       "</div>"
      ],
      "text/plain": [
       "   operator_id  calls_count\n",
       "0     879896.0          679\n",
       "1     879898.0         4952\n",
       "2     880020.0           23\n",
       "3     880022.0           92\n",
       "4     880026.0         1584"
      ]
     },
     "execution_count": 229,
     "metadata": {},
     "output_type": "execute_result"
    }
   ],
   "source": [
    "redirect_operators1 = data.query('is_missed_call == False').pivot_table(index='operator_id', values='calls_count', aggfunc='sum').reset_index()\n",
    "redirect_operators1.head()"
   ]
  },
  {
   "cell_type": "markdown",
   "metadata": {},
   "source": [
    "Все переадресованные звонки (внутренние + исходящие)."
   ]
  },
  {
   "cell_type": "code",
   "execution_count": 230,
   "metadata": {
    "scrolled": true
   },
   "outputs": [
    {
     "data": {
      "text/html": [
       "<div>\n",
       "<style scoped>\n",
       "    .dataframe tbody tr th:only-of-type {\n",
       "        vertical-align: middle;\n",
       "    }\n",
       "\n",
       "    .dataframe tbody tr th {\n",
       "        vertical-align: top;\n",
       "    }\n",
       "\n",
       "    .dataframe thead th {\n",
       "        text-align: right;\n",
       "    }\n",
       "</style>\n",
       "<table border=\"1\" class=\"dataframe\">\n",
       "  <thead>\n",
       "    <tr style=\"text-align: right;\">\n",
       "      <th></th>\n",
       "      <th>operator_id</th>\n",
       "      <th>redirect_calls_count</th>\n",
       "    </tr>\n",
       "  </thead>\n",
       "  <tbody>\n",
       "    <tr>\n",
       "      <th>0</th>\n",
       "      <td>879896.0</td>\n",
       "      <td>56</td>\n",
       "    </tr>\n",
       "    <tr>\n",
       "      <th>1</th>\n",
       "      <td>879898.0</td>\n",
       "      <td>18</td>\n",
       "    </tr>\n",
       "    <tr>\n",
       "      <th>2</th>\n",
       "      <td>880020.0</td>\n",
       "      <td>4</td>\n",
       "    </tr>\n",
       "    <tr>\n",
       "      <th>3</th>\n",
       "      <td>880022.0</td>\n",
       "      <td>15</td>\n",
       "    </tr>\n",
       "    <tr>\n",
       "      <th>4</th>\n",
       "      <td>880026.0</td>\n",
       "      <td>20</td>\n",
       "    </tr>\n",
       "  </tbody>\n",
       "</table>\n",
       "</div>"
      ],
      "text/plain": [
       "   operator_id  redirect_calls_count\n",
       "0     879896.0                    56\n",
       "1     879898.0                    18\n",
       "2     880020.0                     4\n",
       "3     880022.0                    15\n",
       "4     880026.0                    20"
      ]
     },
     "execution_count": 230,
     "metadata": {},
     "output_type": "execute_result"
    }
   ],
   "source": [
    "redirect_operators2 = data.query('internal == True and direction == \"out\"').pivot_table(index='operator_id', values='calls_count', aggfunc='sum').reset_index()\n",
    "redirect_operators2.columns = ['operator_id', 'redirect_calls_count']\n",
    "redirect_operators2.head()"
   ]
  },
  {
   "cell_type": "markdown",
   "metadata": {},
   "source": [
    "Добавим столбец с долей переадресованных звонков."
   ]
  },
  {
   "cell_type": "code",
   "execution_count": 54,
   "metadata": {
    "scrolled": true
   },
   "outputs": [
    {
     "data": {
      "text/html": [
       "<div>\n",
       "<style scoped>\n",
       "    .dataframe tbody tr th:only-of-type {\n",
       "        vertical-align: middle;\n",
       "    }\n",
       "\n",
       "    .dataframe tbody tr th {\n",
       "        vertical-align: top;\n",
       "    }\n",
       "\n",
       "    .dataframe thead th {\n",
       "        text-align: right;\n",
       "    }\n",
       "</style>\n",
       "<table border=\"1\" class=\"dataframe\">\n",
       "  <thead>\n",
       "    <tr style=\"text-align: right;\">\n",
       "      <th></th>\n",
       "      <th>operator_id</th>\n",
       "      <th>calls_count</th>\n",
       "      <th>redirect_calls_count</th>\n",
       "      <th>part_redirect_calls</th>\n",
       "    </tr>\n",
       "  </thead>\n",
       "  <tbody>\n",
       "    <tr>\n",
       "      <th>1056</th>\n",
       "      <td>973286.0</td>\n",
       "      <td>2</td>\n",
       "      <td>0.0</td>\n",
       "      <td>0.0</td>\n",
       "    </tr>\n",
       "    <tr>\n",
       "      <th>488</th>\n",
       "      <td>921574.0</td>\n",
       "      <td>835</td>\n",
       "      <td>0.0</td>\n",
       "      <td>0.0</td>\n",
       "    </tr>\n",
       "    <tr>\n",
       "      <th>489</th>\n",
       "      <td>921584.0</td>\n",
       "      <td>508</td>\n",
       "      <td>0.0</td>\n",
       "      <td>0.0</td>\n",
       "    </tr>\n",
       "    <tr>\n",
       "      <th>490</th>\n",
       "      <td>921592.0</td>\n",
       "      <td>980</td>\n",
       "      <td>0.0</td>\n",
       "      <td>0.0</td>\n",
       "    </tr>\n",
       "    <tr>\n",
       "      <th>491</th>\n",
       "      <td>921594.0</td>\n",
       "      <td>581</td>\n",
       "      <td>0.0</td>\n",
       "      <td>0.0</td>\n",
       "    </tr>\n",
       "    <tr>\n",
       "      <th>...</th>\n",
       "      <td>...</td>\n",
       "      <td>...</td>\n",
       "      <td>...</td>\n",
       "      <td>...</td>\n",
       "    </tr>\n",
       "    <tr>\n",
       "      <th>948</th>\n",
       "      <td>954380.0</td>\n",
       "      <td>1</td>\n",
       "      <td>4.0</td>\n",
       "      <td>400.0</td>\n",
       "    </tr>\n",
       "    <tr>\n",
       "      <th>855</th>\n",
       "      <td>947480.0</td>\n",
       "      <td>1</td>\n",
       "      <td>4.0</td>\n",
       "      <td>400.0</td>\n",
       "    </tr>\n",
       "    <tr>\n",
       "      <th>636</th>\n",
       "      <td>934476.0</td>\n",
       "      <td>2</td>\n",
       "      <td>10.0</td>\n",
       "      <td>500.0</td>\n",
       "    </tr>\n",
       "    <tr>\n",
       "      <th>238</th>\n",
       "      <td>904344.0</td>\n",
       "      <td>1</td>\n",
       "      <td>5.0</td>\n",
       "      <td>500.0</td>\n",
       "    </tr>\n",
       "    <tr>\n",
       "      <th>1038</th>\n",
       "      <td>969380.0</td>\n",
       "      <td>1</td>\n",
       "      <td>7.0</td>\n",
       "      <td>700.0</td>\n",
       "    </tr>\n",
       "  </tbody>\n",
       "</table>\n",
       "<p>1057 rows × 4 columns</p>\n",
       "</div>"
      ],
      "text/plain": [
       "      operator_id  calls_count  redirect_calls_count  part_redirect_calls\n",
       "1056     973286.0            2                   0.0                  0.0\n",
       "488      921574.0          835                   0.0                  0.0\n",
       "489      921584.0          508                   0.0                  0.0\n",
       "490      921592.0          980                   0.0                  0.0\n",
       "491      921594.0          581                   0.0                  0.0\n",
       "...           ...          ...                   ...                  ...\n",
       "948      954380.0            1                   4.0                400.0\n",
       "855      947480.0            1                   4.0                400.0\n",
       "636      934476.0            2                  10.0                500.0\n",
       "238      904344.0            1                   5.0                500.0\n",
       "1038     969380.0            1                   7.0                700.0\n",
       "\n",
       "[1057 rows x 4 columns]"
      ]
     },
     "execution_count": 54,
     "metadata": {},
     "output_type": "execute_result"
    }
   ],
   "source": [
    "redirect_operators = pd.merge(redirect_operators1, redirect_operators2, how='left') # соединяем таблицы\n",
    "redirect_operators.fillna(0, inplace=True)\n",
    "redirect_operators['part_redirect_calls'] =(redirect_operators['redirect_calls_count']/redirect_operators['calls_count']*100).round(1)\n",
    "redirect_operators = redirect_operators.sort_values(by='part_redirect_calls')\n",
    "redirect_operators"
   ]
  },
  {
   "cell_type": "markdown",
   "metadata": {},
   "source": [
    "Видим, что есть операторы с процентом переадресованных звонков больше 100... сколько их?"
   ]
  },
  {
   "cell_type": "code",
   "execution_count": 55,
   "metadata": {},
   "outputs": [
    {
     "data": {
      "text/plain": [
       "55"
      ]
     },
     "execution_count": 55,
     "metadata": {},
     "output_type": "execute_result"
    }
   ],
   "source": [
    "redirect_operators.query('part_redirect_calls > 100').shape[0]"
   ]
  },
  {
   "cell_type": "markdown",
   "metadata": {},
   "source": [
    "Целых 55 операторов с нереальным процентом переведенных вызовов. Такого, конечно, быть не может. С чем это может быть связано? Посмотрим на количество внутренних вызовов входящих и исходящих:"
   ]
  },
  {
   "cell_type": "code",
   "execution_count": 56,
   "metadata": {},
   "outputs": [
    {
     "data": {
      "text/html": [
       "<div>\n",
       "<style scoped>\n",
       "    .dataframe tbody tr th:only-of-type {\n",
       "        vertical-align: middle;\n",
       "    }\n",
       "\n",
       "    .dataframe tbody tr th {\n",
       "        vertical-align: top;\n",
       "    }\n",
       "\n",
       "    .dataframe thead th {\n",
       "        text-align: right;\n",
       "    }\n",
       "</style>\n",
       "<table border=\"1\" class=\"dataframe\">\n",
       "  <thead>\n",
       "    <tr style=\"text-align: right;\">\n",
       "      <th></th>\n",
       "      <th>calls_count</th>\n",
       "    </tr>\n",
       "    <tr>\n",
       "      <th>direction</th>\n",
       "      <th></th>\n",
       "    </tr>\n",
       "  </thead>\n",
       "  <tbody>\n",
       "    <tr>\n",
       "      <th>in</th>\n",
       "      <td>675</td>\n",
       "    </tr>\n",
       "    <tr>\n",
       "      <th>out</th>\n",
       "      <td>12876</td>\n",
       "    </tr>\n",
       "  </tbody>\n",
       "</table>\n",
       "</div>"
      ],
      "text/plain": [
       "           calls_count\n",
       "direction             \n",
       "in                 675\n",
       "out              12876"
      ]
     },
     "execution_count": 56,
     "metadata": {},
     "output_type": "execute_result"
    }
   ],
   "source": [
    "data.query('internal == True').pivot_table(index='direction', values='calls_count', aggfunc='sum')"
   ]
  },
  {
   "cell_type": "markdown",
   "metadata": {},
   "source": [
    "Исходящих внутренних вызовов между операторами в несколько раз больше, чем входящих. По идее, их количество должно быть равным. Значит, на такой критерий опираться нельзя. Возможно, это возникло из-за неполноты данных, необходимо передать информацию об этих аномалиях программистам. Возможно, стоит добавить еще одну характеристику звонку -- был ли он переадресован на другого оператора.\n",
    "Предлагаю выявлять неэффективных операторов входящих вызовов на основании первых двух критериев. Оператор признается неэффективным, если не соответствует хотя бы одному из двух критериев оценки."
   ]
  },
  {
   "cell_type": "markdown",
   "metadata": {},
   "source": [
    "Объединяем списки неэффективных операторов по обоим критериям."
   ]
  },
  {
   "cell_type": "code",
   "execution_count": 203,
   "metadata": {
    "scrolled": true
   },
   "outputs": [
    {
     "data": {
      "text/plain": [
       "171"
      ]
     },
     "execution_count": 203,
     "metadata": {},
     "output_type": "execute_result"
    }
   ],
   "source": [
    "not_efficient_operators_in = set(not_efficient_operators_sl) | set(not_efficient_operators_ar)\n",
    "len(not_efficient_operators_in)"
   ]
  },
  {
   "cell_type": "markdown",
   "metadata": {},
   "source": [
    "Посчитаем процент неэффективных операторов."
   ]
  },
  {
   "cell_type": "code",
   "execution_count": 204,
   "metadata": {},
   "outputs": [
    {
     "data": {
      "text/plain": [
       "0.4572192513368984"
      ]
     },
     "execution_count": 204,
     "metadata": {},
     "output_type": "execute_result"
    }
   ],
   "source": [
    "len(not_efficient_operators_in) / in_data['operator_id'].nunique() "
   ]
  },
  {
   "cell_type": "markdown",
   "metadata": {},
   "source": [
    "Самыми неэффективными назовем операторов, которые не попадают под оба критерия эффективности."
   ]
  },
  {
   "cell_type": "code",
   "execution_count": 75,
   "metadata": {},
   "outputs": [
    {
     "data": {
      "text/plain": [
       "16"
      ]
     },
     "execution_count": 75,
     "metadata": {},
     "output_type": "execute_result"
    }
   ],
   "source": [
    "most_not_efficient_operators_in = set(not_efficient_operators_sl) & set(not_efficient_operators_ar)\n",
    "len(most_not_efficient_operators_in)"
   ]
  },
  {
   "cell_type": "markdown",
   "metadata": {},
   "source": [
    "Выведем список неэффективных операторов."
   ]
  },
  {
   "cell_type": "code",
   "execution_count": 205,
   "metadata": {
    "scrolled": true
   },
   "outputs": [
    {
     "data": {
      "text/plain": [
       "{882476.0,\n",
       " 882478.0,\n",
       " 882680.0,\n",
       " 884408.0,\n",
       " 886892.0,\n",
       " 887278.0,\n",
       " 888406.0,\n",
       " 888532.0,\n",
       " 888536.0,\n",
       " 888540.0,\n",
       " 891254.0,\n",
       " 891646.0,\n",
       " 891900.0,\n",
       " 891906.0,\n",
       " 891918.0,\n",
       " 892530.0,\n",
       " 892534.0,\n",
       " 892536.0,\n",
       " 893172.0,\n",
       " 893402.0,\n",
       " 893420.0,\n",
       " 894120.0,\n",
       " 894614.0,\n",
       " 895140.0,\n",
       " 895782.0,\n",
       " 895786.0,\n",
       " 896010.0,\n",
       " 896018.0,\n",
       " 896536.0,\n",
       " 896538.0,\n",
       " 898558.0,\n",
       " 898560.0,\n",
       " 899268.0,\n",
       " 899892.0,\n",
       " 899898.0,\n",
       " 899900.0,\n",
       " 900194.0,\n",
       " 901350.0,\n",
       " 901492.0,\n",
       " 901498.0,\n",
       " 901894.0,\n",
       " 902910.0,\n",
       " 903390.0,\n",
       " 903512.0,\n",
       " 904044.0,\n",
       " 904372.0,\n",
       " 905300.0,\n",
       " 905472.0,\n",
       " 905478.0,\n",
       " 905862.0,\n",
       " 906070.0,\n",
       " 906076.0,\n",
       " 906396.0,\n",
       " 906398.0,\n",
       " 906408.0,\n",
       " 906410.0,\n",
       " 906680.0,\n",
       " 907502.0,\n",
       " 907504.0,\n",
       " 907618.0,\n",
       " 907952.0,\n",
       " 907982.0,\n",
       " 908098.0,\n",
       " 908130.0,\n",
       " 908152.0,\n",
       " 908162.0,\n",
       " 908300.0,\n",
       " 908834.0,\n",
       " 908958.0,\n",
       " 908960.0,\n",
       " 909134.0,\n",
       " 909392.0,\n",
       " 909624.0,\n",
       " 909768.0,\n",
       " 910018.0,\n",
       " 910516.0,\n",
       " 910540.0,\n",
       " 910958.0,\n",
       " 911102.0,\n",
       " 911136.0,\n",
       " 911138.0,\n",
       " 911140.0,\n",
       " 911142.0,\n",
       " 911152.0,\n",
       " 912010.0,\n",
       " 912684.0,\n",
       " 914256.0,\n",
       " 914440.0,\n",
       " 914842.0,\n",
       " 918888.0,\n",
       " 919214.0,\n",
       " 919552.0,\n",
       " 919554.0,\n",
       " 919790.0,\n",
       " 919792.0,\n",
       " 919794.0,\n",
       " 919994.0,\n",
       " 920726.0,\n",
       " 920874.0,\n",
       " 920902.0,\n",
       " 920930.0,\n",
       " 920982.0,\n",
       " 921102.0,\n",
       " 921104.0,\n",
       " 921814.0,\n",
       " 922356.0,\n",
       " 924928.0,\n",
       " 924936.0,\n",
       " 925106.0,\n",
       " 926872.0,\n",
       " 927070.0,\n",
       " 927912.0,\n",
       " 928092.0,\n",
       " 929340.0,\n",
       " 929884.0,\n",
       " 930242.0,\n",
       " 930814.0,\n",
       " 932460.0,\n",
       " 933832.0,\n",
       " 933986.0,\n",
       " 934076.0,\n",
       " 934098.0,\n",
       " 934188.0,\n",
       " 934424.0,\n",
       " 934428.0,\n",
       " 934430.0,\n",
       " 934432.0,\n",
       " 934534.0,\n",
       " 935956.0,\n",
       " 935958.0,\n",
       " 936514.0,\n",
       " 937362.0,\n",
       " 937366.0,\n",
       " 937368.0,\n",
       " 937374.0,\n",
       " 937432.0,\n",
       " 937742.0,\n",
       " 938414.0,\n",
       " 938432.0,\n",
       " 940508.0,\n",
       " 940968.0,\n",
       " 944210.0,\n",
       " 944216.0,\n",
       " 944218.0,\n",
       " 944220.0,\n",
       " 944226.0,\n",
       " 944228.0,\n",
       " 944246.0,\n",
       " 945046.0,\n",
       " 946468.0,\n",
       " 948284.0,\n",
       " 951118.0,\n",
       " 951332.0,\n",
       " 951506.0,\n",
       " 951508.0,\n",
       " 951526.0,\n",
       " 952292.0,\n",
       " 952462.0,\n",
       " 952678.0,\n",
       " 954290.0,\n",
       " 954750.0,\n",
       " 955436.0,\n",
       " 956080.0,\n",
       " 956484.0,\n",
       " 958460.0,\n",
       " 962168.0,\n",
       " 964518.0,\n",
       " 969288.0,\n",
       " 969380.0,\n",
       " 970244.0,\n",
       " 973286.0}"
      ]
     },
     "execution_count": 205,
     "metadata": {},
     "output_type": "execute_result"
    }
   ],
   "source": [
    "not_efficient_operators_in"
   ]
  },
  {
   "cell_type": "markdown",
   "metadata": {},
   "source": [
    "Посчитаем процент самых неэффективных операторов."
   ]
  },
  {
   "cell_type": "code",
   "execution_count": 206,
   "metadata": {},
   "outputs": [
    {
     "data": {
      "text/plain": [
       "0.0427807486631016"
      ]
     },
     "execution_count": 206,
     "metadata": {},
     "output_type": "execute_result"
    }
   ],
   "source": [
    "len(most_not_efficient_operators_in) / in_data['operator_id'].nunique()"
   ]
  },
  {
   "cell_type": "markdown",
   "metadata": {},
   "source": [
    "Выведем список колл-центров, в которых работают неэффективные операторы."
   ]
  },
  {
   "cell_type": "code",
   "execution_count": 207,
   "metadata": {
    "scrolled": false
   },
   "outputs": [
    {
     "data": {
      "text/plain": [
       "array([166391, 166392, 166407, 166428, 166482, 166485, 166503, 166536,\n",
       "       166541, 166548, 166604, 166658, 166660, 166669, 166697, 166711,\n",
       "       166713, 166726, 166732, 166782, 166800, 166803, 166836, 166837,\n",
       "       166839, 166843, 166879, 166901, 166908, 166916, 166939, 166955,\n",
       "       166975, 166983, 167003, 167031, 167052, 167059, 167078, 167082,\n",
       "       167102, 167150, 167158, 167162, 167176, 167188, 167189, 167200,\n",
       "       167264, 167272, 167286, 167402, 167412, 167436, 167445, 167456,\n",
       "       167466, 167475, 167487, 167497, 167521, 167534, 167551, 167575,\n",
       "       167580, 167621, 167664, 167715, 167742, 167792, 167819, 167930,\n",
       "       167949, 167976, 167977, 167994, 167995, 168004, 168041, 168062,\n",
       "       168073, 168090, 168091, 168105, 168110, 168121, 168155, 168187,\n",
       "       168221, 168225, 168252, 168307, 168336, 168366, 168412, 168579],\n",
       "      dtype=int64)"
      ]
     },
     "execution_count": 207,
     "metadata": {},
     "output_type": "execute_result"
    }
   ],
   "source": [
    "not_efficient_users_in = data.query('operator_id in @not_efficient_operators_in')['user_id'].unique()\n",
    "not_efficient_users_in"
   ]
  },
  {
   "cell_type": "markdown",
   "metadata": {},
   "source": [
    "Список колл-центров, в которых работают самые неэффективные операторы."
   ]
  },
  {
   "cell_type": "code",
   "execution_count": 79,
   "metadata": {
    "scrolled": true
   },
   "outputs": [
    {
     "data": {
      "text/plain": [
       "array([166407, 166482, 166669, 166782, 166837, 166879, 166975, 167059,\n",
       "       167162, 167497, 167977, 168004], dtype=int64)"
      ]
     },
     "execution_count": 79,
     "metadata": {},
     "output_type": "execute_result"
    }
   ],
   "source": [
    "most_not_efficient_users_in = data.query('operator_id in @most_not_efficient_operators_in')['user_id'].unique()\n",
    "most_not_efficient_users_in"
   ]
  },
  {
   "cell_type": "code",
   "execution_count": 80,
   "metadata": {},
   "outputs": [
    {
     "data": {
      "text/plain": [
       "96"
      ]
     },
     "execution_count": 80,
     "metadata": {},
     "output_type": "execute_result"
    }
   ],
   "source": [
    "len(not_efficient_users_in)"
   ]
  },
  {
   "cell_type": "code",
   "execution_count": 81,
   "metadata": {},
   "outputs": [
    {
     "data": {
      "text/plain": [
       "12"
      ]
     },
     "execution_count": 81,
     "metadata": {},
     "output_type": "execute_result"
    }
   ],
   "source": [
    "len(most_not_efficient_users_in)"
   ]
  },
  {
   "cell_type": "markdown",
   "metadata": {},
   "source": [
    "Итак, \n",
    "- 171 неэффективных операторов (почти 46%) работают в 96 колл-центрах.\n",
    "\n",
    "Дополнительно: \n",
    "- 16 самых неэффективных (4%) операторов работают в 12 колл-центрах."
   ]
  },
  {
   "cell_type": "markdown",
   "metadata": {},
   "source": [
    "### Операторы исходящих вызовов"
   ]
  },
  {
   "cell_type": "markdown",
   "metadata": {},
   "source": [
    "Назовем исходящие разговоры успешными от 30 секунд. Пусть оператор считается эффективным, если хотя бы половина его звонков являются успешными."
   ]
  },
  {
   "cell_type": "markdown",
   "metadata": {},
   "source": [
    "Выделяем \"исходящих\" операторов (только внешние вызовы)."
   ]
  },
  {
   "cell_type": "code",
   "execution_count": 209,
   "metadata": {
    "scrolled": true
   },
   "outputs": [
    {
     "data": {
      "text/html": [
       "<div>\n",
       "<style scoped>\n",
       "    .dataframe tbody tr th:only-of-type {\n",
       "        vertical-align: middle;\n",
       "    }\n",
       "\n",
       "    .dataframe tbody tr th {\n",
       "        vertical-align: top;\n",
       "    }\n",
       "\n",
       "    .dataframe thead th {\n",
       "        text-align: right;\n",
       "    }\n",
       "</style>\n",
       "<table border=\"1\" class=\"dataframe\">\n",
       "  <thead>\n",
       "    <tr style=\"text-align: right;\">\n",
       "      <th></th>\n",
       "      <th>user_id</th>\n",
       "      <th>date</th>\n",
       "      <th>direction</th>\n",
       "      <th>internal</th>\n",
       "      <th>operator_id</th>\n",
       "      <th>is_missed_call</th>\n",
       "      <th>calls_count</th>\n",
       "      <th>call_duration</th>\n",
       "      <th>total_call_duration</th>\n",
       "      <th>avg_call_duration</th>\n",
       "      <th>avg_waiting</th>\n",
       "      <th>type_x</th>\n",
       "      <th>type_y</th>\n",
       "      <th>type</th>\n",
       "    </tr>\n",
       "  </thead>\n",
       "  <tbody>\n",
       "    <tr>\n",
       "      <th>1</th>\n",
       "      <td>166377</td>\n",
       "      <td>2019-08-05</td>\n",
       "      <td>out</td>\n",
       "      <td>False</td>\n",
       "      <td>880022.0</td>\n",
       "      <td>True</td>\n",
       "      <td>3</td>\n",
       "      <td>0</td>\n",
       "      <td>25</td>\n",
       "      <td>0.000000</td>\n",
       "      <td>8.3</td>\n",
       "      <td>out</td>\n",
       "      <td>out</td>\n",
       "      <td>out</td>\n",
       "    </tr>\n",
       "    <tr>\n",
       "      <th>2</th>\n",
       "      <td>166377</td>\n",
       "      <td>2019-08-08</td>\n",
       "      <td>out</td>\n",
       "      <td>False</td>\n",
       "      <td>880022.0</td>\n",
       "      <td>False</td>\n",
       "      <td>2</td>\n",
       "      <td>558</td>\n",
       "      <td>568</td>\n",
       "      <td>279.000000</td>\n",
       "      <td>5.0</td>\n",
       "      <td>out</td>\n",
       "      <td>out</td>\n",
       "      <td>out</td>\n",
       "    </tr>\n",
       "    <tr>\n",
       "      <th>3</th>\n",
       "      <td>166377</td>\n",
       "      <td>2019-08-08</td>\n",
       "      <td>out</td>\n",
       "      <td>False</td>\n",
       "      <td>880022.0</td>\n",
       "      <td>True</td>\n",
       "      <td>4</td>\n",
       "      <td>0</td>\n",
       "      <td>28</td>\n",
       "      <td>0.000000</td>\n",
       "      <td>7.0</td>\n",
       "      <td>out</td>\n",
       "      <td>out</td>\n",
       "      <td>out</td>\n",
       "    </tr>\n",
       "    <tr>\n",
       "      <th>4</th>\n",
       "      <td>166377</td>\n",
       "      <td>2019-08-09</td>\n",
       "      <td>out</td>\n",
       "      <td>False</td>\n",
       "      <td>880022.0</td>\n",
       "      <td>True</td>\n",
       "      <td>2</td>\n",
       "      <td>0</td>\n",
       "      <td>10</td>\n",
       "      <td>0.000000</td>\n",
       "      <td>5.0</td>\n",
       "      <td>out</td>\n",
       "      <td>out</td>\n",
       "      <td>out</td>\n",
       "    </tr>\n",
       "    <tr>\n",
       "      <th>6</th>\n",
       "      <td>166377</td>\n",
       "      <td>2019-08-26</td>\n",
       "      <td>out</td>\n",
       "      <td>False</td>\n",
       "      <td>880022.0</td>\n",
       "      <td>False</td>\n",
       "      <td>3</td>\n",
       "      <td>1079</td>\n",
       "      <td>1093</td>\n",
       "      <td>359.666667</td>\n",
       "      <td>4.7</td>\n",
       "      <td>out</td>\n",
       "      <td>out</td>\n",
       "      <td>out</td>\n",
       "    </tr>\n",
       "  </tbody>\n",
       "</table>\n",
       "</div>"
      ],
      "text/plain": [
       "   user_id       date direction  internal operator_id  is_missed_call  \\\n",
       "1   166377 2019-08-05       out     False    880022.0            True   \n",
       "2   166377 2019-08-08       out     False    880022.0           False   \n",
       "3   166377 2019-08-08       out     False    880022.0            True   \n",
       "4   166377 2019-08-09       out     False    880022.0            True   \n",
       "6   166377 2019-08-26       out     False    880022.0           False   \n",
       "\n",
       "   calls_count  call_duration  total_call_duration  avg_call_duration  \\\n",
       "1            3              0                   25           0.000000   \n",
       "2            2            558                  568         279.000000   \n",
       "3            4              0                   28           0.000000   \n",
       "4            2              0                   10           0.000000   \n",
       "6            3           1079                 1093         359.666667   \n",
       "\n",
       "   avg_waiting type_x type_y type  \n",
       "1          8.3    out    out  out  \n",
       "2          5.0    out    out  out  \n",
       "3          7.0    out    out  out  \n",
       "4          5.0    out    out  out  \n",
       "6          4.7    out    out  out  "
      ]
     },
     "execution_count": 209,
     "metadata": {},
     "output_type": "execute_result"
    }
   ],
   "source": [
    "out_data = data.query('type == \"out\" and internal == False')\n",
    "out_data.head()"
   ]
  },
  {
   "cell_type": "markdown",
   "metadata": {},
   "source": [
    "Общее количество исходящих звонков по каждому оператору."
   ]
  },
  {
   "cell_type": "code",
   "execution_count": 212,
   "metadata": {
    "scrolled": true
   },
   "outputs": [
    {
     "data": {
      "text/html": [
       "<div>\n",
       "<style scoped>\n",
       "    .dataframe tbody tr th:only-of-type {\n",
       "        vertical-align: middle;\n",
       "    }\n",
       "\n",
       "    .dataframe tbody tr th {\n",
       "        vertical-align: top;\n",
       "    }\n",
       "\n",
       "    .dataframe thead th {\n",
       "        text-align: right;\n",
       "    }\n",
       "</style>\n",
       "<table border=\"1\" class=\"dataframe\">\n",
       "  <thead>\n",
       "    <tr style=\"text-align: right;\">\n",
       "      <th></th>\n",
       "      <th>operator_id</th>\n",
       "      <th>calls_count</th>\n",
       "    </tr>\n",
       "  </thead>\n",
       "  <tbody>\n",
       "    <tr>\n",
       "      <th>0</th>\n",
       "      <td>879896.0</td>\n",
       "      <td>874</td>\n",
       "    </tr>\n",
       "    <tr>\n",
       "      <th>1</th>\n",
       "      <td>879898.0</td>\n",
       "      <td>7294</td>\n",
       "    </tr>\n",
       "    <tr>\n",
       "      <th>2</th>\n",
       "      <td>880020.0</td>\n",
       "      <td>41</td>\n",
       "    </tr>\n",
       "    <tr>\n",
       "      <th>3</th>\n",
       "      <td>880022.0</td>\n",
       "      <td>182</td>\n",
       "    </tr>\n",
       "    <tr>\n",
       "      <th>4</th>\n",
       "      <td>880026.0</td>\n",
       "      <td>2212</td>\n",
       "    </tr>\n",
       "  </tbody>\n",
       "</table>\n",
       "</div>"
      ],
      "text/plain": [
       "   operator_id  calls_count\n",
       "0     879896.0          874\n",
       "1     879898.0         7294\n",
       "2     880020.0           41\n",
       "3     880022.0          182\n",
       "4     880026.0         2212"
      ]
     },
     "execution_count": 212,
     "metadata": {},
     "output_type": "execute_result"
    }
   ],
   "source": [
    "df4 = out_data.pivot_table(index='operator_id', values='calls_count', aggfunc='sum').reset_index()\n",
    "df4.head()"
   ]
  },
  {
   "cell_type": "markdown",
   "metadata": {},
   "source": [
    "Общее количество звонков длительностью от 30 секунд по каждому оператору."
   ]
  },
  {
   "cell_type": "code",
   "execution_count": 213,
   "metadata": {},
   "outputs": [
    {
     "data": {
      "text/html": [
       "<div>\n",
       "<style scoped>\n",
       "    .dataframe tbody tr th:only-of-type {\n",
       "        vertical-align: middle;\n",
       "    }\n",
       "\n",
       "    .dataframe tbody tr th {\n",
       "        vertical-align: top;\n",
       "    }\n",
       "\n",
       "    .dataframe thead th {\n",
       "        text-align: right;\n",
       "    }\n",
       "</style>\n",
       "<table border=\"1\" class=\"dataframe\">\n",
       "  <thead>\n",
       "    <tr style=\"text-align: right;\">\n",
       "      <th></th>\n",
       "      <th>operator_id</th>\n",
       "      <th>more30_calls_count</th>\n",
       "    </tr>\n",
       "  </thead>\n",
       "  <tbody>\n",
       "    <tr>\n",
       "      <th>0</th>\n",
       "      <td>879896.0</td>\n",
       "      <td>634</td>\n",
       "    </tr>\n",
       "    <tr>\n",
       "      <th>1</th>\n",
       "      <td>879898.0</td>\n",
       "      <td>4894</td>\n",
       "    </tr>\n",
       "    <tr>\n",
       "      <th>2</th>\n",
       "      <td>880020.0</td>\n",
       "      <td>19</td>\n",
       "    </tr>\n",
       "    <tr>\n",
       "      <th>3</th>\n",
       "      <td>880022.0</td>\n",
       "      <td>86</td>\n",
       "    </tr>\n",
       "    <tr>\n",
       "      <th>4</th>\n",
       "      <td>880026.0</td>\n",
       "      <td>1579</td>\n",
       "    </tr>\n",
       "  </tbody>\n",
       "</table>\n",
       "</div>"
      ],
      "text/plain": [
       "   operator_id  more30_calls_count\n",
       "0     879896.0                 634\n",
       "1     879898.0                4894\n",
       "2     880020.0                  19\n",
       "3     880022.0                  86\n",
       "4     880026.0                1579"
      ]
     },
     "execution_count": 213,
     "metadata": {},
     "output_type": "execute_result"
    }
   ],
   "source": [
    "df5 = out_data.query('avg_call_duration >= 30').pivot_table(index='operator_id', values='calls_count', aggfunc='sum').reset_index()\n",
    "df5.columns = ['operator_id', 'more30_calls_count']\n",
    "df5.head()"
   ]
  },
  {
   "cell_type": "code",
   "execution_count": 214,
   "metadata": {},
   "outputs": [
    {
     "data": {
      "text/html": [
       "<div>\n",
       "<style scoped>\n",
       "    .dataframe tbody tr th:only-of-type {\n",
       "        vertical-align: middle;\n",
       "    }\n",
       "\n",
       "    .dataframe tbody tr th {\n",
       "        vertical-align: top;\n",
       "    }\n",
       "\n",
       "    .dataframe thead th {\n",
       "        text-align: right;\n",
       "    }\n",
       "</style>\n",
       "<table border=\"1\" class=\"dataframe\">\n",
       "  <thead>\n",
       "    <tr style=\"text-align: right;\">\n",
       "      <th></th>\n",
       "      <th>operator_id</th>\n",
       "      <th>calls_count</th>\n",
       "      <th>more30_calls_count</th>\n",
       "      <th>part_more30_calls_count</th>\n",
       "    </tr>\n",
       "  </thead>\n",
       "  <tbody>\n",
       "    <tr>\n",
       "      <th>0</th>\n",
       "      <td>879896.0</td>\n",
       "      <td>874</td>\n",
       "      <td>634.0</td>\n",
       "      <td>73.0</td>\n",
       "    </tr>\n",
       "    <tr>\n",
       "      <th>1</th>\n",
       "      <td>879898.0</td>\n",
       "      <td>7294</td>\n",
       "      <td>4894.0</td>\n",
       "      <td>67.0</td>\n",
       "    </tr>\n",
       "    <tr>\n",
       "      <th>2</th>\n",
       "      <td>880020.0</td>\n",
       "      <td>41</td>\n",
       "      <td>19.0</td>\n",
       "      <td>46.0</td>\n",
       "    </tr>\n",
       "    <tr>\n",
       "      <th>3</th>\n",
       "      <td>880022.0</td>\n",
       "      <td>182</td>\n",
       "      <td>86.0</td>\n",
       "      <td>47.0</td>\n",
       "    </tr>\n",
       "    <tr>\n",
       "      <th>4</th>\n",
       "      <td>880026.0</td>\n",
       "      <td>2212</td>\n",
       "      <td>1579.0</td>\n",
       "      <td>71.0</td>\n",
       "    </tr>\n",
       "  </tbody>\n",
       "</table>\n",
       "</div>"
      ],
      "text/plain": [
       "   operator_id  calls_count  more30_calls_count  part_more30_calls_count\n",
       "0     879896.0          874               634.0                     73.0\n",
       "1     879898.0         7294              4894.0                     67.0\n",
       "2     880020.0           41                19.0                     46.0\n",
       "3     880022.0          182                86.0                     47.0\n",
       "4     880026.0         2212              1579.0                     71.0"
      ]
     },
     "execution_count": 214,
     "metadata": {},
     "output_type": "execute_result"
    }
   ],
   "source": [
    "out_operators = pd.merge(df4, df5, how='left') \n",
    "# соединяем таблицы\n",
    "out_operators.fillna(0, inplace=True)\n",
    "out_operators['part_more30_calls_count'] =(out_operators['more30_calls_count']/out_operators['calls_count']*100).round()\n",
    "# вычисляем процент успешных звонков\n",
    "out_operators.head()"
   ]
  },
  {
   "cell_type": "markdown",
   "metadata": {},
   "source": [
    "Выведем список операторов, у которых меньше половины успешных звонков (продолжительностью от 30 секунд)"
   ]
  },
  {
   "cell_type": "code",
   "execution_count": 86,
   "metadata": {
    "scrolled": true
   },
   "outputs": [
    {
     "data": {
      "text/plain": [
       "2      880020.0\n",
       "3      880022.0\n",
       "7      881278.0\n",
       "12     883018.0\n",
       "18     884478.0\n",
       "         ...   \n",
       "670    970252.0\n",
       "672    970258.0\n",
       "673    970484.0\n",
       "678    972460.0\n",
       "679    973120.0\n",
       "Name: operator_id, Length: 233, dtype: float64"
      ]
     },
     "execution_count": 86,
     "metadata": {},
     "output_type": "execute_result"
    }
   ],
   "source": [
    "not_efficient_operators_out = out_operators.query('part_more30_calls_count < 50')['operator_id']\n",
    "not_efficient_operators_out"
   ]
  },
  {
   "cell_type": "markdown",
   "metadata": {},
   "source": [
    "Количество неэффективных операторов."
   ]
  },
  {
   "cell_type": "code",
   "execution_count": 215,
   "metadata": {
    "scrolled": true
   },
   "outputs": [
    {
     "data": {
      "text/plain": [
       "233"
      ]
     },
     "execution_count": 215,
     "metadata": {},
     "output_type": "execute_result"
    }
   ],
   "source": [
    "not_efficient_operators_out.count()"
   ]
  },
  {
   "cell_type": "markdown",
   "metadata": {},
   "source": [
    "Процент неэффективных операторов исходящих вызовов."
   ]
  },
  {
   "cell_type": "code",
   "execution_count": 218,
   "metadata": {
    "scrolled": true
   },
   "outputs": [
    {
     "data": {
      "text/plain": [
       "34.26"
      ]
     },
     "execution_count": 218,
     "metadata": {},
     "output_type": "execute_result"
    }
   ],
   "source": [
    "round(not_efficient_operators_out.count() / data.query('type == \"out\"')['operator_id'].nunique() * 100, 2)"
   ]
  },
  {
   "cell_type": "markdown",
   "metadata": {},
   "source": [
    "Cписок колл-центров, в которых работают самые неэффективные операторы."
   ]
  },
  {
   "cell_type": "code",
   "execution_count": 219,
   "metadata": {
    "scrolled": true
   },
   "outputs": [
    {
     "data": {
      "text/plain": [
       "array([166377, 166405, 166407, 166485, 166507, 166520, 166533, 166536,\n",
       "       166604, 166609, 166680, 166688, 166692, 166711, 166732, 166774,\n",
       "       166813, 166839, 166843, 166874, 166939, 166940, 166941, 166971,\n",
       "       167002, 167011, 167012, 167016, 167060, 167078, 167082, 167109,\n",
       "       167110, 167112, 167113, 167122, 167125, 167150, 167172, 167175,\n",
       "       167183, 167185, 167188, 167263, 167275, 167364, 167436, 167451,\n",
       "       167471, 167479, 167487, 167497, 167530, 167543, 167580, 167626,\n",
       "       167645, 167646, 167650, 167654, 167727, 167742, 167759, 167805,\n",
       "       167827, 167852, 167923, 167947, 167955, 167969, 167989, 167994,\n",
       "       167995, 167999, 168008, 168010, 168018, 168021, 168062, 168073,\n",
       "       168091, 168093, 168097, 168105, 168121, 168128, 168185, 168187,\n",
       "       168193, 168221, 168225, 168228, 168252, 168291, 168361, 168412,\n",
       "       168473, 168481], dtype=int64)"
      ]
     },
     "execution_count": 219,
     "metadata": {},
     "output_type": "execute_result"
    }
   ],
   "source": [
    "not_efficient_users_out = data.query('operator_id in @not_efficient_operators_out')['user_id'].unique()\n",
    "not_efficient_users_out"
   ]
  },
  {
   "cell_type": "code",
   "execution_count": 90,
   "metadata": {},
   "outputs": [
    {
     "data": {
      "text/plain": [
       "98"
      ]
     },
     "execution_count": 90,
     "metadata": {},
     "output_type": "execute_result"
    }
   ],
   "source": [
    "len(not_efficient_users_out)"
   ]
  },
  {
   "cell_type": "markdown",
   "metadata": {},
   "source": [
    "Итак, 233 неэффективных оператора исходящих вызовов (34%) работают в 98 колл-центрах."
   ]
  },
  {
   "cell_type": "markdown",
   "metadata": {},
   "source": [
    "## Этап 5. Проверка гипотез"
   ]
  },
  {
   "cell_type": "markdown",
   "metadata": {},
   "source": [
    "###  О пропущенных исходящих внешних вызовах"
   ]
  },
  {
   "cell_type": "markdown",
   "metadata": {},
   "source": [
    "Предположим, что процент исходящих внешних пропущенных вызовов в будни и выходные дни не различается.\n",
    "(Влияет ли рабочий день на то, что человеку некогда ответить?) \n",
    "\n",
    "- H0: Средняя доля исходящих пропущенных внешних вызовов в будни и выходные одинакова.\n",
    "- H1: Средняя доля исходящих пропущенных внешних вызовов в будни и выходные различна."
   ]
  },
  {
   "cell_type": "markdown",
   "metadata": {},
   "source": [
    "Добавим столбец с указанием дня недели (0 - понедельник, 1 - вторник и т.д.)"
   ]
  },
  {
   "cell_type": "code",
   "execution_count": 220,
   "metadata": {
    "scrolled": true
   },
   "outputs": [
    {
     "data": {
      "text/html": [
       "<div>\n",
       "<style scoped>\n",
       "    .dataframe tbody tr th:only-of-type {\n",
       "        vertical-align: middle;\n",
       "    }\n",
       "\n",
       "    .dataframe tbody tr th {\n",
       "        vertical-align: top;\n",
       "    }\n",
       "\n",
       "    .dataframe thead th {\n",
       "        text-align: right;\n",
       "    }\n",
       "</style>\n",
       "<table border=\"1\" class=\"dataframe\">\n",
       "  <thead>\n",
       "    <tr style=\"text-align: right;\">\n",
       "      <th></th>\n",
       "      <th>user_id</th>\n",
       "      <th>date</th>\n",
       "      <th>direction</th>\n",
       "      <th>internal</th>\n",
       "      <th>operator_id</th>\n",
       "      <th>is_missed_call</th>\n",
       "      <th>calls_count</th>\n",
       "      <th>call_duration</th>\n",
       "      <th>total_call_duration</th>\n",
       "      <th>avg_call_duration</th>\n",
       "      <th>avg_waiting</th>\n",
       "      <th>type_x</th>\n",
       "      <th>type_y</th>\n",
       "      <th>type</th>\n",
       "      <th>week_day</th>\n",
       "    </tr>\n",
       "  </thead>\n",
       "  <tbody>\n",
       "    <tr>\n",
       "      <th>0</th>\n",
       "      <td>166377</td>\n",
       "      <td>2019-08-05</td>\n",
       "      <td>out</td>\n",
       "      <td>True</td>\n",
       "      <td>880022.0</td>\n",
       "      <td>True</td>\n",
       "      <td>3</td>\n",
       "      <td>0</td>\n",
       "      <td>5</td>\n",
       "      <td>0.0</td>\n",
       "      <td>1.7</td>\n",
       "      <td>out</td>\n",
       "      <td>out</td>\n",
       "      <td>out</td>\n",
       "      <td>0</td>\n",
       "    </tr>\n",
       "    <tr>\n",
       "      <th>1</th>\n",
       "      <td>166377</td>\n",
       "      <td>2019-08-05</td>\n",
       "      <td>out</td>\n",
       "      <td>False</td>\n",
       "      <td>880022.0</td>\n",
       "      <td>True</td>\n",
       "      <td>3</td>\n",
       "      <td>0</td>\n",
       "      <td>25</td>\n",
       "      <td>0.0</td>\n",
       "      <td>8.3</td>\n",
       "      <td>out</td>\n",
       "      <td>out</td>\n",
       "      <td>out</td>\n",
       "      <td>0</td>\n",
       "    </tr>\n",
       "    <tr>\n",
       "      <th>2</th>\n",
       "      <td>166377</td>\n",
       "      <td>2019-08-08</td>\n",
       "      <td>out</td>\n",
       "      <td>False</td>\n",
       "      <td>880022.0</td>\n",
       "      <td>False</td>\n",
       "      <td>2</td>\n",
       "      <td>558</td>\n",
       "      <td>568</td>\n",
       "      <td>279.0</td>\n",
       "      <td>5.0</td>\n",
       "      <td>out</td>\n",
       "      <td>out</td>\n",
       "      <td>out</td>\n",
       "      <td>3</td>\n",
       "    </tr>\n",
       "    <tr>\n",
       "      <th>3</th>\n",
       "      <td>166377</td>\n",
       "      <td>2019-08-08</td>\n",
       "      <td>out</td>\n",
       "      <td>False</td>\n",
       "      <td>880022.0</td>\n",
       "      <td>True</td>\n",
       "      <td>4</td>\n",
       "      <td>0</td>\n",
       "      <td>28</td>\n",
       "      <td>0.0</td>\n",
       "      <td>7.0</td>\n",
       "      <td>out</td>\n",
       "      <td>out</td>\n",
       "      <td>out</td>\n",
       "      <td>3</td>\n",
       "    </tr>\n",
       "    <tr>\n",
       "      <th>4</th>\n",
       "      <td>166377</td>\n",
       "      <td>2019-08-09</td>\n",
       "      <td>out</td>\n",
       "      <td>False</td>\n",
       "      <td>880022.0</td>\n",
       "      <td>True</td>\n",
       "      <td>2</td>\n",
       "      <td>0</td>\n",
       "      <td>10</td>\n",
       "      <td>0.0</td>\n",
       "      <td>5.0</td>\n",
       "      <td>out</td>\n",
       "      <td>out</td>\n",
       "      <td>out</td>\n",
       "      <td>4</td>\n",
       "    </tr>\n",
       "  </tbody>\n",
       "</table>\n",
       "</div>"
      ],
      "text/plain": [
       "   user_id       date direction  internal operator_id  is_missed_call  \\\n",
       "0   166377 2019-08-05       out      True    880022.0            True   \n",
       "1   166377 2019-08-05       out     False    880022.0            True   \n",
       "2   166377 2019-08-08       out     False    880022.0           False   \n",
       "3   166377 2019-08-08       out     False    880022.0            True   \n",
       "4   166377 2019-08-09       out     False    880022.0            True   \n",
       "\n",
       "   calls_count  call_duration  total_call_duration  avg_call_duration  \\\n",
       "0            3              0                    5                0.0   \n",
       "1            3              0                   25                0.0   \n",
       "2            2            558                  568              279.0   \n",
       "3            4              0                   28                0.0   \n",
       "4            2              0                   10                0.0   \n",
       "\n",
       "   avg_waiting type_x type_y type  week_day  \n",
       "0          1.7    out    out  out         0  \n",
       "1          8.3    out    out  out         0  \n",
       "2          5.0    out    out  out         3  \n",
       "3          7.0    out    out  out         3  \n",
       "4          5.0    out    out  out         4  "
      ]
     },
     "execution_count": 220,
     "metadata": {},
     "output_type": "execute_result"
    }
   ],
   "source": [
    "data['week_day'] = data['date']. dt.weekday\n",
    "data.head()"
   ]
  },
  {
   "cell_type": "markdown",
   "metadata": {},
   "source": [
    "Посчитаем общее количество внешних исходящих вызовов по каждому оператору в каждый день недели."
   ]
  },
  {
   "cell_type": "code",
   "execution_count": 92,
   "metadata": {},
   "outputs": [
    {
     "data": {
      "text/html": [
       "<div>\n",
       "<style scoped>\n",
       "    .dataframe tbody tr th:only-of-type {\n",
       "        vertical-align: middle;\n",
       "    }\n",
       "\n",
       "    .dataframe tbody tr th {\n",
       "        vertical-align: top;\n",
       "    }\n",
       "\n",
       "    .dataframe thead th {\n",
       "        text-align: right;\n",
       "    }\n",
       "</style>\n",
       "<table border=\"1\" class=\"dataframe\">\n",
       "  <thead>\n",
       "    <tr style=\"text-align: right;\">\n",
       "      <th></th>\n",
       "      <th>operator_id</th>\n",
       "      <th>week_day</th>\n",
       "      <th>calls_count</th>\n",
       "    </tr>\n",
       "  </thead>\n",
       "  <tbody>\n",
       "    <tr>\n",
       "      <th>0</th>\n",
       "      <td>879896.0</td>\n",
       "      <td>0</td>\n",
       "      <td>93</td>\n",
       "    </tr>\n",
       "    <tr>\n",
       "      <th>1</th>\n",
       "      <td>879896.0</td>\n",
       "      <td>1</td>\n",
       "      <td>70</td>\n",
       "    </tr>\n",
       "    <tr>\n",
       "      <th>2</th>\n",
       "      <td>879896.0</td>\n",
       "      <td>2</td>\n",
       "      <td>201</td>\n",
       "    </tr>\n",
       "    <tr>\n",
       "      <th>3</th>\n",
       "      <td>879896.0</td>\n",
       "      <td>3</td>\n",
       "      <td>161</td>\n",
       "    </tr>\n",
       "    <tr>\n",
       "      <th>4</th>\n",
       "      <td>879896.0</td>\n",
       "      <td>4</td>\n",
       "      <td>254</td>\n",
       "    </tr>\n",
       "  </tbody>\n",
       "</table>\n",
       "</div>"
      ],
      "text/plain": [
       "   operator_id  week_day  calls_count\n",
       "0     879896.0         0           93\n",
       "1     879896.0         1           70\n",
       "2     879896.0         2          201\n",
       "3     879896.0         3          161\n",
       "4     879896.0         4          254"
      ]
     },
     "execution_count": 92,
     "metadata": {},
     "output_type": "execute_result"
    }
   ],
   "source": [
    "stat_data_all = data.query('direction == \"out\" and internal == False') \\\n",
    "    .pivot_table(index=['operator_id', 'week_day'], values='calls_count', aggfunc='sum').reset_index()\n",
    "stat_data_all.head()"
   ]
  },
  {
   "cell_type": "markdown",
   "metadata": {},
   "source": [
    "Посчитаем общее количество пропущенных внешних исходящих вызовов по каждому оператору."
   ]
  },
  {
   "cell_type": "code",
   "execution_count": 93,
   "metadata": {
    "scrolled": true
   },
   "outputs": [
    {
     "data": {
      "text/html": [
       "<div>\n",
       "<style scoped>\n",
       "    .dataframe tbody tr th:only-of-type {\n",
       "        vertical-align: middle;\n",
       "    }\n",
       "\n",
       "    .dataframe tbody tr th {\n",
       "        vertical-align: top;\n",
       "    }\n",
       "\n",
       "    .dataframe thead th {\n",
       "        text-align: right;\n",
       "    }\n",
       "</style>\n",
       "<table border=\"1\" class=\"dataframe\">\n",
       "  <thead>\n",
       "    <tr style=\"text-align: right;\">\n",
       "      <th></th>\n",
       "      <th>operator_id</th>\n",
       "      <th>week_day</th>\n",
       "      <th>missed_calls_count</th>\n",
       "    </tr>\n",
       "  </thead>\n",
       "  <tbody>\n",
       "    <tr>\n",
       "      <th>0</th>\n",
       "      <td>879896.0</td>\n",
       "      <td>0</td>\n",
       "      <td>21</td>\n",
       "    </tr>\n",
       "    <tr>\n",
       "      <th>1</th>\n",
       "      <td>879896.0</td>\n",
       "      <td>1</td>\n",
       "      <td>12</td>\n",
       "    </tr>\n",
       "    <tr>\n",
       "      <th>2</th>\n",
       "      <td>879896.0</td>\n",
       "      <td>2</td>\n",
       "      <td>55</td>\n",
       "    </tr>\n",
       "    <tr>\n",
       "      <th>3</th>\n",
       "      <td>879896.0</td>\n",
       "      <td>3</td>\n",
       "      <td>41</td>\n",
       "    </tr>\n",
       "    <tr>\n",
       "      <th>4</th>\n",
       "      <td>879896.0</td>\n",
       "      <td>4</td>\n",
       "      <td>73</td>\n",
       "    </tr>\n",
       "  </tbody>\n",
       "</table>\n",
       "</div>"
      ],
      "text/plain": [
       "   operator_id  week_day  missed_calls_count\n",
       "0     879896.0         0                  21\n",
       "1     879896.0         1                  12\n",
       "2     879896.0         2                  55\n",
       "3     879896.0         3                  41\n",
       "4     879896.0         4                  73"
      ]
     },
     "execution_count": 93,
     "metadata": {},
     "output_type": "execute_result"
    }
   ],
   "source": [
    "stat_data_missed = data.query('direction == \"out\" and internal == False and is_missed_call == True') \\\n",
    "    .pivot_table(index=['operator_id', 'week_day'], values='calls_count', aggfunc='sum').reset_index()\n",
    "stat_data_missed.columns = ['operator_id', 'week_day', 'missed_calls_count']\n",
    "stat_data_missed.head()"
   ]
  },
  {
   "cell_type": "markdown",
   "metadata": {},
   "source": [
    "Объединим таблицы."
   ]
  },
  {
   "cell_type": "code",
   "execution_count": 94,
   "metadata": {
    "scrolled": false
   },
   "outputs": [
    {
     "data": {
      "text/html": [
       "<div>\n",
       "<style scoped>\n",
       "    .dataframe tbody tr th:only-of-type {\n",
       "        vertical-align: middle;\n",
       "    }\n",
       "\n",
       "    .dataframe tbody tr th {\n",
       "        vertical-align: top;\n",
       "    }\n",
       "\n",
       "    .dataframe thead th {\n",
       "        text-align: right;\n",
       "    }\n",
       "</style>\n",
       "<table border=\"1\" class=\"dataframe\">\n",
       "  <thead>\n",
       "    <tr style=\"text-align: right;\">\n",
       "      <th></th>\n",
       "      <th>operator_id</th>\n",
       "      <th>week_day</th>\n",
       "      <th>calls_count</th>\n",
       "      <th>missed_calls_count</th>\n",
       "      <th>part_missed_calls</th>\n",
       "    </tr>\n",
       "  </thead>\n",
       "  <tbody>\n",
       "    <tr>\n",
       "      <th>0</th>\n",
       "      <td>879896.0</td>\n",
       "      <td>0</td>\n",
       "      <td>93</td>\n",
       "      <td>21.0</td>\n",
       "      <td>0.23</td>\n",
       "    </tr>\n",
       "    <tr>\n",
       "      <th>1</th>\n",
       "      <td>879896.0</td>\n",
       "      <td>1</td>\n",
       "      <td>70</td>\n",
       "      <td>12.0</td>\n",
       "      <td>0.17</td>\n",
       "    </tr>\n",
       "    <tr>\n",
       "      <th>2</th>\n",
       "      <td>879896.0</td>\n",
       "      <td>2</td>\n",
       "      <td>201</td>\n",
       "      <td>55.0</td>\n",
       "      <td>0.27</td>\n",
       "    </tr>\n",
       "    <tr>\n",
       "      <th>3</th>\n",
       "      <td>879896.0</td>\n",
       "      <td>3</td>\n",
       "      <td>161</td>\n",
       "      <td>41.0</td>\n",
       "      <td>0.25</td>\n",
       "    </tr>\n",
       "    <tr>\n",
       "      <th>4</th>\n",
       "      <td>879896.0</td>\n",
       "      <td>4</td>\n",
       "      <td>254</td>\n",
       "      <td>73.0</td>\n",
       "      <td>0.29</td>\n",
       "    </tr>\n",
       "  </tbody>\n",
       "</table>\n",
       "</div>"
      ],
      "text/plain": [
       "   operator_id  week_day  calls_count  missed_calls_count  part_missed_calls\n",
       "0     879896.0         0           93                21.0               0.23\n",
       "1     879896.0         1           70                12.0               0.17\n",
       "2     879896.0         2          201                55.0               0.27\n",
       "3     879896.0         3          161                41.0               0.25\n",
       "4     879896.0         4          254                73.0               0.29"
      ]
     },
     "execution_count": 94,
     "metadata": {},
     "output_type": "execute_result"
    }
   ],
   "source": [
    "stat_data = pd.merge(stat_data_all, stat_data_missed, how='left', on=['operator_id','week_day']) \n",
    "stat_data.fillna(0, inplace=True)\n",
    "stat_data['part_missed_calls'] =(stat_data['missed_calls_count']/stat_data['calls_count']).round(2)\n",
    "# вычислим долю пропущенных\n",
    "stat_data.head()"
   ]
  },
  {
   "cell_type": "markdown",
   "metadata": {},
   "source": [
    "Выделим будни."
   ]
  },
  {
   "cell_type": "code",
   "execution_count": 95,
   "metadata": {},
   "outputs": [
    {
     "data": {
      "text/html": [
       "<div>\n",
       "<style scoped>\n",
       "    .dataframe tbody tr th:only-of-type {\n",
       "        vertical-align: middle;\n",
       "    }\n",
       "\n",
       "    .dataframe tbody tr th {\n",
       "        vertical-align: top;\n",
       "    }\n",
       "\n",
       "    .dataframe thead th {\n",
       "        text-align: right;\n",
       "    }\n",
       "</style>\n",
       "<table border=\"1\" class=\"dataframe\">\n",
       "  <thead>\n",
       "    <tr style=\"text-align: right;\">\n",
       "      <th></th>\n",
       "      <th>operator_id</th>\n",
       "      <th>week_day</th>\n",
       "      <th>calls_count</th>\n",
       "      <th>missed_calls_count</th>\n",
       "      <th>part_missed_calls</th>\n",
       "    </tr>\n",
       "  </thead>\n",
       "  <tbody>\n",
       "    <tr>\n",
       "      <th>0</th>\n",
       "      <td>879896.0</td>\n",
       "      <td>0</td>\n",
       "      <td>93</td>\n",
       "      <td>21.0</td>\n",
       "      <td>0.23</td>\n",
       "    </tr>\n",
       "    <tr>\n",
       "      <th>1</th>\n",
       "      <td>879896.0</td>\n",
       "      <td>1</td>\n",
       "      <td>70</td>\n",
       "      <td>12.0</td>\n",
       "      <td>0.17</td>\n",
       "    </tr>\n",
       "    <tr>\n",
       "      <th>2</th>\n",
       "      <td>879896.0</td>\n",
       "      <td>2</td>\n",
       "      <td>201</td>\n",
       "      <td>55.0</td>\n",
       "      <td>0.27</td>\n",
       "    </tr>\n",
       "    <tr>\n",
       "      <th>3</th>\n",
       "      <td>879896.0</td>\n",
       "      <td>3</td>\n",
       "      <td>161</td>\n",
       "      <td>41.0</td>\n",
       "      <td>0.25</td>\n",
       "    </tr>\n",
       "    <tr>\n",
       "      <th>4</th>\n",
       "      <td>879896.0</td>\n",
       "      <td>4</td>\n",
       "      <td>254</td>\n",
       "      <td>73.0</td>\n",
       "      <td>0.29</td>\n",
       "    </tr>\n",
       "  </tbody>\n",
       "</table>\n",
       "</div>"
      ],
      "text/plain": [
       "   operator_id  week_day  calls_count  missed_calls_count  part_missed_calls\n",
       "0     879896.0         0           93                21.0               0.23\n",
       "1     879896.0         1           70                12.0               0.17\n",
       "2     879896.0         2          201                55.0               0.27\n",
       "3     879896.0         3          161                41.0               0.25\n",
       "4     879896.0         4          254                73.0               0.29"
      ]
     },
     "execution_count": 95,
     "metadata": {},
     "output_type": "execute_result"
    }
   ],
   "source": [
    "missed_calls_weekdays = stat_data.query('week_day in [0, 1, 2, 3, 4]')\n",
    "missed_calls_weekdays.head()"
   ]
  },
  {
   "cell_type": "markdown",
   "metadata": {},
   "source": [
    "Выделим выходные."
   ]
  },
  {
   "cell_type": "code",
   "execution_count": 96,
   "metadata": {
    "scrolled": false
   },
   "outputs": [
    {
     "data": {
      "text/html": [
       "<div>\n",
       "<style scoped>\n",
       "    .dataframe tbody tr th:only-of-type {\n",
       "        vertical-align: middle;\n",
       "    }\n",
       "\n",
       "    .dataframe tbody tr th {\n",
       "        vertical-align: top;\n",
       "    }\n",
       "\n",
       "    .dataframe thead th {\n",
       "        text-align: right;\n",
       "    }\n",
       "</style>\n",
       "<table border=\"1\" class=\"dataframe\">\n",
       "  <thead>\n",
       "    <tr style=\"text-align: right;\">\n",
       "      <th></th>\n",
       "      <th>operator_id</th>\n",
       "      <th>week_day</th>\n",
       "      <th>calls_count</th>\n",
       "      <th>missed_calls_count</th>\n",
       "      <th>part_missed_calls</th>\n",
       "    </tr>\n",
       "  </thead>\n",
       "  <tbody>\n",
       "    <tr>\n",
       "      <th>5</th>\n",
       "      <td>879896.0</td>\n",
       "      <td>5</td>\n",
       "      <td>34</td>\n",
       "      <td>16.0</td>\n",
       "      <td>0.47</td>\n",
       "    </tr>\n",
       "    <tr>\n",
       "      <th>6</th>\n",
       "      <td>879896.0</td>\n",
       "      <td>6</td>\n",
       "      <td>3</td>\n",
       "      <td>2.0</td>\n",
       "      <td>0.67</td>\n",
       "    </tr>\n",
       "    <tr>\n",
       "      <th>12</th>\n",
       "      <td>879898.0</td>\n",
       "      <td>5</td>\n",
       "      <td>15</td>\n",
       "      <td>1.0</td>\n",
       "      <td>0.07</td>\n",
       "    </tr>\n",
       "    <tr>\n",
       "      <th>13</th>\n",
       "      <td>879898.0</td>\n",
       "      <td>6</td>\n",
       "      <td>1</td>\n",
       "      <td>0.0</td>\n",
       "      <td>0.00</td>\n",
       "    </tr>\n",
       "    <tr>\n",
       "      <th>44</th>\n",
       "      <td>882684.0</td>\n",
       "      <td>5</td>\n",
       "      <td>67</td>\n",
       "      <td>21.0</td>\n",
       "      <td>0.31</td>\n",
       "    </tr>\n",
       "  </tbody>\n",
       "</table>\n",
       "</div>"
      ],
      "text/plain": [
       "    operator_id  week_day  calls_count  missed_calls_count  part_missed_calls\n",
       "5      879896.0         5           34                16.0               0.47\n",
       "6      879896.0         6            3                 2.0               0.67\n",
       "12     879898.0         5           15                 1.0               0.07\n",
       "13     879898.0         6            1                 0.0               0.00\n",
       "44     882684.0         5           67                21.0               0.31"
      ]
     },
     "execution_count": 96,
     "metadata": {},
     "output_type": "execute_result"
    }
   ],
   "source": [
    "missed_calls_weekends = stat_data.query('week_day in [5, 6]')\n",
    "missed_calls_weekends.head()"
   ]
  },
  {
   "cell_type": "markdown",
   "metadata": {},
   "source": [
    "Построим гистрограммы распределения доли пропущенных исходящих внешних вызовов по операторам в будни и выходные дни."
   ]
  },
  {
   "cell_type": "code",
   "execution_count": 221,
   "metadata": {},
   "outputs": [
    {
     "data": {
      "image/png": "[encoded data removed]",
      "text/plain": [
       "<Figure size 1080x360 with 2 Axes>"
      ]
     },
     "metadata": {
      "needs_background": "light"
     },
     "output_type": "display_data"
    }
   ],
   "source": [
    "fig,axis = plt.subplots(nrows=1 , ncols=2, figsize=(15, 5))\n",
    "fig.suptitle('Доли средних пропущенных исходящих внешних вызовов по операторам')\n",
    "axis[0].set_title('в будни')\n",
    "missed_calls_weekends.plot(y='part_missed_calls', kind='hist', legend=False, bins=25, ax=axis[0])\n",
    "axis[1].set_title('в выходные')\n",
    "missed_calls_weekdays.plot(y='part_missed_calls', kind='hist', legend=False, bins=25, ax=axis[1])\n",
    "plt.ylabel('')\n",
    "plt.show()"
   ]
  },
  {
   "cell_type": "markdown",
   "metadata": {},
   "source": [
    "Графики довольно похожи. Распределения не соответствуют нормальным. В этом случае лучше всего подходит тест Манна‑Уитни."
   ]
  },
  {
   "cell_type": "code",
   "execution_count": 222,
   "metadata": {},
   "outputs": [
    {
     "name": "stdout",
     "output_type": "stream",
     "text": [
      "p-value = 0.003\n",
      "Отвергаем нулевую гипотезу. Считаем средние доли пропущенных исходящих внешних вызовов разными.\n",
      "Средняя доля пропущенных исходящих внешних вызовов в будни: 0.39\n",
      "Средняя доля пропущенных исходящих внешних вызовов в выходные: 0.43\n",
      "Различие в средней доле пропущенных исходящих внешних звонков в выходные к будням = 0.091\n"
     ]
    }
   ],
   "source": [
    "alpha = 0.05  # критический уровень статистической значимости\n",
    "\n",
    "results = st.mannwhitneyu(missed_calls_weekdays['part_missed_calls'], missed_calls_weekends['part_missed_calls'])\n",
    "\n",
    "print('p-value =', \"{0:.3f}\".format(results.pvalue))\n",
    "\n",
    "if results.pvalue < alpha:\n",
    "    print('Отвергаем нулевую гипотезу. Считаем средние доли пропущенных исходящих внешних вызовов разными.')\n",
    "else:\n",
    "    print('Не получилось отвергнуть нулевую гипотезу. Считаем средние доли пропущенных исходящих внешних вызовов одинаковым') \n",
    "print('Средняя доля пропущенных исходящих внешних вызовов в будни:', \"{0:.2f}\".format(missed_calls_weekdays['part_missed_calls'].mean()))\n",
    "print('Средняя доля пропущенных исходящих внешних вызовов в выходные:', \"{0:.2f}\".format(missed_calls_weekends['part_missed_calls'].mean()))\n",
    "print('Различие в средней доле пропущенных исходящих внешних звонков в выходные к будням =', \"{0:.3f}\".format(missed_calls_weekends['part_missed_calls'].mean() / missed_calls_weekdays['part_missed_calls'].mean() - 1))"
   ]
  },
  {
   "cell_type": "markdown",
   "metadata": {},
   "source": [
    "P-value = 0.003, что меньше 0.05 и даже меньше 0.01. Средние доли пропущенных внешних исходящих вызовов в будни и выходные различаются. В выходные дни люди отвечают на звонки операторов реже. Возможно, это связано с тем, что в выходные дни люди стараются реже проводить время с телефоном, а в будни приходится по телефону решать рабочие вопросы."
   ]
  },
  {
   "cell_type": "markdown",
   "metadata": {},
   "source": [
    "###  О длительности входящих и исходящих вызовов"
   ]
  },
  {
   "cell_type": "markdown",
   "metadata": {},
   "source": [
    "Предположим, что среднее время исходящих и входящих разговоров не различается (учитываем только принятые внешние вызовы).\n",
    "\n",
    "- H0: Средняя продолжительность входящих и исходящих вызовов одинакова.\n",
    "- H1: Средняя продолжительность входящих и исходящих вызовов различна."
   ]
  },
  {
   "cell_type": "markdown",
   "metadata": {},
   "source": [
    "Создадим таблицы с внешними непропущенными входящими и исходящими вызовами."
   ]
  },
  {
   "cell_type": "code",
   "execution_count": 223,
   "metadata": {},
   "outputs": [],
   "source": [
    "data_avg_calls_in = data.query('internal == False and is_missed_call == False and direction == \"in\"')\n",
    "data_avg_calls_out = data.query('internal == False and is_missed_call == False and direction == \"out\"')"
   ]
  },
  {
   "cell_type": "markdown",
   "metadata": {},
   "source": [
    "Построим распределение продолжительности непропущенных внешних вызовов."
   ]
  },
  {
   "cell_type": "code",
   "execution_count": 224,
   "metadata": {},
   "outputs": [
    {
     "data": {
      "image/png": "[encoded data removed]",
      "text/plain": [
       "<Figure size 1080x360 with 2 Axes>"
      ]
     },
     "metadata": {
      "needs_background": "light"
     },
     "output_type": "display_data"
    }
   ],
   "source": [
    "fig,axis = plt.subplots(nrows=1 , ncols=2, figsize=(15, 5))\n",
    "fig.suptitle('Средняя продолжительность разговора')\n",
    "axis[0].set_title('входящих вызовов')\n",
    "data_avg_calls_in.plot(y='avg_call_duration', kind='hist', legend=False, bins=25, ax=axis[0])\n",
    "axis[1].set_title('исходящих вызовов')\n",
    "data_avg_calls_out.plot(y='avg_call_duration', kind='hist', legend=False, bins=25, ax=axis[1])\n",
    "plt.ylabel('')\n",
    "plt.show()"
   ]
  },
  {
   "cell_type": "markdown",
   "metadata": {},
   "source": [
    "Графики довольно похожи. Распределения не соответствуют нормальным. В этом случае лучше всего подходит тест Манна‑Уитни."
   ]
  },
  {
   "cell_type": "code",
   "execution_count": 225,
   "metadata": {},
   "outputs": [
    {
     "name": "stdout",
     "output_type": "stream",
     "text": [
      "p-value = 0.00010\n",
      "Отвергаем нулевую гипотезу. Считаем среднюю длительность входящих и исходящих вызовов разными.\n",
      "Средняя длительность входящего звонка: 114.48\n",
      "Средняя длительность исходящего звонка: 131.25\n",
      "Различие в средней продолжительности исходящего вызова к входящему = 0.146\n"
     ]
    }
   ],
   "source": [
    "alpha = 0.05  # критический уровень статистической значимости\n",
    "\n",
    "results = st.mannwhitneyu(data_avg_calls_in['avg_call_duration'], data_avg_calls_out['avg_call_duration'])\n",
    "\n",
    "print('p-value =', \"{0:.5f}\".format(results.pvalue))\n",
    "\n",
    "if results.pvalue < alpha:\n",
    "    print('Отвергаем нулевую гипотезу. Считаем среднюю длительность входящих и исходящих вызовов разными.')\n",
    "else:\n",
    "    print('Не получилось отвергнуть нулевую гипотезу. Считаем среднюю длительность входящих и исходящих вызовов одинаковым') \n",
    "print('Средняя длительность входящего звонка:', \"{0:.2f}\".format(data_avg_calls_in['avg_call_duration'].mean()))\n",
    "print('Средняя длительность исходящего звонка:', \"{0:.2f}\".format(data_avg_calls_out['avg_call_duration'].mean()))\n",
    "print('Различие в средней продолжительности исходящего вызова к входящему =', \"{0:.3f}\".format(data_avg_calls_out['avg_call_duration'].mean() / data_avg_calls_in['avg_call_duration'].mean() - 1))"
   ]
  },
  {
   "cell_type": "markdown",
   "metadata": {},
   "source": [
    "P-value = 0.00010, что меньше 0.05 и даже меньше 0.01. Средние продолжительности входящего и исходящего звонков различаются. Возможно, это связано с тем, что оператору исходящего вызова выгоднее дольше говорить, чтобы убедить клиента купить услугу, например. В то время как задача оператора входящего вызова -- как можно скорее решить вопрос клиента и обработать как можно больше звонков."
   ]
  },
  {
   "cell_type": "markdown",
   "metadata": {},
   "source": [
    "## Этап 6. Общий вывод"
   ]
  },
  {
   "cell_type": "markdown",
   "metadata": {},
   "source": [
    "В процессе предобработки данных были изменены типы данных, выявлены дубликаты и удалены пропуски. Довольно большой процент (15%) операторов отсутствовал, однако замену найти не удалось, а данные без указания оператора не имеют смысла для анализа, такие данные пришлось удалить. Также добавили столбцы с новыми показателями, которые были необходимы для дальнейшей работы. \n",
    "Были удалены аномальные данные. Оставшиеся данные были изучены по разным показателям (качественным и количественным), построены графики распредления величин. По результатам анализа показателей были определены следующие критерии эффективной работы операторов. Для операторов входящих вызовов:\n",
    "- уровень сервиса (SL/Service Level) -- 80% всех входящих звонков должны быть приняты в течение 20 секунд (ключевой показатель уровня сервиса входящей линии),\n",
    "- пропущенные звонки (AR/Abandonment Rate, Aban Rate, Lost Call Rate) <= 5% (ключевой показатель уровня сервиса входящей линии).\n",
    "\n",
    "В качестве дополнительного кретерия собирались рассмотреть процент переадресованных другим операторам вызовов, однако в результате анализа получили некорректные данные (процент переадресованных вызовов у довольно большого количества операторов был большее 100%, чего в принципе не может быть). Полагаю, это получилось в результате неполноты данных относительно внутренних вызовов. \n",
    "\n",
    "Операторы исходящих вызовов были оценены по продолжительности разговора. Практика показывает, что чем длиннее разговор, тем выше конверсия. Неэффективными посчитали операторов, у которых меньше половины исходящих звонков длительностью до 30 секунд.\n",
    "\n",
    "По итогу анализы были получены списки неэффективных операторов и списки колл-центров, в которых они работают.\n",
    "Среди \"входящих\" операторов были признаны неэффективными 171 оператор (почти 46% от всех \"входящих\") в 96 колл-центрах.\n",
    "Дополнительно предложено выделить самых неэффективных 16 операторов (4%  от всех \"входящих\"), которые не удовлетворяют обоим критериям, они работают в 12 колл-центрах.\n",
    "\n",
    "Среди \"исходящих\" операторов 233 (34% от всех \"исходящих\") оказались неэффективными, они работают в 98 колл-центрах.\n",
    "\n",
    "При проверке гипотез выяснилось, что средние доли пропущенных внешних исходящих вызовов в будни и выходные различаются. В выходные дни люди отвечают на звонки операторов реже. Также различается средняя продолжительность входящих и исходящих вызовов. Это связано с заинтересованностью оператора.\n",
    "\n",
    "В результате исследования выявили довольно большой процент неэффективных операторов. Скорее всего, колл-центры заинтересуются новой системой оценки показателей работы операторов."
   ]
  }
 ],
 "metadata": {
  "ExecuteTimeLog": [
   {
    "duration": 4,
    "start_time": "2023-07-10T20:03:45.650Z"
   },
   {
    "duration": 1609,
    "start_time": "2023-07-10T20:10:14.628Z"
   },
   {
    "duration": 112,
    "start_time": "2023-07-10T20:11:07.811Z"
   },
   {
    "duration": 454,
    "start_time": "2023-07-10T20:11:13.648Z"
   },
   {
    "duration": 265,
    "start_time": "2023-07-10T20:11:33.427Z"
   },
   {
    "duration": 15,
    "start_time": "2023-07-10T20:21:40.125Z"
   },
   {
    "duration": 29,
    "start_time": "2023-07-10T20:21:49.261Z"
   },
   {
    "duration": 166,
    "start_time": "2023-07-10T20:22:02.914Z"
   },
   {
    "duration": 7,
    "start_time": "2023-07-10T20:22:11.834Z"
   },
   {
    "duration": 16,
    "start_time": "2023-07-10T20:22:22.797Z"
   },
   {
    "duration": 71,
    "start_time": "2023-07-10T20:27:31.287Z"
   },
   {
    "duration": 3,
    "start_time": "2023-07-13T07:12:11.672Z"
   },
   {
    "duration": 47,
    "start_time": "2023-07-13T07:14:50.625Z"
   },
   {
    "duration": 1343,
    "start_time": "2023-07-13T07:14:57.032Z"
   },
   {
    "duration": 67,
    "start_time": "2023-07-13T07:14:58.377Z"
   },
   {
    "duration": 270,
    "start_time": "2023-07-13T07:14:58.445Z"
   },
   {
    "duration": 18,
    "start_time": "2023-07-13T07:14:58.718Z"
   },
   {
    "duration": 31,
    "start_time": "2023-07-13T07:14:58.737Z"
   },
   {
    "duration": 21,
    "start_time": "2023-07-13T07:15:16.690Z"
   },
   {
    "duration": 25,
    "start_time": "2023-07-13T07:15:58.310Z"
   },
   {
    "duration": 13,
    "start_time": "2023-07-13T07:16:06.369Z"
   },
   {
    "duration": 11,
    "start_time": "2023-07-13T07:16:17.342Z"
   },
   {
    "duration": 13,
    "start_time": "2023-07-13T07:16:27.085Z"
   },
   {
    "duration": 8,
    "start_time": "2023-07-13T07:16:51.671Z"
   },
   {
    "duration": 1144,
    "start_time": "2023-07-13T07:16:57.542Z"
   },
   {
    "duration": 52,
    "start_time": "2023-07-13T07:16:58.688Z"
   },
   {
    "duration": 217,
    "start_time": "2023-07-13T07:16:58.742Z"
   },
   {
    "duration": 17,
    "start_time": "2023-07-13T07:16:58.961Z"
   },
   {
    "duration": 30,
    "start_time": "2023-07-13T07:16:58.979Z"
   },
   {
    "duration": 20,
    "start_time": "2023-07-13T07:16:59.011Z"
   },
   {
    "duration": 27,
    "start_time": "2023-07-13T07:16:59.033Z"
   },
   {
    "duration": 28,
    "start_time": "2023-07-13T07:16:59.062Z"
   },
   {
    "duration": 12,
    "start_time": "2023-07-13T07:16:59.091Z"
   },
   {
    "duration": 27,
    "start_time": "2023-07-13T07:16:59.105Z"
   },
   {
    "duration": 28,
    "start_time": "2023-07-13T07:16:59.134Z"
   },
   {
    "duration": 5,
    "start_time": "2023-07-13T07:17:21.812Z"
   },
   {
    "duration": 1080,
    "start_time": "2023-07-13T07:17:36.220Z"
   },
   {
    "duration": 50,
    "start_time": "2023-07-13T07:17:37.302Z"
   },
   {
    "duration": 513,
    "start_time": "2023-07-13T07:17:37.354Z"
   },
   {
    "duration": 17,
    "start_time": "2023-07-13T07:17:37.869Z"
   },
   {
    "duration": 21,
    "start_time": "2023-07-13T07:17:37.888Z"
   },
   {
    "duration": 20,
    "start_time": "2023-07-13T07:17:37.910Z"
   },
   {
    "duration": 34,
    "start_time": "2023-07-13T07:17:37.932Z"
   },
   {
    "duration": 6,
    "start_time": "2023-07-13T07:17:37.968Z"
   },
   {
    "duration": 27,
    "start_time": "2023-07-13T07:17:37.976Z"
   },
   {
    "duration": 12,
    "start_time": "2023-07-13T07:17:38.006Z"
   },
   {
    "duration": 10,
    "start_time": "2023-07-13T07:17:38.020Z"
   },
   {
    "duration": 46,
    "start_time": "2023-07-13T07:17:38.032Z"
   },
   {
    "duration": 10,
    "start_time": "2023-07-13T07:18:00.822Z"
   },
   {
    "duration": 6,
    "start_time": "2023-07-13T07:18:14.823Z"
   },
   {
    "duration": 9,
    "start_time": "2023-07-13T07:18:22.433Z"
   },
   {
    "duration": 13,
    "start_time": "2023-07-13T07:18:31.430Z"
   },
   {
    "duration": 1095,
    "start_time": "2023-07-13T07:18:41.193Z"
   },
   {
    "duration": 45,
    "start_time": "2023-07-13T07:18:42.290Z"
   },
   {
    "duration": 183,
    "start_time": "2023-07-13T07:18:42.337Z"
   },
   {
    "duration": 16,
    "start_time": "2023-07-13T07:18:42.522Z"
   },
   {
    "duration": 27,
    "start_time": "2023-07-13T07:18:42.539Z"
   },
   {
    "duration": 19,
    "start_time": "2023-07-13T07:18:42.568Z"
   },
   {
    "duration": 11,
    "start_time": "2023-07-13T07:18:42.589Z"
   },
   {
    "duration": 7,
    "start_time": "2023-07-13T07:18:42.601Z"
   },
   {
    "duration": 12,
    "start_time": "2023-07-13T07:18:42.609Z"
   },
   {
    "duration": 5,
    "start_time": "2023-07-13T07:18:42.623Z"
   },
   {
    "duration": 36,
    "start_time": "2023-07-13T07:18:42.629Z"
   },
   {
    "duration": 19,
    "start_time": "2023-07-13T07:18:42.667Z"
   },
   {
    "duration": 22,
    "start_time": "2023-07-13T07:18:42.687Z"
   },
   {
    "duration": 11,
    "start_time": "2023-07-13T07:18:42.711Z"
   },
   {
    "duration": 35,
    "start_time": "2023-07-13T07:18:42.724Z"
   },
   {
    "duration": 14,
    "start_time": "2023-07-13T07:18:42.761Z"
   },
   {
    "duration": 5,
    "start_time": "2023-07-13T07:19:18.121Z"
   },
   {
    "duration": 13,
    "start_time": "2023-07-13T07:19:27.022Z"
   },
   {
    "duration": 5,
    "start_time": "2023-07-13T07:19:39.312Z"
   },
   {
    "duration": 4,
    "start_time": "2023-07-13T07:19:47.661Z"
   },
   {
    "duration": 17,
    "start_time": "2023-07-13T07:20:03.968Z"
   },
   {
    "duration": 21,
    "start_time": "2023-07-13T07:20:17.003Z"
   },
   {
    "duration": 24,
    "start_time": "2023-07-13T07:20:26.027Z"
   },
   {
    "duration": 20,
    "start_time": "2023-07-13T07:20:35.618Z"
   },
   {
    "duration": 19,
    "start_time": "2023-07-13T07:20:49.367Z"
   },
   {
    "duration": 5,
    "start_time": "2023-07-13T07:21:12.984Z"
   },
   {
    "duration": 8,
    "start_time": "2023-07-13T07:21:21.916Z"
   },
   {
    "duration": 10,
    "start_time": "2023-07-13T07:21:39.684Z"
   },
   {
    "duration": 16,
    "start_time": "2023-07-13T07:21:59.312Z"
   },
   {
    "duration": 11,
    "start_time": "2023-07-13T07:22:10.891Z"
   },
   {
    "duration": 24,
    "start_time": "2023-07-13T07:22:20.745Z"
   },
   {
    "duration": 4,
    "start_time": "2023-07-13T07:22:37.325Z"
   },
   {
    "duration": 17,
    "start_time": "2023-07-13T07:22:46.659Z"
   },
   {
    "duration": 34,
    "start_time": "2023-07-13T07:23:05.492Z"
   },
   {
    "duration": 15,
    "start_time": "2023-07-13T07:23:17.058Z"
   },
   {
    "duration": 200,
    "start_time": "2023-07-13T07:23:30.211Z"
   },
   {
    "duration": 5,
    "start_time": "2023-07-13T07:23:49.833Z"
   },
   {
    "duration": 8,
    "start_time": "2023-07-13T07:24:02.831Z"
   },
   {
    "duration": 38,
    "start_time": "2023-07-13T07:24:15.013Z"
   },
   {
    "duration": 22,
    "start_time": "2023-07-13T07:24:36.695Z"
   },
   {
    "duration": 8,
    "start_time": "2023-07-13T07:53:16.450Z"
   },
   {
    "duration": 1177,
    "start_time": "2023-07-13T07:53:21.348Z"
   },
   {
    "duration": 60,
    "start_time": "2023-07-13T07:53:22.527Z"
   },
   {
    "duration": 307,
    "start_time": "2023-07-13T07:53:22.589Z"
   },
   {
    "duration": 17,
    "start_time": "2023-07-13T07:53:22.898Z"
   },
   {
    "duration": 21,
    "start_time": "2023-07-13T07:53:22.917Z"
   },
   {
    "duration": 37,
    "start_time": "2023-07-13T07:53:22.939Z"
   },
   {
    "duration": 11,
    "start_time": "2023-07-13T07:53:22.978Z"
   },
   {
    "duration": 6,
    "start_time": "2023-07-13T07:53:22.991Z"
   },
   {
    "duration": 25,
    "start_time": "2023-07-13T07:53:22.998Z"
   },
   {
    "duration": 6,
    "start_time": "2023-07-13T07:53:23.025Z"
   },
   {
    "duration": 96,
    "start_time": "2023-07-13T07:53:23.033Z"
   },
   {
    "duration": 126,
    "start_time": "2023-07-13T07:53:23.130Z"
   },
   {
    "duration": 36,
    "start_time": "2023-07-13T07:53:23.258Z"
   },
   {
    "duration": 14,
    "start_time": "2023-07-13T07:53:23.296Z"
   },
   {
    "duration": 22,
    "start_time": "2023-07-13T07:53:23.311Z"
   },
   {
    "duration": 25,
    "start_time": "2023-07-13T07:53:23.335Z"
   },
   {
    "duration": 5,
    "start_time": "2023-07-13T07:53:23.362Z"
   },
   {
    "duration": 17,
    "start_time": "2023-07-13T07:53:23.369Z"
   },
   {
    "duration": 9,
    "start_time": "2023-07-13T07:53:23.388Z"
   },
   {
    "duration": 19,
    "start_time": "2023-07-13T07:53:23.400Z"
   },
   {
    "duration": 34,
    "start_time": "2023-07-13T07:53:23.421Z"
   },
   {
    "duration": 27,
    "start_time": "2023-07-13T07:53:23.457Z"
   },
   {
    "duration": 18,
    "start_time": "2023-07-13T07:53:23.486Z"
   },
   {
    "duration": 22,
    "start_time": "2023-07-13T07:53:23.506Z"
   },
   {
    "duration": 37,
    "start_time": "2023-07-13T07:53:23.529Z"
   },
   {
    "duration": 8,
    "start_time": "2023-07-13T07:53:23.568Z"
   },
   {
    "duration": 16,
    "start_time": "2023-07-13T07:53:23.578Z"
   },
   {
    "duration": 14,
    "start_time": "2023-07-13T07:53:23.597Z"
   },
   {
    "duration": 8,
    "start_time": "2023-07-13T07:53:23.613Z"
   },
   {
    "duration": 50,
    "start_time": "2023-07-13T07:53:23.623Z"
   },
   {
    "duration": 4,
    "start_time": "2023-07-13T07:53:23.675Z"
   },
   {
    "duration": 105,
    "start_time": "2023-07-13T07:53:23.680Z"
   },
   {
    "duration": 7,
    "start_time": "2023-07-13T07:53:23.787Z"
   },
   {
    "duration": 37,
    "start_time": "2023-07-13T07:53:23.796Z"
   },
   {
    "duration": 11,
    "start_time": "2023-07-13T07:53:23.835Z"
   },
   {
    "duration": 201,
    "start_time": "2023-07-13T07:53:23.848Z"
   },
   {
    "duration": 13,
    "start_time": "2023-07-13T07:53:24.051Z"
   },
   {
    "duration": 9,
    "start_time": "2023-07-13T07:53:24.066Z"
   },
   {
    "duration": 45,
    "start_time": "2023-07-13T07:53:24.077Z"
   },
   {
    "duration": 51,
    "start_time": "2023-07-13T07:53:24.124Z"
   },
   {
    "duration": 11,
    "start_time": "2023-07-13T07:56:21.790Z"
   },
   {
    "duration": 1213,
    "start_time": "2023-07-13T07:56:27.822Z"
   },
   {
    "duration": 60,
    "start_time": "2023-07-13T07:56:29.037Z"
   },
   {
    "duration": 216,
    "start_time": "2023-07-13T07:56:29.099Z"
   },
   {
    "duration": 17,
    "start_time": "2023-07-13T07:56:29.317Z"
   },
   {
    "duration": 33,
    "start_time": "2023-07-13T07:56:29.336Z"
   },
   {
    "duration": 19,
    "start_time": "2023-07-13T07:56:29.371Z"
   },
   {
    "duration": 11,
    "start_time": "2023-07-13T07:56:29.392Z"
   },
   {
    "duration": 15,
    "start_time": "2023-07-13T07:56:29.404Z"
   },
   {
    "duration": 13,
    "start_time": "2023-07-13T07:56:29.421Z"
   },
   {
    "duration": 23,
    "start_time": "2023-07-13T07:56:29.437Z"
   },
   {
    "duration": 7,
    "start_time": "2023-07-13T07:56:29.462Z"
   },
   {
    "duration": 37,
    "start_time": "2023-07-13T07:56:29.471Z"
   },
   {
    "duration": 21,
    "start_time": "2023-07-13T07:56:29.510Z"
   },
   {
    "duration": 10,
    "start_time": "2023-07-13T07:56:29.532Z"
   },
   {
    "duration": 17,
    "start_time": "2023-07-13T07:56:29.544Z"
   },
   {
    "duration": 14,
    "start_time": "2023-07-13T07:56:29.562Z"
   },
   {
    "duration": 22,
    "start_time": "2023-07-13T07:56:29.578Z"
   },
   {
    "duration": 19,
    "start_time": "2023-07-13T07:56:29.602Z"
   },
   {
    "duration": 5,
    "start_time": "2023-07-13T07:56:29.622Z"
   },
   {
    "duration": 6,
    "start_time": "2023-07-13T07:56:29.628Z"
   },
   {
    "duration": 30,
    "start_time": "2023-07-13T07:56:29.636Z"
   },
   {
    "duration": 21,
    "start_time": "2023-07-13T07:56:29.668Z"
   },
   {
    "duration": 19,
    "start_time": "2023-07-13T07:56:29.691Z"
   },
   {
    "duration": 48,
    "start_time": "2023-07-13T07:56:29.712Z"
   },
   {
    "duration": 19,
    "start_time": "2023-07-13T07:56:29.762Z"
   },
   {
    "duration": 13,
    "start_time": "2023-07-13T07:56:29.783Z"
   },
   {
    "duration": 14,
    "start_time": "2023-07-13T07:56:29.798Z"
   },
   {
    "duration": 18,
    "start_time": "2023-07-13T07:56:29.816Z"
   },
   {
    "duration": 11,
    "start_time": "2023-07-13T07:56:29.860Z"
   },
   {
    "duration": 27,
    "start_time": "2023-07-13T07:56:29.873Z"
   },
   {
    "duration": 3,
    "start_time": "2023-07-13T07:56:29.902Z"
   },
   {
    "duration": 26,
    "start_time": "2023-07-13T07:56:29.907Z"
   },
   {
    "duration": 37,
    "start_time": "2023-07-13T07:56:29.934Z"
   },
   {
    "duration": 33,
    "start_time": "2023-07-13T07:56:29.973Z"
   },
   {
    "duration": 15,
    "start_time": "2023-07-13T07:56:30.008Z"
   },
   {
    "duration": 242,
    "start_time": "2023-07-13T07:56:30.025Z"
   },
   {
    "duration": 4,
    "start_time": "2023-07-13T07:56:30.269Z"
   },
   {
    "duration": 57,
    "start_time": "2023-07-13T07:56:30.274Z"
   },
   {
    "duration": 76,
    "start_time": "2023-07-13T07:56:30.332Z"
   },
   {
    "duration": 24,
    "start_time": "2023-07-13T07:56:30.409Z"
   },
   {
    "duration": 34,
    "start_time": "2023-07-13T08:29:10.024Z"
   },
   {
    "duration": 5,
    "start_time": "2023-07-13T08:29:33.233Z"
   },
   {
    "duration": 4,
    "start_time": "2023-07-13T08:30:27.699Z"
   },
   {
    "duration": 10,
    "start_time": "2023-07-13T08:31:49.517Z"
   },
   {
    "duration": 22,
    "start_time": "2023-07-13T08:31:50.792Z"
   },
   {
    "duration": 5,
    "start_time": "2023-07-13T08:33:05.485Z"
   },
   {
    "duration": 5,
    "start_time": "2023-07-13T08:33:13.842Z"
   },
   {
    "duration": 5,
    "start_time": "2023-07-13T08:33:44.794Z"
   },
   {
    "duration": 5,
    "start_time": "2023-07-13T08:33:57.451Z"
   },
   {
    "duration": 4,
    "start_time": "2023-07-13T08:33:58.304Z"
   },
   {
    "duration": 250,
    "start_time": "2023-07-13T08:35:38.096Z"
   },
   {
    "duration": 223,
    "start_time": "2023-07-13T08:35:52.199Z"
   },
   {
    "duration": 11,
    "start_time": "2023-07-13T08:36:19.658Z"
   },
   {
    "duration": 1091,
    "start_time": "2023-07-13T08:36:50.400Z"
   },
   {
    "duration": 47,
    "start_time": "2023-07-13T08:36:51.493Z"
   },
   {
    "duration": 150,
    "start_time": "2023-07-13T08:36:51.541Z"
   },
   {
    "duration": 17,
    "start_time": "2023-07-13T08:36:51.694Z"
   },
   {
    "duration": 20,
    "start_time": "2023-07-13T08:36:51.714Z"
   },
   {
    "duration": 41,
    "start_time": "2023-07-13T08:36:51.736Z"
   },
   {
    "duration": 12,
    "start_time": "2023-07-13T08:36:51.779Z"
   },
   {
    "duration": 9,
    "start_time": "2023-07-13T08:36:51.792Z"
   },
   {
    "duration": 14,
    "start_time": "2023-07-13T08:36:51.803Z"
   },
   {
    "duration": 5,
    "start_time": "2023-07-13T08:36:51.819Z"
   },
   {
    "duration": 16,
    "start_time": "2023-07-13T08:36:51.826Z"
   },
   {
    "duration": 28,
    "start_time": "2023-07-13T08:36:51.844Z"
   },
   {
    "duration": 23,
    "start_time": "2023-07-13T08:36:51.874Z"
   },
   {
    "duration": 10,
    "start_time": "2023-07-13T08:36:51.901Z"
   },
   {
    "duration": 12,
    "start_time": "2023-07-13T08:36:51.913Z"
   },
   {
    "duration": 36,
    "start_time": "2023-07-13T08:36:51.927Z"
   },
   {
    "duration": 24,
    "start_time": "2023-07-13T08:36:51.965Z"
   },
   {
    "duration": 46,
    "start_time": "2023-07-13T08:36:51.991Z"
   },
   {
    "duration": 28,
    "start_time": "2023-07-13T08:36:52.039Z"
   },
   {
    "duration": 12,
    "start_time": "2023-07-13T08:36:52.068Z"
   },
   {
    "duration": 39,
    "start_time": "2023-07-13T08:36:52.082Z"
   },
   {
    "duration": 33,
    "start_time": "2023-07-13T08:36:52.122Z"
   },
   {
    "duration": 30,
    "start_time": "2023-07-13T08:36:52.156Z"
   },
   {
    "duration": 19,
    "start_time": "2023-07-13T08:36:52.188Z"
   },
   {
    "duration": 17,
    "start_time": "2023-07-13T08:36:52.209Z"
   },
   {
    "duration": 8,
    "start_time": "2023-07-13T08:36:52.227Z"
   },
   {
    "duration": 24,
    "start_time": "2023-07-13T08:36:52.236Z"
   },
   {
    "duration": 15,
    "start_time": "2023-07-13T08:36:52.262Z"
   },
   {
    "duration": 8,
    "start_time": "2023-07-13T08:36:52.279Z"
   },
   {
    "duration": 32,
    "start_time": "2023-07-13T08:36:52.288Z"
   },
   {
    "duration": 11,
    "start_time": "2023-07-13T08:36:52.321Z"
   },
   {
    "duration": 26,
    "start_time": "2023-07-13T08:36:52.333Z"
   },
   {
    "duration": 20,
    "start_time": "2023-07-13T08:36:52.361Z"
   },
   {
    "duration": 20,
    "start_time": "2023-07-13T08:36:52.382Z"
   },
   {
    "duration": 32,
    "start_time": "2023-07-13T08:36:52.404Z"
   },
   {
    "duration": 34,
    "start_time": "2023-07-13T08:36:52.438Z"
   },
   {
    "duration": 199,
    "start_time": "2023-07-13T08:36:52.474Z"
   },
   {
    "duration": 5,
    "start_time": "2023-07-13T08:36:52.675Z"
   },
   {
    "duration": 28,
    "start_time": "2023-07-13T08:36:52.682Z"
   },
   {
    "duration": 54,
    "start_time": "2023-07-13T08:36:52.712Z"
   },
   {
    "duration": 4,
    "start_time": "2023-07-13T08:36:52.770Z"
   },
   {
    "duration": 21,
    "start_time": "2023-07-13T08:36:52.775Z"
   },
   {
    "duration": 25,
    "start_time": "2023-07-13T08:36:52.797Z"
   },
   {
    "duration": 56,
    "start_time": "2023-07-13T08:36:52.824Z"
   },
   {
    "duration": 4,
    "start_time": "2023-07-13T08:36:52.882Z"
   },
   {
    "duration": 8,
    "start_time": "2023-07-13T08:36:52.887Z"
   },
   {
    "duration": 1421,
    "start_time": "2023-07-13T11:05:26.840Z"
   },
   {
    "duration": 60,
    "start_time": "2023-07-13T11:05:28.265Z"
   },
   {
    "duration": 350,
    "start_time": "2023-07-13T11:05:28.327Z"
   },
   {
    "duration": 18,
    "start_time": "2023-07-13T11:05:28.679Z"
   },
   {
    "duration": 33,
    "start_time": "2023-07-13T11:05:28.700Z"
   },
   {
    "duration": 21,
    "start_time": "2023-07-13T11:05:28.736Z"
   },
   {
    "duration": 12,
    "start_time": "2023-07-13T11:05:28.760Z"
   },
   {
    "duration": 13,
    "start_time": "2023-07-13T11:05:28.774Z"
   },
   {
    "duration": 38,
    "start_time": "2023-07-13T11:05:28.789Z"
   },
   {
    "duration": 9,
    "start_time": "2023-07-13T11:05:28.829Z"
   },
   {
    "duration": 35,
    "start_time": "2023-07-13T11:05:28.840Z"
   },
   {
    "duration": 18,
    "start_time": "2023-07-13T11:05:28.877Z"
   },
   {
    "duration": 39,
    "start_time": "2023-07-13T11:05:28.897Z"
   },
   {
    "duration": 12,
    "start_time": "2023-07-13T11:05:28.939Z"
   },
   {
    "duration": 15,
    "start_time": "2023-07-13T11:05:28.953Z"
   },
   {
    "duration": 16,
    "start_time": "2023-07-13T11:05:28.970Z"
   },
   {
    "duration": 8,
    "start_time": "2023-07-13T11:05:28.988Z"
   },
   {
    "duration": 37,
    "start_time": "2023-07-13T11:05:28.998Z"
   },
   {
    "duration": 5,
    "start_time": "2023-07-13T11:05:29.037Z"
   },
   {
    "duration": 15,
    "start_time": "2023-07-13T11:05:29.044Z"
   },
   {
    "duration": 45,
    "start_time": "2023-07-13T11:05:29.060Z"
   },
   {
    "duration": 24,
    "start_time": "2023-07-13T11:05:29.107Z"
   },
   {
    "duration": 19,
    "start_time": "2023-07-13T11:05:29.133Z"
   },
   {
    "duration": 21,
    "start_time": "2023-07-13T11:05:29.154Z"
   },
   {
    "duration": 54,
    "start_time": "2023-07-13T11:05:29.177Z"
   },
   {
    "duration": 8,
    "start_time": "2023-07-13T11:05:29.232Z"
   },
   {
    "duration": 12,
    "start_time": "2023-07-13T11:05:29.242Z"
   },
   {
    "duration": 17,
    "start_time": "2023-07-13T11:05:29.255Z"
   },
   {
    "duration": 9,
    "start_time": "2023-07-13T11:05:29.274Z"
   },
   {
    "duration": 51,
    "start_time": "2023-07-13T11:05:29.285Z"
   },
   {
    "duration": 15,
    "start_time": "2023-07-13T11:05:29.340Z"
   },
   {
    "duration": 19,
    "start_time": "2023-07-13T11:05:29.357Z"
   },
   {
    "duration": 30,
    "start_time": "2023-07-13T11:05:29.378Z"
   },
   {
    "duration": 36,
    "start_time": "2023-07-13T11:05:29.409Z"
   },
   {
    "duration": 43,
    "start_time": "2023-07-13T11:05:29.447Z"
   },
   {
    "duration": 14,
    "start_time": "2023-07-13T11:05:29.492Z"
   },
   {
    "duration": 259,
    "start_time": "2023-07-13T11:05:29.508Z"
   },
   {
    "duration": 5,
    "start_time": "2023-07-13T11:05:29.770Z"
   },
   {
    "duration": 21,
    "start_time": "2023-07-13T11:05:29.777Z"
   },
   {
    "duration": 48,
    "start_time": "2023-07-13T11:05:29.817Z"
   },
   {
    "duration": 6,
    "start_time": "2023-07-13T11:05:29.870Z"
   },
   {
    "duration": 15,
    "start_time": "2023-07-13T11:05:29.878Z"
   },
   {
    "duration": 37,
    "start_time": "2023-07-13T11:05:29.896Z"
   },
   {
    "duration": 46,
    "start_time": "2023-07-13T11:05:29.936Z"
   },
   {
    "duration": 6,
    "start_time": "2023-07-13T11:05:29.984Z"
   },
   {
    "duration": 30,
    "start_time": "2023-07-13T11:05:29.992Z"
   },
   {
    "duration": 39,
    "start_time": "2023-07-13T11:12:03.053Z"
   },
   {
    "duration": 268,
    "start_time": "2023-07-13T11:13:46.566Z"
   },
   {
    "duration": 16,
    "start_time": "2023-07-13T11:14:36.040Z"
   },
   {
    "duration": 5,
    "start_time": "2023-07-13T11:15:05.078Z"
   },
   {
    "duration": 5,
    "start_time": "2023-07-13T11:16:00.856Z"
   },
   {
    "duration": 111,
    "start_time": "2023-07-13T11:17:19.432Z"
   },
   {
    "duration": 9,
    "start_time": "2023-07-13T11:17:22.031Z"
   },
   {
    "duration": 12,
    "start_time": "2023-07-13T11:17:28.851Z"
   },
   {
    "duration": 15,
    "start_time": "2023-07-13T11:18:25.929Z"
   },
   {
    "duration": 42,
    "start_time": "2023-07-13T11:19:29.437Z"
   },
   {
    "duration": 197,
    "start_time": "2023-07-13T11:19:33.271Z"
   },
   {
    "duration": 15,
    "start_time": "2023-07-13T11:19:35.536Z"
   },
   {
    "duration": 5,
    "start_time": "2023-07-13T11:19:56.545Z"
   },
   {
    "duration": 22,
    "start_time": "2023-07-13T11:20:05.745Z"
   },
   {
    "duration": 18,
    "start_time": "2023-07-13T11:20:31.527Z"
   },
   {
    "duration": 15,
    "start_time": "2023-07-13T11:20:49.344Z"
   },
   {
    "duration": 207,
    "start_time": "2023-07-13T11:21:40.340Z"
   },
   {
    "duration": 14,
    "start_time": "2023-07-13T11:21:44.338Z"
   },
   {
    "duration": 8,
    "start_time": "2023-07-13T11:21:57.439Z"
   },
   {
    "duration": 18,
    "start_time": "2023-07-13T11:59:21.412Z"
   },
   {
    "duration": 18,
    "start_time": "2023-07-13T11:59:29.421Z"
   },
   {
    "duration": 19,
    "start_time": "2023-07-13T11:59:32.303Z"
   },
   {
    "duration": 15,
    "start_time": "2023-07-13T11:59:35.251Z"
   },
   {
    "duration": 19,
    "start_time": "2023-07-13T12:02:20.323Z"
   },
   {
    "duration": 16,
    "start_time": "2023-07-13T12:02:25.746Z"
   },
   {
    "duration": 20,
    "start_time": "2023-07-13T12:20:44.851Z"
   },
   {
    "duration": 9,
    "start_time": "2023-07-13T12:21:19.819Z"
   },
   {
    "duration": 15,
    "start_time": "2023-07-13T12:21:44.009Z"
   },
   {
    "duration": 22,
    "start_time": "2023-07-13T12:25:20.607Z"
   },
   {
    "duration": 18,
    "start_time": "2023-07-13T12:38:58.079Z"
   },
   {
    "duration": 19,
    "start_time": "2023-07-13T12:39:00.772Z"
   },
   {
    "duration": 26,
    "start_time": "2023-07-13T12:39:06.710Z"
   },
   {
    "duration": 17,
    "start_time": "2023-07-13T12:44:48.382Z"
   },
   {
    "duration": 11,
    "start_time": "2023-07-13T12:45:38.910Z"
   },
   {
    "duration": 29,
    "start_time": "2023-07-13T12:45:48.215Z"
   },
   {
    "duration": 8,
    "start_time": "2023-07-13T12:47:59.510Z"
   },
   {
    "duration": 23,
    "start_time": "2023-07-13T12:48:05.378Z"
   },
   {
    "duration": 4,
    "start_time": "2023-07-13T12:48:35.081Z"
   },
   {
    "duration": 24,
    "start_time": "2023-07-13T12:48:43.659Z"
   },
   {
    "duration": 17,
    "start_time": "2023-07-13T12:48:55.714Z"
   },
   {
    "duration": 12,
    "start_time": "2023-07-13T12:50:30.345Z"
   },
   {
    "duration": 8,
    "start_time": "2023-07-13T12:52:10.322Z"
   },
   {
    "duration": 13,
    "start_time": "2023-07-13T12:52:32.928Z"
   },
   {
    "duration": 26,
    "start_time": "2023-07-13T12:52:38.046Z"
   },
   {
    "duration": 23,
    "start_time": "2023-07-13T13:33:58.145Z"
   },
   {
    "duration": 40,
    "start_time": "2023-07-13T13:34:40.763Z"
   },
   {
    "duration": 1396,
    "start_time": "2023-07-13T19:07:32.629Z"
   },
   {
    "duration": 49,
    "start_time": "2023-07-13T19:07:34.028Z"
   },
   {
    "duration": 190,
    "start_time": "2023-07-13T19:07:34.080Z"
   },
   {
    "duration": 19,
    "start_time": "2023-07-13T19:07:34.272Z"
   },
   {
    "duration": 26,
    "start_time": "2023-07-13T19:07:34.293Z"
   },
   {
    "duration": 46,
    "start_time": "2023-07-13T19:07:34.321Z"
   },
   {
    "duration": 14,
    "start_time": "2023-07-13T19:07:34.369Z"
   },
   {
    "duration": 29,
    "start_time": "2023-07-13T19:07:34.384Z"
   },
   {
    "duration": 47,
    "start_time": "2023-07-13T19:07:34.414Z"
   },
   {
    "duration": 6,
    "start_time": "2023-07-13T19:07:34.464Z"
   },
   {
    "duration": 8,
    "start_time": "2023-07-13T19:07:34.472Z"
   },
   {
    "duration": 17,
    "start_time": "2023-07-13T19:07:34.482Z"
   },
   {
    "duration": 27,
    "start_time": "2023-07-13T19:07:34.500Z"
   },
   {
    "duration": 14,
    "start_time": "2023-07-13T19:07:34.554Z"
   },
   {
    "duration": 8,
    "start_time": "2023-07-13T19:07:34.570Z"
   },
   {
    "duration": 12,
    "start_time": "2023-07-13T19:07:34.580Z"
   },
   {
    "duration": 5,
    "start_time": "2023-07-13T19:07:34.594Z"
   },
   {
    "duration": 13,
    "start_time": "2023-07-13T19:07:34.601Z"
   },
   {
    "duration": 6,
    "start_time": "2023-07-13T19:07:34.653Z"
   },
   {
    "duration": 10,
    "start_time": "2023-07-13T19:07:34.661Z"
   },
   {
    "duration": 18,
    "start_time": "2023-07-13T19:07:34.673Z"
   },
   {
    "duration": 20,
    "start_time": "2023-07-13T19:07:34.692Z"
   },
   {
    "duration": 57,
    "start_time": "2023-07-13T19:07:34.713Z"
   },
   {
    "duration": 22,
    "start_time": "2023-07-13T19:07:34.772Z"
   },
   {
    "duration": 18,
    "start_time": "2023-07-13T19:07:34.796Z"
   },
   {
    "duration": 8,
    "start_time": "2023-07-13T19:07:34.815Z"
   },
   {
    "duration": 13,
    "start_time": "2023-07-13T19:07:34.854Z"
   },
   {
    "duration": 16,
    "start_time": "2023-07-13T19:07:34.871Z"
   },
   {
    "duration": 10,
    "start_time": "2023-07-13T19:07:34.889Z"
   },
   {
    "duration": 28,
    "start_time": "2023-07-13T19:07:34.900Z"
   },
   {
    "duration": 13,
    "start_time": "2023-07-13T19:07:34.954Z"
   },
   {
    "duration": 13,
    "start_time": "2023-07-13T19:07:34.968Z"
   },
   {
    "duration": 20,
    "start_time": "2023-07-13T19:07:34.983Z"
   },
   {
    "duration": 63,
    "start_time": "2023-07-13T19:07:35.005Z"
   },
   {
    "duration": 15,
    "start_time": "2023-07-13T19:07:35.070Z"
   },
   {
    "duration": 222,
    "start_time": "2023-07-13T19:07:35.087Z"
   },
   {
    "duration": 4,
    "start_time": "2023-07-13T19:07:35.311Z"
   },
   {
    "duration": 10,
    "start_time": "2023-07-13T19:07:35.321Z"
   },
   {
    "duration": 56,
    "start_time": "2023-07-13T19:07:35.333Z"
   },
   {
    "duration": 5,
    "start_time": "2023-07-13T19:07:35.391Z"
   },
   {
    "duration": 17,
    "start_time": "2023-07-13T19:07:35.397Z"
   },
   {
    "duration": 15,
    "start_time": "2023-07-13T19:07:35.416Z"
   },
   {
    "duration": 33,
    "start_time": "2023-07-13T19:07:35.433Z"
   },
   {
    "duration": 37,
    "start_time": "2023-07-13T19:07:35.468Z"
   },
   {
    "duration": 204,
    "start_time": "2023-07-13T19:07:35.507Z"
   },
   {
    "duration": 14,
    "start_time": "2023-07-13T19:07:35.713Z"
   },
   {
    "duration": 34,
    "start_time": "2023-07-13T19:07:35.729Z"
   },
   {
    "duration": 13,
    "start_time": "2023-07-13T19:07:35.765Z"
   },
   {
    "duration": 22,
    "start_time": "2023-07-13T19:07:35.780Z"
   },
   {
    "duration": 17,
    "start_time": "2023-07-13T19:07:35.803Z"
   },
   {
    "duration": 37,
    "start_time": "2023-07-13T19:07:35.821Z"
   },
   {
    "duration": 35,
    "start_time": "2023-07-13T19:07:35.859Z"
   },
   {
    "duration": 47,
    "start_time": "2023-07-13T19:07:35.896Z"
   },
   {
    "duration": 113,
    "start_time": "2023-07-13T19:17:35.579Z"
   },
   {
    "duration": 3,
    "start_time": "2023-07-13T19:18:00.902Z"
   },
   {
    "duration": 12,
    "start_time": "2023-07-13T19:18:11.628Z"
   },
   {
    "duration": 11,
    "start_time": "2023-07-13T19:18:25.628Z"
   },
   {
    "duration": 13,
    "start_time": "2023-07-13T19:18:32.321Z"
   },
   {
    "duration": 4,
    "start_time": "2023-07-13T19:19:50.835Z"
   },
   {
    "duration": 5,
    "start_time": "2023-07-13T19:21:11.650Z"
   },
   {
    "duration": 25,
    "start_time": "2023-07-13T19:35:02.683Z"
   },
   {
    "duration": 19,
    "start_time": "2023-07-13T19:35:21.399Z"
   },
   {
    "duration": 16,
    "start_time": "2023-07-13T19:35:29.696Z"
   },
   {
    "duration": 20,
    "start_time": "2023-07-13T19:35:56.659Z"
   },
   {
    "duration": 27,
    "start_time": "2023-07-13T19:43:04.871Z"
   },
   {
    "duration": 5,
    "start_time": "2023-07-13T19:46:15.958Z"
   },
   {
    "duration": 12,
    "start_time": "2023-07-13T19:47:04.189Z"
   },
   {
    "duration": 23,
    "start_time": "2023-07-13T19:47:09.120Z"
   },
   {
    "duration": 11,
    "start_time": "2023-07-13T19:47:12.591Z"
   },
   {
    "duration": 115,
    "start_time": "2023-07-13T19:48:11.913Z"
   },
   {
    "duration": 119,
    "start_time": "2023-07-13T19:49:47.998Z"
   },
   {
    "duration": 14,
    "start_time": "2023-07-13T19:50:39.488Z"
   },
   {
    "duration": 13,
    "start_time": "2023-07-13T19:50:47.101Z"
   },
   {
    "duration": 14,
    "start_time": "2023-07-13T19:51:11.843Z"
   },
   {
    "duration": 157,
    "start_time": "2023-07-13T19:51:35.958Z"
   },
   {
    "duration": 1306,
    "start_time": "2023-07-13T19:52:14.419Z"
   },
   {
    "duration": 60,
    "start_time": "2023-07-13T19:52:15.728Z"
   },
   {
    "duration": 282,
    "start_time": "2023-07-13T19:52:15.790Z"
   },
   {
    "duration": 19,
    "start_time": "2023-07-13T19:52:16.075Z"
   },
   {
    "duration": 23,
    "start_time": "2023-07-13T19:52:16.096Z"
   },
   {
    "duration": 42,
    "start_time": "2023-07-13T19:52:16.120Z"
   },
   {
    "duration": 12,
    "start_time": "2023-07-13T19:52:16.164Z"
   },
   {
    "duration": 8,
    "start_time": "2023-07-13T19:52:16.178Z"
   },
   {
    "duration": 17,
    "start_time": "2023-07-13T19:52:16.188Z"
   },
   {
    "duration": 6,
    "start_time": "2023-07-13T19:52:16.208Z"
   },
   {
    "duration": 13,
    "start_time": "2023-07-13T19:52:16.215Z"
   },
   {
    "duration": 18,
    "start_time": "2023-07-13T19:52:16.254Z"
   },
   {
    "duration": 24,
    "start_time": "2023-07-13T19:52:16.274Z"
   },
   {
    "duration": 12,
    "start_time": "2023-07-13T19:52:16.300Z"
   },
   {
    "duration": 13,
    "start_time": "2023-07-13T19:52:16.314Z"
   },
   {
    "duration": 39,
    "start_time": "2023-07-13T19:52:16.328Z"
   },
   {
    "duration": 5,
    "start_time": "2023-07-13T19:52:16.369Z"
   },
   {
    "duration": 14,
    "start_time": "2023-07-13T19:52:16.376Z"
   },
   {
    "duration": 5,
    "start_time": "2023-07-13T19:52:16.392Z"
   },
   {
    "duration": 4,
    "start_time": "2023-07-13T19:52:16.399Z"
   },
   {
    "duration": 57,
    "start_time": "2023-07-13T19:52:16.405Z"
   },
   {
    "duration": 17,
    "start_time": "2023-07-13T19:52:16.464Z"
   },
   {
    "duration": 14,
    "start_time": "2023-07-13T19:52:16.483Z"
   },
   {
    "duration": 58,
    "start_time": "2023-07-13T19:52:16.499Z"
   },
   {
    "duration": 4,
    "start_time": "2023-07-13T19:52:16.559Z"
   },
   {
    "duration": 23,
    "start_time": "2023-07-13T19:52:16.565Z"
   },
   {
    "duration": 255,
    "start_time": "2023-07-13T19:52:16.590Z"
   },
   {
    "duration": 20,
    "start_time": "2023-07-13T19:52:16.856Z"
   },
   {
    "duration": 9,
    "start_time": "2023-07-13T19:52:16.878Z"
   },
   {
    "duration": 17,
    "start_time": "2023-07-13T19:52:16.888Z"
   },
   {
    "duration": 17,
    "start_time": "2023-07-13T19:52:16.906Z"
   },
   {
    "duration": 36,
    "start_time": "2023-07-13T19:52:16.924Z"
   },
   {
    "duration": 25,
    "start_time": "2023-07-13T19:52:16.961Z"
   },
   {
    "duration": 17,
    "start_time": "2023-07-13T19:52:16.988Z"
   },
   {
    "duration": 15,
    "start_time": "2023-07-13T19:52:17.007Z"
   },
   {
    "duration": 52,
    "start_time": "2023-07-13T19:52:17.023Z"
   },
   {
    "duration": 39,
    "start_time": "2023-07-13T19:52:17.077Z"
   },
   {
    "duration": 41,
    "start_time": "2023-07-13T19:52:17.118Z"
   },
   {
    "duration": 219,
    "start_time": "2023-07-13T19:52:17.161Z"
   },
   {
    "duration": 6,
    "start_time": "2023-07-13T19:52:17.382Z"
   },
   {
    "duration": 12,
    "start_time": "2023-07-13T19:52:17.390Z"
   },
   {
    "duration": 68,
    "start_time": "2023-07-13T19:52:17.405Z"
   },
   {
    "duration": 5,
    "start_time": "2023-07-13T19:52:17.476Z"
   },
   {
    "duration": 9,
    "start_time": "2023-07-13T19:52:17.483Z"
   },
   {
    "duration": 17,
    "start_time": "2023-07-13T19:52:17.494Z"
   },
   {
    "duration": 50,
    "start_time": "2023-07-13T19:52:17.513Z"
   },
   {
    "duration": 56,
    "start_time": "2023-07-13T19:52:17.565Z"
   },
   {
    "duration": 217,
    "start_time": "2023-07-13T19:52:17.624Z"
   },
   {
    "duration": 20,
    "start_time": "2023-07-13T19:52:17.842Z"
   },
   {
    "duration": 16,
    "start_time": "2023-07-13T19:52:17.863Z"
   },
   {
    "duration": 15,
    "start_time": "2023-07-13T19:52:17.881Z"
   },
   {
    "duration": 57,
    "start_time": "2023-07-13T19:52:17.898Z"
   },
   {
    "duration": 19,
    "start_time": "2023-07-13T19:52:17.958Z"
   },
   {
    "duration": 13,
    "start_time": "2023-07-13T19:52:17.979Z"
   },
   {
    "duration": 22,
    "start_time": "2023-07-13T19:52:17.993Z"
   },
   {
    "duration": 62,
    "start_time": "2023-07-13T19:52:18.018Z"
   },
   {
    "duration": 14,
    "start_time": "2023-07-13T19:52:18.082Z"
   },
   {
    "duration": 5,
    "start_time": "2023-07-13T19:52:18.099Z"
   },
   {
    "duration": 225,
    "start_time": "2023-07-13T19:54:07.373Z"
   },
   {
    "duration": 15,
    "start_time": "2023-07-13T19:54:15.124Z"
   },
   {
    "duration": 32,
    "start_time": "2023-07-13T19:54:21.420Z"
   },
   {
    "duration": 3,
    "start_time": "2023-07-13T19:54:24.772Z"
   },
   {
    "duration": 12,
    "start_time": "2023-07-13T19:54:25.216Z"
   },
   {
    "duration": 161,
    "start_time": "2023-07-13T19:54:27.018Z"
   },
   {
    "duration": 5,
    "start_time": "2023-07-13T19:55:46.716Z"
   },
   {
    "duration": 10,
    "start_time": "2023-07-13T19:55:47.091Z"
   },
   {
    "duration": 168,
    "start_time": "2023-07-13T19:55:49.822Z"
   },
   {
    "duration": 77,
    "start_time": "2023-07-13T20:06:07.917Z"
   },
   {
    "duration": 333,
    "start_time": "2023-07-13T20:06:50.383Z"
   },
   {
    "duration": 326,
    "start_time": "2023-07-13T20:07:14.805Z"
   },
   {
    "duration": 419,
    "start_time": "2023-07-13T20:13:43.372Z"
   },
   {
    "duration": 405,
    "start_time": "2023-07-13T20:13:54.505Z"
   },
   {
    "duration": 78,
    "start_time": "2023-07-13T20:15:37.803Z"
   },
   {
    "duration": 520,
    "start_time": "2023-07-13T20:15:44.784Z"
   },
   {
    "duration": 389,
    "start_time": "2023-07-13T20:16:19.703Z"
   },
   {
    "duration": 1315,
    "start_time": "2023-07-13T20:19:36.648Z"
   },
   {
    "duration": 554,
    "start_time": "2023-07-13T20:19:37.966Z"
   },
   {
    "duration": 220,
    "start_time": "2023-07-13T20:19:38.521Z"
   },
   {
    "duration": 27,
    "start_time": "2023-07-13T20:19:38.744Z"
   },
   {
    "duration": 32,
    "start_time": "2023-07-13T20:19:38.773Z"
   },
   {
    "duration": 20,
    "start_time": "2023-07-13T20:19:38.807Z"
   },
   {
    "duration": 19,
    "start_time": "2023-07-13T20:19:38.828Z"
   },
   {
    "duration": 23,
    "start_time": "2023-07-13T20:19:38.849Z"
   },
   {
    "duration": 28,
    "start_time": "2023-07-13T20:19:38.874Z"
   },
   {
    "duration": 9,
    "start_time": "2023-07-13T20:19:38.905Z"
   },
   {
    "duration": 12,
    "start_time": "2023-07-13T20:19:38.916Z"
   },
   {
    "duration": 32,
    "start_time": "2023-07-13T20:19:38.929Z"
   },
   {
    "duration": 29,
    "start_time": "2023-07-13T20:19:38.963Z"
   },
   {
    "duration": 11,
    "start_time": "2023-07-13T20:19:38.993Z"
   },
   {
    "duration": 29,
    "start_time": "2023-07-13T20:19:39.006Z"
   },
   {
    "duration": 31,
    "start_time": "2023-07-13T20:19:39.036Z"
   },
   {
    "duration": 11,
    "start_time": "2023-07-13T20:19:39.070Z"
   },
   {
    "duration": 35,
    "start_time": "2023-07-13T20:19:39.083Z"
   },
   {
    "duration": 15,
    "start_time": "2023-07-13T20:19:39.121Z"
   },
   {
    "duration": 38,
    "start_time": "2023-07-13T20:19:39.138Z"
   },
   {
    "duration": 34,
    "start_time": "2023-07-13T20:19:39.178Z"
   },
   {
    "duration": 11,
    "start_time": "2023-07-13T20:19:39.213Z"
   },
   {
    "duration": 25,
    "start_time": "2023-07-13T20:19:39.225Z"
   },
   {
    "duration": 27,
    "start_time": "2023-07-13T20:19:39.251Z"
   },
   {
    "duration": 22,
    "start_time": "2023-07-13T20:19:39.280Z"
   },
   {
    "duration": 28,
    "start_time": "2023-07-13T20:19:39.303Z"
   },
   {
    "duration": 16,
    "start_time": "2023-07-13T20:19:39.333Z"
   },
   {
    "duration": 30,
    "start_time": "2023-07-13T20:19:39.353Z"
   },
   {
    "duration": 28,
    "start_time": "2023-07-13T20:19:39.385Z"
   },
   {
    "duration": 4,
    "start_time": "2023-07-13T20:19:39.414Z"
   },
   {
    "duration": 34,
    "start_time": "2023-07-13T20:19:39.420Z"
   },
   {
    "duration": 230,
    "start_time": "2023-07-13T20:19:39.457Z"
   },
   {
    "duration": 386,
    "start_time": "2023-07-13T20:19:39.688Z"
   },
   {
    "duration": 22,
    "start_time": "2023-07-13T20:19:40.076Z"
   },
   {
    "duration": 22,
    "start_time": "2023-07-13T20:19:40.100Z"
   },
   {
    "duration": 32,
    "start_time": "2023-07-13T20:19:40.124Z"
   },
   {
    "duration": 28,
    "start_time": "2023-07-13T20:19:40.159Z"
   },
   {
    "duration": 40,
    "start_time": "2023-07-13T20:19:40.189Z"
   },
   {
    "duration": 27,
    "start_time": "2023-07-13T20:19:40.230Z"
   },
   {
    "duration": 226,
    "start_time": "2023-07-13T20:19:40.259Z"
   },
   {
    "duration": 4,
    "start_time": "2023-07-13T20:19:40.487Z"
   },
   {
    "duration": 19,
    "start_time": "2023-07-13T20:19:40.493Z"
   },
   {
    "duration": 66,
    "start_time": "2023-07-13T20:19:40.515Z"
   },
   {
    "duration": 4,
    "start_time": "2023-07-13T20:19:40.583Z"
   },
   {
    "duration": 20,
    "start_time": "2023-07-13T20:19:40.589Z"
   },
   {
    "duration": 17,
    "start_time": "2023-07-13T20:19:40.612Z"
   },
   {
    "duration": 43,
    "start_time": "2023-07-13T20:19:40.631Z"
   },
   {
    "duration": 39,
    "start_time": "2023-07-13T20:19:40.676Z"
   },
   {
    "duration": 215,
    "start_time": "2023-07-13T20:19:40.717Z"
   },
   {
    "duration": 28,
    "start_time": "2023-07-13T20:19:40.934Z"
   },
   {
    "duration": 17,
    "start_time": "2023-07-13T20:19:40.965Z"
   },
   {
    "duration": 18,
    "start_time": "2023-07-13T20:19:40.984Z"
   },
   {
    "duration": 33,
    "start_time": "2023-07-13T20:19:41.004Z"
   },
   {
    "duration": 36,
    "start_time": "2023-07-13T20:19:41.039Z"
   },
   {
    "duration": 12,
    "start_time": "2023-07-13T20:19:41.076Z"
   },
   {
    "duration": 27,
    "start_time": "2023-07-13T20:19:41.090Z"
   },
   {
    "duration": 42,
    "start_time": "2023-07-13T20:19:41.119Z"
   },
   {
    "duration": 13,
    "start_time": "2023-07-13T20:19:41.164Z"
   },
   {
    "duration": 4,
    "start_time": "2023-07-13T20:19:41.179Z"
   },
   {
    "duration": 11,
    "start_time": "2023-07-13T20:43:40.068Z"
   },
   {
    "duration": 1262,
    "start_time": "2023-07-13T20:44:23.930Z"
   },
   {
    "duration": 50,
    "start_time": "2023-07-13T20:44:25.194Z"
   },
   {
    "duration": 230,
    "start_time": "2023-07-13T20:44:25.246Z"
   },
   {
    "duration": 19,
    "start_time": "2023-07-13T20:44:25.479Z"
   },
   {
    "duration": 24,
    "start_time": "2023-07-13T20:44:25.500Z"
   },
   {
    "duration": 56,
    "start_time": "2023-07-13T20:44:25.525Z"
   },
   {
    "duration": 14,
    "start_time": "2023-07-13T20:44:25.583Z"
   },
   {
    "duration": 7,
    "start_time": "2023-07-13T20:44:25.599Z"
   },
   {
    "duration": 13,
    "start_time": "2023-07-13T20:44:25.608Z"
   },
   {
    "duration": 43,
    "start_time": "2023-07-13T20:44:25.625Z"
   },
   {
    "duration": 10,
    "start_time": "2023-07-13T20:44:25.670Z"
   },
   {
    "duration": 18,
    "start_time": "2023-07-13T20:44:25.682Z"
   },
   {
    "duration": 22,
    "start_time": "2023-07-13T20:44:25.702Z"
   },
   {
    "duration": 43,
    "start_time": "2023-07-13T20:44:25.726Z"
   },
   {
    "duration": 8,
    "start_time": "2023-07-13T20:44:25.773Z"
   },
   {
    "duration": 14,
    "start_time": "2023-07-13T20:44:25.782Z"
   },
   {
    "duration": 6,
    "start_time": "2023-07-13T20:44:25.797Z"
   },
   {
    "duration": 19,
    "start_time": "2023-07-13T20:44:25.805Z"
   },
   {
    "duration": 40,
    "start_time": "2023-07-13T20:44:25.826Z"
   },
   {
    "duration": 6,
    "start_time": "2023-07-13T20:44:25.868Z"
   },
   {
    "duration": 20,
    "start_time": "2023-07-13T20:44:25.875Z"
   },
   {
    "duration": 9,
    "start_time": "2023-07-13T20:44:25.896Z"
   },
   {
    "duration": 12,
    "start_time": "2023-07-13T20:44:25.907Z"
   },
   {
    "duration": 52,
    "start_time": "2023-07-13T20:44:25.921Z"
   },
   {
    "duration": 10,
    "start_time": "2023-07-13T20:44:25.975Z"
   },
   {
    "duration": 16,
    "start_time": "2023-07-13T20:44:25.986Z"
   },
   {
    "duration": 13,
    "start_time": "2023-07-13T20:44:26.004Z"
   },
   {
    "duration": 21,
    "start_time": "2023-07-13T20:44:26.053Z"
   },
   {
    "duration": 24,
    "start_time": "2023-07-13T20:44:26.076Z"
   },
   {
    "duration": 4,
    "start_time": "2023-07-13T20:44:26.102Z"
   },
   {
    "duration": 14,
    "start_time": "2023-07-13T20:44:26.108Z"
   },
   {
    "duration": 219,
    "start_time": "2023-07-13T20:44:26.124Z"
   },
   {
    "duration": 419,
    "start_time": "2023-07-13T20:44:26.347Z"
   },
   {
    "duration": 28,
    "start_time": "2023-07-13T20:44:26.768Z"
   },
   {
    "duration": 14,
    "start_time": "2023-07-13T20:44:26.798Z"
   },
   {
    "duration": 65,
    "start_time": "2023-07-13T20:44:26.814Z"
   },
   {
    "duration": 14,
    "start_time": "2023-07-13T20:44:26.881Z"
   },
   {
    "duration": 232,
    "start_time": "2023-07-13T20:44:26.897Z"
   },
   {
    "duration": 5,
    "start_time": "2023-07-13T20:44:27.131Z"
   },
   {
    "duration": 45,
    "start_time": "2023-07-13T20:44:27.138Z"
   },
   {
    "duration": 7,
    "start_time": "2023-07-13T20:44:27.185Z"
   },
   {
    "duration": 38,
    "start_time": "2023-07-13T20:44:27.193Z"
   },
   {
    "duration": 25,
    "start_time": "2023-07-13T20:44:27.234Z"
   },
   {
    "duration": 12,
    "start_time": "2023-07-13T20:44:27.261Z"
   },
   {
    "duration": 12,
    "start_time": "2023-07-13T20:44:27.275Z"
   },
   {
    "duration": 31,
    "start_time": "2023-07-13T20:44:27.290Z"
   },
   {
    "duration": 86,
    "start_time": "2023-07-13T20:44:27.324Z"
   },
   {
    "duration": 237,
    "start_time": "2023-07-13T20:44:27.412Z"
   },
   {
    "duration": 22,
    "start_time": "2023-07-13T20:44:27.655Z"
   },
   {
    "duration": 25,
    "start_time": "2023-07-13T20:44:27.682Z"
   },
   {
    "duration": 20,
    "start_time": "2023-07-13T20:44:27.711Z"
   },
   {
    "duration": 35,
    "start_time": "2023-07-13T20:44:27.761Z"
   },
   {
    "duration": 21,
    "start_time": "2023-07-13T20:44:27.798Z"
   },
   {
    "duration": 33,
    "start_time": "2023-07-13T20:44:27.821Z"
   },
   {
    "duration": 41,
    "start_time": "2023-07-13T20:44:27.856Z"
   },
   {
    "duration": 29,
    "start_time": "2023-07-13T20:44:27.899Z"
   },
   {
    "duration": 31,
    "start_time": "2023-07-13T20:44:27.930Z"
   },
   {
    "duration": 8,
    "start_time": "2023-07-13T20:44:27.963Z"
   },
   {
    "duration": 6,
    "start_time": "2023-07-13T20:47:43.118Z"
   },
   {
    "duration": 6,
    "start_time": "2023-07-13T20:47:51.078Z"
   },
   {
    "duration": 5,
    "start_time": "2023-07-13T20:48:07.220Z"
   },
   {
    "duration": 110,
    "start_time": "2023-07-13T20:50:29.183Z"
   },
   {
    "duration": 14,
    "start_time": "2023-07-13T20:50:35.683Z"
   },
   {
    "duration": 173,
    "start_time": "2023-07-13T20:50:36.007Z"
   },
   {
    "duration": 218,
    "start_time": "2023-07-13T20:50:44.473Z"
   },
   {
    "duration": 56,
    "start_time": "2023-07-13T20:52:58.468Z"
   },
   {
    "duration": 395,
    "start_time": "2023-07-13T20:53:05.310Z"
   },
   {
    "duration": 278,
    "start_time": "2023-07-13T20:53:14.782Z"
   },
   {
    "duration": 280,
    "start_time": "2023-07-13T20:53:22.395Z"
   },
   {
    "duration": 265,
    "start_time": "2023-07-13T20:53:27.579Z"
   },
   {
    "duration": 240,
    "start_time": "2023-07-13T20:54:58.251Z"
   },
   {
    "duration": 277,
    "start_time": "2023-07-13T20:55:13.822Z"
   },
   {
    "duration": 6,
    "start_time": "2023-07-13T20:56:14.427Z"
   },
   {
    "duration": 25,
    "start_time": "2023-07-13T20:56:15.104Z"
   },
   {
    "duration": 27,
    "start_time": "2023-07-13T20:56:27.978Z"
   },
   {
    "duration": 25,
    "start_time": "2023-07-13T20:57:07.282Z"
   },
   {
    "duration": 7,
    "start_time": "2023-07-13T20:57:17.538Z"
   },
   {
    "duration": 36,
    "start_time": "2023-07-13T20:58:50.868Z"
   },
   {
    "duration": 405,
    "start_time": "2023-07-13T21:00:09.568Z"
   },
   {
    "duration": 321,
    "start_time": "2023-07-13T21:00:47.505Z"
   },
   {
    "duration": 3,
    "start_time": "2023-07-13T21:02:18.392Z"
   },
   {
    "duration": 4,
    "start_time": "2023-07-13T21:03:01.102Z"
   },
   {
    "duration": 26,
    "start_time": "2023-07-13T21:03:55.211Z"
   },
   {
    "duration": 5,
    "start_time": "2023-07-13T21:07:55.620Z"
   },
   {
    "duration": 16,
    "start_time": "2023-07-13T21:08:02.972Z"
   },
   {
    "duration": 23,
    "start_time": "2023-07-13T21:08:10.628Z"
   },
   {
    "duration": 65,
    "start_time": "2023-07-13T21:08:28.278Z"
   },
   {
    "duration": 16,
    "start_time": "2023-07-13T21:08:37.731Z"
   },
   {
    "duration": 16,
    "start_time": "2023-07-13T21:09:44.900Z"
   },
   {
    "duration": 22,
    "start_time": "2023-07-13T21:09:52.215Z"
   },
   {
    "duration": 27,
    "start_time": "2023-07-13T21:10:40.991Z"
   },
   {
    "duration": 26,
    "start_time": "2023-07-13T21:12:21.407Z"
   },
   {
    "duration": 27,
    "start_time": "2023-07-13T21:14:10.583Z"
   },
   {
    "duration": 33,
    "start_time": "2023-07-13T21:14:33.220Z"
   },
   {
    "duration": 32,
    "start_time": "2023-07-13T21:15:07.970Z"
   },
   {
    "duration": 34,
    "start_time": "2023-07-13T21:16:11.951Z"
   },
   {
    "duration": 29,
    "start_time": "2023-07-13T21:16:39.842Z"
   },
   {
    "duration": 1352,
    "start_time": "2023-07-14T06:45:13.721Z"
   },
   {
    "duration": 184,
    "start_time": "2023-07-14T06:45:15.076Z"
   },
   {
    "duration": 272,
    "start_time": "2023-07-14T06:45:15.262Z"
   },
   {
    "duration": 16,
    "start_time": "2023-07-14T06:45:15.536Z"
   },
   {
    "duration": 26,
    "start_time": "2023-07-14T06:45:15.554Z"
   },
   {
    "duration": 31,
    "start_time": "2023-07-14T06:45:15.582Z"
   },
   {
    "duration": 24,
    "start_time": "2023-07-14T06:45:15.615Z"
   },
   {
    "duration": 27,
    "start_time": "2023-07-14T06:45:15.641Z"
   },
   {
    "duration": 34,
    "start_time": "2023-07-14T06:45:15.670Z"
   },
   {
    "duration": 23,
    "start_time": "2023-07-14T06:45:15.706Z"
   },
   {
    "duration": 15,
    "start_time": "2023-07-14T06:45:15.731Z"
   },
   {
    "duration": 31,
    "start_time": "2023-07-14T06:45:15.747Z"
   },
   {
    "duration": 33,
    "start_time": "2023-07-14T06:45:15.779Z"
   },
   {
    "duration": 11,
    "start_time": "2023-07-14T06:45:15.813Z"
   },
   {
    "duration": 16,
    "start_time": "2023-07-14T06:45:15.825Z"
   },
   {
    "duration": 18,
    "start_time": "2023-07-14T06:45:15.843Z"
   },
   {
    "duration": 29,
    "start_time": "2023-07-14T06:45:15.862Z"
   },
   {
    "duration": 12,
    "start_time": "2023-07-14T06:45:15.893Z"
   },
   {
    "duration": 4,
    "start_time": "2023-07-14T06:45:15.907Z"
   },
   {
    "duration": 7,
    "start_time": "2023-07-14T06:45:15.913Z"
   },
   {
    "duration": 17,
    "start_time": "2023-07-14T06:45:15.922Z"
   },
   {
    "duration": 8,
    "start_time": "2023-07-14T06:45:15.940Z"
   },
   {
    "duration": 14,
    "start_time": "2023-07-14T06:45:15.950Z"
   },
   {
    "duration": 20,
    "start_time": "2023-07-14T06:45:15.966Z"
   },
   {
    "duration": 26,
    "start_time": "2023-07-14T06:45:15.987Z"
   },
   {
    "duration": 17,
    "start_time": "2023-07-14T06:45:16.015Z"
   },
   {
    "duration": 13,
    "start_time": "2023-07-14T06:45:16.034Z"
   },
   {
    "duration": 12,
    "start_time": "2023-07-14T06:45:16.050Z"
   },
   {
    "duration": 20,
    "start_time": "2023-07-14T06:45:16.064Z"
   },
   {
    "duration": 28,
    "start_time": "2023-07-14T06:45:16.086Z"
   },
   {
    "duration": 23,
    "start_time": "2023-07-14T06:45:16.115Z"
   },
   {
    "duration": 149,
    "start_time": "2023-07-14T06:45:16.140Z"
   },
   {
    "duration": 354,
    "start_time": "2023-07-14T06:45:16.291Z"
   },
   {
    "duration": 5,
    "start_time": "2023-07-14T06:45:16.647Z"
   },
   {
    "duration": 37,
    "start_time": "2023-07-14T06:45:16.654Z"
   },
   {
    "duration": 30,
    "start_time": "2023-07-14T06:45:16.693Z"
   },
   {
    "duration": 31,
    "start_time": "2023-07-14T06:45:16.725Z"
   },
   {
    "duration": 16,
    "start_time": "2023-07-14T06:45:16.758Z"
   },
   {
    "duration": 193,
    "start_time": "2023-07-14T06:45:16.776Z"
   },
   {
    "duration": 4,
    "start_time": "2023-07-14T06:45:16.970Z"
   },
   {
    "duration": 39,
    "start_time": "2023-07-14T06:45:16.975Z"
   },
   {
    "duration": 33,
    "start_time": "2023-07-14T06:45:17.015Z"
   },
   {
    "duration": 4,
    "start_time": "2023-07-14T06:45:17.050Z"
   },
   {
    "duration": 15,
    "start_time": "2023-07-14T06:45:17.055Z"
   },
   {
    "duration": 10,
    "start_time": "2023-07-14T06:45:17.072Z"
   },
   {
    "duration": 40,
    "start_time": "2023-07-14T06:45:17.083Z"
   },
   {
    "duration": 32,
    "start_time": "2023-07-14T06:45:17.124Z"
   },
   {
    "duration": 270,
    "start_time": "2023-07-14T06:45:17.157Z"
   },
   {
    "duration": 4,
    "start_time": "2023-07-14T06:45:17.429Z"
   },
   {
    "duration": 78,
    "start_time": "2023-07-14T06:45:17.435Z"
   },
   {
    "duration": 32,
    "start_time": "2023-07-14T06:45:17.515Z"
   },
   {
    "duration": 279,
    "start_time": "2023-07-14T06:45:17.549Z"
   },
   {
    "duration": 22,
    "start_time": "2023-07-14T06:45:17.829Z"
   },
   {
    "duration": 38,
    "start_time": "2023-07-14T06:45:17.852Z"
   },
   {
    "duration": 35,
    "start_time": "2023-07-14T06:45:17.892Z"
   },
   {
    "duration": 13,
    "start_time": "2023-07-14T06:45:17.929Z"
   },
   {
    "duration": 59,
    "start_time": "2023-07-14T06:45:17.944Z"
   },
   {
    "duration": 69,
    "start_time": "2023-07-14T06:45:18.005Z"
   },
   {
    "duration": 16,
    "start_time": "2023-07-14T06:45:18.076Z"
   },
   {
    "duration": 5,
    "start_time": "2023-07-14T06:45:18.094Z"
   },
   {
    "duration": 3,
    "start_time": "2023-07-14T06:49:27.955Z"
   },
   {
    "duration": 15,
    "start_time": "2023-07-14T06:49:32.639Z"
   },
   {
    "duration": 31,
    "start_time": "2023-07-14T06:50:16.117Z"
   },
   {
    "duration": 17,
    "start_time": "2023-07-14T06:50:16.693Z"
   },
   {
    "duration": 27,
    "start_time": "2023-07-14T06:51:55.529Z"
   },
   {
    "duration": 32,
    "start_time": "2023-07-14T06:54:52.753Z"
   },
   {
    "duration": 36,
    "start_time": "2023-07-14T06:55:11.293Z"
   },
   {
    "duration": 50,
    "start_time": "2023-07-14T06:57:12.763Z"
   },
   {
    "duration": 33,
    "start_time": "2023-07-14T06:57:48.923Z"
   },
   {
    "duration": 31,
    "start_time": "2023-07-14T06:58:25.230Z"
   },
   {
    "duration": 4,
    "start_time": "2023-07-14T07:02:02.075Z"
   },
   {
    "duration": 25,
    "start_time": "2023-07-14T07:03:08.408Z"
   },
   {
    "duration": 20,
    "start_time": "2023-07-14T07:03:46.108Z"
   },
   {
    "duration": 6,
    "start_time": "2023-07-14T07:04:04.363Z"
   },
   {
    "duration": 15,
    "start_time": "2023-07-14T07:08:09.418Z"
   },
   {
    "duration": 11,
    "start_time": "2023-07-14T07:40:27.381Z"
   },
   {
    "duration": 17,
    "start_time": "2023-07-14T07:41:09.987Z"
   },
   {
    "duration": 28,
    "start_time": "2023-07-14T07:41:20.142Z"
   },
   {
    "duration": 28,
    "start_time": "2023-07-14T07:41:34.680Z"
   },
   {
    "duration": 29,
    "start_time": "2023-07-14T07:41:53.726Z"
   },
   {
    "duration": 1292,
    "start_time": "2023-07-14T07:42:11.515Z"
   },
   {
    "duration": 67,
    "start_time": "2023-07-14T07:42:12.809Z"
   },
   {
    "duration": 180,
    "start_time": "2023-07-14T07:42:12.879Z"
   },
   {
    "duration": 19,
    "start_time": "2023-07-14T07:42:13.061Z"
   },
   {
    "duration": 33,
    "start_time": "2023-07-14T07:42:13.082Z"
   },
   {
    "duration": 29,
    "start_time": "2023-07-14T07:42:13.118Z"
   },
   {
    "duration": 10,
    "start_time": "2023-07-14T07:42:13.149Z"
   },
   {
    "duration": 41,
    "start_time": "2023-07-14T07:42:13.161Z"
   },
   {
    "duration": 18,
    "start_time": "2023-07-14T07:42:13.204Z"
   },
   {
    "duration": 8,
    "start_time": "2023-07-14T07:42:13.226Z"
   },
   {
    "duration": 16,
    "start_time": "2023-07-14T07:42:13.236Z"
   },
   {
    "duration": 23,
    "start_time": "2023-07-14T07:42:13.254Z"
   },
   {
    "duration": 22,
    "start_time": "2023-07-14T07:42:13.279Z"
   },
   {
    "duration": 11,
    "start_time": "2023-07-14T07:42:13.313Z"
   },
   {
    "duration": 21,
    "start_time": "2023-07-14T07:42:13.326Z"
   },
   {
    "duration": 13,
    "start_time": "2023-07-14T07:42:13.349Z"
   },
   {
    "duration": 21,
    "start_time": "2023-07-14T07:42:13.364Z"
   },
   {
    "duration": 16,
    "start_time": "2023-07-14T07:42:13.386Z"
   },
   {
    "duration": 24,
    "start_time": "2023-07-14T07:42:13.403Z"
   },
   {
    "duration": 15,
    "start_time": "2023-07-14T07:42:13.430Z"
   },
   {
    "duration": 42,
    "start_time": "2023-07-14T07:42:13.447Z"
   },
   {
    "duration": 8,
    "start_time": "2023-07-14T07:42:13.490Z"
   },
   {
    "duration": 11,
    "start_time": "2023-07-14T07:42:13.499Z"
   },
   {
    "duration": 16,
    "start_time": "2023-07-14T07:42:13.512Z"
   },
   {
    "duration": 11,
    "start_time": "2023-07-14T07:42:13.530Z"
   },
   {
    "duration": 29,
    "start_time": "2023-07-14T07:42:13.542Z"
   },
   {
    "duration": 19,
    "start_time": "2023-07-14T07:42:13.572Z"
   },
   {
    "duration": 23,
    "start_time": "2023-07-14T07:42:13.612Z"
   },
   {
    "duration": 21,
    "start_time": "2023-07-14T07:42:13.637Z"
   },
   {
    "duration": 3,
    "start_time": "2023-07-14T07:42:13.660Z"
   },
   {
    "duration": 37,
    "start_time": "2023-07-14T07:42:13.665Z"
   },
   {
    "duration": 192,
    "start_time": "2023-07-14T07:42:13.704Z"
   },
   {
    "duration": 386,
    "start_time": "2023-07-14T07:42:13.897Z"
   },
   {
    "duration": 5,
    "start_time": "2023-07-14T07:42:14.284Z"
   },
   {
    "duration": 24,
    "start_time": "2023-07-14T07:42:14.290Z"
   },
   {
    "duration": 35,
    "start_time": "2023-07-14T07:42:14.317Z"
   },
   {
    "duration": 32,
    "start_time": "2023-07-14T07:42:14.354Z"
   },
   {
    "duration": 38,
    "start_time": "2023-07-14T07:42:14.388Z"
   },
   {
    "duration": 230,
    "start_time": "2023-07-14T07:42:14.428Z"
   },
   {
    "duration": 4,
    "start_time": "2023-07-14T07:42:14.659Z"
   },
   {
    "duration": 27,
    "start_time": "2023-07-14T07:42:14.665Z"
   },
   {
    "duration": 48,
    "start_time": "2023-07-14T07:42:14.694Z"
   },
   {
    "duration": 5,
    "start_time": "2023-07-14T07:42:14.745Z"
   },
   {
    "duration": 6,
    "start_time": "2023-07-14T07:42:14.752Z"
   },
   {
    "duration": 13,
    "start_time": "2023-07-14T07:42:14.760Z"
   },
   {
    "duration": 41,
    "start_time": "2023-07-14T07:42:14.775Z"
   },
   {
    "duration": 47,
    "start_time": "2023-07-14T07:42:14.819Z"
   },
   {
    "duration": 298,
    "start_time": "2023-07-14T07:42:14.868Z"
   },
   {
    "duration": 3,
    "start_time": "2023-07-14T07:42:15.168Z"
   },
   {
    "duration": 108,
    "start_time": "2023-07-14T07:42:15.173Z"
   },
   {
    "duration": 17,
    "start_time": "2023-07-14T07:42:15.283Z"
   },
   {
    "duration": 253,
    "start_time": "2023-07-14T07:42:15.302Z"
   },
   {
    "duration": 21,
    "start_time": "2023-07-14T07:42:15.556Z"
   },
   {
    "duration": 61,
    "start_time": "2023-07-14T07:42:15.578Z"
   },
   {
    "duration": 18,
    "start_time": "2023-07-14T07:42:15.642Z"
   },
   {
    "duration": 27,
    "start_time": "2023-07-14T07:42:15.661Z"
   },
   {
    "duration": 42,
    "start_time": "2023-07-14T07:42:15.690Z"
   },
   {
    "duration": 3,
    "start_time": "2023-07-14T07:42:15.736Z"
   },
   {
    "duration": 28,
    "start_time": "2023-07-14T07:42:15.741Z"
   },
   {
    "duration": 19,
    "start_time": "2023-07-14T07:42:15.771Z"
   },
   {
    "duration": 16,
    "start_time": "2023-07-14T07:42:15.791Z"
   },
   {
    "duration": 49,
    "start_time": "2023-07-14T07:42:15.808Z"
   },
   {
    "duration": 13,
    "start_time": "2023-07-14T07:42:15.859Z"
   },
   {
    "duration": 34,
    "start_time": "2023-07-14T07:42:15.874Z"
   },
   {
    "duration": 22,
    "start_time": "2023-07-14T07:42:15.909Z"
   },
   {
    "duration": 23,
    "start_time": "2023-07-14T07:42:15.934Z"
   },
   {
    "duration": 25,
    "start_time": "2023-07-14T07:42:15.959Z"
   },
   {
    "duration": 44,
    "start_time": "2023-07-14T07:42:15.985Z"
   },
   {
    "duration": 7,
    "start_time": "2023-07-14T07:42:16.032Z"
   },
   {
    "duration": 34,
    "start_time": "2023-07-14T07:46:47.031Z"
   },
   {
    "duration": 17,
    "start_time": "2023-07-14T07:49:17.870Z"
   },
   {
    "duration": 14,
    "start_time": "2023-07-14T07:49:31.341Z"
   },
   {
    "duration": 17,
    "start_time": "2023-07-14T07:49:32.810Z"
   },
   {
    "duration": 109,
    "start_time": "2023-07-14T08:00:47.667Z"
   },
   {
    "duration": 17,
    "start_time": "2023-07-14T08:00:51.244Z"
   },
   {
    "duration": 70,
    "start_time": "2023-07-14T08:00:56.292Z"
   },
   {
    "duration": 18,
    "start_time": "2023-07-14T08:00:58.910Z"
   },
   {
    "duration": 22,
    "start_time": "2023-07-14T08:02:10.392Z"
   },
   {
    "duration": 15,
    "start_time": "2023-07-14T08:05:45.800Z"
   },
   {
    "duration": 779,
    "start_time": "2023-07-14T08:09:39.173Z"
   },
   {
    "duration": 786,
    "start_time": "2023-07-14T08:09:50.655Z"
   },
   {
    "duration": 25,
    "start_time": "2023-07-14T08:10:03.707Z"
   },
   {
    "duration": 18,
    "start_time": "2023-07-14T08:11:24.148Z"
   },
   {
    "duration": 22,
    "start_time": "2023-07-14T08:11:59.497Z"
   },
   {
    "duration": 26,
    "start_time": "2023-07-14T08:12:49.799Z"
   },
   {
    "duration": 20,
    "start_time": "2023-07-14T08:12:53.133Z"
   },
   {
    "duration": 18,
    "start_time": "2023-07-14T08:14:35.479Z"
   },
   {
    "duration": 17,
    "start_time": "2023-07-14T08:15:28.050Z"
   },
   {
    "duration": 26,
    "start_time": "2023-07-14T08:16:39.833Z"
   },
   {
    "duration": 39,
    "start_time": "2023-07-14T08:17:36.989Z"
   },
   {
    "duration": 19,
    "start_time": "2023-07-14T08:17:47.824Z"
   },
   {
    "duration": 30,
    "start_time": "2023-07-14T08:18:51.255Z"
   },
   {
    "duration": 40,
    "start_time": "2023-07-14T08:20:38.252Z"
   },
   {
    "duration": 39,
    "start_time": "2023-07-14T08:21:18.125Z"
   },
   {
    "duration": 34,
    "start_time": "2023-07-14T08:21:33.182Z"
   },
   {
    "duration": 15,
    "start_time": "2023-07-14T08:22:08.984Z"
   },
   {
    "duration": 6,
    "start_time": "2023-07-14T08:24:21.262Z"
   },
   {
    "duration": 9,
    "start_time": "2023-07-14T08:24:25.956Z"
   },
   {
    "duration": 8,
    "start_time": "2023-07-14T08:24:52.817Z"
   },
   {
    "duration": 6,
    "start_time": "2023-07-14T08:25:06.214Z"
   },
   {
    "duration": 2,
    "start_time": "2023-07-14T08:25:59.281Z"
   },
   {
    "duration": 29,
    "start_time": "2023-07-14T08:29:32.114Z"
   },
   {
    "duration": 13,
    "start_time": "2023-07-14T08:30:12.193Z"
   },
   {
    "duration": 18,
    "start_time": "2023-07-14T08:30:17.755Z"
   },
   {
    "duration": 16,
    "start_time": "2023-07-14T08:30:22.262Z"
   },
   {
    "duration": 19,
    "start_time": "2023-07-14T08:31:04.503Z"
   },
   {
    "duration": 96,
    "start_time": "2023-07-14T08:32:08.126Z"
   },
   {
    "duration": 23,
    "start_time": "2023-07-14T08:32:16.502Z"
   },
   {
    "duration": 38,
    "start_time": "2023-07-14T08:33:34.099Z"
   },
   {
    "duration": 8,
    "start_time": "2023-07-14T08:34:09.478Z"
   },
   {
    "duration": 9,
    "start_time": "2023-07-14T08:36:14.670Z"
   },
   {
    "duration": 1481,
    "start_time": "2023-07-14T11:06:09.632Z"
   },
   {
    "duration": 100,
    "start_time": "2023-07-14T11:06:11.115Z"
   },
   {
    "duration": 209,
    "start_time": "2023-07-14T11:06:11.218Z"
   },
   {
    "duration": 18,
    "start_time": "2023-07-14T11:06:11.429Z"
   },
   {
    "duration": 31,
    "start_time": "2023-07-14T11:06:11.448Z"
   },
   {
    "duration": 22,
    "start_time": "2023-07-14T11:06:11.481Z"
   },
   {
    "duration": 12,
    "start_time": "2023-07-14T11:06:11.505Z"
   },
   {
    "duration": 12,
    "start_time": "2023-07-14T11:06:11.519Z"
   },
   {
    "duration": 37,
    "start_time": "2023-07-14T11:06:11.532Z"
   },
   {
    "duration": 5,
    "start_time": "2023-07-14T11:06:11.571Z"
   },
   {
    "duration": 13,
    "start_time": "2023-07-14T11:06:11.577Z"
   },
   {
    "duration": 37,
    "start_time": "2023-07-14T11:06:11.592Z"
   },
   {
    "duration": 23,
    "start_time": "2023-07-14T11:06:11.631Z"
   },
   {
    "duration": 12,
    "start_time": "2023-07-14T11:06:11.658Z"
   },
   {
    "duration": 16,
    "start_time": "2023-07-14T11:06:11.672Z"
   },
   {
    "duration": 13,
    "start_time": "2023-07-14T11:06:11.691Z"
   },
   {
    "duration": 4,
    "start_time": "2023-07-14T11:06:11.705Z"
   },
   {
    "duration": 13,
    "start_time": "2023-07-14T11:06:11.711Z"
   },
   {
    "duration": 5,
    "start_time": "2023-07-14T11:06:11.726Z"
   },
   {
    "duration": 29,
    "start_time": "2023-07-14T11:06:11.732Z"
   },
   {
    "duration": 18,
    "start_time": "2023-07-14T11:06:11.762Z"
   },
   {
    "duration": 8,
    "start_time": "2023-07-14T11:06:11.782Z"
   },
   {
    "duration": 16,
    "start_time": "2023-07-14T11:06:11.791Z"
   },
   {
    "duration": 15,
    "start_time": "2023-07-14T11:06:11.809Z"
   },
   {
    "duration": 35,
    "start_time": "2023-07-14T11:06:11.825Z"
   },
   {
    "duration": 16,
    "start_time": "2023-07-14T11:06:11.862Z"
   },
   {
    "duration": 14,
    "start_time": "2023-07-14T11:06:11.880Z"
   },
   {
    "duration": 14,
    "start_time": "2023-07-14T11:06:11.898Z"
   },
   {
    "duration": 54,
    "start_time": "2023-07-14T11:06:11.913Z"
   },
   {
    "duration": 4,
    "start_time": "2023-07-14T11:06:11.969Z"
   },
   {
    "duration": 17,
    "start_time": "2023-07-14T11:06:11.976Z"
   },
   {
    "duration": 178,
    "start_time": "2023-07-14T11:06:11.995Z"
   },
   {
    "duration": 387,
    "start_time": "2023-07-14T11:06:12.174Z"
   },
   {
    "duration": 6,
    "start_time": "2023-07-14T11:06:12.563Z"
   },
   {
    "duration": 21,
    "start_time": "2023-07-14T11:06:12.571Z"
   },
   {
    "duration": 28,
    "start_time": "2023-07-14T11:06:12.593Z"
   },
   {
    "duration": 58,
    "start_time": "2023-07-14T11:06:12.623Z"
   },
   {
    "duration": 13,
    "start_time": "2023-07-14T11:06:12.682Z"
   },
   {
    "duration": 188,
    "start_time": "2023-07-14T11:06:12.697Z"
   },
   {
    "duration": 4,
    "start_time": "2023-07-14T11:06:12.887Z"
   },
   {
    "duration": 24,
    "start_time": "2023-07-14T11:06:12.893Z"
   },
   {
    "duration": 50,
    "start_time": "2023-07-14T11:06:12.919Z"
   },
   {
    "duration": 4,
    "start_time": "2023-07-14T11:06:12.971Z"
   },
   {
    "duration": 8,
    "start_time": "2023-07-14T11:06:12.977Z"
   },
   {
    "duration": 9,
    "start_time": "2023-07-14T11:06:12.986Z"
   },
   {
    "duration": 22,
    "start_time": "2023-07-14T11:06:12.997Z"
   },
   {
    "duration": 59,
    "start_time": "2023-07-14T11:06:13.021Z"
   },
   {
    "duration": 256,
    "start_time": "2023-07-14T11:06:13.081Z"
   },
   {
    "duration": 4,
    "start_time": "2023-07-14T11:06:13.339Z"
   },
   {
    "duration": 24,
    "start_time": "2023-07-14T11:06:13.345Z"
   },
   {
    "duration": 15,
    "start_time": "2023-07-14T11:06:13.371Z"
   },
   {
    "duration": 247,
    "start_time": "2023-07-14T11:06:13.388Z"
   },
   {
    "duration": 29,
    "start_time": "2023-07-14T11:06:13.637Z"
   },
   {
    "duration": 28,
    "start_time": "2023-07-14T11:06:13.669Z"
   },
   {
    "duration": 13,
    "start_time": "2023-07-14T11:06:13.698Z"
   },
   {
    "duration": 48,
    "start_time": "2023-07-14T11:06:13.713Z"
   },
   {
    "duration": 2,
    "start_time": "2023-07-14T11:06:13.763Z"
   },
   {
    "duration": 24,
    "start_time": "2023-07-14T11:06:13.767Z"
   },
   {
    "duration": 14,
    "start_time": "2023-07-14T11:06:13.793Z"
   },
   {
    "duration": 24,
    "start_time": "2023-07-14T11:06:13.808Z"
   },
   {
    "duration": 16,
    "start_time": "2023-07-14T11:06:13.834Z"
   },
   {
    "duration": 17,
    "start_time": "2023-07-14T11:06:13.852Z"
   },
   {
    "duration": 32,
    "start_time": "2023-07-14T11:06:13.871Z"
   },
   {
    "duration": 32,
    "start_time": "2023-07-14T11:06:13.905Z"
   },
   {
    "duration": 6,
    "start_time": "2023-07-14T11:06:13.939Z"
   },
   {
    "duration": 34,
    "start_time": "2023-07-14T11:06:13.947Z"
   },
   {
    "duration": 7,
    "start_time": "2023-07-14T11:06:13.982Z"
   },
   {
    "duration": 36,
    "start_time": "2023-07-14T11:06:13.991Z"
   },
   {
    "duration": 13,
    "start_time": "2023-07-14T11:06:14.029Z"
   },
   {
    "duration": 42,
    "start_time": "2023-07-14T11:06:14.048Z"
   },
   {
    "duration": 33,
    "start_time": "2023-07-14T11:06:14.092Z"
   },
   {
    "duration": 36,
    "start_time": "2023-07-14T11:06:14.127Z"
   },
   {
    "duration": 7,
    "start_time": "2023-07-14T11:06:14.165Z"
   },
   {
    "duration": 4,
    "start_time": "2023-07-14T11:16:15.958Z"
   },
   {
    "duration": 5,
    "start_time": "2023-07-14T11:16:22.902Z"
   },
   {
    "duration": 101,
    "start_time": "2023-07-14T11:16:38.336Z"
   },
   {
    "duration": 4,
    "start_time": "2023-07-14T11:16:53.991Z"
   },
   {
    "duration": 9,
    "start_time": "2023-07-14T11:17:06.214Z"
   },
   {
    "duration": 10,
    "start_time": "2023-07-14T11:17:11.285Z"
   },
   {
    "duration": 5,
    "start_time": "2023-07-14T11:17:15.316Z"
   },
   {
    "duration": 12,
    "start_time": "2023-07-14T11:18:18.963Z"
   },
   {
    "duration": 10,
    "start_time": "2023-07-14T11:18:29.218Z"
   },
   {
    "duration": 4,
    "start_time": "2023-07-14T11:18:53.341Z"
   },
   {
    "duration": 10,
    "start_time": "2023-07-14T11:18:59.589Z"
   },
   {
    "duration": 10,
    "start_time": "2023-07-14T11:19:19.907Z"
   },
   {
    "duration": 4,
    "start_time": "2023-07-14T11:20:07.772Z"
   },
   {
    "duration": 9,
    "start_time": "2023-07-14T11:20:19.954Z"
   },
   {
    "duration": 6,
    "start_time": "2023-07-14T11:20:26.970Z"
   },
   {
    "duration": 152,
    "start_time": "2023-07-14T11:21:25.921Z"
   },
   {
    "duration": 3,
    "start_time": "2023-07-14T11:21:29.387Z"
   },
   {
    "duration": 9,
    "start_time": "2023-07-14T11:21:31.515Z"
   },
   {
    "duration": 9,
    "start_time": "2023-07-14T11:22:48.798Z"
   },
   {
    "duration": 5,
    "start_time": "2023-07-14T11:22:54.249Z"
   },
   {
    "duration": 4,
    "start_time": "2023-07-14T11:23:31.443Z"
   },
   {
    "duration": 21,
    "start_time": "2023-07-14T11:24:48.365Z"
   },
   {
    "duration": 42,
    "start_time": "2023-07-14T11:26:52.641Z"
   },
   {
    "duration": 21,
    "start_time": "2023-07-14T11:27:01.251Z"
   },
   {
    "duration": 20,
    "start_time": "2023-07-14T11:28:15.994Z"
   },
   {
    "duration": 24,
    "start_time": "2023-07-14T11:28:29.820Z"
   },
   {
    "duration": 20,
    "start_time": "2023-07-14T11:29:46.534Z"
   },
   {
    "duration": 19,
    "start_time": "2023-07-14T11:30:09.467Z"
   },
   {
    "duration": 64,
    "start_time": "2023-07-14T11:30:27.886Z"
   },
   {
    "duration": 20,
    "start_time": "2023-07-14T11:30:32.635Z"
   },
   {
    "duration": 23,
    "start_time": "2023-07-14T11:31:03.444Z"
   },
   {
    "duration": 1085,
    "start_time": "2023-07-14T11:31:37.862Z"
   },
   {
    "duration": 1154,
    "start_time": "2023-07-14T11:31:59.055Z"
   },
   {
    "duration": 20,
    "start_time": "2023-07-14T11:32:29.332Z"
   },
   {
    "duration": 38,
    "start_time": "2023-07-14T11:33:05.075Z"
   },
   {
    "duration": 24,
    "start_time": "2023-07-14T11:33:36.881Z"
   },
   {
    "duration": 22,
    "start_time": "2023-07-14T11:33:53.885Z"
   },
   {
    "duration": 19,
    "start_time": "2023-07-14T11:33:59.344Z"
   },
   {
    "duration": 32,
    "start_time": "2023-07-14T11:34:41.605Z"
   },
   {
    "duration": 28,
    "start_time": "2023-07-14T11:35:25.060Z"
   },
   {
    "duration": 7,
    "start_time": "2023-07-14T11:35:26.818Z"
   },
   {
    "duration": 4,
    "start_time": "2023-07-14T11:35:27.314Z"
   },
   {
    "duration": 31,
    "start_time": "2023-07-14T11:35:45.788Z"
   },
   {
    "duration": 34,
    "start_time": "2023-07-14T11:36:51.519Z"
   },
   {
    "duration": 45,
    "start_time": "2023-07-14T11:37:04.087Z"
   },
   {
    "duration": 35,
    "start_time": "2023-07-14T11:37:30.616Z"
   },
   {
    "duration": 20,
    "start_time": "2023-07-14T11:37:43.395Z"
   },
   {
    "duration": 18,
    "start_time": "2023-07-14T11:38:13.531Z"
   },
   {
    "duration": 18,
    "start_time": "2023-07-14T11:38:22.288Z"
   },
   {
    "duration": 11,
    "start_time": "2023-07-14T11:40:13.153Z"
   },
   {
    "duration": 17,
    "start_time": "2023-07-14T11:40:56.175Z"
   },
   {
    "duration": 382,
    "start_time": "2023-07-14T11:43:22.252Z"
   },
   {
    "duration": 1062,
    "start_time": "2023-07-14T11:43:29.385Z"
   },
   {
    "duration": 30,
    "start_time": "2023-07-14T11:43:45.012Z"
   },
   {
    "duration": 29,
    "start_time": "2023-07-14T11:46:55.166Z"
   },
   {
    "duration": 30,
    "start_time": "2023-07-14T11:47:10.378Z"
   },
   {
    "duration": 10,
    "start_time": "2023-07-14T11:47:23.702Z"
   },
   {
    "duration": 12,
    "start_time": "2023-07-14T11:47:25.949Z"
   },
   {
    "duration": 32,
    "start_time": "2023-07-14T11:48:46.856Z"
   },
   {
    "duration": 37,
    "start_time": "2023-07-14T11:49:00.630Z"
   },
   {
    "duration": 34,
    "start_time": "2023-07-14T11:49:05.120Z"
   },
   {
    "duration": 33,
    "start_time": "2023-07-14T11:49:50.197Z"
   },
   {
    "duration": 68,
    "start_time": "2023-07-14T11:51:39.871Z"
   },
   {
    "duration": 66,
    "start_time": "2023-07-14T11:52:05.721Z"
   },
   {
    "duration": 69,
    "start_time": "2023-07-14T11:52:19.763Z"
   },
   {
    "duration": 33,
    "start_time": "2023-07-14T11:52:28.724Z"
   },
   {
    "duration": 294,
    "start_time": "2023-07-14T11:53:23.247Z"
   },
   {
    "duration": 64,
    "start_time": "2023-07-14T11:53:37.510Z"
   },
   {
    "duration": 71,
    "start_time": "2023-07-14T11:53:40.368Z"
   },
   {
    "duration": 1142,
    "start_time": "2023-07-14T11:53:45.688Z"
   },
   {
    "duration": 27,
    "start_time": "2023-07-14T11:53:49.595Z"
   },
   {
    "duration": 23,
    "start_time": "2023-07-14T11:54:04.761Z"
   },
   {
    "duration": 297,
    "start_time": "2023-07-14T11:54:18.923Z"
   },
   {
    "duration": 24,
    "start_time": "2023-07-14T11:54:38.102Z"
   },
   {
    "duration": 287,
    "start_time": "2023-07-14T11:55:20.912Z"
   },
   {
    "duration": 28,
    "start_time": "2023-07-14T11:55:25.103Z"
   },
   {
    "duration": 1106,
    "start_time": "2023-07-14T11:55:31.732Z"
   },
   {
    "duration": 38,
    "start_time": "2023-07-14T11:55:36.149Z"
   },
   {
    "duration": 69,
    "start_time": "2023-07-14T12:41:54.440Z"
   },
   {
    "duration": 21,
    "start_time": "2023-07-14T12:42:36.294Z"
   },
   {
    "duration": 20,
    "start_time": "2023-07-14T12:43:49.410Z"
   },
   {
    "duration": 69,
    "start_time": "2023-07-14T12:45:21.021Z"
   },
   {
    "duration": 11,
    "start_time": "2023-07-14T12:45:29.256Z"
   },
   {
    "duration": 20,
    "start_time": "2023-07-14T12:45:44.321Z"
   },
   {
    "duration": 315,
    "start_time": "2023-07-14T12:45:44.990Z"
   },
   {
    "duration": 20,
    "start_time": "2023-07-14T12:46:09.926Z"
   },
   {
    "duration": 30,
    "start_time": "2023-07-14T12:47:09.853Z"
   },
   {
    "duration": 27,
    "start_time": "2023-07-14T12:47:18.716Z"
   },
   {
    "duration": 67,
    "start_time": "2023-07-14T12:48:27.449Z"
   },
   {
    "duration": 67,
    "start_time": "2023-07-14T12:48:46.988Z"
   },
   {
    "duration": 28,
    "start_time": "2023-07-14T12:48:55.654Z"
   },
   {
    "duration": 15,
    "start_time": "2023-07-14T12:49:16.750Z"
   },
   {
    "duration": 16,
    "start_time": "2023-07-14T12:52:51.439Z"
   },
   {
    "duration": 20,
    "start_time": "2023-07-14T12:53:25.688Z"
   },
   {
    "duration": 18,
    "start_time": "2023-07-14T12:54:09.822Z"
   },
   {
    "duration": 15,
    "start_time": "2023-07-14T12:54:26.826Z"
   },
   {
    "duration": 14,
    "start_time": "2023-07-14T12:56:13.812Z"
   },
   {
    "duration": 24,
    "start_time": "2023-07-14T12:56:38.214Z"
   },
   {
    "duration": 20,
    "start_time": "2023-07-14T12:57:15.058Z"
   },
   {
    "duration": 18,
    "start_time": "2023-07-14T12:57:22.299Z"
   },
   {
    "duration": 19,
    "start_time": "2023-07-14T12:57:22.796Z"
   },
   {
    "duration": 7,
    "start_time": "2023-07-14T13:03:50.080Z"
   },
   {
    "duration": 14,
    "start_time": "2023-07-14T13:03:54.440Z"
   },
   {
    "duration": 15,
    "start_time": "2023-07-14T13:04:52.121Z"
   },
   {
    "duration": 21,
    "start_time": "2023-07-14T13:05:09.862Z"
   },
   {
    "duration": 18,
    "start_time": "2023-07-14T13:05:11.168Z"
   },
   {
    "duration": 17,
    "start_time": "2023-07-14T13:05:30.477Z"
   },
   {
    "duration": 18,
    "start_time": "2023-07-14T13:06:31.782Z"
   },
   {
    "duration": 8,
    "start_time": "2023-07-14T13:06:59.176Z"
   },
   {
    "duration": 5,
    "start_time": "2023-07-14T13:07:40.649Z"
   },
   {
    "duration": 113,
    "start_time": "2023-07-14T13:08:20.163Z"
   },
   {
    "duration": 20,
    "start_time": "2023-07-14T13:08:22.709Z"
   },
   {
    "duration": 20,
    "start_time": "2023-07-14T13:08:27.430Z"
   },
   {
    "duration": 17,
    "start_time": "2023-07-14T13:08:57.815Z"
   },
   {
    "duration": 9,
    "start_time": "2023-07-14T13:09:07.843Z"
   },
   {
    "duration": 7,
    "start_time": "2023-07-14T13:09:26.984Z"
   },
   {
    "duration": 6,
    "start_time": "2023-07-14T13:09:59.266Z"
   },
   {
    "duration": 6,
    "start_time": "2023-07-14T13:12:50.472Z"
   },
   {
    "duration": 17,
    "start_time": "2023-07-14T13:14:03.705Z"
   },
   {
    "duration": 17,
    "start_time": "2023-07-14T13:15:32.556Z"
   },
   {
    "duration": 16,
    "start_time": "2023-07-14T13:16:03.744Z"
   },
   {
    "duration": 19,
    "start_time": "2023-07-14T13:16:18.992Z"
   },
   {
    "duration": 20,
    "start_time": "2023-07-14T13:16:35.172Z"
   },
   {
    "duration": 1256,
    "start_time": "2023-07-14T13:16:50.132Z"
   },
   {
    "duration": 75,
    "start_time": "2023-07-14T13:16:51.390Z"
   },
   {
    "duration": 176,
    "start_time": "2023-07-14T13:16:51.467Z"
   },
   {
    "duration": 18,
    "start_time": "2023-07-14T13:16:51.645Z"
   },
   {
    "duration": 24,
    "start_time": "2023-07-14T13:16:51.664Z"
   },
   {
    "duration": 20,
    "start_time": "2023-07-14T13:16:51.690Z"
   },
   {
    "duration": 13,
    "start_time": "2023-07-14T13:16:51.712Z"
   },
   {
    "duration": 35,
    "start_time": "2023-07-14T13:16:51.727Z"
   },
   {
    "duration": 15,
    "start_time": "2023-07-14T13:16:51.765Z"
   },
   {
    "duration": 5,
    "start_time": "2023-07-14T13:16:51.784Z"
   },
   {
    "duration": 22,
    "start_time": "2023-07-14T13:16:51.791Z"
   },
   {
    "duration": 14,
    "start_time": "2023-07-14T13:16:51.815Z"
   },
   {
    "duration": 39,
    "start_time": "2023-07-14T13:16:51.831Z"
   },
   {
    "duration": 13,
    "start_time": "2023-07-14T13:16:51.872Z"
   },
   {
    "duration": 9,
    "start_time": "2023-07-14T13:16:51.887Z"
   },
   {
    "duration": 14,
    "start_time": "2023-07-14T13:16:51.898Z"
   },
   {
    "duration": 7,
    "start_time": "2023-07-14T13:16:51.913Z"
   },
   {
    "duration": 47,
    "start_time": "2023-07-14T13:16:51.922Z"
   },
   {
    "duration": 4,
    "start_time": "2023-07-14T13:16:51.971Z"
   },
   {
    "duration": 23,
    "start_time": "2023-07-14T13:16:51.976Z"
   },
   {
    "duration": 46,
    "start_time": "2023-07-14T13:16:52.001Z"
   },
   {
    "duration": 10,
    "start_time": "2023-07-14T13:16:52.049Z"
   },
   {
    "duration": 14,
    "start_time": "2023-07-14T13:16:52.060Z"
   },
   {
    "duration": 15,
    "start_time": "2023-07-14T13:16:52.075Z"
   },
   {
    "duration": 20,
    "start_time": "2023-07-14T13:16:52.091Z"
   },
   {
    "duration": 37,
    "start_time": "2023-07-14T13:16:52.112Z"
   },
   {
    "duration": 14,
    "start_time": "2023-07-14T13:16:52.150Z"
   },
   {
    "duration": 13,
    "start_time": "2023-07-14T13:16:52.168Z"
   },
   {
    "duration": 34,
    "start_time": "2023-07-14T13:16:52.182Z"
   },
   {
    "duration": 10,
    "start_time": "2023-07-14T13:16:52.217Z"
   },
   {
    "duration": 28,
    "start_time": "2023-07-14T13:16:52.228Z"
   },
   {
    "duration": 157,
    "start_time": "2023-07-14T13:16:52.258Z"
   },
   {
    "duration": 353,
    "start_time": "2023-07-14T13:16:52.416Z"
   },
   {
    "duration": 4,
    "start_time": "2023-07-14T13:16:52.771Z"
   },
   {
    "duration": 21,
    "start_time": "2023-07-14T13:16:52.776Z"
   },
   {
    "duration": 29,
    "start_time": "2023-07-14T13:16:52.799Z"
   },
   {
    "duration": 53,
    "start_time": "2023-07-14T13:16:52.829Z"
   },
   {
    "duration": 13,
    "start_time": "2023-07-14T13:16:52.884Z"
   },
   {
    "duration": 223,
    "start_time": "2023-07-14T13:16:52.898Z"
   },
   {
    "duration": 3,
    "start_time": "2023-07-14T13:16:53.123Z"
   },
   {
    "duration": 35,
    "start_time": "2023-07-14T13:16:53.128Z"
   },
   {
    "duration": 36,
    "start_time": "2023-07-14T13:16:53.165Z"
   },
   {
    "duration": 9,
    "start_time": "2023-07-14T13:16:53.202Z"
   },
   {
    "duration": 20,
    "start_time": "2023-07-14T13:16:53.213Z"
   },
   {
    "duration": 8,
    "start_time": "2023-07-14T13:16:53.235Z"
   },
   {
    "duration": 30,
    "start_time": "2023-07-14T13:16:53.245Z"
   },
   {
    "duration": 34,
    "start_time": "2023-07-14T13:16:53.277Z"
   },
   {
    "duration": 267,
    "start_time": "2023-07-14T13:16:53.312Z"
   },
   {
    "duration": 5,
    "start_time": "2023-07-14T13:16:53.581Z"
   },
   {
    "duration": 39,
    "start_time": "2023-07-14T13:16:53.587Z"
   },
   {
    "duration": 29,
    "start_time": "2023-07-14T13:16:53.627Z"
   },
   {
    "duration": 264,
    "start_time": "2023-07-14T13:16:53.657Z"
   },
   {
    "duration": 23,
    "start_time": "2023-07-14T13:16:53.922Z"
   },
   {
    "duration": 44,
    "start_time": "2023-07-14T13:16:53.946Z"
   },
   {
    "duration": 16,
    "start_time": "2023-07-14T13:16:53.992Z"
   },
   {
    "duration": 60,
    "start_time": "2023-07-14T13:16:54.010Z"
   },
   {
    "duration": 4,
    "start_time": "2023-07-14T13:16:54.072Z"
   },
   {
    "duration": 27,
    "start_time": "2023-07-14T13:16:54.078Z"
   },
   {
    "duration": 19,
    "start_time": "2023-07-14T13:16:54.107Z"
   },
   {
    "duration": 35,
    "start_time": "2023-07-14T13:16:54.128Z"
   },
   {
    "duration": 24,
    "start_time": "2023-07-14T13:16:54.166Z"
   },
   {
    "duration": 19,
    "start_time": "2023-07-14T13:16:54.193Z"
   },
   {
    "duration": 51,
    "start_time": "2023-07-14T13:16:54.213Z"
   },
   {
    "duration": 43,
    "start_time": "2023-07-14T13:16:54.266Z"
   },
   {
    "duration": 9,
    "start_time": "2023-07-14T13:16:54.311Z"
   },
   {
    "duration": 58,
    "start_time": "2023-07-14T13:16:54.322Z"
   },
   {
    "duration": 7,
    "start_time": "2023-07-14T13:16:54.382Z"
   },
   {
    "duration": 18,
    "start_time": "2023-07-14T13:16:54.391Z"
   },
   {
    "duration": 28,
    "start_time": "2023-07-14T13:16:54.411Z"
   },
   {
    "duration": 22,
    "start_time": "2023-07-14T13:16:54.441Z"
   },
   {
    "duration": 34,
    "start_time": "2023-07-14T13:16:54.465Z"
   },
   {
    "duration": 136,
    "start_time": "2023-07-14T13:16:54.501Z"
   },
   {
    "duration": 0,
    "start_time": "2023-07-14T13:16:54.640Z"
   },
   {
    "duration": 0,
    "start_time": "2023-07-14T13:16:54.641Z"
   },
   {
    "duration": 0,
    "start_time": "2023-07-14T13:16:54.642Z"
   },
   {
    "duration": 0,
    "start_time": "2023-07-14T13:16:54.643Z"
   },
   {
    "duration": 0,
    "start_time": "2023-07-14T13:16:54.644Z"
   },
   {
    "duration": 0,
    "start_time": "2023-07-14T13:16:54.645Z"
   },
   {
    "duration": 0,
    "start_time": "2023-07-14T13:16:54.659Z"
   },
   {
    "duration": 0,
    "start_time": "2023-07-14T13:16:54.660Z"
   },
   {
    "duration": 0,
    "start_time": "2023-07-14T13:16:54.661Z"
   },
   {
    "duration": 0,
    "start_time": "2023-07-14T13:16:54.662Z"
   },
   {
    "duration": 0,
    "start_time": "2023-07-14T13:16:54.663Z"
   },
   {
    "duration": 0,
    "start_time": "2023-07-14T13:16:54.664Z"
   },
   {
    "duration": 0,
    "start_time": "2023-07-14T13:16:54.665Z"
   },
   {
    "duration": 0,
    "start_time": "2023-07-14T13:16:54.666Z"
   },
   {
    "duration": 0,
    "start_time": "2023-07-14T13:16:54.667Z"
   },
   {
    "duration": 0,
    "start_time": "2023-07-14T13:16:54.668Z"
   },
   {
    "duration": 20,
    "start_time": "2023-07-14T13:18:20.510Z"
   },
   {
    "duration": 19,
    "start_time": "2023-07-14T13:19:07.266Z"
   },
   {
    "duration": 21,
    "start_time": "2023-07-14T13:19:09.019Z"
   },
   {
    "duration": 19,
    "start_time": "2023-07-14T13:19:17.810Z"
   },
   {
    "duration": 21,
    "start_time": "2023-07-14T13:19:18.251Z"
   },
   {
    "duration": 20,
    "start_time": "2023-07-14T13:21:12.448Z"
   },
   {
    "duration": 29,
    "start_time": "2023-07-14T13:21:21.710Z"
   },
   {
    "duration": 21,
    "start_time": "2023-07-14T13:21:36.044Z"
   },
   {
    "duration": 14,
    "start_time": "2023-07-14T13:21:37.743Z"
   },
   {
    "duration": 22,
    "start_time": "2023-07-14T13:24:19.644Z"
   },
   {
    "duration": 20,
    "start_time": "2023-07-14T13:24:21.848Z"
   },
   {
    "duration": 15,
    "start_time": "2023-07-14T13:24:23.154Z"
   },
   {
    "duration": 1406,
    "start_time": "2023-07-14T19:25:05.598Z"
   },
   {
    "duration": 67,
    "start_time": "2023-07-14T19:25:07.006Z"
   },
   {
    "duration": 175,
    "start_time": "2023-07-14T19:25:07.074Z"
   },
   {
    "duration": 17,
    "start_time": "2023-07-14T19:25:07.251Z"
   },
   {
    "duration": 25,
    "start_time": "2023-07-14T19:25:07.270Z"
   },
   {
    "duration": 32,
    "start_time": "2023-07-14T19:25:07.296Z"
   },
   {
    "duration": 11,
    "start_time": "2023-07-14T19:25:07.330Z"
   },
   {
    "duration": 7,
    "start_time": "2023-07-14T19:25:07.343Z"
   },
   {
    "duration": 13,
    "start_time": "2023-07-14T19:25:07.351Z"
   },
   {
    "duration": 4,
    "start_time": "2023-07-14T19:25:07.366Z"
   },
   {
    "duration": 12,
    "start_time": "2023-07-14T19:25:07.372Z"
   },
   {
    "duration": 42,
    "start_time": "2023-07-14T19:25:07.385Z"
   },
   {
    "duration": 21,
    "start_time": "2023-07-14T19:25:07.429Z"
   },
   {
    "duration": 10,
    "start_time": "2023-07-14T19:25:07.452Z"
   },
   {
    "duration": 13,
    "start_time": "2023-07-14T19:25:07.464Z"
   },
   {
    "duration": 20,
    "start_time": "2023-07-14T19:25:07.479Z"
   },
   {
    "duration": 25,
    "start_time": "2023-07-14T19:25:07.500Z"
   },
   {
    "duration": 37,
    "start_time": "2023-07-14T19:25:07.527Z"
   },
   {
    "duration": 3,
    "start_time": "2023-07-14T19:25:07.566Z"
   },
   {
    "duration": 7,
    "start_time": "2023-07-14T19:25:07.571Z"
   },
   {
    "duration": 21,
    "start_time": "2023-07-14T19:25:07.580Z"
   },
   {
    "duration": 7,
    "start_time": "2023-07-14T19:25:07.602Z"
   },
   {
    "duration": 29,
    "start_time": "2023-07-14T19:25:07.611Z"
   },
   {
    "duration": 14,
    "start_time": "2023-07-14T19:25:07.641Z"
   },
   {
    "duration": 8,
    "start_time": "2023-07-14T19:25:07.657Z"
   },
   {
    "duration": 18,
    "start_time": "2023-07-14T19:25:07.666Z"
   },
   {
    "duration": 12,
    "start_time": "2023-07-14T19:25:07.686Z"
   },
   {
    "duration": 29,
    "start_time": "2023-07-14T19:25:07.699Z"
   },
   {
    "duration": 20,
    "start_time": "2023-07-14T19:25:07.730Z"
   },
   {
    "duration": 6,
    "start_time": "2023-07-14T19:25:07.752Z"
   },
   {
    "duration": 82,
    "start_time": "2023-07-14T19:25:07.759Z"
   },
   {
    "duration": 180,
    "start_time": "2023-07-14T19:25:07.843Z"
   },
   {
    "duration": 326,
    "start_time": "2023-07-14T19:25:08.024Z"
   },
   {
    "duration": 5,
    "start_time": "2023-07-14T19:25:08.352Z"
   },
   {
    "duration": 41,
    "start_time": "2023-07-14T19:25:08.358Z"
   },
   {
    "duration": 45,
    "start_time": "2023-07-14T19:25:08.401Z"
   },
   {
    "duration": 31,
    "start_time": "2023-07-14T19:25:08.448Z"
   },
   {
    "duration": 12,
    "start_time": "2023-07-14T19:25:08.481Z"
   },
   {
    "duration": 203,
    "start_time": "2023-07-14T19:25:08.495Z"
   },
   {
    "duration": 4,
    "start_time": "2023-07-14T19:25:08.700Z"
   },
   {
    "duration": 31,
    "start_time": "2023-07-14T19:25:08.720Z"
   },
   {
    "duration": 31,
    "start_time": "2023-07-14T19:25:08.753Z"
   },
   {
    "duration": 4,
    "start_time": "2023-07-14T19:25:08.785Z"
   },
   {
    "duration": 32,
    "start_time": "2023-07-14T19:25:08.790Z"
   },
   {
    "duration": 34,
    "start_time": "2023-07-14T19:25:08.823Z"
   },
   {
    "duration": 55,
    "start_time": "2023-07-14T19:25:08.858Z"
   },
   {
    "duration": 43,
    "start_time": "2023-07-14T19:25:08.914Z"
   },
   {
    "duration": 249,
    "start_time": "2023-07-14T19:25:08.958Z"
   },
   {
    "duration": 11,
    "start_time": "2023-07-14T19:25:09.209Z"
   },
   {
    "duration": 57,
    "start_time": "2023-07-14T19:25:09.221Z"
   },
   {
    "duration": 71,
    "start_time": "2023-07-14T19:25:09.279Z"
   },
   {
    "duration": 274,
    "start_time": "2023-07-14T19:25:09.351Z"
   },
   {
    "duration": 19,
    "start_time": "2023-07-14T19:25:09.627Z"
   },
   {
    "duration": 45,
    "start_time": "2023-07-14T19:25:09.647Z"
   },
   {
    "duration": 31,
    "start_time": "2023-07-14T19:25:09.695Z"
   },
   {
    "duration": 55,
    "start_time": "2023-07-14T19:25:09.728Z"
   },
   {
    "duration": 3,
    "start_time": "2023-07-14T19:25:09.785Z"
   },
   {
    "duration": 59,
    "start_time": "2023-07-14T19:25:09.790Z"
   },
   {
    "duration": 20,
    "start_time": "2023-07-14T19:25:09.850Z"
   },
   {
    "duration": 41,
    "start_time": "2023-07-14T19:25:09.872Z"
   },
   {
    "duration": 47,
    "start_time": "2023-07-14T19:25:09.915Z"
   },
   {
    "duration": 62,
    "start_time": "2023-07-14T19:25:09.964Z"
   },
   {
    "duration": 50,
    "start_time": "2023-07-14T19:25:10.028Z"
   },
   {
    "duration": 58,
    "start_time": "2023-07-14T19:25:10.080Z"
   },
   {
    "duration": 64,
    "start_time": "2023-07-14T19:25:10.139Z"
   },
   {
    "duration": 65,
    "start_time": "2023-07-14T19:25:10.204Z"
   },
   {
    "duration": 29,
    "start_time": "2023-07-14T19:25:10.271Z"
   },
   {
    "duration": 46,
    "start_time": "2023-07-14T19:25:10.302Z"
   },
   {
    "duration": 42,
    "start_time": "2023-07-14T19:25:10.349Z"
   },
   {
    "duration": 45,
    "start_time": "2023-07-14T19:25:10.393Z"
   },
   {
    "duration": 43,
    "start_time": "2023-07-14T19:25:10.439Z"
   },
   {
    "duration": 50,
    "start_time": "2023-07-14T19:25:10.483Z"
   },
   {
    "duration": 45,
    "start_time": "2023-07-14T19:25:10.534Z"
   },
   {
    "duration": 37,
    "start_time": "2023-07-14T19:25:10.581Z"
   },
   {
    "duration": 38,
    "start_time": "2023-07-14T19:25:10.620Z"
   },
   {
    "duration": 37,
    "start_time": "2023-07-14T19:25:10.659Z"
   },
   {
    "duration": 19,
    "start_time": "2023-07-14T19:25:10.698Z"
   },
   {
    "duration": 49,
    "start_time": "2023-07-14T19:25:10.718Z"
   },
   {
    "duration": 38,
    "start_time": "2023-07-14T19:25:10.769Z"
   },
   {
    "duration": 45,
    "start_time": "2023-07-14T19:25:10.809Z"
   },
   {
    "duration": 28,
    "start_time": "2023-07-14T19:25:10.855Z"
   },
   {
    "duration": 36,
    "start_time": "2023-07-14T19:25:10.884Z"
   },
   {
    "duration": 42,
    "start_time": "2023-07-14T19:25:10.921Z"
   },
   {
    "duration": 21,
    "start_time": "2023-07-14T19:25:10.964Z"
   },
   {
    "duration": 30,
    "start_time": "2023-07-14T19:25:10.987Z"
   },
   {
    "duration": 19,
    "start_time": "2023-07-14T19:40:42.127Z"
   },
   {
    "duration": 25,
    "start_time": "2023-07-14T19:41:25.792Z"
   },
   {
    "duration": 87,
    "start_time": "2023-07-14T19:57:32.305Z"
   },
   {
    "duration": 24,
    "start_time": "2023-07-14T19:57:35.624Z"
   },
   {
    "duration": 129,
    "start_time": "2023-07-14T19:58:22.769Z"
   },
   {
    "duration": 22,
    "start_time": "2023-07-14T19:58:32.402Z"
   },
   {
    "duration": 22,
    "start_time": "2023-07-14T19:59:20.420Z"
   },
   {
    "duration": 22,
    "start_time": "2023-07-14T20:02:22.230Z"
   },
   {
    "duration": 32,
    "start_time": "2023-07-14T20:03:10.347Z"
   },
   {
    "duration": 24,
    "start_time": "2023-07-14T20:03:20.587Z"
   },
   {
    "duration": 11,
    "start_time": "2023-07-14T20:05:34.408Z"
   },
   {
    "duration": 329,
    "start_time": "2023-07-14T20:06:33.887Z"
   },
   {
    "duration": 24,
    "start_time": "2023-07-14T20:07:03.306Z"
   },
   {
    "duration": 12,
    "start_time": "2023-07-14T20:07:07.364Z"
   },
   {
    "duration": 11,
    "start_time": "2023-07-14T20:07:09.595Z"
   },
   {
    "duration": 17,
    "start_time": "2023-07-14T20:08:19.613Z"
   },
   {
    "duration": 21,
    "start_time": "2023-07-14T20:09:29.380Z"
   },
   {
    "duration": 16,
    "start_time": "2023-07-14T20:11:17.816Z"
   },
   {
    "duration": 16,
    "start_time": "2023-07-14T20:11:44.678Z"
   },
   {
    "duration": 14,
    "start_time": "2023-07-14T20:11:56.993Z"
   },
   {
    "duration": 23,
    "start_time": "2023-07-14T20:12:13.451Z"
   },
   {
    "duration": 14,
    "start_time": "2023-07-14T20:12:33.431Z"
   },
   {
    "duration": 25,
    "start_time": "2023-07-14T20:13:02.362Z"
   },
   {
    "duration": 7,
    "start_time": "2023-07-14T20:13:56.165Z"
   },
   {
    "duration": 5,
    "start_time": "2023-07-14T20:14:08.134Z"
   },
   {
    "duration": 79,
    "start_time": "2023-07-14T20:15:40.392Z"
   },
   {
    "duration": 97,
    "start_time": "2023-07-14T20:15:50.935Z"
   },
   {
    "duration": 4,
    "start_time": "2023-07-14T20:16:04.591Z"
   },
   {
    "duration": 9,
    "start_time": "2023-07-14T20:16:26.208Z"
   },
   {
    "duration": 3,
    "start_time": "2023-07-14T20:17:12.797Z"
   },
   {
    "duration": 14,
    "start_time": "2023-07-14T20:17:21.074Z"
   },
   {
    "duration": 9,
    "start_time": "2023-07-14T20:18:29.803Z"
   },
   {
    "duration": 11,
    "start_time": "2023-07-14T20:19:02.925Z"
   },
   {
    "duration": 7,
    "start_time": "2023-07-14T20:19:45.880Z"
   },
   {
    "duration": 19,
    "start_time": "2023-07-14T20:20:00.658Z"
   },
   {
    "duration": 23,
    "start_time": "2023-07-14T20:20:01.771Z"
   },
   {
    "duration": 17,
    "start_time": "2023-07-14T20:20:03.373Z"
   },
   {
    "duration": 8,
    "start_time": "2023-07-14T20:20:04.202Z"
   },
   {
    "duration": 4,
    "start_time": "2023-07-14T20:20:04.699Z"
   },
   {
    "duration": 6,
    "start_time": "2023-07-14T20:20:06.945Z"
   },
   {
    "duration": 8,
    "start_time": "2023-07-14T20:20:26.110Z"
   },
   {
    "duration": 7,
    "start_time": "2023-07-14T20:20:31.014Z"
   },
   {
    "duration": 4,
    "start_time": "2023-07-14T20:22:06.421Z"
   },
   {
    "duration": 177,
    "start_time": "2023-07-14T20:27:36.453Z"
   },
   {
    "duration": 16,
    "start_time": "2023-07-14T20:27:50.628Z"
   },
   {
    "duration": 20,
    "start_time": "2023-07-14T20:28:52.831Z"
   },
   {
    "duration": 23,
    "start_time": "2023-07-14T20:28:53.206Z"
   },
   {
    "duration": 22,
    "start_time": "2023-07-14T20:28:53.595Z"
   },
   {
    "duration": 15,
    "start_time": "2023-07-14T20:28:53.996Z"
   },
   {
    "duration": 16,
    "start_time": "2023-07-14T20:28:54.975Z"
   },
   {
    "duration": 108,
    "start_time": "2023-07-14T20:28:56.264Z"
   },
   {
    "duration": 13,
    "start_time": "2023-07-14T20:28:57.214Z"
   },
   {
    "duration": 129,
    "start_time": "2023-07-14T20:29:12.902Z"
   },
   {
    "duration": 127,
    "start_time": "2023-07-14T20:30:00.598Z"
   },
   {
    "duration": 123,
    "start_time": "2023-07-14T20:30:20.672Z"
   },
   {
    "duration": 112,
    "start_time": "2023-07-14T20:30:32.042Z"
   },
   {
    "duration": 8,
    "start_time": "2023-07-14T20:32:42.236Z"
   },
   {
    "duration": 3,
    "start_time": "2023-07-14T20:45:21.690Z"
   },
   {
    "duration": 7,
    "start_time": "2023-07-14T20:49:41.157Z"
   },
   {
    "duration": 6,
    "start_time": "2023-07-14T20:50:02.613Z"
   },
   {
    "duration": 1333,
    "start_time": "2023-07-14T20:50:31.788Z"
   },
   {
    "duration": 135,
    "start_time": "2023-07-14T20:50:33.125Z"
   },
   {
    "duration": 219,
    "start_time": "2023-07-14T20:50:33.262Z"
   },
   {
    "duration": 18,
    "start_time": "2023-07-14T20:50:33.483Z"
   },
   {
    "duration": 40,
    "start_time": "2023-07-14T20:50:33.502Z"
   },
   {
    "duration": 32,
    "start_time": "2023-07-14T20:50:33.544Z"
   },
   {
    "duration": 26,
    "start_time": "2023-07-14T20:50:33.578Z"
   },
   {
    "duration": 47,
    "start_time": "2023-07-14T20:50:33.607Z"
   },
   {
    "duration": 48,
    "start_time": "2023-07-14T20:50:33.657Z"
   },
   {
    "duration": 39,
    "start_time": "2023-07-14T20:50:33.707Z"
   },
   {
    "duration": 29,
    "start_time": "2023-07-14T20:50:33.748Z"
   },
   {
    "duration": 38,
    "start_time": "2023-07-14T20:50:33.779Z"
   },
   {
    "duration": 48,
    "start_time": "2023-07-14T20:50:33.818Z"
   },
   {
    "duration": 24,
    "start_time": "2023-07-14T20:50:33.867Z"
   },
   {
    "duration": 24,
    "start_time": "2023-07-14T20:50:33.893Z"
   },
   {
    "duration": 30,
    "start_time": "2023-07-14T20:50:33.919Z"
   },
   {
    "duration": 21,
    "start_time": "2023-07-14T20:50:33.951Z"
   },
   {
    "duration": 38,
    "start_time": "2023-07-14T20:50:33.973Z"
   },
   {
    "duration": 25,
    "start_time": "2023-07-14T20:50:34.012Z"
   },
   {
    "duration": 37,
    "start_time": "2023-07-14T20:50:34.038Z"
   },
   {
    "duration": 44,
    "start_time": "2023-07-14T20:50:34.076Z"
   },
   {
    "duration": 10,
    "start_time": "2023-07-14T20:50:34.122Z"
   },
   {
    "duration": 37,
    "start_time": "2023-07-14T20:50:34.133Z"
   },
   {
    "duration": 41,
    "start_time": "2023-07-14T20:50:34.171Z"
   },
   {
    "duration": 47,
    "start_time": "2023-07-14T20:50:34.213Z"
   },
   {
    "duration": 60,
    "start_time": "2023-07-14T20:50:34.262Z"
   },
   {
    "duration": 25,
    "start_time": "2023-07-14T20:50:34.326Z"
   },
   {
    "duration": 37,
    "start_time": "2023-07-14T20:50:34.352Z"
   },
   {
    "duration": 24,
    "start_time": "2023-07-14T20:50:34.392Z"
   },
   {
    "duration": 30,
    "start_time": "2023-07-14T20:50:34.418Z"
   },
   {
    "duration": 41,
    "start_time": "2023-07-14T20:50:34.449Z"
   },
   {
    "duration": 10,
    "start_time": "2023-07-14T20:50:34.491Z"
   },
   {
    "duration": 31,
    "start_time": "2023-07-14T20:50:34.503Z"
   },
   {
    "duration": 191,
    "start_time": "2023-07-14T20:50:34.536Z"
   },
   {
    "duration": 387,
    "start_time": "2023-07-14T20:50:34.729Z"
   },
   {
    "duration": 5,
    "start_time": "2023-07-14T20:50:35.121Z"
   },
   {
    "duration": 23,
    "start_time": "2023-07-14T20:50:35.128Z"
   },
   {
    "duration": 24,
    "start_time": "2023-07-14T20:50:35.153Z"
   },
   {
    "duration": 48,
    "start_time": "2023-07-14T20:50:35.179Z"
   },
   {
    "duration": 12,
    "start_time": "2023-07-14T20:50:35.229Z"
   },
   {
    "duration": 203,
    "start_time": "2023-07-14T20:50:35.243Z"
   },
   {
    "duration": 4,
    "start_time": "2023-07-14T20:50:35.449Z"
   },
   {
    "duration": 63,
    "start_time": "2023-07-14T20:50:35.455Z"
   },
   {
    "duration": 76,
    "start_time": "2023-07-14T20:50:35.520Z"
   },
   {
    "duration": 8,
    "start_time": "2023-07-14T20:50:35.598Z"
   },
   {
    "duration": 17,
    "start_time": "2023-07-14T20:50:35.608Z"
   },
   {
    "duration": 44,
    "start_time": "2023-07-14T20:50:35.628Z"
   },
   {
    "duration": 35,
    "start_time": "2023-07-14T20:50:35.675Z"
   },
   {
    "duration": 31,
    "start_time": "2023-07-14T20:50:35.711Z"
   },
   {
    "duration": 247,
    "start_time": "2023-07-14T20:50:35.744Z"
   },
   {
    "duration": 5,
    "start_time": "2023-07-14T20:50:35.993Z"
   },
   {
    "duration": 40,
    "start_time": "2023-07-14T20:50:35.999Z"
   },
   {
    "duration": 35,
    "start_time": "2023-07-14T20:50:36.041Z"
   },
   {
    "duration": 291,
    "start_time": "2023-07-14T20:50:36.078Z"
   },
   {
    "duration": 20,
    "start_time": "2023-07-14T20:50:36.371Z"
   },
   {
    "duration": 40,
    "start_time": "2023-07-14T20:50:36.393Z"
   },
   {
    "duration": 13,
    "start_time": "2023-07-14T20:50:36.435Z"
   },
   {
    "duration": 47,
    "start_time": "2023-07-14T20:50:36.449Z"
   },
   {
    "duration": 3,
    "start_time": "2023-07-14T20:50:36.498Z"
   },
   {
    "duration": 33,
    "start_time": "2023-07-14T20:50:36.503Z"
   },
   {
    "duration": 30,
    "start_time": "2023-07-14T20:50:36.538Z"
   },
   {
    "duration": 28,
    "start_time": "2023-07-14T20:50:36.570Z"
   },
   {
    "duration": 25,
    "start_time": "2023-07-14T20:50:36.600Z"
   },
   {
    "duration": 24,
    "start_time": "2023-07-14T20:50:36.627Z"
   },
   {
    "duration": 43,
    "start_time": "2023-07-14T20:50:36.653Z"
   },
   {
    "duration": 37,
    "start_time": "2023-07-14T20:50:36.698Z"
   },
   {
    "duration": 7,
    "start_time": "2023-07-14T20:50:36.736Z"
   },
   {
    "duration": 42,
    "start_time": "2023-07-14T20:50:36.744Z"
   },
   {
    "duration": 11,
    "start_time": "2023-07-14T20:50:36.788Z"
   },
   {
    "duration": 21,
    "start_time": "2023-07-14T20:50:36.802Z"
   },
   {
    "duration": 33,
    "start_time": "2023-07-14T20:50:36.826Z"
   },
   {
    "duration": 34,
    "start_time": "2023-07-14T20:50:36.861Z"
   },
   {
    "duration": 27,
    "start_time": "2023-07-14T20:50:36.897Z"
   },
   {
    "duration": 23,
    "start_time": "2023-07-14T20:50:36.926Z"
   },
   {
    "duration": 42,
    "start_time": "2023-07-14T20:50:36.951Z"
   },
   {
    "duration": 15,
    "start_time": "2023-07-14T20:50:36.996Z"
   },
   {
    "duration": 25,
    "start_time": "2023-07-14T20:50:37.012Z"
   },
   {
    "duration": 95,
    "start_time": "2023-07-14T20:50:37.038Z"
   },
   {
    "duration": 84,
    "start_time": "2023-07-14T20:50:37.134Z"
   },
   {
    "duration": 66,
    "start_time": "2023-07-14T20:50:37.220Z"
   },
   {
    "duration": 7,
    "start_time": "2023-07-14T20:50:37.320Z"
   },
   {
    "duration": 33,
    "start_time": "2023-07-14T20:50:37.330Z"
   },
   {
    "duration": 87,
    "start_time": "2023-07-14T20:50:37.365Z"
   },
   {
    "duration": 86,
    "start_time": "2023-07-14T20:50:37.454Z"
   },
   {
    "duration": 16,
    "start_time": "2023-07-14T20:50:37.542Z"
   },
   {
    "duration": 86,
    "start_time": "2023-07-14T20:50:37.560Z"
   },
   {
    "duration": 320,
    "start_time": "2023-07-14T20:50:37.648Z"
   },
   {
    "duration": 15,
    "start_time": "2023-07-14T20:50:38.021Z"
   },
   {
    "duration": 408,
    "start_time": "2023-07-14T20:50:38.037Z"
   },
   {
    "duration": 198,
    "start_time": "2023-07-14T20:50:38.447Z"
   },
   {
    "duration": 0,
    "start_time": "2023-07-14T20:50:38.647Z"
   },
   {
    "duration": 0,
    "start_time": "2023-07-14T20:50:38.648Z"
   },
   {
    "duration": 0,
    "start_time": "2023-07-14T20:50:38.649Z"
   },
   {
    "duration": 17,
    "start_time": "2023-07-14T20:59:43.943Z"
   },
   {
    "duration": 16,
    "start_time": "2023-07-14T21:00:02.585Z"
   },
   {
    "duration": 15,
    "start_time": "2023-07-14T21:00:33.291Z"
   },
   {
    "duration": 352,
    "start_time": "2023-07-14T21:01:00.229Z"
   },
   {
    "duration": 346,
    "start_time": "2023-07-14T21:01:23.660Z"
   },
   {
    "duration": 392,
    "start_time": "2023-07-14T21:01:34.912Z"
   },
   {
    "duration": 25,
    "start_time": "2023-07-14T21:02:27.527Z"
   },
   {
    "duration": 12,
    "start_time": "2023-07-14T21:02:31.214Z"
   },
   {
    "duration": 11,
    "start_time": "2023-07-14T21:02:38.430Z"
   },
   {
    "duration": 267,
    "start_time": "2023-07-14T21:02:39.522Z"
   },
   {
    "duration": 291,
    "start_time": "2023-07-14T21:03:57.609Z"
   },
   {
    "duration": 371,
    "start_time": "2023-07-14T21:04:02.186Z"
   },
   {
    "duration": 271,
    "start_time": "2023-07-14T21:04:08.310Z"
   },
   {
    "duration": 286,
    "start_time": "2023-07-14T21:04:18.328Z"
   },
   {
    "duration": 318,
    "start_time": "2023-07-14T21:05:45.471Z"
   },
   {
    "duration": 298,
    "start_time": "2023-07-14T21:05:50.739Z"
   },
   {
    "duration": 425,
    "start_time": "2023-07-14T21:05:55.653Z"
   },
   {
    "duration": 373,
    "start_time": "2023-07-14T21:06:22.514Z"
   },
   {
    "duration": 256,
    "start_time": "2023-07-14T21:06:30.522Z"
   },
   {
    "duration": 223,
    "start_time": "2023-07-14T21:06:35.246Z"
   },
   {
    "duration": 302,
    "start_time": "2023-07-14T21:07:17.806Z"
   },
   {
    "duration": 274,
    "start_time": "2023-07-14T21:07:27.442Z"
   },
   {
    "duration": 244,
    "start_time": "2023-07-14T21:07:55.252Z"
   },
   {
    "duration": 260,
    "start_time": "2023-07-14T21:08:00.676Z"
   },
   {
    "duration": 232,
    "start_time": "2023-07-14T21:08:08.396Z"
   },
   {
    "duration": 257,
    "start_time": "2023-07-14T21:08:14.989Z"
   },
   {
    "duration": 239,
    "start_time": "2023-07-14T21:08:25.404Z"
   },
   {
    "duration": 335,
    "start_time": "2023-07-14T21:08:36.088Z"
   },
   {
    "duration": 272,
    "start_time": "2023-07-14T21:08:55.144Z"
   },
   {
    "duration": 224,
    "start_time": "2023-07-14T21:09:03.389Z"
   },
   {
    "duration": 81,
    "start_time": "2023-07-14T21:09:14.089Z"
   },
   {
    "duration": 240,
    "start_time": "2023-07-14T21:09:22.588Z"
   },
   {
    "duration": 225,
    "start_time": "2023-07-14T21:09:36.287Z"
   },
   {
    "duration": 230,
    "start_time": "2023-07-14T21:09:45.925Z"
   },
   {
    "duration": 224,
    "start_time": "2023-07-14T21:09:50.959Z"
   },
   {
    "duration": 267,
    "start_time": "2023-07-14T21:11:10.008Z"
   },
   {
    "duration": 241,
    "start_time": "2023-07-14T21:11:18.616Z"
   },
   {
    "duration": 260,
    "start_time": "2023-07-14T21:11:27.412Z"
   },
   {
    "duration": 264,
    "start_time": "2023-07-14T21:11:43.836Z"
   },
   {
    "duration": 324,
    "start_time": "2023-07-14T21:11:47.657Z"
   },
   {
    "duration": 234,
    "start_time": "2023-07-14T21:11:57.680Z"
   },
   {
    "duration": 27,
    "start_time": "2023-07-14T21:13:32.150Z"
   },
   {
    "duration": 29,
    "start_time": "2023-07-14T21:14:13.146Z"
   },
   {
    "duration": 3,
    "start_time": "2023-07-14T21:15:53.212Z"
   },
   {
    "duration": 17,
    "start_time": "2023-07-14T21:15:53.669Z"
   },
   {
    "duration": 6,
    "start_time": "2023-07-14T21:15:54.314Z"
   },
   {
    "duration": 16,
    "start_time": "2023-07-14T21:15:56.733Z"
   },
   {
    "duration": 3,
    "start_time": "2023-07-14T21:16:07.363Z"
   },
   {
    "duration": 16,
    "start_time": "2023-07-14T21:16:07.812Z"
   },
   {
    "duration": 6,
    "start_time": "2023-07-14T21:16:08.461Z"
   },
   {
    "duration": 11,
    "start_time": "2023-07-14T21:16:09.178Z"
   },
   {
    "duration": 27,
    "start_time": "2023-07-14T21:16:38.079Z"
   },
   {
    "duration": 27,
    "start_time": "2023-07-14T21:16:54.130Z"
   },
   {
    "duration": 1186,
    "start_time": "2023-07-14T21:17:07.648Z"
   },
   {
    "duration": 102,
    "start_time": "2023-07-14T21:17:08.836Z"
   },
   {
    "duration": 215,
    "start_time": "2023-07-14T21:17:08.940Z"
   },
   {
    "duration": 17,
    "start_time": "2023-07-14T21:17:09.157Z"
   },
   {
    "duration": 20,
    "start_time": "2023-07-14T21:17:09.176Z"
   },
   {
    "duration": 35,
    "start_time": "2023-07-14T21:17:09.197Z"
   },
   {
    "duration": 10,
    "start_time": "2023-07-14T21:17:09.234Z"
   },
   {
    "duration": 33,
    "start_time": "2023-07-14T21:17:09.246Z"
   },
   {
    "duration": 29,
    "start_time": "2023-07-14T21:17:09.281Z"
   },
   {
    "duration": 6,
    "start_time": "2023-07-14T21:17:09.313Z"
   },
   {
    "duration": 69,
    "start_time": "2023-07-14T21:17:09.321Z"
   },
   {
    "duration": 19,
    "start_time": "2023-07-14T21:17:09.392Z"
   },
   {
    "duration": 37,
    "start_time": "2023-07-14T21:17:09.413Z"
   },
   {
    "duration": 10,
    "start_time": "2023-07-14T21:17:09.452Z"
   },
   {
    "duration": 75,
    "start_time": "2023-07-14T21:17:09.464Z"
   },
   {
    "duration": 65,
    "start_time": "2023-07-14T21:17:09.541Z"
   },
   {
    "duration": 4,
    "start_time": "2023-07-14T21:17:09.608Z"
   },
   {
    "duration": 13,
    "start_time": "2023-07-14T21:17:09.613Z"
   },
   {
    "duration": 5,
    "start_time": "2023-07-14T21:17:09.628Z"
   },
   {
    "duration": 5,
    "start_time": "2023-07-14T21:17:09.635Z"
   },
   {
    "duration": 22,
    "start_time": "2023-07-14T21:17:09.642Z"
   },
   {
    "duration": 77,
    "start_time": "2023-07-14T21:17:09.666Z"
   },
   {
    "duration": 54,
    "start_time": "2023-07-14T21:17:09.745Z"
   },
   {
    "duration": 33,
    "start_time": "2023-07-14T21:17:09.801Z"
   },
   {
    "duration": 18,
    "start_time": "2023-07-14T21:17:09.836Z"
   },
   {
    "duration": 39,
    "start_time": "2023-07-14T21:17:09.856Z"
   },
   {
    "duration": 42,
    "start_time": "2023-07-14T21:17:09.896Z"
   },
   {
    "duration": 23,
    "start_time": "2023-07-14T21:17:09.942Z"
   },
   {
    "duration": 281,
    "start_time": "2023-07-14T21:17:09.966Z"
   },
   {
    "duration": 20,
    "start_time": "2023-07-14T21:17:10.249Z"
   },
   {
    "duration": 18,
    "start_time": "2023-07-14T21:17:10.271Z"
   },
   {
    "duration": 43,
    "start_time": "2023-07-14T21:17:10.290Z"
   },
   {
    "duration": 24,
    "start_time": "2023-07-14T21:17:10.335Z"
   },
   {
    "duration": 52,
    "start_time": "2023-07-14T21:17:10.361Z"
   },
   {
    "duration": 51,
    "start_time": "2023-07-14T21:17:10.415Z"
   },
   {
    "duration": 56,
    "start_time": "2023-07-14T21:17:10.468Z"
   },
   {
    "duration": 26,
    "start_time": "2023-07-14T21:17:10.527Z"
   },
   {
    "duration": 200,
    "start_time": "2023-07-14T21:17:10.555Z"
   },
   {
    "duration": 5,
    "start_time": "2023-07-14T21:17:10.757Z"
   },
   {
    "duration": 34,
    "start_time": "2023-07-14T21:17:10.764Z"
   },
   {
    "duration": 70,
    "start_time": "2023-07-14T21:17:10.800Z"
   },
   {
    "duration": 23,
    "start_time": "2023-07-14T21:17:10.871Z"
   },
   {
    "duration": 45,
    "start_time": "2023-07-14T21:17:10.896Z"
   },
   {
    "duration": 27,
    "start_time": "2023-07-14T21:17:10.943Z"
   },
   {
    "duration": 65,
    "start_time": "2023-07-14T21:17:10.971Z"
   },
   {
    "duration": 36,
    "start_time": "2023-07-14T21:17:11.038Z"
   },
   {
    "duration": 278,
    "start_time": "2023-07-14T21:17:11.077Z"
   },
   {
    "duration": 4,
    "start_time": "2023-07-14T21:17:11.357Z"
   },
   {
    "duration": 23,
    "start_time": "2023-07-14T21:17:11.363Z"
   },
   {
    "duration": 33,
    "start_time": "2023-07-14T21:17:11.387Z"
   },
   {
    "duration": 270,
    "start_time": "2023-07-14T21:17:11.422Z"
   },
   {
    "duration": 34,
    "start_time": "2023-07-14T21:17:11.694Z"
   },
   {
    "duration": 28,
    "start_time": "2023-07-14T21:17:11.730Z"
   },
   {
    "duration": 34,
    "start_time": "2023-07-14T21:17:11.760Z"
   },
   {
    "duration": 61,
    "start_time": "2023-07-14T21:17:11.796Z"
   },
   {
    "duration": 7,
    "start_time": "2023-07-14T21:17:11.858Z"
   },
   {
    "duration": 35,
    "start_time": "2023-07-14T21:17:11.866Z"
   },
   {
    "duration": 35,
    "start_time": "2023-07-14T21:17:11.903Z"
   },
   {
    "duration": 72,
    "start_time": "2023-07-14T21:17:11.939Z"
   },
   {
    "duration": 27,
    "start_time": "2023-07-14T21:17:12.013Z"
   },
   {
    "duration": 27,
    "start_time": "2023-07-14T21:17:12.041Z"
   },
   {
    "duration": 21,
    "start_time": "2023-07-14T21:17:12.069Z"
   },
   {
    "duration": 68,
    "start_time": "2023-07-14T21:17:12.092Z"
   },
   {
    "duration": 19,
    "start_time": "2023-07-14T21:17:12.162Z"
   },
   {
    "duration": 25,
    "start_time": "2023-07-14T21:17:12.183Z"
   },
   {
    "duration": 52,
    "start_time": "2023-07-14T21:17:12.209Z"
   },
   {
    "duration": 25,
    "start_time": "2023-07-14T21:17:12.263Z"
   },
   {
    "duration": 29,
    "start_time": "2023-07-14T21:17:12.290Z"
   },
   {
    "duration": 20,
    "start_time": "2023-07-14T21:17:12.321Z"
   },
   {
    "duration": 49,
    "start_time": "2023-07-14T21:17:12.343Z"
   },
   {
    "duration": 40,
    "start_time": "2023-07-14T21:17:12.394Z"
   },
   {
    "duration": 63,
    "start_time": "2023-07-14T21:17:12.437Z"
   },
   {
    "duration": 18,
    "start_time": "2023-07-14T21:17:12.502Z"
   },
   {
    "duration": 73,
    "start_time": "2023-07-14T21:17:12.521Z"
   },
   {
    "duration": 31,
    "start_time": "2023-07-14T21:17:12.596Z"
   },
   {
    "duration": 41,
    "start_time": "2023-07-14T21:17:12.629Z"
   },
   {
    "duration": 56,
    "start_time": "2023-07-14T21:17:12.671Z"
   },
   {
    "duration": 70,
    "start_time": "2023-07-14T21:17:12.728Z"
   },
   {
    "duration": 51,
    "start_time": "2023-07-14T21:17:12.800Z"
   },
   {
    "duration": 24,
    "start_time": "2023-07-14T21:17:12.853Z"
   },
   {
    "duration": 43,
    "start_time": "2023-07-14T21:17:12.880Z"
   },
   {
    "duration": 154,
    "start_time": "2023-07-14T21:17:12.933Z"
   },
   {
    "duration": 30,
    "start_time": "2023-07-14T21:17:13.090Z"
   },
   {
    "duration": 132,
    "start_time": "2023-07-14T21:17:13.122Z"
   },
   {
    "duration": 101,
    "start_time": "2023-07-14T21:17:13.255Z"
   },
   {
    "duration": 0,
    "start_time": "2023-07-14T21:17:13.358Z"
   },
   {
    "duration": 0,
    "start_time": "2023-07-14T21:17:13.359Z"
   },
   {
    "duration": 0,
    "start_time": "2023-07-14T21:17:13.360Z"
   },
   {
    "duration": 17,
    "start_time": "2023-07-14T21:20:26.452Z"
   },
   {
    "duration": 17,
    "start_time": "2023-07-14T21:21:54.565Z"
   },
   {
    "duration": 1204,
    "start_time": "2023-07-14T21:23:25.617Z"
   },
   {
    "duration": 19,
    "start_time": "2023-07-14T21:23:40.754Z"
   },
   {
    "duration": 7,
    "start_time": "2023-07-14T21:23:51.055Z"
   },
   {
    "duration": 19,
    "start_time": "2023-07-14T21:25:57.083Z"
   },
   {
    "duration": 102,
    "start_time": "2023-07-14T21:26:49.341Z"
   },
   {
    "duration": 17,
    "start_time": "2023-07-14T21:27:04.235Z"
   },
   {
    "duration": 16,
    "start_time": "2023-07-14T21:27:09.612Z"
   },
   {
    "duration": 1330,
    "start_time": "2023-07-14T21:27:51.289Z"
   },
   {
    "duration": 19,
    "start_time": "2023-07-14T21:28:00.351Z"
   },
   {
    "duration": 17,
    "start_time": "2023-07-14T21:28:05.899Z"
   },
   {
    "duration": 8,
    "start_time": "2023-07-14T21:28:14.069Z"
   },
   {
    "duration": 4,
    "start_time": "2023-07-14T21:28:16.893Z"
   },
   {
    "duration": 1157,
    "start_time": "2023-07-14T21:28:58.494Z"
   },
   {
    "duration": 17,
    "start_time": "2023-07-14T21:29:18.426Z"
   },
   {
    "duration": 15,
    "start_time": "2023-07-14T21:29:25.494Z"
   },
   {
    "duration": 18,
    "start_time": "2023-07-14T21:29:40.969Z"
   },
   {
    "duration": 15,
    "start_time": "2023-07-14T21:30:01.754Z"
   },
   {
    "duration": 14,
    "start_time": "2023-07-14T21:30:04.891Z"
   },
   {
    "duration": 8,
    "start_time": "2023-07-14T21:30:41.810Z"
   },
   {
    "duration": 7,
    "start_time": "2023-07-14T21:30:44.310Z"
   },
   {
    "duration": 4,
    "start_time": "2023-07-14T21:30:46.439Z"
   },
   {
    "duration": 14,
    "start_time": "2023-07-14T21:31:04.636Z"
   },
   {
    "duration": 16,
    "start_time": "2023-07-14T21:31:19.144Z"
   },
   {
    "duration": 14,
    "start_time": "2023-07-14T21:31:39.213Z"
   },
   {
    "duration": 15,
    "start_time": "2023-07-14T21:31:46.944Z"
   },
   {
    "duration": 8,
    "start_time": "2023-07-14T21:31:49.093Z"
   },
   {
    "duration": 6,
    "start_time": "2023-07-14T21:31:49.696Z"
   },
   {
    "duration": 5,
    "start_time": "2023-07-14T21:31:50.208Z"
   },
   {
    "duration": 1081,
    "start_time": "2023-07-14T21:32:32.938Z"
   },
   {
    "duration": 48,
    "start_time": "2023-07-14T21:32:34.021Z"
   },
   {
    "duration": 153,
    "start_time": "2023-07-14T21:32:34.071Z"
   },
   {
    "duration": 16,
    "start_time": "2023-07-14T21:32:34.226Z"
   },
   {
    "duration": 20,
    "start_time": "2023-07-14T21:32:34.243Z"
   },
   {
    "duration": 18,
    "start_time": "2023-07-14T21:32:34.265Z"
   },
   {
    "duration": 34,
    "start_time": "2023-07-14T21:32:34.290Z"
   },
   {
    "duration": 7,
    "start_time": "2023-07-14T21:32:34.326Z"
   },
   {
    "duration": 16,
    "start_time": "2023-07-14T21:32:34.335Z"
   },
   {
    "duration": 11,
    "start_time": "2023-07-14T21:32:34.354Z"
   },
   {
    "duration": 30,
    "start_time": "2023-07-14T21:32:34.367Z"
   },
   {
    "duration": 38,
    "start_time": "2023-07-14T21:32:34.398Z"
   },
   {
    "duration": 21,
    "start_time": "2023-07-14T21:32:34.437Z"
   },
   {
    "duration": 19,
    "start_time": "2023-07-14T21:32:34.460Z"
   },
   {
    "duration": 25,
    "start_time": "2023-07-14T21:32:34.481Z"
   },
   {
    "duration": 24,
    "start_time": "2023-07-14T21:32:34.507Z"
   },
   {
    "duration": 8,
    "start_time": "2023-07-14T21:32:34.533Z"
   },
   {
    "duration": 40,
    "start_time": "2023-07-14T21:32:34.542Z"
   },
   {
    "duration": 16,
    "start_time": "2023-07-14T21:32:34.583Z"
   },
   {
    "duration": 20,
    "start_time": "2023-07-14T21:32:34.600Z"
   },
   {
    "duration": 31,
    "start_time": "2023-07-14T21:32:34.621Z"
   },
   {
    "duration": 29,
    "start_time": "2023-07-14T21:32:34.653Z"
   },
   {
    "duration": 35,
    "start_time": "2023-07-14T21:32:34.683Z"
   },
   {
    "duration": 52,
    "start_time": "2023-07-14T21:32:34.720Z"
   },
   {
    "duration": 10,
    "start_time": "2023-07-14T21:32:34.774Z"
   },
   {
    "duration": 44,
    "start_time": "2023-07-14T21:32:34.786Z"
   },
   {
    "duration": 33,
    "start_time": "2023-07-14T21:32:34.832Z"
   },
   {
    "duration": 27,
    "start_time": "2023-07-14T21:32:34.870Z"
   },
   {
    "duration": 255,
    "start_time": "2023-07-14T21:32:34.899Z"
   },
   {
    "duration": 21,
    "start_time": "2023-07-14T21:32:35.155Z"
   },
   {
    "duration": 4,
    "start_time": "2023-07-14T21:32:35.177Z"
   },
   {
    "duration": 15,
    "start_time": "2023-07-14T21:32:35.182Z"
   },
   {
    "duration": 21,
    "start_time": "2023-07-14T21:32:35.199Z"
   },
   {
    "duration": 19,
    "start_time": "2023-07-14T21:32:35.222Z"
   },
   {
    "duration": 40,
    "start_time": "2023-07-14T21:32:35.243Z"
   },
   {
    "duration": 31,
    "start_time": "2023-07-14T21:32:35.285Z"
   },
   {
    "duration": 25,
    "start_time": "2023-07-14T21:32:35.318Z"
   },
   {
    "duration": 163,
    "start_time": "2023-07-14T21:32:35.344Z"
   },
   {
    "duration": 3,
    "start_time": "2023-07-14T21:32:35.509Z"
   },
   {
    "duration": 29,
    "start_time": "2023-07-14T21:32:35.513Z"
   },
   {
    "duration": 39,
    "start_time": "2023-07-14T21:32:35.543Z"
   },
   {
    "duration": 4,
    "start_time": "2023-07-14T21:32:35.584Z"
   },
   {
    "duration": 11,
    "start_time": "2023-07-14T21:32:35.590Z"
   },
   {
    "duration": 26,
    "start_time": "2023-07-14T21:32:35.603Z"
   },
   {
    "duration": 21,
    "start_time": "2023-07-14T21:32:35.631Z"
   },
   {
    "duration": 34,
    "start_time": "2023-07-14T21:32:35.654Z"
   },
   {
    "duration": 255,
    "start_time": "2023-07-14T21:32:35.690Z"
   },
   {
    "duration": 4,
    "start_time": "2023-07-14T21:32:35.947Z"
   },
   {
    "duration": 13,
    "start_time": "2023-07-14T21:32:35.952Z"
   },
   {
    "duration": 13,
    "start_time": "2023-07-14T21:32:35.966Z"
   },
   {
    "duration": 235,
    "start_time": "2023-07-14T21:32:35.980Z"
   },
   {
    "duration": 21,
    "start_time": "2023-07-14T21:32:36.220Z"
   },
   {
    "duration": 26,
    "start_time": "2023-07-14T21:32:36.243Z"
   },
   {
    "duration": 12,
    "start_time": "2023-07-14T21:32:36.271Z"
   },
   {
    "duration": 60,
    "start_time": "2023-07-14T21:32:36.284Z"
   },
   {
    "duration": 2,
    "start_time": "2023-07-14T21:32:36.346Z"
   },
   {
    "duration": 48,
    "start_time": "2023-07-14T21:32:36.350Z"
   },
   {
    "duration": 11,
    "start_time": "2023-07-14T21:32:36.399Z"
   },
   {
    "duration": 31,
    "start_time": "2023-07-14T21:32:36.412Z"
   },
   {
    "duration": 30,
    "start_time": "2023-07-14T21:32:36.444Z"
   },
   {
    "duration": 27,
    "start_time": "2023-07-14T21:32:36.475Z"
   },
   {
    "duration": 18,
    "start_time": "2023-07-14T21:32:36.503Z"
   },
   {
    "duration": 21,
    "start_time": "2023-07-14T21:32:36.522Z"
   },
   {
    "duration": 31,
    "start_time": "2023-07-14T21:32:36.545Z"
   },
   {
    "duration": 43,
    "start_time": "2023-07-14T21:32:36.578Z"
   },
   {
    "duration": 14,
    "start_time": "2023-07-14T21:32:36.622Z"
   },
   {
    "duration": 18,
    "start_time": "2023-07-14T21:32:36.637Z"
   },
   {
    "duration": 17,
    "start_time": "2023-07-14T21:32:36.656Z"
   },
   {
    "duration": 18,
    "start_time": "2023-07-14T21:32:36.675Z"
   },
   {
    "duration": 14,
    "start_time": "2023-07-14T21:32:36.694Z"
   },
   {
    "duration": 22,
    "start_time": "2023-07-14T21:32:36.709Z"
   },
   {
    "duration": 24,
    "start_time": "2023-07-14T21:32:36.732Z"
   },
   {
    "duration": 17,
    "start_time": "2023-07-14T21:32:36.757Z"
   },
   {
    "duration": 34,
    "start_time": "2023-07-14T21:32:36.775Z"
   },
   {
    "duration": 24,
    "start_time": "2023-07-14T21:32:36.811Z"
   },
   {
    "duration": 13,
    "start_time": "2023-07-14T21:32:36.837Z"
   },
   {
    "duration": 28,
    "start_time": "2023-07-14T21:32:36.851Z"
   },
   {
    "duration": 13,
    "start_time": "2023-07-14T21:32:36.881Z"
   },
   {
    "duration": 13,
    "start_time": "2023-07-14T21:32:36.895Z"
   },
   {
    "duration": 12,
    "start_time": "2023-07-14T21:32:36.909Z"
   },
   {
    "duration": 8,
    "start_time": "2023-07-14T21:32:36.923Z"
   },
   {
    "duration": 26,
    "start_time": "2023-07-14T21:32:36.936Z"
   },
   {
    "duration": 28,
    "start_time": "2023-07-14T21:32:36.963Z"
   },
   {
    "duration": 20,
    "start_time": "2023-07-14T21:32:36.993Z"
   },
   {
    "duration": 16,
    "start_time": "2023-07-14T21:32:37.020Z"
   },
   {
    "duration": 30,
    "start_time": "2023-07-14T21:32:37.038Z"
   },
   {
    "duration": 139,
    "start_time": "2023-07-14T21:32:37.070Z"
   },
   {
    "duration": 17,
    "start_time": "2023-07-14T21:32:37.211Z"
   },
   {
    "duration": 107,
    "start_time": "2023-07-14T21:32:37.230Z"
   },
   {
    "duration": 95,
    "start_time": "2023-07-14T21:32:37.338Z"
   },
   {
    "duration": 0,
    "start_time": "2023-07-14T21:32:37.434Z"
   },
   {
    "duration": 0,
    "start_time": "2023-07-14T21:32:37.435Z"
   },
   {
    "duration": 0,
    "start_time": "2023-07-14T21:32:37.436Z"
   },
   {
    "duration": 17,
    "start_time": "2023-07-14T21:33:00.768Z"
   },
   {
    "duration": 16,
    "start_time": "2023-07-14T21:33:07.718Z"
   },
   {
    "duration": 19,
    "start_time": "2023-07-14T21:33:09.417Z"
   },
   {
    "duration": 19,
    "start_time": "2023-07-14T21:33:18.389Z"
   },
   {
    "duration": 20,
    "start_time": "2023-07-14T21:33:25.796Z"
   },
   {
    "duration": 6,
    "start_time": "2023-07-14T21:33:26.246Z"
   },
   {
    "duration": 17,
    "start_time": "2023-07-14T21:33:37.288Z"
   },
   {
    "duration": 84,
    "start_time": "2023-07-14T21:33:38.363Z"
   },
   {
    "duration": 18,
    "start_time": "2023-07-14T21:33:39.500Z"
   },
   {
    "duration": 14,
    "start_time": "2023-07-14T21:33:46.543Z"
   },
   {
    "duration": 6,
    "start_time": "2023-07-14T21:33:50.009Z"
   },
   {
    "duration": 4,
    "start_time": "2023-07-14T21:33:50.564Z"
   },
   {
    "duration": 6,
    "start_time": "2023-07-14T21:35:22.989Z"
   },
   {
    "duration": 22,
    "start_time": "2023-07-14T21:35:33.800Z"
   },
   {
    "duration": 82,
    "start_time": "2023-07-14T21:36:25.163Z"
   },
   {
    "duration": 12,
    "start_time": "2023-07-14T21:36:29.452Z"
   },
   {
    "duration": 5,
    "start_time": "2023-07-14T21:36:52.477Z"
   },
   {
    "duration": 13,
    "start_time": "2023-07-14T21:36:54.189Z"
   },
   {
    "duration": 9,
    "start_time": "2023-07-14T21:37:20.596Z"
   },
   {
    "duration": 8,
    "start_time": "2023-07-14T21:37:35.340Z"
   },
   {
    "duration": 1940,
    "start_time": "2023-07-15T10:49:05.203Z"
   },
   {
    "duration": 117,
    "start_time": "2023-07-15T10:49:07.146Z"
   },
   {
    "duration": 225,
    "start_time": "2023-07-15T10:49:07.273Z"
   },
   {
    "duration": 27,
    "start_time": "2023-07-15T10:49:07.500Z"
   },
   {
    "duration": 75,
    "start_time": "2023-07-15T10:49:07.530Z"
   },
   {
    "duration": 36,
    "start_time": "2023-07-15T10:49:07.607Z"
   },
   {
    "duration": 25,
    "start_time": "2023-07-15T10:49:07.647Z"
   },
   {
    "duration": 47,
    "start_time": "2023-07-15T10:49:07.675Z"
   },
   {
    "duration": 25,
    "start_time": "2023-07-15T10:49:07.724Z"
   },
   {
    "duration": 8,
    "start_time": "2023-07-15T10:49:07.752Z"
   },
   {
    "duration": 56,
    "start_time": "2023-07-15T10:49:07.762Z"
   },
   {
    "duration": 16,
    "start_time": "2023-07-15T10:49:07.821Z"
   },
   {
    "duration": 46,
    "start_time": "2023-07-15T10:49:07.839Z"
   },
   {
    "duration": 38,
    "start_time": "2023-07-15T10:49:07.891Z"
   },
   {
    "duration": 10,
    "start_time": "2023-07-15T10:49:07.931Z"
   },
   {
    "duration": 19,
    "start_time": "2023-07-15T10:49:07.943Z"
   },
   {
    "duration": 41,
    "start_time": "2023-07-15T10:49:07.964Z"
   },
   {
    "duration": 26,
    "start_time": "2023-07-15T10:49:08.007Z"
   },
   {
    "duration": 9,
    "start_time": "2023-07-15T10:49:08.035Z"
   },
   {
    "duration": 12,
    "start_time": "2023-07-15T10:49:08.046Z"
   },
   {
    "duration": 75,
    "start_time": "2023-07-15T10:49:08.060Z"
   },
   {
    "duration": 11,
    "start_time": "2023-07-15T10:49:08.137Z"
   },
   {
    "duration": 37,
    "start_time": "2023-07-15T10:49:08.149Z"
   },
   {
    "duration": 33,
    "start_time": "2023-07-15T10:49:08.187Z"
   },
   {
    "duration": 17,
    "start_time": "2023-07-15T10:49:08.222Z"
   },
   {
    "duration": 66,
    "start_time": "2023-07-15T10:49:08.241Z"
   },
   {
    "duration": 104,
    "start_time": "2023-07-15T10:49:08.313Z"
   },
   {
    "duration": 27,
    "start_time": "2023-07-15T10:49:08.420Z"
   },
   {
    "duration": 444,
    "start_time": "2023-07-15T10:49:08.450Z"
   },
   {
    "duration": 35,
    "start_time": "2023-07-15T10:49:08.902Z"
   },
   {
    "duration": 7,
    "start_time": "2023-07-15T10:49:08.939Z"
   },
   {
    "duration": 89,
    "start_time": "2023-07-15T10:49:08.949Z"
   },
   {
    "duration": 14,
    "start_time": "2023-07-15T10:49:09.041Z"
   },
   {
    "duration": 142,
    "start_time": "2023-07-15T10:49:09.059Z"
   },
   {
    "duration": 51,
    "start_time": "2023-07-15T10:49:09.203Z"
   },
   {
    "duration": 56,
    "start_time": "2023-07-15T10:49:09.256Z"
   },
   {
    "duration": 55,
    "start_time": "2023-07-15T10:49:09.315Z"
   },
   {
    "duration": 314,
    "start_time": "2023-07-15T10:49:09.376Z"
   },
   {
    "duration": 20,
    "start_time": "2023-07-15T10:49:09.692Z"
   },
   {
    "duration": 27,
    "start_time": "2023-07-15T10:49:09.716Z"
   },
   {
    "duration": 74,
    "start_time": "2023-07-15T10:49:09.747Z"
   },
   {
    "duration": 4,
    "start_time": "2023-07-15T10:49:09.823Z"
   },
   {
    "duration": 6,
    "start_time": "2023-07-15T10:49:09.829Z"
   },
   {
    "duration": 15,
    "start_time": "2023-07-15T10:49:09.837Z"
   },
   {
    "duration": 78,
    "start_time": "2023-07-15T10:49:09.854Z"
   },
   {
    "duration": 43,
    "start_time": "2023-07-15T10:49:09.933Z"
   },
   {
    "duration": 356,
    "start_time": "2023-07-15T10:49:09.978Z"
   },
   {
    "duration": 6,
    "start_time": "2023-07-15T10:49:10.336Z"
   },
   {
    "duration": 19,
    "start_time": "2023-07-15T10:49:10.363Z"
   },
   {
    "duration": 51,
    "start_time": "2023-07-15T10:49:10.384Z"
   },
   {
    "duration": 355,
    "start_time": "2023-07-15T10:49:10.437Z"
   },
   {
    "duration": 31,
    "start_time": "2023-07-15T10:49:10.795Z"
   },
   {
    "duration": 61,
    "start_time": "2023-07-15T10:49:10.828Z"
   },
   {
    "duration": 17,
    "start_time": "2023-07-15T10:49:10.900Z"
   },
   {
    "duration": 56,
    "start_time": "2023-07-15T10:49:10.919Z"
   },
   {
    "duration": 9,
    "start_time": "2023-07-15T10:49:10.977Z"
   },
   {
    "duration": 41,
    "start_time": "2023-07-15T10:49:10.988Z"
   },
   {
    "duration": 11,
    "start_time": "2023-07-15T10:49:11.032Z"
   },
   {
    "duration": 61,
    "start_time": "2023-07-15T10:49:11.045Z"
   },
   {
    "duration": 26,
    "start_time": "2023-07-15T10:49:11.108Z"
   },
   {
    "duration": 56,
    "start_time": "2023-07-15T10:49:11.137Z"
   },
   {
    "duration": 28,
    "start_time": "2023-07-15T10:49:11.199Z"
   },
   {
    "duration": 29,
    "start_time": "2023-07-15T10:49:11.229Z"
   },
   {
    "duration": 10,
    "start_time": "2023-07-15T10:49:11.261Z"
   },
   {
    "duration": 52,
    "start_time": "2023-07-15T10:49:11.275Z"
   },
   {
    "duration": 50,
    "start_time": "2023-07-15T10:49:11.329Z"
   },
   {
    "duration": 46,
    "start_time": "2023-07-15T10:49:11.382Z"
   },
   {
    "duration": 10,
    "start_time": "2023-07-15T10:49:11.430Z"
   },
   {
    "duration": 7,
    "start_time": "2023-07-15T10:49:11.442Z"
   },
   {
    "duration": 75,
    "start_time": "2023-07-15T10:49:11.451Z"
   },
   {
    "duration": 19,
    "start_time": "2023-07-15T10:49:11.528Z"
   },
   {
    "duration": 32,
    "start_time": "2023-07-15T10:49:11.548Z"
   },
   {
    "duration": 46,
    "start_time": "2023-07-15T10:49:11.582Z"
   },
   {
    "duration": 20,
    "start_time": "2023-07-15T10:49:11.630Z"
   },
   {
    "duration": 86,
    "start_time": "2023-07-15T10:49:11.651Z"
   },
   {
    "duration": 33,
    "start_time": "2023-07-15T10:49:11.739Z"
   },
   {
    "duration": 86,
    "start_time": "2023-07-15T10:49:11.774Z"
   },
   {
    "duration": 26,
    "start_time": "2023-07-15T10:49:11.862Z"
   },
   {
    "duration": 34,
    "start_time": "2023-07-15T10:49:11.891Z"
   },
   {
    "duration": 9,
    "start_time": "2023-07-15T10:49:11.927Z"
   },
   {
    "duration": 18,
    "start_time": "2023-07-15T10:49:11.938Z"
   },
   {
    "duration": 65,
    "start_time": "2023-07-15T10:49:11.957Z"
   },
   {
    "duration": 34,
    "start_time": "2023-07-15T10:49:12.023Z"
   },
   {
    "duration": 53,
    "start_time": "2023-07-15T10:49:12.061Z"
   },
   {
    "duration": 18,
    "start_time": "2023-07-15T10:49:12.116Z"
   },
   {
    "duration": 17,
    "start_time": "2023-07-15T10:49:12.135Z"
   },
   {
    "duration": 195,
    "start_time": "2023-07-15T10:49:12.155Z"
   },
   {
    "duration": 31,
    "start_time": "2023-07-15T10:49:12.352Z"
   },
   {
    "duration": 196,
    "start_time": "2023-07-15T10:49:12.385Z"
   },
   {
    "duration": 142,
    "start_time": "2023-07-15T10:49:12.585Z"
   },
   {
    "duration": 0,
    "start_time": "2023-07-15T10:49:12.729Z"
   },
   {
    "duration": 0,
    "start_time": "2023-07-15T10:49:12.730Z"
   },
   {
    "duration": 0,
    "start_time": "2023-07-15T10:49:12.731Z"
   },
   {
    "duration": 15,
    "start_time": "2023-07-15T11:04:10.946Z"
   },
   {
    "duration": 88,
    "start_time": "2023-07-15T11:07:54.313Z"
   },
   {
    "duration": 6,
    "start_time": "2023-07-15T11:11:29.410Z"
   },
   {
    "duration": 13,
    "start_time": "2023-07-15T11:16:31.491Z"
   },
   {
    "duration": 1358,
    "start_time": "2023-07-15T11:16:37.135Z"
   },
   {
    "duration": 64,
    "start_time": "2023-07-15T11:16:38.496Z"
   },
   {
    "duration": 195,
    "start_time": "2023-07-15T11:16:38.563Z"
   },
   {
    "duration": 94,
    "start_time": "2023-07-15T11:16:38.760Z"
   },
   {
    "duration": 76,
    "start_time": "2023-07-15T11:16:38.856Z"
   },
   {
    "duration": 22,
    "start_time": "2023-07-15T11:16:38.934Z"
   },
   {
    "duration": 22,
    "start_time": "2023-07-15T11:16:38.958Z"
   },
   {
    "duration": 29,
    "start_time": "2023-07-15T11:16:38.981Z"
   },
   {
    "duration": 56,
    "start_time": "2023-07-15T11:16:39.012Z"
   },
   {
    "duration": 11,
    "start_time": "2023-07-15T11:16:39.072Z"
   },
   {
    "duration": 45,
    "start_time": "2023-07-15T11:16:39.085Z"
   },
   {
    "duration": 56,
    "start_time": "2023-07-15T11:16:39.133Z"
   },
   {
    "duration": 56,
    "start_time": "2023-07-15T11:16:39.191Z"
   },
   {
    "duration": 14,
    "start_time": "2023-07-15T11:16:39.249Z"
   },
   {
    "duration": 55,
    "start_time": "2023-07-15T11:16:39.266Z"
   },
   {
    "duration": 117,
    "start_time": "2023-07-15T11:16:39.324Z"
   },
   {
    "duration": 9,
    "start_time": "2023-07-15T11:16:39.443Z"
   },
   {
    "duration": 17,
    "start_time": "2023-07-15T11:16:39.454Z"
   },
   {
    "duration": 42,
    "start_time": "2023-07-15T11:16:39.474Z"
   },
   {
    "duration": 13,
    "start_time": "2023-07-15T11:16:39.518Z"
   },
   {
    "duration": 20,
    "start_time": "2023-07-15T11:16:39.532Z"
   },
   {
    "duration": 36,
    "start_time": "2023-07-15T11:16:39.555Z"
   },
   {
    "duration": 13,
    "start_time": "2023-07-15T11:16:39.593Z"
   },
   {
    "duration": 11,
    "start_time": "2023-07-15T11:16:39.608Z"
   },
   {
    "duration": 38,
    "start_time": "2023-07-15T11:16:39.622Z"
   },
   {
    "duration": 11,
    "start_time": "2023-07-15T11:16:39.662Z"
   },
   {
    "duration": 29,
    "start_time": "2023-07-15T11:16:39.674Z"
   },
   {
    "duration": 17,
    "start_time": "2023-07-15T11:16:39.708Z"
   },
   {
    "duration": 36,
    "start_time": "2023-07-15T11:16:39.727Z"
   },
   {
    "duration": 328,
    "start_time": "2023-07-15T11:16:39.765Z"
   },
   {
    "duration": 24,
    "start_time": "2023-07-15T11:16:40.095Z"
   },
   {
    "duration": 9,
    "start_time": "2023-07-15T11:16:40.121Z"
   },
   {
    "duration": 31,
    "start_time": "2023-07-15T11:16:40.132Z"
   },
   {
    "duration": 19,
    "start_time": "2023-07-15T11:16:40.165Z"
   },
   {
    "duration": 26,
    "start_time": "2023-07-15T11:16:40.187Z"
   },
   {
    "duration": 42,
    "start_time": "2023-07-15T11:16:40.216Z"
   },
   {
    "duration": 37,
    "start_time": "2023-07-15T11:16:40.261Z"
   },
   {
    "duration": 16,
    "start_time": "2023-07-15T11:16:40.299Z"
   },
   {
    "duration": 238,
    "start_time": "2023-07-15T11:16:40.317Z"
   },
   {
    "duration": 4,
    "start_time": "2023-07-15T11:16:40.557Z"
   },
   {
    "duration": 49,
    "start_time": "2023-07-15T11:16:40.563Z"
   },
   {
    "duration": 45,
    "start_time": "2023-07-15T11:16:40.614Z"
   },
   {
    "duration": 4,
    "start_time": "2023-07-15T11:16:40.661Z"
   },
   {
    "duration": 14,
    "start_time": "2023-07-15T11:16:40.667Z"
   },
   {
    "duration": 15,
    "start_time": "2023-07-15T11:16:40.683Z"
   },
   {
    "duration": 23,
    "start_time": "2023-07-15T11:16:40.701Z"
   },
   {
    "duration": 56,
    "start_time": "2023-07-15T11:16:40.726Z"
   },
   {
    "duration": 325,
    "start_time": "2023-07-15T11:16:40.784Z"
   },
   {
    "duration": 6,
    "start_time": "2023-07-15T11:16:41.112Z"
   },
   {
    "duration": 45,
    "start_time": "2023-07-15T11:16:41.121Z"
   },
   {
    "duration": 28,
    "start_time": "2023-07-15T11:16:41.168Z"
   },
   {
    "duration": 297,
    "start_time": "2023-07-15T11:16:41.198Z"
   },
   {
    "duration": 25,
    "start_time": "2023-07-15T11:16:41.497Z"
   },
   {
    "duration": 49,
    "start_time": "2023-07-15T11:16:41.524Z"
   },
   {
    "duration": 15,
    "start_time": "2023-07-15T11:16:41.574Z"
   },
   {
    "duration": 61,
    "start_time": "2023-07-15T11:16:41.591Z"
   },
   {
    "duration": 3,
    "start_time": "2023-07-15T11:16:41.654Z"
   },
   {
    "duration": 28,
    "start_time": "2023-07-15T11:16:41.659Z"
   },
   {
    "duration": 9,
    "start_time": "2023-07-15T11:16:41.689Z"
   },
   {
    "duration": 53,
    "start_time": "2023-07-15T11:16:41.700Z"
   },
   {
    "duration": 23,
    "start_time": "2023-07-15T11:16:41.755Z"
   },
   {
    "duration": 19,
    "start_time": "2023-07-15T11:16:41.780Z"
   },
   {
    "duration": 57,
    "start_time": "2023-07-15T11:16:41.802Z"
   },
   {
    "duration": 28,
    "start_time": "2023-07-15T11:16:41.861Z"
   },
   {
    "duration": 10,
    "start_time": "2023-07-15T11:16:41.891Z"
   },
   {
    "duration": 50,
    "start_time": "2023-07-15T11:16:41.903Z"
   },
   {
    "duration": 18,
    "start_time": "2023-07-15T11:16:41.956Z"
   },
   {
    "duration": 21,
    "start_time": "2023-07-15T11:16:41.976Z"
   },
   {
    "duration": 12,
    "start_time": "2023-07-15T11:16:41.999Z"
   },
   {
    "duration": 10,
    "start_time": "2023-07-15T11:16:42.013Z"
   },
   {
    "duration": 37,
    "start_time": "2023-07-15T11:16:42.025Z"
   },
   {
    "duration": 25,
    "start_time": "2023-07-15T11:16:42.064Z"
   },
   {
    "duration": 21,
    "start_time": "2023-07-15T11:16:42.091Z"
   },
   {
    "duration": 48,
    "start_time": "2023-07-15T11:16:42.114Z"
   },
   {
    "duration": 23,
    "start_time": "2023-07-15T11:16:42.164Z"
   },
   {
    "duration": 30,
    "start_time": "2023-07-15T11:16:42.190Z"
   },
   {
    "duration": 29,
    "start_time": "2023-07-15T11:16:42.224Z"
   },
   {
    "duration": 23,
    "start_time": "2023-07-15T11:16:42.255Z"
   },
   {
    "duration": 23,
    "start_time": "2023-07-15T11:16:42.281Z"
   },
   {
    "duration": 11,
    "start_time": "2023-07-15T11:16:42.307Z"
   },
   {
    "duration": 35,
    "start_time": "2023-07-15T11:16:42.320Z"
   },
   {
    "duration": 8,
    "start_time": "2023-07-15T11:16:42.363Z"
   },
   {
    "duration": 22,
    "start_time": "2023-07-15T11:16:42.373Z"
   },
   {
    "duration": 60,
    "start_time": "2023-07-15T11:16:42.397Z"
   },
   {
    "duration": 28,
    "start_time": "2023-07-15T11:16:42.459Z"
   },
   {
    "duration": 18,
    "start_time": "2023-07-15T11:16:42.489Z"
   },
   {
    "duration": 48,
    "start_time": "2023-07-15T11:16:42.509Z"
   },
   {
    "duration": 154,
    "start_time": "2023-07-15T11:16:42.559Z"
   },
   {
    "duration": 20,
    "start_time": "2023-07-15T11:16:42.715Z"
   },
   {
    "duration": 239,
    "start_time": "2023-07-15T11:16:42.751Z"
   },
   {
    "duration": 116,
    "start_time": "2023-07-15T11:16:42.991Z"
   },
   {
    "duration": 0,
    "start_time": "2023-07-15T11:16:43.109Z"
   },
   {
    "duration": 0,
    "start_time": "2023-07-15T11:16:43.113Z"
   },
   {
    "duration": 0,
    "start_time": "2023-07-15T11:16:43.114Z"
   },
   {
    "duration": 15,
    "start_time": "2023-07-15T11:18:11.505Z"
   },
   {
    "duration": 1301,
    "start_time": "2023-07-15T11:18:17.817Z"
   },
   {
    "duration": 59,
    "start_time": "2023-07-15T11:18:19.121Z"
   },
   {
    "duration": 423,
    "start_time": "2023-07-15T11:18:19.182Z"
   },
   {
    "duration": 20,
    "start_time": "2023-07-15T11:18:19.607Z"
   },
   {
    "duration": 37,
    "start_time": "2023-07-15T11:18:19.630Z"
   },
   {
    "duration": 24,
    "start_time": "2023-07-15T11:18:19.669Z"
   },
   {
    "duration": 31,
    "start_time": "2023-07-15T11:18:19.695Z"
   },
   {
    "duration": 10,
    "start_time": "2023-07-15T11:18:19.728Z"
   },
   {
    "duration": 23,
    "start_time": "2023-07-15T11:18:19.740Z"
   },
   {
    "duration": 5,
    "start_time": "2023-07-15T11:18:19.766Z"
   },
   {
    "duration": 15,
    "start_time": "2023-07-15T11:18:19.772Z"
   },
   {
    "duration": 15,
    "start_time": "2023-07-15T11:18:19.790Z"
   },
   {
    "duration": 45,
    "start_time": "2023-07-15T11:18:19.807Z"
   },
   {
    "duration": 12,
    "start_time": "2023-07-15T11:18:19.854Z"
   },
   {
    "duration": 16,
    "start_time": "2023-07-15T11:18:19.868Z"
   },
   {
    "duration": 20,
    "start_time": "2023-07-15T11:18:19.886Z"
   },
   {
    "duration": 5,
    "start_time": "2023-07-15T11:18:19.908Z"
   },
   {
    "duration": 15,
    "start_time": "2023-07-15T11:18:19.914Z"
   },
   {
    "duration": 28,
    "start_time": "2023-07-15T11:18:19.931Z"
   },
   {
    "duration": 4,
    "start_time": "2023-07-15T11:18:19.961Z"
   },
   {
    "duration": 9,
    "start_time": "2023-07-15T11:18:19.966Z"
   },
   {
    "duration": 28,
    "start_time": "2023-07-15T11:18:19.977Z"
   },
   {
    "duration": 10,
    "start_time": "2023-07-15T11:18:20.006Z"
   },
   {
    "duration": 21,
    "start_time": "2023-07-15T11:18:20.017Z"
   },
   {
    "duration": 36,
    "start_time": "2023-07-15T11:18:20.039Z"
   },
   {
    "duration": 9,
    "start_time": "2023-07-15T11:18:20.076Z"
   },
   {
    "duration": 24,
    "start_time": "2023-07-15T11:18:20.087Z"
   },
   {
    "duration": 41,
    "start_time": "2023-07-15T11:18:20.116Z"
   },
   {
    "duration": 21,
    "start_time": "2023-07-15T11:18:20.159Z"
   },
   {
    "duration": 291,
    "start_time": "2023-07-15T11:18:20.182Z"
   },
   {
    "duration": 26,
    "start_time": "2023-07-15T11:18:20.475Z"
   },
   {
    "duration": 4,
    "start_time": "2023-07-15T11:18:20.503Z"
   },
   {
    "duration": 21,
    "start_time": "2023-07-15T11:18:20.509Z"
   },
   {
    "duration": 6,
    "start_time": "2023-07-15T11:18:20.553Z"
   },
   {
    "duration": 33,
    "start_time": "2023-07-15T11:18:20.561Z"
   },
   {
    "duration": 58,
    "start_time": "2023-07-15T11:18:20.596Z"
   },
   {
    "duration": 34,
    "start_time": "2023-07-15T11:18:20.656Z"
   },
   {
    "duration": 16,
    "start_time": "2023-07-15T11:18:20.691Z"
   },
   {
    "duration": 200,
    "start_time": "2023-07-15T11:18:20.709Z"
   },
   {
    "duration": 4,
    "start_time": "2023-07-15T11:18:20.910Z"
   },
   {
    "duration": 44,
    "start_time": "2023-07-15T11:18:20.916Z"
   },
   {
    "duration": 37,
    "start_time": "2023-07-15T11:18:20.962Z"
   },
   {
    "duration": 4,
    "start_time": "2023-07-15T11:18:21.001Z"
   },
   {
    "duration": 24,
    "start_time": "2023-07-15T11:18:21.006Z"
   },
   {
    "duration": 23,
    "start_time": "2023-07-15T11:18:21.031Z"
   },
   {
    "duration": 28,
    "start_time": "2023-07-15T11:18:21.056Z"
   },
   {
    "duration": 36,
    "start_time": "2023-07-15T11:18:21.085Z"
   },
   {
    "duration": 294,
    "start_time": "2023-07-15T11:18:21.123Z"
   },
   {
    "duration": 4,
    "start_time": "2023-07-15T11:18:21.419Z"
   },
   {
    "duration": 28,
    "start_time": "2023-07-15T11:18:21.425Z"
   },
   {
    "duration": 14,
    "start_time": "2023-07-15T11:18:21.455Z"
   },
   {
    "duration": 271,
    "start_time": "2023-07-15T11:18:21.471Z"
   },
   {
    "duration": 27,
    "start_time": "2023-07-15T11:18:21.744Z"
   },
   {
    "duration": 33,
    "start_time": "2023-07-15T11:18:21.772Z"
   },
   {
    "duration": 13,
    "start_time": "2023-07-15T11:18:21.807Z"
   },
   {
    "duration": 55,
    "start_time": "2023-07-15T11:18:21.822Z"
   },
   {
    "duration": 3,
    "start_time": "2023-07-15T11:18:21.879Z"
   },
   {
    "duration": 23,
    "start_time": "2023-07-15T11:18:21.884Z"
   },
   {
    "duration": 18,
    "start_time": "2023-07-15T11:18:21.909Z"
   },
   {
    "duration": 42,
    "start_time": "2023-07-15T11:18:21.928Z"
   },
   {
    "duration": 22,
    "start_time": "2023-07-15T11:18:21.972Z"
   },
   {
    "duration": 18,
    "start_time": "2023-07-15T11:18:21.996Z"
   },
   {
    "duration": 42,
    "start_time": "2023-07-15T11:18:22.016Z"
   },
   {
    "duration": 20,
    "start_time": "2023-07-15T11:18:22.059Z"
   },
   {
    "duration": 7,
    "start_time": "2023-07-15T11:18:22.081Z"
   },
   {
    "duration": 27,
    "start_time": "2023-07-15T11:18:22.089Z"
   },
   {
    "duration": 40,
    "start_time": "2023-07-15T11:18:22.117Z"
   },
   {
    "duration": 16,
    "start_time": "2023-07-15T11:18:22.159Z"
   },
   {
    "duration": 47,
    "start_time": "2023-07-15T11:18:22.177Z"
   },
   {
    "duration": 12,
    "start_time": "2023-07-15T11:18:22.226Z"
   },
   {
    "duration": 21,
    "start_time": "2023-07-15T11:18:22.240Z"
   },
   {
    "duration": 28,
    "start_time": "2023-07-15T11:18:22.263Z"
   },
   {
    "duration": 18,
    "start_time": "2023-07-15T11:18:22.293Z"
   },
   {
    "duration": 16,
    "start_time": "2023-07-15T11:18:22.313Z"
   },
   {
    "duration": 32,
    "start_time": "2023-07-15T11:18:22.331Z"
   },
   {
    "duration": 35,
    "start_time": "2023-07-15T11:18:22.365Z"
   },
   {
    "duration": 16,
    "start_time": "2023-07-15T11:18:22.402Z"
   },
   {
    "duration": 32,
    "start_time": "2023-07-15T11:18:22.420Z"
   },
   {
    "duration": 18,
    "start_time": "2023-07-15T11:18:22.454Z"
   },
   {
    "duration": 9,
    "start_time": "2023-07-15T11:18:22.474Z"
   },
   {
    "duration": 11,
    "start_time": "2023-07-15T11:18:22.485Z"
   },
   {
    "duration": 14,
    "start_time": "2023-07-15T11:18:22.502Z"
   },
   {
    "duration": 41,
    "start_time": "2023-07-15T11:18:22.518Z"
   },
   {
    "duration": 33,
    "start_time": "2023-07-15T11:18:22.562Z"
   },
   {
    "duration": 26,
    "start_time": "2023-07-15T11:18:22.597Z"
   },
   {
    "duration": 39,
    "start_time": "2023-07-15T11:18:22.625Z"
   },
   {
    "duration": 16,
    "start_time": "2023-07-15T11:18:22.666Z"
   },
   {
    "duration": 142,
    "start_time": "2023-07-15T11:18:22.684Z"
   },
   {
    "duration": 28,
    "start_time": "2023-07-15T11:18:22.828Z"
   },
   {
    "duration": 228,
    "start_time": "2023-07-15T11:18:22.858Z"
   },
   {
    "duration": 110,
    "start_time": "2023-07-15T11:18:23.088Z"
   },
   {
    "duration": 0,
    "start_time": "2023-07-15T11:18:23.201Z"
   },
   {
    "duration": 0,
    "start_time": "2023-07-15T11:18:23.202Z"
   },
   {
    "duration": 0,
    "start_time": "2023-07-15T11:18:23.205Z"
   },
   {
    "duration": 16,
    "start_time": "2023-07-15T11:18:38.461Z"
   },
   {
    "duration": 1341,
    "start_time": "2023-07-15T11:18:44.397Z"
   },
   {
    "duration": 56,
    "start_time": "2023-07-15T11:18:45.740Z"
   },
   {
    "duration": 145,
    "start_time": "2023-07-15T11:18:45.798Z"
   },
   {
    "duration": 18,
    "start_time": "2023-07-15T11:18:45.946Z"
   },
   {
    "duration": 42,
    "start_time": "2023-07-15T11:18:45.965Z"
   },
   {
    "duration": 28,
    "start_time": "2023-07-15T11:18:46.009Z"
   },
   {
    "duration": 17,
    "start_time": "2023-07-15T11:18:46.039Z"
   },
   {
    "duration": 20,
    "start_time": "2023-07-15T11:18:46.058Z"
   },
   {
    "duration": 32,
    "start_time": "2023-07-15T11:18:46.080Z"
   },
   {
    "duration": 32,
    "start_time": "2023-07-15T11:18:46.115Z"
   },
   {
    "duration": 25,
    "start_time": "2023-07-15T11:18:46.148Z"
   },
   {
    "duration": 40,
    "start_time": "2023-07-15T11:18:46.175Z"
   },
   {
    "duration": 23,
    "start_time": "2023-07-15T11:18:46.217Z"
   },
   {
    "duration": 11,
    "start_time": "2023-07-15T11:18:46.242Z"
   },
   {
    "duration": 19,
    "start_time": "2023-07-15T11:18:46.255Z"
   },
   {
    "duration": 18,
    "start_time": "2023-07-15T11:18:46.275Z"
   },
   {
    "duration": 6,
    "start_time": "2023-07-15T11:18:46.295Z"
   },
   {
    "duration": 10,
    "start_time": "2023-07-15T11:18:46.302Z"
   },
   {
    "duration": 32,
    "start_time": "2023-07-15T11:18:46.314Z"
   },
   {
    "duration": 5,
    "start_time": "2023-07-15T11:18:46.348Z"
   },
   {
    "duration": 8,
    "start_time": "2023-07-15T11:18:46.355Z"
   },
   {
    "duration": 35,
    "start_time": "2023-07-15T11:18:46.364Z"
   },
   {
    "duration": 26,
    "start_time": "2023-07-15T11:18:46.401Z"
   },
   {
    "duration": 24,
    "start_time": "2023-07-15T11:18:46.428Z"
   },
   {
    "duration": 18,
    "start_time": "2023-07-15T11:18:46.454Z"
   },
   {
    "duration": 9,
    "start_time": "2023-07-15T11:18:46.474Z"
   },
   {
    "duration": 18,
    "start_time": "2023-07-15T11:18:46.485Z"
   },
   {
    "duration": 13,
    "start_time": "2023-07-15T11:18:46.507Z"
   },
   {
    "duration": 13,
    "start_time": "2023-07-15T11:18:46.522Z"
   },
   {
    "duration": 448,
    "start_time": "2023-07-15T11:18:46.537Z"
   },
   {
    "duration": 82,
    "start_time": "2023-07-15T11:18:46.987Z"
   },
   {
    "duration": 4,
    "start_time": "2023-07-15T11:18:47.071Z"
   },
   {
    "duration": 25,
    "start_time": "2023-07-15T11:18:47.077Z"
   },
   {
    "duration": 8,
    "start_time": "2023-07-15T11:18:47.103Z"
   },
   {
    "duration": 41,
    "start_time": "2023-07-15T11:18:47.113Z"
   },
   {
    "duration": 33,
    "start_time": "2023-07-15T11:18:47.156Z"
   },
   {
    "duration": 36,
    "start_time": "2023-07-15T11:18:47.190Z"
   },
   {
    "duration": 35,
    "start_time": "2023-07-15T11:18:47.227Z"
   },
   {
    "duration": 210,
    "start_time": "2023-07-15T11:18:47.264Z"
   },
   {
    "duration": 4,
    "start_time": "2023-07-15T11:18:47.476Z"
   },
   {
    "duration": 29,
    "start_time": "2023-07-15T11:18:47.482Z"
   },
   {
    "duration": 51,
    "start_time": "2023-07-15T11:18:47.513Z"
   },
   {
    "duration": 5,
    "start_time": "2023-07-15T11:18:47.565Z"
   },
   {
    "duration": 8,
    "start_time": "2023-07-15T11:18:47.572Z"
   },
   {
    "duration": 11,
    "start_time": "2023-07-15T11:18:47.582Z"
   },
   {
    "duration": 22,
    "start_time": "2023-07-15T11:18:47.595Z"
   },
   {
    "duration": 59,
    "start_time": "2023-07-15T11:18:47.619Z"
   },
   {
    "duration": 271,
    "start_time": "2023-07-15T11:18:47.680Z"
   },
   {
    "duration": 5,
    "start_time": "2023-07-15T11:18:47.953Z"
   },
   {
    "duration": 25,
    "start_time": "2023-07-15T11:18:47.960Z"
   },
   {
    "duration": 21,
    "start_time": "2023-07-15T11:18:47.987Z"
   },
   {
    "duration": 309,
    "start_time": "2023-07-15T11:18:48.010Z"
   },
   {
    "duration": 41,
    "start_time": "2023-07-15T11:18:48.323Z"
   },
   {
    "duration": 42,
    "start_time": "2023-07-15T11:18:48.366Z"
   },
   {
    "duration": 18,
    "start_time": "2023-07-15T11:18:48.410Z"
   },
   {
    "duration": 45,
    "start_time": "2023-07-15T11:18:48.455Z"
   },
   {
    "duration": 5,
    "start_time": "2023-07-15T11:18:48.502Z"
   },
   {
    "duration": 54,
    "start_time": "2023-07-15T11:18:48.509Z"
   },
   {
    "duration": 7,
    "start_time": "2023-07-15T11:18:48.565Z"
   },
   {
    "duration": 33,
    "start_time": "2023-07-15T11:18:48.573Z"
   },
   {
    "duration": 21,
    "start_time": "2023-07-15T11:18:48.608Z"
   },
   {
    "duration": 19,
    "start_time": "2023-07-15T11:18:48.652Z"
   },
   {
    "duration": 19,
    "start_time": "2023-07-15T11:18:48.672Z"
   },
   {
    "duration": 21,
    "start_time": "2023-07-15T11:18:48.693Z"
   },
   {
    "duration": 40,
    "start_time": "2023-07-15T11:18:48.716Z"
   },
   {
    "duration": 19,
    "start_time": "2023-07-15T11:18:48.759Z"
   },
   {
    "duration": 20,
    "start_time": "2023-07-15T11:18:48.780Z"
   },
   {
    "duration": 24,
    "start_time": "2023-07-15T11:18:48.802Z"
   },
   {
    "duration": 8,
    "start_time": "2023-07-15T11:18:48.852Z"
   },
   {
    "duration": 23,
    "start_time": "2023-07-15T11:18:48.862Z"
   },
   {
    "duration": 12,
    "start_time": "2023-07-15T11:18:48.887Z"
   },
   {
    "duration": 22,
    "start_time": "2023-07-15T11:18:48.901Z"
   },
   {
    "duration": 32,
    "start_time": "2023-07-15T11:18:48.924Z"
   },
   {
    "duration": 15,
    "start_time": "2023-07-15T11:18:48.958Z"
   },
   {
    "duration": 15,
    "start_time": "2023-07-15T11:18:48.975Z"
   },
   {
    "duration": 23,
    "start_time": "2023-07-15T11:18:48.992Z"
   },
   {
    "duration": 46,
    "start_time": "2023-07-15T11:18:49.017Z"
   },
   {
    "duration": 19,
    "start_time": "2023-07-15T11:18:49.065Z"
   },
   {
    "duration": 15,
    "start_time": "2023-07-15T11:18:49.086Z"
   },
   {
    "duration": 8,
    "start_time": "2023-07-15T11:18:49.103Z"
   },
   {
    "duration": 9,
    "start_time": "2023-07-15T11:18:49.112Z"
   },
   {
    "duration": 6,
    "start_time": "2023-07-15T11:18:49.157Z"
   },
   {
    "duration": 19,
    "start_time": "2023-07-15T11:18:49.164Z"
   },
   {
    "duration": 28,
    "start_time": "2023-07-15T11:18:49.185Z"
   },
   {
    "duration": 57,
    "start_time": "2023-07-15T11:18:49.215Z"
   },
   {
    "duration": 17,
    "start_time": "2023-07-15T11:18:49.274Z"
   },
   {
    "duration": 16,
    "start_time": "2023-07-15T11:18:49.293Z"
   },
   {
    "duration": 178,
    "start_time": "2023-07-15T11:18:49.311Z"
   },
   {
    "duration": 23,
    "start_time": "2023-07-15T11:18:49.490Z"
   },
   {
    "duration": 256,
    "start_time": "2023-07-15T11:18:49.515Z"
   },
   {
    "duration": 118,
    "start_time": "2023-07-15T11:18:49.773Z"
   },
   {
    "duration": 0,
    "start_time": "2023-07-15T11:18:49.893Z"
   },
   {
    "duration": 0,
    "start_time": "2023-07-15T11:18:49.894Z"
   },
   {
    "duration": 0,
    "start_time": "2023-07-15T11:18:49.895Z"
   },
   {
    "duration": 12,
    "start_time": "2023-07-15T11:19:42.707Z"
   },
   {
    "duration": 11,
    "start_time": "2023-07-15T11:22:18.944Z"
   },
   {
    "duration": 37,
    "start_time": "2023-07-15T11:23:09.139Z"
   },
   {
    "duration": 30,
    "start_time": "2023-07-15T11:23:17.629Z"
   },
   {
    "duration": 17,
    "start_time": "2023-07-15T11:23:20.414Z"
   },
   {
    "duration": 87,
    "start_time": "2023-07-15T11:25:21.796Z"
   },
   {
    "duration": 28,
    "start_time": "2023-07-15T11:27:57.141Z"
   },
   {
    "duration": 320,
    "start_time": "2023-07-15T11:29:55.219Z"
   },
   {
    "duration": 299,
    "start_time": "2023-07-15T11:30:08.434Z"
   },
   {
    "duration": 24,
    "start_time": "2023-07-15T11:31:12.016Z"
   },
   {
    "duration": 24,
    "start_time": "2023-07-15T11:32:39.607Z"
   },
   {
    "duration": 95,
    "start_time": "2023-07-15T11:33:14.671Z"
   },
   {
    "duration": 29,
    "start_time": "2023-07-15T11:33:18.074Z"
   },
   {
    "duration": 5,
    "start_time": "2023-07-15T11:33:34.297Z"
   },
   {
    "duration": 134,
    "start_time": "2023-07-15T11:34:04.976Z"
   },
   {
    "duration": 33,
    "start_time": "2023-07-15T11:34:13.674Z"
   },
   {
    "duration": 290,
    "start_time": "2023-07-15T11:34:50.199Z"
   },
   {
    "duration": 42,
    "start_time": "2023-07-15T11:34:55.431Z"
   },
   {
    "duration": 35,
    "start_time": "2023-07-15T11:35:23.282Z"
   },
   {
    "duration": 28,
    "start_time": "2023-07-15T11:35:33.587Z"
   },
   {
    "duration": 30,
    "start_time": "2023-07-15T11:36:27.150Z"
   },
   {
    "duration": 33,
    "start_time": "2023-07-15T11:36:32.788Z"
   },
   {
    "duration": 25,
    "start_time": "2023-07-15T11:36:39.379Z"
   },
   {
    "duration": 7,
    "start_time": "2023-07-15T11:54:45.570Z"
   },
   {
    "duration": 18,
    "start_time": "2023-07-15T11:54:48.896Z"
   },
   {
    "duration": 85,
    "start_time": "2023-07-15T12:05:59.468Z"
   },
   {
    "duration": 20,
    "start_time": "2023-07-15T13:57:55.921Z"
   },
   {
    "duration": 23,
    "start_time": "2023-07-15T13:58:13.208Z"
   },
   {
    "duration": 20,
    "start_time": "2023-07-15T13:58:24.267Z"
   },
   {
    "duration": 23,
    "start_time": "2023-07-15T13:58:35.951Z"
   },
   {
    "duration": 1288,
    "start_time": "2023-07-15T13:59:54.201Z"
   },
   {
    "duration": 68,
    "start_time": "2023-07-15T13:59:55.492Z"
   },
   {
    "duration": 206,
    "start_time": "2023-07-15T13:59:55.562Z"
   },
   {
    "duration": 18,
    "start_time": "2023-07-15T13:59:55.770Z"
   },
   {
    "duration": 22,
    "start_time": "2023-07-15T13:59:55.790Z"
   },
   {
    "duration": 46,
    "start_time": "2023-07-15T13:59:55.814Z"
   },
   {
    "duration": 11,
    "start_time": "2023-07-15T13:59:55.862Z"
   },
   {
    "duration": 15,
    "start_time": "2023-07-15T13:59:55.875Z"
   },
   {
    "duration": 20,
    "start_time": "2023-07-15T13:59:55.892Z"
   },
   {
    "duration": 7,
    "start_time": "2023-07-15T13:59:55.916Z"
   },
   {
    "duration": 33,
    "start_time": "2023-07-15T13:59:55.925Z"
   },
   {
    "duration": 18,
    "start_time": "2023-07-15T13:59:55.960Z"
   },
   {
    "duration": 23,
    "start_time": "2023-07-15T13:59:55.980Z"
   },
   {
    "duration": 12,
    "start_time": "2023-07-15T13:59:56.005Z"
   },
   {
    "duration": 37,
    "start_time": "2023-07-15T13:59:56.019Z"
   },
   {
    "duration": 27,
    "start_time": "2023-07-15T13:59:56.058Z"
   },
   {
    "duration": 4,
    "start_time": "2023-07-15T13:59:56.087Z"
   },
   {
    "duration": 7,
    "start_time": "2023-07-15T13:59:56.093Z"
   },
   {
    "duration": 18,
    "start_time": "2023-07-15T13:59:56.102Z"
   },
   {
    "duration": 32,
    "start_time": "2023-07-15T13:59:56.121Z"
   },
   {
    "duration": 5,
    "start_time": "2023-07-15T13:59:56.155Z"
   },
   {
    "duration": 37,
    "start_time": "2023-07-15T13:59:56.161Z"
   },
   {
    "duration": 11,
    "start_time": "2023-07-15T13:59:56.199Z"
   },
   {
    "duration": 22,
    "start_time": "2023-07-15T13:59:56.212Z"
   },
   {
    "duration": 30,
    "start_time": "2023-07-15T13:59:56.236Z"
   },
   {
    "duration": 9,
    "start_time": "2023-07-15T13:59:56.268Z"
   },
   {
    "duration": 19,
    "start_time": "2023-07-15T13:59:56.279Z"
   },
   {
    "duration": 14,
    "start_time": "2023-07-15T13:59:56.302Z"
   },
   {
    "duration": 47,
    "start_time": "2023-07-15T13:59:56.317Z"
   },
   {
    "duration": 25,
    "start_time": "2023-07-15T13:59:56.366Z"
   },
   {
    "duration": 315,
    "start_time": "2023-07-15T13:59:56.392Z"
   },
   {
    "duration": 27,
    "start_time": "2023-07-15T13:59:56.709Z"
   },
   {
    "duration": 29,
    "start_time": "2023-07-15T13:59:56.737Z"
   },
   {
    "duration": 20,
    "start_time": "2023-07-15T13:59:56.768Z"
   },
   {
    "duration": 42,
    "start_time": "2023-07-15T13:59:56.790Z"
   },
   {
    "duration": 38,
    "start_time": "2023-07-15T13:59:56.851Z"
   },
   {
    "duration": 15,
    "start_time": "2023-07-15T13:59:56.890Z"
   },
   {
    "duration": 216,
    "start_time": "2023-07-15T13:59:56.907Z"
   },
   {
    "duration": 4,
    "start_time": "2023-07-15T13:59:57.125Z"
   },
   {
    "duration": 42,
    "start_time": "2023-07-15T13:59:57.131Z"
   },
   {
    "duration": 54,
    "start_time": "2023-07-15T13:59:57.176Z"
   },
   {
    "duration": 5,
    "start_time": "2023-07-15T13:59:57.232Z"
   },
   {
    "duration": 20,
    "start_time": "2023-07-15T13:59:57.239Z"
   },
   {
    "duration": 9,
    "start_time": "2023-07-15T13:59:57.261Z"
   },
   {
    "duration": 23,
    "start_time": "2023-07-15T13:59:57.272Z"
   },
   {
    "duration": 56,
    "start_time": "2023-07-15T13:59:57.297Z"
   },
   {
    "duration": 281,
    "start_time": "2023-07-15T13:59:57.355Z"
   },
   {
    "duration": 5,
    "start_time": "2023-07-15T13:59:57.638Z"
   },
   {
    "duration": 14,
    "start_time": "2023-07-15T13:59:57.652Z"
   },
   {
    "duration": 29,
    "start_time": "2023-07-15T13:59:57.668Z"
   },
   {
    "duration": 276,
    "start_time": "2023-07-15T13:59:57.699Z"
   },
   {
    "duration": 23,
    "start_time": "2023-07-15T13:59:57.977Z"
   },
   {
    "duration": 51,
    "start_time": "2023-07-15T13:59:58.002Z"
   },
   {
    "duration": 18,
    "start_time": "2023-07-15T13:59:58.055Z"
   },
   {
    "duration": 126,
    "start_time": "2023-07-15T13:59:58.075Z"
   },
   {
    "duration": 0,
    "start_time": "2023-07-15T13:59:58.204Z"
   },
   {
    "duration": 0,
    "start_time": "2023-07-15T13:59:58.206Z"
   },
   {
    "duration": 0,
    "start_time": "2023-07-15T13:59:58.207Z"
   },
   {
    "duration": 0,
    "start_time": "2023-07-15T13:59:58.216Z"
   },
   {
    "duration": 0,
    "start_time": "2023-07-15T13:59:58.217Z"
   },
   {
    "duration": 0,
    "start_time": "2023-07-15T13:59:58.217Z"
   },
   {
    "duration": 0,
    "start_time": "2023-07-15T13:59:58.219Z"
   },
   {
    "duration": 0,
    "start_time": "2023-07-15T13:59:58.220Z"
   },
   {
    "duration": 0,
    "start_time": "2023-07-15T13:59:58.222Z"
   },
   {
    "duration": 0,
    "start_time": "2023-07-15T13:59:58.224Z"
   },
   {
    "duration": 0,
    "start_time": "2023-07-15T13:59:58.225Z"
   },
   {
    "duration": 0,
    "start_time": "2023-07-15T13:59:58.226Z"
   },
   {
    "duration": 0,
    "start_time": "2023-07-15T13:59:58.227Z"
   },
   {
    "duration": 0,
    "start_time": "2023-07-15T13:59:58.256Z"
   },
   {
    "duration": 0,
    "start_time": "2023-07-15T13:59:58.257Z"
   },
   {
    "duration": 0,
    "start_time": "2023-07-15T13:59:58.259Z"
   },
   {
    "duration": 0,
    "start_time": "2023-07-15T13:59:58.260Z"
   },
   {
    "duration": 0,
    "start_time": "2023-07-15T13:59:58.262Z"
   },
   {
    "duration": 0,
    "start_time": "2023-07-15T13:59:58.263Z"
   },
   {
    "duration": 0,
    "start_time": "2023-07-15T13:59:58.264Z"
   },
   {
    "duration": 0,
    "start_time": "2023-07-15T13:59:58.266Z"
   },
   {
    "duration": 0,
    "start_time": "2023-07-15T13:59:58.267Z"
   },
   {
    "duration": 0,
    "start_time": "2023-07-15T13:59:58.268Z"
   },
   {
    "duration": 0,
    "start_time": "2023-07-15T13:59:58.269Z"
   },
   {
    "duration": 0,
    "start_time": "2023-07-15T13:59:58.270Z"
   },
   {
    "duration": 0,
    "start_time": "2023-07-15T13:59:58.272Z"
   },
   {
    "duration": 0,
    "start_time": "2023-07-15T13:59:58.273Z"
   },
   {
    "duration": 0,
    "start_time": "2023-07-15T13:59:58.274Z"
   },
   {
    "duration": 0,
    "start_time": "2023-07-15T13:59:58.276Z"
   },
   {
    "duration": 0,
    "start_time": "2023-07-15T13:59:58.277Z"
   },
   {
    "duration": 0,
    "start_time": "2023-07-15T13:59:58.279Z"
   },
   {
    "duration": 0,
    "start_time": "2023-07-15T13:59:58.280Z"
   },
   {
    "duration": 0,
    "start_time": "2023-07-15T13:59:58.281Z"
   },
   {
    "duration": 0,
    "start_time": "2023-07-15T13:59:58.283Z"
   },
   {
    "duration": 0,
    "start_time": "2023-07-15T13:59:58.284Z"
   },
   {
    "duration": 0,
    "start_time": "2023-07-15T13:59:58.286Z"
   },
   {
    "duration": 0,
    "start_time": "2023-07-15T13:59:58.287Z"
   },
   {
    "duration": 0,
    "start_time": "2023-07-15T13:59:58.289Z"
   },
   {
    "duration": 42,
    "start_time": "2023-07-15T14:02:02.127Z"
   },
   {
    "duration": 32,
    "start_time": "2023-07-15T14:02:13.555Z"
   },
   {
    "duration": 31,
    "start_time": "2023-07-15T14:02:24.418Z"
   },
   {
    "duration": 32,
    "start_time": "2023-07-15T14:02:40.285Z"
   },
   {
    "duration": 204,
    "start_time": "2023-07-15T14:04:10.459Z"
   },
   {
    "duration": 8,
    "start_time": "2023-07-15T14:12:33.829Z"
   },
   {
    "duration": 14,
    "start_time": "2023-07-15T14:14:37.097Z"
   },
   {
    "duration": 15,
    "start_time": "2023-07-15T14:15:04.758Z"
   },
   {
    "duration": 12,
    "start_time": "2023-07-15T14:15:20.925Z"
   },
   {
    "duration": 17,
    "start_time": "2023-07-15T14:15:24.062Z"
   },
   {
    "duration": 11,
    "start_time": "2023-07-15T14:15:29.856Z"
   },
   {
    "duration": 9,
    "start_time": "2023-07-15T14:15:34.550Z"
   },
   {
    "duration": 9,
    "start_time": "2023-07-15T14:15:43.184Z"
   },
   {
    "duration": 18,
    "start_time": "2023-07-15T14:15:49.173Z"
   },
   {
    "duration": 9,
    "start_time": "2023-07-15T14:15:50.191Z"
   },
   {
    "duration": 12,
    "start_time": "2023-07-15T14:15:52.368Z"
   },
   {
    "duration": 11,
    "start_time": "2023-07-15T14:24:33.438Z"
   },
   {
    "duration": 11,
    "start_time": "2023-07-15T14:24:54.322Z"
   },
   {
    "duration": 15,
    "start_time": "2023-07-15T14:26:07.507Z"
   },
   {
    "duration": 1323,
    "start_time": "2023-07-15T14:26:23.793Z"
   },
   {
    "duration": 50,
    "start_time": "2023-07-15T14:26:25.118Z"
   },
   {
    "duration": 234,
    "start_time": "2023-07-15T14:26:25.171Z"
   },
   {
    "duration": 24,
    "start_time": "2023-07-15T14:26:25.408Z"
   },
   {
    "duration": 35,
    "start_time": "2023-07-15T14:26:25.434Z"
   },
   {
    "duration": 23,
    "start_time": "2023-07-15T14:26:25.471Z"
   },
   {
    "duration": 11,
    "start_time": "2023-07-15T14:26:25.496Z"
   },
   {
    "duration": 9,
    "start_time": "2023-07-15T14:26:25.509Z"
   },
   {
    "duration": 13,
    "start_time": "2023-07-15T14:26:25.552Z"
   },
   {
    "duration": 18,
    "start_time": "2023-07-15T14:26:25.569Z"
   },
   {
    "duration": 15,
    "start_time": "2023-07-15T14:26:25.589Z"
   },
   {
    "duration": 19,
    "start_time": "2023-07-15T14:26:25.607Z"
   },
   {
    "duration": 39,
    "start_time": "2023-07-15T14:26:25.628Z"
   },
   {
    "duration": 14,
    "start_time": "2023-07-15T14:26:25.669Z"
   },
   {
    "duration": 18,
    "start_time": "2023-07-15T14:26:25.685Z"
   },
   {
    "duration": 19,
    "start_time": "2023-07-15T14:26:25.704Z"
   },
   {
    "duration": 8,
    "start_time": "2023-07-15T14:26:25.725Z"
   },
   {
    "duration": 8,
    "start_time": "2023-07-15T14:26:25.753Z"
   },
   {
    "duration": 25,
    "start_time": "2023-07-15T14:26:25.763Z"
   },
   {
    "duration": 6,
    "start_time": "2023-07-15T14:26:25.790Z"
   },
   {
    "duration": 14,
    "start_time": "2023-07-15T14:26:25.798Z"
   },
   {
    "duration": 25,
    "start_time": "2023-07-15T14:26:25.814Z"
   },
   {
    "duration": 11,
    "start_time": "2023-07-15T14:26:25.851Z"
   },
   {
    "duration": 12,
    "start_time": "2023-07-15T14:26:25.864Z"
   },
   {
    "duration": 19,
    "start_time": "2023-07-15T14:26:25.879Z"
   },
   {
    "duration": 10,
    "start_time": "2023-07-15T14:26:25.900Z"
   },
   {
    "duration": 54,
    "start_time": "2023-07-15T14:26:25.911Z"
   },
   {
    "duration": 14,
    "start_time": "2023-07-15T14:26:25.971Z"
   },
   {
    "duration": 14,
    "start_time": "2023-07-15T14:26:25.987Z"
   },
   {
    "duration": 50,
    "start_time": "2023-07-15T14:26:26.003Z"
   },
   {
    "duration": 304,
    "start_time": "2023-07-15T14:26:26.055Z"
   },
   {
    "duration": 29,
    "start_time": "2023-07-15T14:26:26.361Z"
   },
   {
    "duration": 4,
    "start_time": "2023-07-15T14:26:26.392Z"
   },
   {
    "duration": 31,
    "start_time": "2023-07-15T14:26:26.398Z"
   },
   {
    "duration": 49,
    "start_time": "2023-07-15T14:26:26.431Z"
   },
   {
    "duration": 30,
    "start_time": "2023-07-15T14:26:26.482Z"
   },
   {
    "duration": 215,
    "start_time": "2023-07-15T14:26:26.514Z"
   },
   {
    "duration": 28,
    "start_time": "2023-07-15T14:26:26.731Z"
   },
   {
    "duration": 8,
    "start_time": "2023-07-15T14:26:26.761Z"
   },
   {
    "duration": 21,
    "start_time": "2023-07-15T14:26:26.771Z"
   },
   {
    "duration": 152,
    "start_time": "2023-07-15T14:26:26.795Z"
   },
   {
    "duration": 0,
    "start_time": "2023-07-15T14:26:26.951Z"
   },
   {
    "duration": 0,
    "start_time": "2023-07-15T14:26:26.952Z"
   },
   {
    "duration": 0,
    "start_time": "2023-07-15T14:26:26.954Z"
   },
   {
    "duration": 0,
    "start_time": "2023-07-15T14:26:26.955Z"
   },
   {
    "duration": 0,
    "start_time": "2023-07-15T14:26:26.956Z"
   },
   {
    "duration": 0,
    "start_time": "2023-07-15T14:26:26.957Z"
   },
   {
    "duration": 0,
    "start_time": "2023-07-15T14:26:26.958Z"
   },
   {
    "duration": 0,
    "start_time": "2023-07-15T14:26:26.958Z"
   },
   {
    "duration": 0,
    "start_time": "2023-07-15T14:26:26.960Z"
   },
   {
    "duration": 0,
    "start_time": "2023-07-15T14:26:26.961Z"
   },
   {
    "duration": 0,
    "start_time": "2023-07-15T14:26:26.962Z"
   },
   {
    "duration": 0,
    "start_time": "2023-07-15T14:26:26.963Z"
   },
   {
    "duration": 0,
    "start_time": "2023-07-15T14:26:26.963Z"
   },
   {
    "duration": 0,
    "start_time": "2023-07-15T14:26:26.964Z"
   },
   {
    "duration": 0,
    "start_time": "2023-07-15T14:26:26.966Z"
   },
   {
    "duration": 0,
    "start_time": "2023-07-15T14:26:26.967Z"
   },
   {
    "duration": 0,
    "start_time": "2023-07-15T14:26:26.968Z"
   },
   {
    "duration": 0,
    "start_time": "2023-07-15T14:26:26.970Z"
   },
   {
    "duration": 0,
    "start_time": "2023-07-15T14:26:26.971Z"
   },
   {
    "duration": 0,
    "start_time": "2023-07-15T14:26:26.972Z"
   },
   {
    "duration": 0,
    "start_time": "2023-07-15T14:26:26.973Z"
   },
   {
    "duration": 0,
    "start_time": "2023-07-15T14:26:26.975Z"
   },
   {
    "duration": 0,
    "start_time": "2023-07-15T14:26:26.976Z"
   },
   {
    "duration": 0,
    "start_time": "2023-07-15T14:26:26.977Z"
   },
   {
    "duration": 0,
    "start_time": "2023-07-15T14:26:26.978Z"
   },
   {
    "duration": 0,
    "start_time": "2023-07-15T14:26:26.979Z"
   },
   {
    "duration": 0,
    "start_time": "2023-07-15T14:26:26.980Z"
   },
   {
    "duration": 0,
    "start_time": "2023-07-15T14:26:26.981Z"
   },
   {
    "duration": 0,
    "start_time": "2023-07-15T14:26:26.982Z"
   },
   {
    "duration": 0,
    "start_time": "2023-07-15T14:26:26.983Z"
   },
   {
    "duration": 0,
    "start_time": "2023-07-15T14:26:26.985Z"
   },
   {
    "duration": 0,
    "start_time": "2023-07-15T14:26:26.985Z"
   },
   {
    "duration": 0,
    "start_time": "2023-07-15T14:26:26.986Z"
   },
   {
    "duration": 0,
    "start_time": "2023-07-15T14:26:26.987Z"
   },
   {
    "duration": 0,
    "start_time": "2023-07-15T14:26:26.988Z"
   },
   {
    "duration": 0,
    "start_time": "2023-07-15T14:26:26.989Z"
   },
   {
    "duration": 0,
    "start_time": "2023-07-15T14:26:27.052Z"
   },
   {
    "duration": 0,
    "start_time": "2023-07-15T14:26:27.053Z"
   },
   {
    "duration": 0,
    "start_time": "2023-07-15T14:26:27.055Z"
   },
   {
    "duration": 0,
    "start_time": "2023-07-15T14:26:27.056Z"
   },
   {
    "duration": 0,
    "start_time": "2023-07-15T14:26:27.057Z"
   },
   {
    "duration": 0,
    "start_time": "2023-07-15T14:26:27.058Z"
   },
   {
    "duration": 0,
    "start_time": "2023-07-15T14:26:27.059Z"
   },
   {
    "duration": 0,
    "start_time": "2023-07-15T14:26:27.061Z"
   },
   {
    "duration": 0,
    "start_time": "2023-07-15T14:26:27.062Z"
   },
   {
    "duration": 0,
    "start_time": "2023-07-15T14:26:27.063Z"
   },
   {
    "duration": 0,
    "start_time": "2023-07-15T14:26:27.064Z"
   },
   {
    "duration": 0,
    "start_time": "2023-07-15T14:26:27.065Z"
   },
   {
    "duration": 0,
    "start_time": "2023-07-15T14:26:27.066Z"
   },
   {
    "duration": 0,
    "start_time": "2023-07-15T14:26:27.068Z"
   },
   {
    "duration": 15,
    "start_time": "2023-07-15T14:32:13.770Z"
   },
   {
    "duration": 19,
    "start_time": "2023-07-15T14:32:57.468Z"
   },
   {
    "duration": 15,
    "start_time": "2023-07-15T14:33:34.186Z"
   },
   {
    "duration": 12,
    "start_time": "2023-07-15T14:33:53.298Z"
   },
   {
    "duration": 10,
    "start_time": "2023-07-15T14:34:16.683Z"
   },
   {
    "duration": 1488,
    "start_time": "2023-07-15T14:35:25.008Z"
   },
   {
    "duration": 10,
    "start_time": "2023-07-15T14:35:49.213Z"
   },
   {
    "duration": 4,
    "start_time": "2023-07-15T14:35:55.783Z"
   },
   {
    "duration": 11,
    "start_time": "2023-07-15T14:36:10.829Z"
   },
   {
    "duration": 17,
    "start_time": "2023-07-15T14:38:00.048Z"
   },
   {
    "duration": 11,
    "start_time": "2023-07-15T14:38:05.882Z"
   },
   {
    "duration": 7,
    "start_time": "2023-07-15T14:42:53.047Z"
   },
   {
    "duration": 5,
    "start_time": "2023-07-15T14:59:53.091Z"
   },
   {
    "duration": 6,
    "start_time": "2023-07-15T15:00:44.279Z"
   },
   {
    "duration": 6,
    "start_time": "2023-07-15T15:00:52.499Z"
   },
   {
    "duration": 96,
    "start_time": "2023-07-15T15:04:01.591Z"
   },
   {
    "duration": 5,
    "start_time": "2023-07-15T15:04:11.525Z"
   },
   {
    "duration": 3,
    "start_time": "2023-07-15T15:04:16.937Z"
   },
   {
    "duration": 84,
    "start_time": "2023-07-15T15:04:26.384Z"
   },
   {
    "duration": 6,
    "start_time": "2023-07-15T15:04:30.604Z"
   },
   {
    "duration": 8,
    "start_time": "2023-07-15T15:05:43.350Z"
   },
   {
    "duration": 11,
    "start_time": "2023-07-15T15:06:22.883Z"
   },
   {
    "duration": 16,
    "start_time": "2023-07-15T15:06:30.357Z"
   },
   {
    "duration": 13,
    "start_time": "2023-07-15T15:06:33.227Z"
   },
   {
    "duration": 10,
    "start_time": "2023-07-15T15:06:54.717Z"
   },
   {
    "duration": 12,
    "start_time": "2023-07-15T15:07:44.491Z"
   },
   {
    "duration": 14,
    "start_time": "2023-07-15T15:07:57.009Z"
   },
   {
    "duration": 5908,
    "start_time": "2023-07-15T15:11:11.301Z"
   },
   {
    "duration": 100,
    "start_time": "2023-07-15T15:18:34.878Z"
   },
   {
    "duration": 4,
    "start_time": "2023-07-15T15:18:44.730Z"
   },
   {
    "duration": 85,
    "start_time": "2023-07-15T15:18:56.773Z"
   },
   {
    "duration": 76,
    "start_time": "2023-07-15T15:18:58.618Z"
   },
   {
    "duration": 5913,
    "start_time": "2023-07-15T15:19:04.292Z"
   },
   {
    "duration": 1619,
    "start_time": "2023-07-15T15:20:23.099Z"
   },
   {
    "duration": 305,
    "start_time": "2023-07-15T15:24:08.636Z"
   },
   {
    "duration": 166,
    "start_time": "2023-07-15T15:24:22.574Z"
   },
   {
    "duration": 244,
    "start_time": "2023-07-15T15:24:26.787Z"
   },
   {
    "duration": 20,
    "start_time": "2023-07-15T15:25:45.317Z"
   },
   {
    "duration": 1250,
    "start_time": "2023-07-15T15:26:08.909Z"
   },
   {
    "duration": 60,
    "start_time": "2023-07-15T15:26:10.162Z"
   },
   {
    "duration": 118,
    "start_time": "2023-07-15T15:26:10.224Z"
   },
   {
    "duration": 22,
    "start_time": "2023-07-15T15:26:10.344Z"
   },
   {
    "duration": 27,
    "start_time": "2023-07-15T15:26:10.368Z"
   },
   {
    "duration": 27,
    "start_time": "2023-07-15T15:26:10.398Z"
   },
   {
    "duration": 39,
    "start_time": "2023-07-15T15:26:10.427Z"
   },
   {
    "duration": 12,
    "start_time": "2023-07-15T15:26:10.468Z"
   },
   {
    "duration": 24,
    "start_time": "2023-07-15T15:26:10.482Z"
   },
   {
    "duration": 13,
    "start_time": "2023-07-15T15:26:10.510Z"
   },
   {
    "duration": 11,
    "start_time": "2023-07-15T15:26:10.525Z"
   },
   {
    "duration": 35,
    "start_time": "2023-07-15T15:26:10.538Z"
   },
   {
    "duration": 24,
    "start_time": "2023-07-15T15:26:10.576Z"
   },
   {
    "duration": 12,
    "start_time": "2023-07-15T15:26:10.602Z"
   },
   {
    "duration": 11,
    "start_time": "2023-07-15T15:26:10.616Z"
   },
   {
    "duration": 22,
    "start_time": "2023-07-15T15:26:10.653Z"
   },
   {
    "duration": 6,
    "start_time": "2023-07-15T15:26:10.676Z"
   },
   {
    "duration": 9,
    "start_time": "2023-07-15T15:26:10.683Z"
   },
   {
    "duration": 15,
    "start_time": "2023-07-15T15:26:10.693Z"
   },
   {
    "duration": 5,
    "start_time": "2023-07-15T15:26:10.710Z"
   },
   {
    "duration": 42,
    "start_time": "2023-07-15T15:26:10.716Z"
   },
   {
    "duration": 35,
    "start_time": "2023-07-15T15:26:10.761Z"
   },
   {
    "duration": 10,
    "start_time": "2023-07-15T15:26:10.798Z"
   },
   {
    "duration": 14,
    "start_time": "2023-07-15T15:26:10.809Z"
   },
   {
    "duration": 46,
    "start_time": "2023-07-15T15:26:10.825Z"
   },
   {
    "duration": 13,
    "start_time": "2023-07-15T15:26:10.874Z"
   },
   {
    "duration": 15,
    "start_time": "2023-07-15T15:26:10.888Z"
   },
   {
    "duration": 13,
    "start_time": "2023-07-15T15:26:10.907Z"
   },
   {
    "duration": 48,
    "start_time": "2023-07-15T15:26:10.921Z"
   },
   {
    "duration": 35,
    "start_time": "2023-07-15T15:26:10.972Z"
   },
   {
    "duration": 333,
    "start_time": "2023-07-15T15:26:11.009Z"
   },
   {
    "duration": 49,
    "start_time": "2023-07-15T15:26:11.344Z"
   },
   {
    "duration": 4,
    "start_time": "2023-07-15T15:26:11.396Z"
   },
   {
    "duration": 26,
    "start_time": "2023-07-15T15:26:11.402Z"
   },
   {
    "duration": 55,
    "start_time": "2023-07-15T15:26:11.429Z"
   },
   {
    "duration": 29,
    "start_time": "2023-07-15T15:26:11.486Z"
   },
   {
    "duration": 219,
    "start_time": "2023-07-15T15:26:11.517Z"
   },
   {
    "duration": 35,
    "start_time": "2023-07-15T15:26:11.738Z"
   },
   {
    "duration": 16,
    "start_time": "2023-07-15T15:26:11.775Z"
   },
   {
    "duration": 14,
    "start_time": "2023-07-15T15:26:11.793Z"
   },
   {
    "duration": 168,
    "start_time": "2023-07-15T15:26:11.809Z"
   },
   {
    "duration": 14,
    "start_time": "2023-07-15T15:26:11.979Z"
   },
   {
    "duration": 26,
    "start_time": "2023-07-15T15:26:11.994Z"
   },
   {
    "duration": 58,
    "start_time": "2023-07-15T15:26:12.022Z"
   },
   {
    "duration": 35,
    "start_time": "2023-07-15T15:26:12.081Z"
   },
   {
    "duration": 406,
    "start_time": "2023-07-15T15:26:12.118Z"
   },
   {
    "duration": 5,
    "start_time": "2023-07-15T15:26:12.525Z"
   },
   {
    "duration": 42,
    "start_time": "2023-07-15T15:26:12.531Z"
   },
   {
    "duration": 16,
    "start_time": "2023-07-15T15:26:12.575Z"
   },
   {
    "duration": 326,
    "start_time": "2023-07-15T15:26:12.592Z"
   },
   {
    "duration": 34,
    "start_time": "2023-07-15T15:26:12.919Z"
   },
   {
    "duration": 37,
    "start_time": "2023-07-15T15:26:12.955Z"
   },
   {
    "duration": 13,
    "start_time": "2023-07-15T15:26:12.994Z"
   },
   {
    "duration": 147,
    "start_time": "2023-07-15T15:26:13.008Z"
   },
   {
    "duration": 0,
    "start_time": "2023-07-15T15:26:13.157Z"
   },
   {
    "duration": 0,
    "start_time": "2023-07-15T15:26:13.159Z"
   },
   {
    "duration": 0,
    "start_time": "2023-07-15T15:26:13.161Z"
   },
   {
    "duration": 0,
    "start_time": "2023-07-15T15:26:13.162Z"
   },
   {
    "duration": 0,
    "start_time": "2023-07-15T15:26:13.163Z"
   },
   {
    "duration": 0,
    "start_time": "2023-07-15T15:26:13.165Z"
   },
   {
    "duration": 0,
    "start_time": "2023-07-15T15:26:13.166Z"
   },
   {
    "duration": 0,
    "start_time": "2023-07-15T15:26:13.167Z"
   },
   {
    "duration": 0,
    "start_time": "2023-07-15T15:26:13.168Z"
   },
   {
    "duration": 0,
    "start_time": "2023-07-15T15:26:13.169Z"
   },
   {
    "duration": 0,
    "start_time": "2023-07-15T15:26:13.171Z"
   },
   {
    "duration": 0,
    "start_time": "2023-07-15T15:26:13.173Z"
   },
   {
    "duration": 0,
    "start_time": "2023-07-15T15:26:13.174Z"
   },
   {
    "duration": 0,
    "start_time": "2023-07-15T15:26:13.175Z"
   },
   {
    "duration": 0,
    "start_time": "2023-07-15T15:26:13.177Z"
   },
   {
    "duration": 0,
    "start_time": "2023-07-15T15:26:13.178Z"
   },
   {
    "duration": 0,
    "start_time": "2023-07-15T15:26:13.179Z"
   },
   {
    "duration": 0,
    "start_time": "2023-07-15T15:26:13.180Z"
   },
   {
    "duration": 0,
    "start_time": "2023-07-15T15:26:13.181Z"
   },
   {
    "duration": 0,
    "start_time": "2023-07-15T15:26:13.182Z"
   },
   {
    "duration": 0,
    "start_time": "2023-07-15T15:26:13.184Z"
   },
   {
    "duration": 0,
    "start_time": "2023-07-15T15:26:13.185Z"
   },
   {
    "duration": 0,
    "start_time": "2023-07-15T15:26:13.186Z"
   },
   {
    "duration": 0,
    "start_time": "2023-07-15T15:26:13.187Z"
   },
   {
    "duration": 0,
    "start_time": "2023-07-15T15:26:13.188Z"
   },
   {
    "duration": 0,
    "start_time": "2023-07-15T15:26:13.189Z"
   },
   {
    "duration": 0,
    "start_time": "2023-07-15T15:26:13.191Z"
   },
   {
    "duration": 0,
    "start_time": "2023-07-15T15:26:13.192Z"
   },
   {
    "duration": 0,
    "start_time": "2023-07-15T15:26:13.194Z"
   },
   {
    "duration": 0,
    "start_time": "2023-07-15T15:26:13.195Z"
   },
   {
    "duration": 0,
    "start_time": "2023-07-15T15:26:13.196Z"
   },
   {
    "duration": 0,
    "start_time": "2023-07-15T15:26:13.198Z"
   },
   {
    "duration": 0,
    "start_time": "2023-07-15T15:26:13.199Z"
   },
   {
    "duration": 0,
    "start_time": "2023-07-15T15:26:13.200Z"
   },
   {
    "duration": 0,
    "start_time": "2023-07-15T15:26:13.252Z"
   },
   {
    "duration": 0,
    "start_time": "2023-07-15T15:26:13.254Z"
   },
   {
    "duration": 0,
    "start_time": "2023-07-15T15:26:13.255Z"
   },
   {
    "duration": 0,
    "start_time": "2023-07-15T15:26:13.257Z"
   },
   {
    "duration": 29,
    "start_time": "2023-07-15T15:27:33.468Z"
   },
   {
    "duration": 16,
    "start_time": "2023-07-15T15:27:33.798Z"
   },
   {
    "duration": 1305,
    "start_time": "2023-07-15T15:28:02.522Z"
   },
   {
    "duration": 57,
    "start_time": "2023-07-15T15:28:03.829Z"
   },
   {
    "duration": 180,
    "start_time": "2023-07-15T15:28:03.887Z"
   },
   {
    "duration": 27,
    "start_time": "2023-07-15T15:28:04.070Z"
   },
   {
    "duration": 24,
    "start_time": "2023-07-15T15:28:04.099Z"
   },
   {
    "duration": 57,
    "start_time": "2023-07-15T15:28:04.125Z"
   },
   {
    "duration": 18,
    "start_time": "2023-07-15T15:28:04.184Z"
   },
   {
    "duration": 14,
    "start_time": "2023-07-15T15:28:04.204Z"
   },
   {
    "duration": 37,
    "start_time": "2023-07-15T15:28:04.221Z"
   },
   {
    "duration": 10,
    "start_time": "2023-07-15T15:28:04.262Z"
   },
   {
    "duration": 21,
    "start_time": "2023-07-15T15:28:04.274Z"
   },
   {
    "duration": 19,
    "start_time": "2023-07-15T15:28:04.296Z"
   },
   {
    "duration": 25,
    "start_time": "2023-07-15T15:28:04.318Z"
   },
   {
    "duration": 18,
    "start_time": "2023-07-15T15:28:04.345Z"
   },
   {
    "duration": 14,
    "start_time": "2023-07-15T15:28:04.366Z"
   },
   {
    "duration": 18,
    "start_time": "2023-07-15T15:28:04.382Z"
   },
   {
    "duration": 5,
    "start_time": "2023-07-15T15:28:04.402Z"
   },
   {
    "duration": 7,
    "start_time": "2023-07-15T15:28:04.408Z"
   },
   {
    "duration": 50,
    "start_time": "2023-07-15T15:28:04.417Z"
   },
   {
    "duration": 6,
    "start_time": "2023-07-15T15:28:04.470Z"
   },
   {
    "duration": 10,
    "start_time": "2023-07-15T15:28:04.478Z"
   },
   {
    "duration": 24,
    "start_time": "2023-07-15T15:28:04.491Z"
   },
   {
    "duration": 35,
    "start_time": "2023-07-15T15:28:04.517Z"
   },
   {
    "duration": 14,
    "start_time": "2023-07-15T15:28:04.555Z"
   },
   {
    "duration": 25,
    "start_time": "2023-07-15T15:28:04.572Z"
   },
   {
    "duration": 22,
    "start_time": "2023-07-15T15:28:04.598Z"
   },
   {
    "duration": 24,
    "start_time": "2023-07-15T15:28:04.622Z"
   },
   {
    "duration": 20,
    "start_time": "2023-07-15T15:28:04.653Z"
   },
   {
    "duration": 15,
    "start_time": "2023-07-15T15:28:04.675Z"
   },
   {
    "duration": 26,
    "start_time": "2023-07-15T15:28:04.692Z"
   },
   {
    "duration": 327,
    "start_time": "2023-07-15T15:28:04.721Z"
   },
   {
    "duration": 35,
    "start_time": "2023-07-15T15:28:05.052Z"
   },
   {
    "duration": 4,
    "start_time": "2023-07-15T15:28:05.089Z"
   },
   {
    "duration": 37,
    "start_time": "2023-07-15T15:28:05.095Z"
   },
   {
    "duration": 49,
    "start_time": "2023-07-15T15:28:05.134Z"
   },
   {
    "duration": 31,
    "start_time": "2023-07-15T15:28:05.185Z"
   },
   {
    "duration": 273,
    "start_time": "2023-07-15T15:28:05.218Z"
   },
   {
    "duration": 15,
    "start_time": "2023-07-15T15:28:05.492Z"
   },
   {
    "duration": 13,
    "start_time": "2023-07-15T15:28:05.508Z"
   },
   {
    "duration": 15,
    "start_time": "2023-07-15T15:28:05.522Z"
   },
   {
    "duration": 177,
    "start_time": "2023-07-15T15:28:05.553Z"
   },
   {
    "duration": 45,
    "start_time": "2023-07-15T15:28:05.732Z"
   },
   {
    "duration": 19,
    "start_time": "2023-07-15T15:28:05.779Z"
   },
   {
    "duration": 52,
    "start_time": "2023-07-15T15:28:05.800Z"
   },
   {
    "duration": 29,
    "start_time": "2023-07-15T15:28:05.853Z"
   },
   {
    "duration": 34,
    "start_time": "2023-07-15T15:28:05.883Z"
   },
   {
    "duration": 417,
    "start_time": "2023-07-15T15:28:05.918Z"
   },
   {
    "duration": 5,
    "start_time": "2023-07-15T15:28:06.337Z"
   },
   {
    "duration": 18,
    "start_time": "2023-07-15T15:28:06.353Z"
   },
   {
    "duration": 47,
    "start_time": "2023-07-15T15:28:06.373Z"
   },
   {
    "duration": 300,
    "start_time": "2023-07-15T15:28:06.422Z"
   },
   {
    "duration": 37,
    "start_time": "2023-07-15T15:28:06.725Z"
   },
   {
    "duration": 40,
    "start_time": "2023-07-15T15:28:06.764Z"
   },
   {
    "duration": 14,
    "start_time": "2023-07-15T15:28:06.805Z"
   },
   {
    "duration": 128,
    "start_time": "2023-07-15T15:28:06.821Z"
   },
   {
    "duration": 0,
    "start_time": "2023-07-15T15:28:06.951Z"
   },
   {
    "duration": 0,
    "start_time": "2023-07-15T15:28:06.954Z"
   },
   {
    "duration": 0,
    "start_time": "2023-07-15T15:28:06.956Z"
   },
   {
    "duration": 0,
    "start_time": "2023-07-15T15:28:06.958Z"
   },
   {
    "duration": 0,
    "start_time": "2023-07-15T15:28:06.960Z"
   },
   {
    "duration": 0,
    "start_time": "2023-07-15T15:28:06.961Z"
   },
   {
    "duration": 0,
    "start_time": "2023-07-15T15:28:06.963Z"
   },
   {
    "duration": 0,
    "start_time": "2023-07-15T15:28:06.964Z"
   },
   {
    "duration": 0,
    "start_time": "2023-07-15T15:28:06.965Z"
   },
   {
    "duration": 0,
    "start_time": "2023-07-15T15:28:06.967Z"
   },
   {
    "duration": 0,
    "start_time": "2023-07-15T15:28:06.968Z"
   },
   {
    "duration": 0,
    "start_time": "2023-07-15T15:28:06.970Z"
   },
   {
    "duration": 0,
    "start_time": "2023-07-15T15:28:06.971Z"
   },
   {
    "duration": 0,
    "start_time": "2023-07-15T15:28:06.972Z"
   },
   {
    "duration": 0,
    "start_time": "2023-07-15T15:28:06.974Z"
   },
   {
    "duration": 0,
    "start_time": "2023-07-15T15:28:06.976Z"
   },
   {
    "duration": 1,
    "start_time": "2023-07-15T15:28:06.977Z"
   },
   {
    "duration": 0,
    "start_time": "2023-07-15T15:28:06.979Z"
   },
   {
    "duration": 0,
    "start_time": "2023-07-15T15:28:06.980Z"
   },
   {
    "duration": 0,
    "start_time": "2023-07-15T15:28:06.981Z"
   },
   {
    "duration": 0,
    "start_time": "2023-07-15T15:28:06.982Z"
   },
   {
    "duration": 0,
    "start_time": "2023-07-15T15:28:06.983Z"
   },
   {
    "duration": 0,
    "start_time": "2023-07-15T15:28:06.984Z"
   },
   {
    "duration": 0,
    "start_time": "2023-07-15T15:28:06.985Z"
   },
   {
    "duration": 0,
    "start_time": "2023-07-15T15:28:06.986Z"
   },
   {
    "duration": 0,
    "start_time": "2023-07-15T15:28:06.987Z"
   },
   {
    "duration": 0,
    "start_time": "2023-07-15T15:28:06.989Z"
   },
   {
    "duration": 0,
    "start_time": "2023-07-15T15:28:06.989Z"
   },
   {
    "duration": 0,
    "start_time": "2023-07-15T15:28:06.991Z"
   },
   {
    "duration": 0,
    "start_time": "2023-07-15T15:28:06.992Z"
   },
   {
    "duration": 0,
    "start_time": "2023-07-15T15:28:06.992Z"
   },
   {
    "duration": 0,
    "start_time": "2023-07-15T15:28:06.993Z"
   },
   {
    "duration": 0,
    "start_time": "2023-07-15T15:28:06.994Z"
   },
   {
    "duration": 0,
    "start_time": "2023-07-15T15:28:07.053Z"
   },
   {
    "duration": 0,
    "start_time": "2023-07-15T15:28:07.055Z"
   },
   {
    "duration": 0,
    "start_time": "2023-07-15T15:28:07.057Z"
   },
   {
    "duration": 0,
    "start_time": "2023-07-15T15:28:07.058Z"
   },
   {
    "duration": 0,
    "start_time": "2023-07-15T15:28:07.059Z"
   },
   {
    "duration": 157,
    "start_time": "2023-07-15T15:30:06.754Z"
   },
   {
    "duration": 5,
    "start_time": "2023-07-15T15:30:50.337Z"
   },
   {
    "duration": 29,
    "start_time": "2023-07-15T15:30:51.006Z"
   },
   {
    "duration": 19,
    "start_time": "2023-07-15T15:30:51.464Z"
   },
   {
    "duration": 279,
    "start_time": "2023-07-15T15:31:18.741Z"
   },
   {
    "duration": 39,
    "start_time": "2023-07-15T15:31:19.507Z"
   },
   {
    "duration": 19,
    "start_time": "2023-07-15T15:31:19.839Z"
   },
   {
    "duration": 146,
    "start_time": "2023-07-15T15:33:16.002Z"
   },
   {
    "duration": 39,
    "start_time": "2023-07-15T15:33:16.663Z"
   },
   {
    "duration": 14,
    "start_time": "2023-07-15T15:33:16.984Z"
   },
   {
    "duration": 250,
    "start_time": "2023-07-15T15:34:59.950Z"
   },
   {
    "duration": 167,
    "start_time": "2023-07-15T15:35:00.451Z"
   },
   {
    "duration": 39,
    "start_time": "2023-07-15T15:35:01.039Z"
   },
   {
    "duration": 15,
    "start_time": "2023-07-15T15:35:01.680Z"
   },
   {
    "duration": 1425,
    "start_time": "2023-07-15T20:01:50.009Z"
   },
   {
    "duration": 82,
    "start_time": "2023-07-15T20:01:51.436Z"
   },
   {
    "duration": 279,
    "start_time": "2023-07-15T20:01:51.519Z"
   },
   {
    "duration": 18,
    "start_time": "2023-07-15T20:01:51.800Z"
   },
   {
    "duration": 29,
    "start_time": "2023-07-15T20:01:51.820Z"
   },
   {
    "duration": 32,
    "start_time": "2023-07-15T20:01:51.851Z"
   },
   {
    "duration": 14,
    "start_time": "2023-07-15T20:01:51.885Z"
   },
   {
    "duration": 9,
    "start_time": "2023-07-15T20:01:51.900Z"
   },
   {
    "duration": 14,
    "start_time": "2023-07-15T20:01:51.910Z"
   },
   {
    "duration": 5,
    "start_time": "2023-07-15T20:01:51.927Z"
   },
   {
    "duration": 36,
    "start_time": "2023-07-15T20:01:51.934Z"
   },
   {
    "duration": 17,
    "start_time": "2023-07-15T20:01:51.971Z"
   },
   {
    "duration": 31,
    "start_time": "2023-07-15T20:01:51.989Z"
   },
   {
    "duration": 11,
    "start_time": "2023-07-15T20:01:52.022Z"
   },
   {
    "duration": 27,
    "start_time": "2023-07-15T20:01:52.035Z"
   },
   {
    "duration": 13,
    "start_time": "2023-07-15T20:01:52.067Z"
   },
   {
    "duration": 4,
    "start_time": "2023-07-15T20:01:52.082Z"
   },
   {
    "duration": 15,
    "start_time": "2023-07-15T20:01:52.088Z"
   },
   {
    "duration": 32,
    "start_time": "2023-07-15T20:01:52.104Z"
   },
   {
    "duration": 19,
    "start_time": "2023-07-15T20:01:52.138Z"
   },
   {
    "duration": 7,
    "start_time": "2023-07-15T20:01:52.159Z"
   },
   {
    "duration": 26,
    "start_time": "2023-07-15T20:01:52.167Z"
   },
   {
    "duration": 10,
    "start_time": "2023-07-15T20:01:52.195Z"
   },
   {
    "duration": 16,
    "start_time": "2023-07-15T20:01:52.207Z"
   },
   {
    "duration": 15,
    "start_time": "2023-07-15T20:01:52.225Z"
   },
   {
    "duration": 30,
    "start_time": "2023-07-15T20:01:52.242Z"
   },
   {
    "duration": 17,
    "start_time": "2023-07-15T20:01:52.274Z"
   },
   {
    "duration": 30,
    "start_time": "2023-07-15T20:01:52.296Z"
   },
   {
    "duration": 16,
    "start_time": "2023-07-15T20:01:52.328Z"
   },
   {
    "duration": 37,
    "start_time": "2023-07-15T20:01:52.346Z"
   },
   {
    "duration": 297,
    "start_time": "2023-07-15T20:01:52.385Z"
   },
   {
    "duration": 27,
    "start_time": "2023-07-15T20:01:52.684Z"
   },
   {
    "duration": 3,
    "start_time": "2023-07-15T20:01:52.713Z"
   },
   {
    "duration": 30,
    "start_time": "2023-07-15T20:01:52.718Z"
   },
   {
    "duration": 47,
    "start_time": "2023-07-15T20:01:52.750Z"
   },
   {
    "duration": 32,
    "start_time": "2023-07-15T20:01:52.799Z"
   },
   {
    "duration": 210,
    "start_time": "2023-07-15T20:01:52.833Z"
   },
   {
    "duration": 23,
    "start_time": "2023-07-15T20:01:53.045Z"
   },
   {
    "duration": 16,
    "start_time": "2023-07-15T20:01:53.069Z"
   },
   {
    "duration": 18,
    "start_time": "2023-07-15T20:01:53.086Z"
   },
   {
    "duration": 149,
    "start_time": "2023-07-15T20:01:53.106Z"
   },
   {
    "duration": 220,
    "start_time": "2023-07-15T20:01:53.257Z"
   },
   {
    "duration": 28,
    "start_time": "2023-07-15T20:01:53.478Z"
   },
   {
    "duration": 14,
    "start_time": "2023-07-15T20:01:53.508Z"
   },
   {
    "duration": 49,
    "start_time": "2023-07-15T20:01:53.523Z"
   },
   {
    "duration": 34,
    "start_time": "2023-07-15T20:01:53.574Z"
   },
   {
    "duration": 287,
    "start_time": "2023-07-15T20:01:53.609Z"
   },
   {
    "duration": 6,
    "start_time": "2023-07-15T20:01:53.898Z"
   },
   {
    "duration": 23,
    "start_time": "2023-07-15T20:01:53.906Z"
   },
   {
    "duration": 38,
    "start_time": "2023-07-15T20:01:53.931Z"
   },
   {
    "duration": 342,
    "start_time": "2023-07-15T20:01:53.972Z"
   },
   {
    "duration": 24,
    "start_time": "2023-07-15T20:01:54.316Z"
   },
   {
    "duration": 45,
    "start_time": "2023-07-15T20:01:54.342Z"
   },
   {
    "duration": 13,
    "start_time": "2023-07-15T20:01:54.389Z"
   },
   {
    "duration": 117,
    "start_time": "2023-07-15T20:01:54.403Z"
   },
   {
    "duration": 0,
    "start_time": "2023-07-15T20:01:54.522Z"
   },
   {
    "duration": 0,
    "start_time": "2023-07-15T20:01:54.524Z"
   },
   {
    "duration": 0,
    "start_time": "2023-07-15T20:01:54.525Z"
   },
   {
    "duration": 0,
    "start_time": "2023-07-15T20:01:54.526Z"
   },
   {
    "duration": 0,
    "start_time": "2023-07-15T20:01:54.528Z"
   },
   {
    "duration": 0,
    "start_time": "2023-07-15T20:01:54.529Z"
   },
   {
    "duration": 0,
    "start_time": "2023-07-15T20:01:54.530Z"
   },
   {
    "duration": 0,
    "start_time": "2023-07-15T20:01:54.531Z"
   },
   {
    "duration": 1,
    "start_time": "2023-07-15T20:01:54.532Z"
   },
   {
    "duration": 0,
    "start_time": "2023-07-15T20:01:54.534Z"
   },
   {
    "duration": 0,
    "start_time": "2023-07-15T20:01:54.535Z"
   },
   {
    "duration": 0,
    "start_time": "2023-07-15T20:01:54.536Z"
   },
   {
    "duration": 0,
    "start_time": "2023-07-15T20:01:54.568Z"
   },
   {
    "duration": 0,
    "start_time": "2023-07-15T20:01:54.569Z"
   },
   {
    "duration": 0,
    "start_time": "2023-07-15T20:01:54.570Z"
   },
   {
    "duration": 0,
    "start_time": "2023-07-15T20:01:54.571Z"
   },
   {
    "duration": 0,
    "start_time": "2023-07-15T20:01:54.572Z"
   },
   {
    "duration": 0,
    "start_time": "2023-07-15T20:01:54.573Z"
   },
   {
    "duration": 0,
    "start_time": "2023-07-15T20:01:54.575Z"
   },
   {
    "duration": 0,
    "start_time": "2023-07-15T20:01:54.575Z"
   },
   {
    "duration": 0,
    "start_time": "2023-07-15T20:01:54.577Z"
   },
   {
    "duration": 0,
    "start_time": "2023-07-15T20:01:54.578Z"
   },
   {
    "duration": 0,
    "start_time": "2023-07-15T20:01:54.579Z"
   },
   {
    "duration": 0,
    "start_time": "2023-07-15T20:01:54.580Z"
   },
   {
    "duration": 0,
    "start_time": "2023-07-15T20:01:54.581Z"
   },
   {
    "duration": 0,
    "start_time": "2023-07-15T20:01:54.582Z"
   },
   {
    "duration": 1,
    "start_time": "2023-07-15T20:01:54.583Z"
   },
   {
    "duration": 0,
    "start_time": "2023-07-15T20:01:54.585Z"
   },
   {
    "duration": 0,
    "start_time": "2023-07-15T20:01:54.586Z"
   },
   {
    "duration": 0,
    "start_time": "2023-07-15T20:01:54.587Z"
   },
   {
    "duration": 0,
    "start_time": "2023-07-15T20:01:54.588Z"
   },
   {
    "duration": 0,
    "start_time": "2023-07-15T20:01:54.589Z"
   },
   {
    "duration": 0,
    "start_time": "2023-07-15T20:01:54.590Z"
   },
   {
    "duration": 0,
    "start_time": "2023-07-15T20:01:54.591Z"
   },
   {
    "duration": 0,
    "start_time": "2023-07-15T20:01:54.592Z"
   },
   {
    "duration": 0,
    "start_time": "2023-07-15T20:01:54.594Z"
   },
   {
    "duration": 0,
    "start_time": "2023-07-15T20:01:54.595Z"
   },
   {
    "duration": 0,
    "start_time": "2023-07-15T20:01:54.596Z"
   },
   {
    "duration": 231,
    "start_time": "2023-07-15T20:04:06.961Z"
   },
   {
    "duration": 32,
    "start_time": "2023-07-15T20:04:07.759Z"
   },
   {
    "duration": 143,
    "start_time": "2023-07-15T20:06:03.549Z"
   },
   {
    "duration": 209,
    "start_time": "2023-07-15T20:06:10.483Z"
   },
   {
    "duration": 29,
    "start_time": "2023-07-15T20:06:11.419Z"
   },
   {
    "duration": 14,
    "start_time": "2023-07-15T20:06:11.907Z"
   },
   {
    "duration": 147,
    "start_time": "2023-07-15T20:07:40.829Z"
   },
   {
    "duration": 31,
    "start_time": "2023-07-15T20:07:44.899Z"
   },
   {
    "duration": 17,
    "start_time": "2023-07-15T20:07:45.243Z"
   },
   {
    "duration": 154,
    "start_time": "2023-07-15T20:08:16.596Z"
   },
   {
    "duration": 231,
    "start_time": "2023-07-15T20:08:45.336Z"
   },
   {
    "duration": 30,
    "start_time": "2023-07-15T20:08:46.278Z"
   },
   {
    "duration": 14,
    "start_time": "2023-07-15T20:08:46.622Z"
   },
   {
    "duration": 14,
    "start_time": "2023-07-15T20:10:13.181Z"
   },
   {
    "duration": 6,
    "start_time": "2023-07-15T20:10:40.156Z"
   },
   {
    "duration": 6,
    "start_time": "2023-07-15T20:11:31.537Z"
   },
   {
    "duration": 12,
    "start_time": "2023-07-15T20:11:44.212Z"
   },
   {
    "duration": 7,
    "start_time": "2023-07-15T20:11:58.591Z"
   },
   {
    "duration": 8,
    "start_time": "2023-07-15T20:12:25.453Z"
   },
   {
    "duration": 3,
    "start_time": "2023-07-15T20:12:59.957Z"
   },
   {
    "duration": 12,
    "start_time": "2023-07-15T20:13:04.170Z"
   },
   {
    "duration": 11,
    "start_time": "2023-07-15T20:13:23.165Z"
   },
   {
    "duration": 13,
    "start_time": "2023-07-15T20:13:38.857Z"
   },
   {
    "duration": 11,
    "start_time": "2023-07-15T20:13:56.965Z"
   },
   {
    "duration": 63,
    "start_time": "2023-07-15T20:14:01.383Z"
   },
   {
    "duration": 10,
    "start_time": "2023-07-15T20:14:10.615Z"
   },
   {
    "duration": 154,
    "start_time": "2023-07-15T20:14:52.452Z"
   },
   {
    "duration": 217,
    "start_time": "2023-07-15T20:14:59.840Z"
   },
   {
    "duration": 7,
    "start_time": "2023-07-15T20:15:30.930Z"
   },
   {
    "duration": 21,
    "start_time": "2023-07-15T20:17:02.796Z"
   },
   {
    "duration": 7,
    "start_time": "2023-07-15T20:17:24.398Z"
   },
   {
    "duration": 18,
    "start_time": "2023-07-15T20:18:03.789Z"
   },
   {
    "duration": 10,
    "start_time": "2023-07-15T20:20:29.741Z"
   },
   {
    "duration": 22,
    "start_time": "2023-07-15T20:20:33.636Z"
   },
   {
    "duration": 18,
    "start_time": "2023-07-15T20:20:51.633Z"
   },
   {
    "duration": 1395,
    "start_time": "2023-07-15T20:21:01.133Z"
   },
   {
    "duration": 60,
    "start_time": "2023-07-15T20:21:02.531Z"
   },
   {
    "duration": 346,
    "start_time": "2023-07-15T20:21:02.593Z"
   },
   {
    "duration": 27,
    "start_time": "2023-07-15T20:21:02.942Z"
   },
   {
    "duration": 37,
    "start_time": "2023-07-15T20:21:02.971Z"
   },
   {
    "duration": 34,
    "start_time": "2023-07-15T20:21:03.010Z"
   },
   {
    "duration": 28,
    "start_time": "2023-07-15T20:21:03.046Z"
   },
   {
    "duration": 61,
    "start_time": "2023-07-15T20:21:03.076Z"
   },
   {
    "duration": 24,
    "start_time": "2023-07-15T20:21:03.140Z"
   },
   {
    "duration": 23,
    "start_time": "2023-07-15T20:21:03.169Z"
   },
   {
    "duration": 20,
    "start_time": "2023-07-15T20:21:03.194Z"
   },
   {
    "duration": 40,
    "start_time": "2023-07-15T20:21:03.215Z"
   },
   {
    "duration": 45,
    "start_time": "2023-07-15T20:21:03.257Z"
   },
   {
    "duration": 17,
    "start_time": "2023-07-15T20:21:03.304Z"
   },
   {
    "duration": 18,
    "start_time": "2023-07-15T20:21:03.324Z"
   },
   {
    "duration": 17,
    "start_time": "2023-07-15T20:21:03.344Z"
   },
   {
    "duration": 19,
    "start_time": "2023-07-15T20:21:03.368Z"
   },
   {
    "duration": 6,
    "start_time": "2023-07-15T20:21:03.389Z"
   },
   {
    "duration": 18,
    "start_time": "2023-07-15T20:21:03.396Z"
   },
   {
    "duration": 18,
    "start_time": "2023-07-15T20:21:03.416Z"
   },
   {
    "duration": 33,
    "start_time": "2023-07-15T20:21:03.437Z"
   },
   {
    "duration": 27,
    "start_time": "2023-07-15T20:21:03.472Z"
   },
   {
    "duration": 23,
    "start_time": "2023-07-15T20:21:03.500Z"
   },
   {
    "duration": 11,
    "start_time": "2023-07-15T20:21:03.525Z"
   },
   {
    "duration": 30,
    "start_time": "2023-07-15T20:21:03.538Z"
   },
   {
    "duration": 17,
    "start_time": "2023-07-15T20:21:03.570Z"
   },
   {
    "duration": 10,
    "start_time": "2023-07-15T20:21:03.590Z"
   },
   {
    "duration": 24,
    "start_time": "2023-07-15T20:21:03.606Z"
   },
   {
    "duration": 43,
    "start_time": "2023-07-15T20:21:03.632Z"
   },
   {
    "duration": 14,
    "start_time": "2023-07-15T20:21:03.677Z"
   },
   {
    "duration": 36,
    "start_time": "2023-07-15T20:21:03.693Z"
   },
   {
    "duration": 366,
    "start_time": "2023-07-15T20:21:03.731Z"
   },
   {
    "duration": 39,
    "start_time": "2023-07-15T20:21:04.099Z"
   },
   {
    "duration": 6,
    "start_time": "2023-07-15T20:21:04.140Z"
   },
   {
    "duration": 16,
    "start_time": "2023-07-15T20:21:04.168Z"
   },
   {
    "duration": 36,
    "start_time": "2023-07-15T20:21:04.186Z"
   },
   {
    "duration": 59,
    "start_time": "2023-07-15T20:21:04.224Z"
   },
   {
    "duration": 212,
    "start_time": "2023-07-15T20:21:04.285Z"
   },
   {
    "duration": 17,
    "start_time": "2023-07-15T20:21:04.499Z"
   },
   {
    "duration": 12,
    "start_time": "2023-07-15T20:21:04.518Z"
   },
   {
    "duration": 44,
    "start_time": "2023-07-15T20:21:04.532Z"
   },
   {
    "duration": 19,
    "start_time": "2023-07-15T20:21:04.579Z"
   },
   {
    "duration": 12,
    "start_time": "2023-07-15T20:21:04.601Z"
   },
   {
    "duration": 143,
    "start_time": "2023-07-15T20:21:04.615Z"
   },
   {
    "duration": 0,
    "start_time": "2023-07-15T20:21:04.760Z"
   },
   {
    "duration": 0,
    "start_time": "2023-07-15T20:21:04.761Z"
   },
   {
    "duration": 0,
    "start_time": "2023-07-15T20:21:04.767Z"
   },
   {
    "duration": 0,
    "start_time": "2023-07-15T20:21:04.768Z"
   },
   {
    "duration": 0,
    "start_time": "2023-07-15T20:21:04.770Z"
   },
   {
    "duration": 0,
    "start_time": "2023-07-15T20:21:04.771Z"
   },
   {
    "duration": 0,
    "start_time": "2023-07-15T20:21:04.772Z"
   },
   {
    "duration": 0,
    "start_time": "2023-07-15T20:21:04.773Z"
   },
   {
    "duration": 0,
    "start_time": "2023-07-15T20:21:04.774Z"
   },
   {
    "duration": 0,
    "start_time": "2023-07-15T20:21:04.775Z"
   },
   {
    "duration": 0,
    "start_time": "2023-07-15T20:21:04.776Z"
   },
   {
    "duration": 0,
    "start_time": "2023-07-15T20:21:04.778Z"
   },
   {
    "duration": 0,
    "start_time": "2023-07-15T20:21:04.779Z"
   },
   {
    "duration": 0,
    "start_time": "2023-07-15T20:21:04.780Z"
   },
   {
    "duration": 0,
    "start_time": "2023-07-15T20:21:04.781Z"
   },
   {
    "duration": 0,
    "start_time": "2023-07-15T20:21:04.782Z"
   },
   {
    "duration": 0,
    "start_time": "2023-07-15T20:21:04.783Z"
   },
   {
    "duration": 0,
    "start_time": "2023-07-15T20:21:04.784Z"
   },
   {
    "duration": 0,
    "start_time": "2023-07-15T20:21:04.785Z"
   },
   {
    "duration": 0,
    "start_time": "2023-07-15T20:21:04.786Z"
   },
   {
    "duration": 0,
    "start_time": "2023-07-15T20:21:04.787Z"
   },
   {
    "duration": 0,
    "start_time": "2023-07-15T20:21:04.789Z"
   },
   {
    "duration": 0,
    "start_time": "2023-07-15T20:21:04.790Z"
   },
   {
    "duration": 0,
    "start_time": "2023-07-15T20:21:04.792Z"
   },
   {
    "duration": 0,
    "start_time": "2023-07-15T20:21:04.793Z"
   },
   {
    "duration": 0,
    "start_time": "2023-07-15T20:21:04.795Z"
   },
   {
    "duration": 0,
    "start_time": "2023-07-15T20:21:04.796Z"
   },
   {
    "duration": 0,
    "start_time": "2023-07-15T20:21:04.798Z"
   },
   {
    "duration": 0,
    "start_time": "2023-07-15T20:21:04.800Z"
   },
   {
    "duration": 0,
    "start_time": "2023-07-15T20:21:04.801Z"
   },
   {
    "duration": 0,
    "start_time": "2023-07-15T20:21:04.802Z"
   },
   {
    "duration": 0,
    "start_time": "2023-07-15T20:21:04.804Z"
   },
   {
    "duration": 0,
    "start_time": "2023-07-15T20:21:04.805Z"
   },
   {
    "duration": 0,
    "start_time": "2023-07-15T20:21:04.807Z"
   },
   {
    "duration": 0,
    "start_time": "2023-07-15T20:21:04.868Z"
   },
   {
    "duration": 0,
    "start_time": "2023-07-15T20:21:04.870Z"
   },
   {
    "duration": 0,
    "start_time": "2023-07-15T20:21:04.871Z"
   },
   {
    "duration": 0,
    "start_time": "2023-07-15T20:21:04.872Z"
   },
   {
    "duration": 0,
    "start_time": "2023-07-15T20:21:04.874Z"
   },
   {
    "duration": 0,
    "start_time": "2023-07-15T20:21:04.876Z"
   },
   {
    "duration": 0,
    "start_time": "2023-07-15T20:21:04.877Z"
   },
   {
    "duration": 0,
    "start_time": "2023-07-15T20:21:04.879Z"
   },
   {
    "duration": 0,
    "start_time": "2023-07-15T20:21:04.880Z"
   },
   {
    "duration": 0,
    "start_time": "2023-07-15T20:21:04.882Z"
   },
   {
    "duration": 0,
    "start_time": "2023-07-15T20:21:04.883Z"
   },
   {
    "duration": 0,
    "start_time": "2023-07-15T20:21:04.884Z"
   },
   {
    "duration": 0,
    "start_time": "2023-07-15T20:21:04.885Z"
   },
   {
    "duration": 0,
    "start_time": "2023-07-15T20:21:04.887Z"
   },
   {
    "duration": 0,
    "start_time": "2023-07-15T20:21:04.888Z"
   },
   {
    "duration": 0,
    "start_time": "2023-07-15T20:21:04.889Z"
   },
   {
    "duration": 0,
    "start_time": "2023-07-15T20:21:04.891Z"
   },
   {
    "duration": 18,
    "start_time": "2023-07-15T20:22:17.137Z"
   },
   {
    "duration": 17,
    "start_time": "2023-07-15T20:23:40.549Z"
   },
   {
    "duration": 361,
    "start_time": "2023-07-15T20:23:48.952Z"
   },
   {
    "duration": 2419,
    "start_time": "2023-07-15T20:23:56.658Z"
   },
   {
    "duration": 25,
    "start_time": "2023-07-15T20:23:59.080Z"
   },
   {
    "duration": 9,
    "start_time": "2023-07-15T20:23:59.107Z"
   },
   {
    "duration": 33,
    "start_time": "2023-07-15T20:24:12.412Z"
   },
   {
    "duration": 29,
    "start_time": "2023-07-15T20:24:13.390Z"
   },
   {
    "duration": 11,
    "start_time": "2023-07-15T20:24:13.758Z"
   },
   {
    "duration": 12,
    "start_time": "2023-07-15T20:28:08.336Z"
   },
   {
    "duration": 4,
    "start_time": "2023-07-15T20:29:23.078Z"
   },
   {
    "duration": 5,
    "start_time": "2023-07-15T20:31:43.003Z"
   },
   {
    "duration": 113,
    "start_time": "2023-07-15T20:31:43.757Z"
   },
   {
    "duration": 28,
    "start_time": "2023-07-15T20:31:44.746Z"
   },
   {
    "duration": 10,
    "start_time": "2023-07-15T20:31:45.293Z"
   },
   {
    "duration": 1281,
    "start_time": "2023-07-15T20:31:50.864Z"
   },
   {
    "duration": 48,
    "start_time": "2023-07-15T20:31:52.147Z"
   },
   {
    "duration": 441,
    "start_time": "2023-07-15T20:31:52.196Z"
   },
   {
    "duration": 27,
    "start_time": "2023-07-15T20:31:52.640Z"
   },
   {
    "duration": 23,
    "start_time": "2023-07-15T20:31:52.669Z"
   },
   {
    "duration": 40,
    "start_time": "2023-07-15T20:31:52.694Z"
   },
   {
    "duration": 12,
    "start_time": "2023-07-15T20:31:52.736Z"
   },
   {
    "duration": 17,
    "start_time": "2023-07-15T20:31:52.750Z"
   },
   {
    "duration": 30,
    "start_time": "2023-07-15T20:31:52.769Z"
   },
   {
    "duration": 9,
    "start_time": "2023-07-15T20:31:52.802Z"
   },
   {
    "duration": 10,
    "start_time": "2023-07-15T20:31:52.813Z"
   },
   {
    "duration": 32,
    "start_time": "2023-07-15T20:31:52.825Z"
   },
   {
    "duration": 37,
    "start_time": "2023-07-15T20:31:52.859Z"
   },
   {
    "duration": 12,
    "start_time": "2023-07-15T20:31:52.898Z"
   },
   {
    "duration": 12,
    "start_time": "2023-07-15T20:31:52.912Z"
   },
   {
    "duration": 11,
    "start_time": "2023-07-15T20:31:52.925Z"
   },
   {
    "duration": 32,
    "start_time": "2023-07-15T20:31:52.938Z"
   },
   {
    "duration": 7,
    "start_time": "2023-07-15T20:31:52.972Z"
   },
   {
    "duration": 18,
    "start_time": "2023-07-15T20:31:52.981Z"
   },
   {
    "duration": 24,
    "start_time": "2023-07-15T20:31:53.001Z"
   },
   {
    "duration": 5,
    "start_time": "2023-07-15T20:31:53.027Z"
   },
   {
    "duration": 35,
    "start_time": "2023-07-15T20:31:53.034Z"
   },
   {
    "duration": 21,
    "start_time": "2023-07-15T20:31:53.071Z"
   },
   {
    "duration": 11,
    "start_time": "2023-07-15T20:31:53.094Z"
   },
   {
    "duration": 19,
    "start_time": "2023-07-15T20:31:53.107Z"
   },
   {
    "duration": 46,
    "start_time": "2023-07-15T20:31:53.127Z"
   },
   {
    "duration": 13,
    "start_time": "2023-07-15T20:31:53.175Z"
   },
   {
    "duration": 40,
    "start_time": "2023-07-15T20:31:53.193Z"
   },
   {
    "duration": 13,
    "start_time": "2023-07-15T20:31:53.235Z"
   },
   {
    "duration": 26,
    "start_time": "2023-07-15T20:31:53.250Z"
   },
   {
    "duration": 23,
    "start_time": "2023-07-15T20:31:53.277Z"
   },
   {
    "duration": 301,
    "start_time": "2023-07-15T20:31:53.302Z"
   },
   {
    "duration": 26,
    "start_time": "2023-07-15T20:31:53.605Z"
   },
   {
    "duration": 4,
    "start_time": "2023-07-15T20:31:53.633Z"
   },
   {
    "duration": 34,
    "start_time": "2023-07-15T20:31:53.639Z"
   },
   {
    "duration": 34,
    "start_time": "2023-07-15T20:31:53.674Z"
   },
   {
    "duration": 35,
    "start_time": "2023-07-15T20:31:53.710Z"
   },
   {
    "duration": 216,
    "start_time": "2023-07-15T20:31:53.770Z"
   },
   {
    "duration": 16,
    "start_time": "2023-07-15T20:31:53.988Z"
   },
   {
    "duration": 5,
    "start_time": "2023-07-15T20:31:54.006Z"
   },
   {
    "duration": 6,
    "start_time": "2023-07-15T20:31:54.013Z"
   },
   {
    "duration": 152,
    "start_time": "2023-07-15T20:31:54.021Z"
   },
   {
    "duration": 35,
    "start_time": "2023-07-15T20:31:54.175Z"
   },
   {
    "duration": 15,
    "start_time": "2023-07-15T20:31:54.212Z"
   },
   {
    "duration": 48,
    "start_time": "2023-07-15T20:31:54.229Z"
   },
   {
    "duration": 39,
    "start_time": "2023-07-15T20:31:54.279Z"
   },
   {
    "duration": 480,
    "start_time": "2023-07-15T20:31:54.319Z"
   },
   {
    "duration": 5,
    "start_time": "2023-07-15T20:31:54.801Z"
   },
   {
    "duration": 73,
    "start_time": "2023-07-15T20:31:54.808Z"
   },
   {
    "duration": 30,
    "start_time": "2023-07-15T20:31:54.883Z"
   },
   {
    "duration": 685,
    "start_time": "2023-07-15T20:31:54.915Z"
   },
   {
    "duration": 74,
    "start_time": "2023-07-15T20:31:55.602Z"
   },
   {
    "duration": 95,
    "start_time": "2023-07-15T20:31:55.678Z"
   },
   {
    "duration": 14,
    "start_time": "2023-07-15T20:31:55.775Z"
   },
   {
    "duration": 213,
    "start_time": "2023-07-15T20:31:55.790Z"
   },
   {
    "duration": 0,
    "start_time": "2023-07-15T20:31:56.005Z"
   },
   {
    "duration": 0,
    "start_time": "2023-07-15T20:31:56.007Z"
   },
   {
    "duration": 0,
    "start_time": "2023-07-15T20:31:56.008Z"
   },
   {
    "duration": 0,
    "start_time": "2023-07-15T20:31:56.010Z"
   },
   {
    "duration": 0,
    "start_time": "2023-07-15T20:31:56.011Z"
   },
   {
    "duration": 0,
    "start_time": "2023-07-15T20:31:56.066Z"
   },
   {
    "duration": 0,
    "start_time": "2023-07-15T20:31:56.068Z"
   },
   {
    "duration": 0,
    "start_time": "2023-07-15T20:31:56.070Z"
   },
   {
    "duration": 0,
    "start_time": "2023-07-15T20:31:56.070Z"
   },
   {
    "duration": 0,
    "start_time": "2023-07-15T20:31:56.071Z"
   },
   {
    "duration": 0,
    "start_time": "2023-07-15T20:31:56.073Z"
   },
   {
    "duration": 0,
    "start_time": "2023-07-15T20:31:56.074Z"
   },
   {
    "duration": 0,
    "start_time": "2023-07-15T20:31:56.075Z"
   },
   {
    "duration": 1,
    "start_time": "2023-07-15T20:31:56.076Z"
   },
   {
    "duration": 0,
    "start_time": "2023-07-15T20:31:56.078Z"
   },
   {
    "duration": 0,
    "start_time": "2023-07-15T20:31:56.079Z"
   },
   {
    "duration": 0,
    "start_time": "2023-07-15T20:31:56.080Z"
   },
   {
    "duration": 0,
    "start_time": "2023-07-15T20:31:56.081Z"
   },
   {
    "duration": 0,
    "start_time": "2023-07-15T20:31:56.082Z"
   },
   {
    "duration": 0,
    "start_time": "2023-07-15T20:31:56.084Z"
   },
   {
    "duration": 0,
    "start_time": "2023-07-15T20:31:56.085Z"
   },
   {
    "duration": 0,
    "start_time": "2023-07-15T20:31:56.086Z"
   },
   {
    "duration": 0,
    "start_time": "2023-07-15T20:31:56.087Z"
   },
   {
    "duration": 0,
    "start_time": "2023-07-15T20:31:56.089Z"
   },
   {
    "duration": 0,
    "start_time": "2023-07-15T20:31:56.090Z"
   },
   {
    "duration": 0,
    "start_time": "2023-07-15T20:31:56.091Z"
   },
   {
    "duration": 0,
    "start_time": "2023-07-15T20:31:56.092Z"
   },
   {
    "duration": 0,
    "start_time": "2023-07-15T20:31:56.093Z"
   },
   {
    "duration": 0,
    "start_time": "2023-07-15T20:31:56.093Z"
   },
   {
    "duration": 0,
    "start_time": "2023-07-15T20:31:56.095Z"
   },
   {
    "duration": 0,
    "start_time": "2023-07-15T20:31:56.095Z"
   },
   {
    "duration": 0,
    "start_time": "2023-07-15T20:31:56.096Z"
   },
   {
    "duration": 0,
    "start_time": "2023-07-15T20:31:56.098Z"
   },
   {
    "duration": 0,
    "start_time": "2023-07-15T20:31:56.099Z"
   },
   {
    "duration": 0,
    "start_time": "2023-07-15T20:31:56.100Z"
   },
   {
    "duration": 0,
    "start_time": "2023-07-15T20:31:56.100Z"
   },
   {
    "duration": 0,
    "start_time": "2023-07-15T20:31:56.101Z"
   },
   {
    "duration": 1,
    "start_time": "2023-07-15T20:31:56.166Z"
   },
   {
    "duration": 4,
    "start_time": "2023-07-15T20:32:04.902Z"
   },
   {
    "duration": 2462,
    "start_time": "2023-07-15T20:32:05.499Z"
   },
   {
    "duration": 28,
    "start_time": "2023-07-15T20:32:07.962Z"
   },
   {
    "duration": 9,
    "start_time": "2023-07-15T20:32:07.991Z"
   },
   {
    "duration": 22,
    "start_time": "2023-07-15T20:34:56.855Z"
   },
   {
    "duration": 5,
    "start_time": "2023-07-15T20:35:22.448Z"
   },
   {
    "duration": 5,
    "start_time": "2023-07-15T20:35:57.746Z"
   },
   {
    "duration": 1302,
    "start_time": "2023-07-15T20:36:26.134Z"
   },
   {
    "duration": 51,
    "start_time": "2023-07-15T20:36:27.439Z"
   },
   {
    "duration": 207,
    "start_time": "2023-07-15T20:36:27.492Z"
   },
   {
    "duration": 18,
    "start_time": "2023-07-15T20:36:27.701Z"
   },
   {
    "duration": 25,
    "start_time": "2023-07-15T20:36:27.721Z"
   },
   {
    "duration": 39,
    "start_time": "2023-07-15T20:36:27.748Z"
   },
   {
    "duration": 12,
    "start_time": "2023-07-15T20:36:27.789Z"
   },
   {
    "duration": 17,
    "start_time": "2023-07-15T20:36:27.803Z"
   },
   {
    "duration": 54,
    "start_time": "2023-07-15T20:36:27.822Z"
   },
   {
    "duration": 13,
    "start_time": "2023-07-15T20:36:27.878Z"
   },
   {
    "duration": 16,
    "start_time": "2023-07-15T20:36:27.893Z"
   },
   {
    "duration": 17,
    "start_time": "2023-07-15T20:36:27.911Z"
   },
   {
    "duration": 26,
    "start_time": "2023-07-15T20:36:27.930Z"
   },
   {
    "duration": 13,
    "start_time": "2023-07-15T20:36:27.966Z"
   },
   {
    "duration": 11,
    "start_time": "2023-07-15T20:36:27.981Z"
   },
   {
    "duration": 10,
    "start_time": "2023-07-15T20:36:27.994Z"
   },
   {
    "duration": 19,
    "start_time": "2023-07-15T20:36:28.006Z"
   },
   {
    "duration": 6,
    "start_time": "2023-07-15T20:36:28.027Z"
   },
   {
    "duration": 41,
    "start_time": "2023-07-15T20:36:28.034Z"
   },
   {
    "duration": 17,
    "start_time": "2023-07-15T20:36:28.077Z"
   },
   {
    "duration": 5,
    "start_time": "2023-07-15T20:36:28.095Z"
   },
   {
    "duration": 6,
    "start_time": "2023-07-15T20:36:28.101Z"
   },
   {
    "duration": 21,
    "start_time": "2023-07-15T20:36:28.109Z"
   },
   {
    "duration": 41,
    "start_time": "2023-07-15T20:36:28.132Z"
   },
   {
    "duration": 13,
    "start_time": "2023-07-15T20:36:28.175Z"
   },
   {
    "duration": 15,
    "start_time": "2023-07-15T20:36:28.190Z"
   },
   {
    "duration": 9,
    "start_time": "2023-07-15T20:36:28.207Z"
   },
   {
    "duration": 26,
    "start_time": "2023-07-15T20:36:28.218Z"
   },
   {
    "duration": 16,
    "start_time": "2023-07-15T20:36:28.267Z"
   },
   {
    "duration": 14,
    "start_time": "2023-07-15T20:36:28.285Z"
   },
   {
    "duration": 21,
    "start_time": "2023-07-15T20:36:28.301Z"
   },
   {
    "duration": 332,
    "start_time": "2023-07-15T20:36:28.324Z"
   },
   {
    "duration": 32,
    "start_time": "2023-07-15T20:36:28.658Z"
   },
   {
    "duration": 4,
    "start_time": "2023-07-15T20:36:28.692Z"
   },
   {
    "duration": 18,
    "start_time": "2023-07-15T20:36:28.698Z"
   },
   {
    "duration": 57,
    "start_time": "2023-07-15T20:36:28.718Z"
   },
   {
    "duration": 5,
    "start_time": "2023-07-15T20:36:28.777Z"
   },
   {
    "duration": 39,
    "start_time": "2023-07-15T20:36:28.783Z"
   },
   {
    "duration": 211,
    "start_time": "2023-07-15T20:36:28.824Z"
   },
   {
    "duration": 12,
    "start_time": "2023-07-15T20:36:29.037Z"
   },
   {
    "duration": 5,
    "start_time": "2023-07-15T20:36:29.066Z"
   },
   {
    "duration": 9,
    "start_time": "2023-07-15T20:36:29.072Z"
   },
   {
    "duration": 2509,
    "start_time": "2023-07-15T20:36:29.082Z"
   },
   {
    "duration": 25,
    "start_time": "2023-07-15T20:36:31.593Z"
   },
   {
    "duration": 34,
    "start_time": "2023-07-15T20:36:31.620Z"
   },
   {
    "duration": 32,
    "start_time": "2023-07-15T20:36:31.656Z"
   },
   {
    "duration": 58,
    "start_time": "2023-07-15T20:36:31.690Z"
   },
   {
    "duration": 61,
    "start_time": "2023-07-15T20:36:31.750Z"
   },
   {
    "duration": 387,
    "start_time": "2023-07-15T20:36:31.813Z"
   },
   {
    "duration": 6,
    "start_time": "2023-07-15T20:36:32.202Z"
   },
   {
    "duration": 32,
    "start_time": "2023-07-15T20:36:32.209Z"
   },
   {
    "duration": 40,
    "start_time": "2023-07-15T20:36:32.242Z"
   },
   {
    "duration": 344,
    "start_time": "2023-07-15T20:36:32.284Z"
   },
   {
    "duration": 28,
    "start_time": "2023-07-15T20:36:32.629Z"
   },
   {
    "duration": 32,
    "start_time": "2023-07-15T20:36:32.667Z"
   },
   {
    "duration": 29,
    "start_time": "2023-07-15T20:36:32.701Z"
   },
   {
    "duration": 118,
    "start_time": "2023-07-15T20:36:32.732Z"
   },
   {
    "duration": 0,
    "start_time": "2023-07-15T20:36:32.852Z"
   },
   {
    "duration": 0,
    "start_time": "2023-07-15T20:36:32.853Z"
   },
   {
    "duration": 0,
    "start_time": "2023-07-15T20:36:32.854Z"
   },
   {
    "duration": 0,
    "start_time": "2023-07-15T20:36:32.856Z"
   },
   {
    "duration": 0,
    "start_time": "2023-07-15T20:36:32.867Z"
   },
   {
    "duration": 0,
    "start_time": "2023-07-15T20:36:32.869Z"
   },
   {
    "duration": 0,
    "start_time": "2023-07-15T20:36:32.870Z"
   },
   {
    "duration": 0,
    "start_time": "2023-07-15T20:36:32.872Z"
   },
   {
    "duration": 0,
    "start_time": "2023-07-15T20:36:32.873Z"
   },
   {
    "duration": 0,
    "start_time": "2023-07-15T20:36:32.875Z"
   },
   {
    "duration": 0,
    "start_time": "2023-07-15T20:36:32.877Z"
   },
   {
    "duration": 0,
    "start_time": "2023-07-15T20:36:32.878Z"
   },
   {
    "duration": 0,
    "start_time": "2023-07-15T20:36:32.880Z"
   },
   {
    "duration": 0,
    "start_time": "2023-07-15T20:36:32.881Z"
   },
   {
    "duration": 0,
    "start_time": "2023-07-15T20:36:32.883Z"
   },
   {
    "duration": 0,
    "start_time": "2023-07-15T20:36:32.884Z"
   },
   {
    "duration": 0,
    "start_time": "2023-07-15T20:36:32.886Z"
   },
   {
    "duration": 0,
    "start_time": "2023-07-15T20:36:32.887Z"
   },
   {
    "duration": 0,
    "start_time": "2023-07-15T20:36:32.889Z"
   },
   {
    "duration": 0,
    "start_time": "2023-07-15T20:36:32.891Z"
   },
   {
    "duration": 0,
    "start_time": "2023-07-15T20:36:32.892Z"
   },
   {
    "duration": 0,
    "start_time": "2023-07-15T20:36:32.894Z"
   },
   {
    "duration": 0,
    "start_time": "2023-07-15T20:36:32.894Z"
   },
   {
    "duration": 0,
    "start_time": "2023-07-15T20:36:32.896Z"
   },
   {
    "duration": 0,
    "start_time": "2023-07-15T20:36:32.897Z"
   },
   {
    "duration": 0,
    "start_time": "2023-07-15T20:36:32.898Z"
   },
   {
    "duration": 0,
    "start_time": "2023-07-15T20:36:32.899Z"
   },
   {
    "duration": 0,
    "start_time": "2023-07-15T20:36:32.900Z"
   },
   {
    "duration": 0,
    "start_time": "2023-07-15T20:36:32.901Z"
   },
   {
    "duration": 0,
    "start_time": "2023-07-15T20:36:32.903Z"
   },
   {
    "duration": 0,
    "start_time": "2023-07-15T20:36:32.904Z"
   },
   {
    "duration": 0,
    "start_time": "2023-07-15T20:36:32.905Z"
   },
   {
    "duration": 0,
    "start_time": "2023-07-15T20:36:32.968Z"
   },
   {
    "duration": 0,
    "start_time": "2023-07-15T20:36:32.969Z"
   },
   {
    "duration": 0,
    "start_time": "2023-07-15T20:36:32.970Z"
   },
   {
    "duration": 0,
    "start_time": "2023-07-15T20:36:32.972Z"
   },
   {
    "duration": 0,
    "start_time": "2023-07-15T20:36:32.973Z"
   },
   {
    "duration": 0,
    "start_time": "2023-07-15T20:36:32.974Z"
   },
   {
    "duration": 4,
    "start_time": "2023-07-15T20:37:36.997Z"
   },
   {
    "duration": 5,
    "start_time": "2023-07-15T20:38:19.047Z"
   },
   {
    "duration": 1253,
    "start_time": "2023-07-15T20:39:09.964Z"
   },
   {
    "duration": 45,
    "start_time": "2023-07-15T20:39:11.220Z"
   },
   {
    "duration": 216,
    "start_time": "2023-07-15T20:39:11.267Z"
   },
   {
    "duration": 18,
    "start_time": "2023-07-15T20:39:11.485Z"
   },
   {
    "duration": 32,
    "start_time": "2023-07-15T20:39:11.504Z"
   },
   {
    "duration": 47,
    "start_time": "2023-07-15T20:39:11.538Z"
   },
   {
    "duration": 12,
    "start_time": "2023-07-15T20:39:11.587Z"
   },
   {
    "duration": 12,
    "start_time": "2023-07-15T20:39:11.600Z"
   },
   {
    "duration": 31,
    "start_time": "2023-07-15T20:39:11.613Z"
   },
   {
    "duration": 53,
    "start_time": "2023-07-15T20:39:11.647Z"
   },
   {
    "duration": 16,
    "start_time": "2023-07-15T20:39:11.702Z"
   },
   {
    "duration": 16,
    "start_time": "2023-07-15T20:39:11.721Z"
   },
   {
    "duration": 24,
    "start_time": "2023-07-15T20:39:11.739Z"
   },
   {
    "duration": 15,
    "start_time": "2023-07-15T20:39:11.766Z"
   },
   {
    "duration": 22,
    "start_time": "2023-07-15T20:39:11.783Z"
   },
   {
    "duration": 18,
    "start_time": "2023-07-15T20:39:11.807Z"
   },
   {
    "duration": 33,
    "start_time": "2023-07-15T20:39:11.827Z"
   },
   {
    "duration": 44,
    "start_time": "2023-07-15T20:39:11.861Z"
   },
   {
    "duration": 12,
    "start_time": "2023-07-15T20:39:11.907Z"
   },
   {
    "duration": 21,
    "start_time": "2023-07-15T20:39:11.921Z"
   },
   {
    "duration": 5,
    "start_time": "2023-07-15T20:39:11.944Z"
   },
   {
    "duration": 17,
    "start_time": "2023-07-15T20:39:11.951Z"
   },
   {
    "duration": 31,
    "start_time": "2023-07-15T20:39:11.970Z"
   },
   {
    "duration": 10,
    "start_time": "2023-07-15T20:39:12.003Z"
   },
   {
    "duration": 61,
    "start_time": "2023-07-15T20:39:12.016Z"
   },
   {
    "duration": 22,
    "start_time": "2023-07-15T20:39:12.079Z"
   },
   {
    "duration": 10,
    "start_time": "2023-07-15T20:39:12.103Z"
   },
   {
    "duration": 18,
    "start_time": "2023-07-15T20:39:12.166Z"
   },
   {
    "duration": 14,
    "start_time": "2023-07-15T20:39:12.186Z"
   },
   {
    "duration": 13,
    "start_time": "2023-07-15T20:39:12.201Z"
   },
   {
    "duration": 25,
    "start_time": "2023-07-15T20:39:12.268Z"
   },
   {
    "duration": 357,
    "start_time": "2023-07-15T20:39:12.295Z"
   },
   {
    "duration": 35,
    "start_time": "2023-07-15T20:39:12.654Z"
   },
   {
    "duration": 5,
    "start_time": "2023-07-15T20:39:12.690Z"
   },
   {
    "duration": 18,
    "start_time": "2023-07-15T20:39:12.697Z"
   },
   {
    "duration": 50,
    "start_time": "2023-07-15T20:39:12.717Z"
   },
   {
    "duration": 5,
    "start_time": "2023-07-15T20:39:12.769Z"
   },
   {
    "duration": 59,
    "start_time": "2023-07-15T20:39:12.775Z"
   },
   {
    "duration": 208,
    "start_time": "2023-07-15T20:39:12.836Z"
   },
   {
    "duration": 21,
    "start_time": "2023-07-15T20:39:13.046Z"
   },
   {
    "duration": 20,
    "start_time": "2023-07-15T20:39:13.069Z"
   },
   {
    "duration": 23,
    "start_time": "2023-07-15T20:39:13.091Z"
   },
   {
    "duration": 2516,
    "start_time": "2023-07-15T20:39:13.116Z"
   },
   {
    "duration": 26,
    "start_time": "2023-07-15T20:39:15.634Z"
   },
   {
    "duration": 12,
    "start_time": "2023-07-15T20:39:15.662Z"
   },
   {
    "duration": 7,
    "start_time": "2023-07-15T20:39:15.676Z"
   },
   {
    "duration": 15,
    "start_time": "2023-07-15T20:39:15.685Z"
   },
   {
    "duration": 17,
    "start_time": "2023-07-15T20:39:15.702Z"
   },
   {
    "duration": 24,
    "start_time": "2023-07-15T20:39:15.721Z"
   },
   {
    "duration": 41,
    "start_time": "2023-07-15T20:39:15.747Z"
   },
   {
    "duration": 365,
    "start_time": "2023-07-15T20:39:15.789Z"
   },
   {
    "duration": 11,
    "start_time": "2023-07-15T20:39:16.156Z"
   },
   {
    "duration": 45,
    "start_time": "2023-07-15T20:39:16.168Z"
   },
   {
    "duration": 21,
    "start_time": "2023-07-15T20:39:16.215Z"
   },
   {
    "duration": 277,
    "start_time": "2023-07-15T20:39:16.238Z"
   },
   {
    "duration": 22,
    "start_time": "2023-07-15T20:39:16.517Z"
   },
   {
    "duration": 47,
    "start_time": "2023-07-15T20:39:16.541Z"
   },
   {
    "duration": 16,
    "start_time": "2023-07-15T20:39:16.590Z"
   },
   {
    "duration": 121,
    "start_time": "2023-07-15T20:39:16.608Z"
   },
   {
    "duration": 0,
    "start_time": "2023-07-15T20:39:16.732Z"
   },
   {
    "duration": 0,
    "start_time": "2023-07-15T20:39:16.733Z"
   },
   {
    "duration": 0,
    "start_time": "2023-07-15T20:39:16.734Z"
   },
   {
    "duration": 0,
    "start_time": "2023-07-15T20:39:16.736Z"
   },
   {
    "duration": 0,
    "start_time": "2023-07-15T20:39:16.737Z"
   },
   {
    "duration": 0,
    "start_time": "2023-07-15T20:39:16.738Z"
   },
   {
    "duration": 0,
    "start_time": "2023-07-15T20:39:16.739Z"
   },
   {
    "duration": 0,
    "start_time": "2023-07-15T20:39:16.741Z"
   },
   {
    "duration": 0,
    "start_time": "2023-07-15T20:39:16.742Z"
   },
   {
    "duration": 0,
    "start_time": "2023-07-15T20:39:16.743Z"
   },
   {
    "duration": 0,
    "start_time": "2023-07-15T20:39:16.768Z"
   },
   {
    "duration": 0,
    "start_time": "2023-07-15T20:39:16.769Z"
   },
   {
    "duration": 0,
    "start_time": "2023-07-15T20:39:16.770Z"
   },
   {
    "duration": 0,
    "start_time": "2023-07-15T20:39:16.771Z"
   },
   {
    "duration": 0,
    "start_time": "2023-07-15T20:39:16.773Z"
   },
   {
    "duration": 0,
    "start_time": "2023-07-15T20:39:16.773Z"
   },
   {
    "duration": 0,
    "start_time": "2023-07-15T20:39:16.775Z"
   },
   {
    "duration": 0,
    "start_time": "2023-07-15T20:39:16.776Z"
   },
   {
    "duration": 0,
    "start_time": "2023-07-15T20:39:16.777Z"
   },
   {
    "duration": 0,
    "start_time": "2023-07-15T20:39:16.778Z"
   },
   {
    "duration": 0,
    "start_time": "2023-07-15T20:39:16.779Z"
   },
   {
    "duration": 0,
    "start_time": "2023-07-15T20:39:16.781Z"
   },
   {
    "duration": 0,
    "start_time": "2023-07-15T20:39:16.782Z"
   },
   {
    "duration": 0,
    "start_time": "2023-07-15T20:39:16.783Z"
   },
   {
    "duration": 0,
    "start_time": "2023-07-15T20:39:16.784Z"
   },
   {
    "duration": 0,
    "start_time": "2023-07-15T20:39:16.785Z"
   },
   {
    "duration": 0,
    "start_time": "2023-07-15T20:39:16.786Z"
   },
   {
    "duration": 0,
    "start_time": "2023-07-15T20:39:16.788Z"
   },
   {
    "duration": 0,
    "start_time": "2023-07-15T20:39:16.789Z"
   },
   {
    "duration": 0,
    "start_time": "2023-07-15T20:39:16.790Z"
   },
   {
    "duration": 0,
    "start_time": "2023-07-15T20:39:16.791Z"
   },
   {
    "duration": 0,
    "start_time": "2023-07-15T20:39:16.793Z"
   },
   {
    "duration": 0,
    "start_time": "2023-07-15T20:39:16.794Z"
   },
   {
    "duration": 0,
    "start_time": "2023-07-15T20:39:16.795Z"
   },
   {
    "duration": 0,
    "start_time": "2023-07-15T20:39:16.797Z"
   },
   {
    "duration": 0,
    "start_time": "2023-07-15T20:39:16.798Z"
   },
   {
    "duration": 0,
    "start_time": "2023-07-15T20:39:16.799Z"
   },
   {
    "duration": 0,
    "start_time": "2023-07-15T20:39:16.800Z"
   },
   {
    "duration": 1238,
    "start_time": "2023-07-15T20:41:08.128Z"
   },
   {
    "duration": 59,
    "start_time": "2023-07-15T20:41:09.368Z"
   },
   {
    "duration": 172,
    "start_time": "2023-07-15T20:41:09.429Z"
   },
   {
    "duration": 17,
    "start_time": "2023-07-15T20:41:09.603Z"
   },
   {
    "duration": 21,
    "start_time": "2023-07-15T20:41:09.622Z"
   },
   {
    "duration": 42,
    "start_time": "2023-07-15T20:41:09.645Z"
   },
   {
    "duration": 13,
    "start_time": "2023-07-15T20:41:09.689Z"
   },
   {
    "duration": 8,
    "start_time": "2023-07-15T20:41:09.704Z"
   },
   {
    "duration": 19,
    "start_time": "2023-07-15T20:41:09.714Z"
   },
   {
    "duration": 39,
    "start_time": "2023-07-15T20:41:09.737Z"
   },
   {
    "duration": 11,
    "start_time": "2023-07-15T20:41:09.778Z"
   },
   {
    "duration": 24,
    "start_time": "2023-07-15T20:41:09.791Z"
   },
   {
    "duration": 24,
    "start_time": "2023-07-15T20:41:09.816Z"
   },
   {
    "duration": 11,
    "start_time": "2023-07-15T20:41:09.842Z"
   },
   {
    "duration": 10,
    "start_time": "2023-07-15T20:41:09.866Z"
   },
   {
    "duration": 10,
    "start_time": "2023-07-15T20:41:09.878Z"
   },
   {
    "duration": 23,
    "start_time": "2023-07-15T20:41:09.891Z"
   },
   {
    "duration": 6,
    "start_time": "2023-07-15T20:41:09.916Z"
   },
   {
    "duration": 31,
    "start_time": "2023-07-15T20:41:09.923Z"
   },
   {
    "duration": 29,
    "start_time": "2023-07-15T20:41:09.956Z"
   },
   {
    "duration": 5,
    "start_time": "2023-07-15T20:41:09.987Z"
   },
   {
    "duration": 24,
    "start_time": "2023-07-15T20:41:09.994Z"
   },
   {
    "duration": 33,
    "start_time": "2023-07-15T20:41:10.020Z"
   },
   {
    "duration": 30,
    "start_time": "2023-07-15T20:41:10.055Z"
   },
   {
    "duration": 36,
    "start_time": "2023-07-15T20:41:10.087Z"
   },
   {
    "duration": 17,
    "start_time": "2023-07-15T20:41:10.125Z"
   },
   {
    "duration": 10,
    "start_time": "2023-07-15T20:41:10.144Z"
   },
   {
    "duration": 18,
    "start_time": "2023-07-15T20:41:10.160Z"
   },
   {
    "duration": 14,
    "start_time": "2023-07-15T20:41:10.180Z"
   },
   {
    "duration": 12,
    "start_time": "2023-07-15T20:41:10.196Z"
   },
   {
    "duration": 20,
    "start_time": "2023-07-15T20:41:10.209Z"
   },
   {
    "duration": 325,
    "start_time": "2023-07-15T20:41:10.231Z"
   },
   {
    "duration": 37,
    "start_time": "2023-07-15T20:41:10.558Z"
   },
   {
    "duration": 4,
    "start_time": "2023-07-15T20:41:10.597Z"
   },
   {
    "duration": 23,
    "start_time": "2023-07-15T20:41:10.602Z"
   },
   {
    "duration": 40,
    "start_time": "2023-07-15T20:41:10.627Z"
   },
   {
    "duration": 5,
    "start_time": "2023-07-15T20:41:10.669Z"
   },
   {
    "duration": 37,
    "start_time": "2023-07-15T20:41:10.675Z"
   },
   {
    "duration": 217,
    "start_time": "2023-07-15T20:41:10.714Z"
   },
   {
    "duration": 12,
    "start_time": "2023-07-15T20:41:10.933Z"
   },
   {
    "duration": 9,
    "start_time": "2023-07-15T20:41:10.946Z"
   },
   {
    "duration": 27,
    "start_time": "2023-07-15T20:41:10.967Z"
   },
   {
    "duration": 1047,
    "start_time": "2023-07-15T20:41:10.996Z"
   },
   {
    "duration": 124,
    "start_time": "2023-07-15T20:41:12.045Z"
   },
   {
    "duration": 0,
    "start_time": "2023-07-15T20:41:12.171Z"
   },
   {
    "duration": 0,
    "start_time": "2023-07-15T20:41:12.172Z"
   },
   {
    "duration": 0,
    "start_time": "2023-07-15T20:41:12.173Z"
   },
   {
    "duration": 0,
    "start_time": "2023-07-15T20:41:12.174Z"
   },
   {
    "duration": 0,
    "start_time": "2023-07-15T20:41:12.175Z"
   },
   {
    "duration": 0,
    "start_time": "2023-07-15T20:41:12.177Z"
   },
   {
    "duration": 0,
    "start_time": "2023-07-15T20:41:12.178Z"
   },
   {
    "duration": 0,
    "start_time": "2023-07-15T20:41:12.179Z"
   },
   {
    "duration": 0,
    "start_time": "2023-07-15T20:41:12.180Z"
   },
   {
    "duration": 0,
    "start_time": "2023-07-15T20:41:12.181Z"
   },
   {
    "duration": 0,
    "start_time": "2023-07-15T20:41:12.182Z"
   },
   {
    "duration": 0,
    "start_time": "2023-07-15T20:41:12.184Z"
   },
   {
    "duration": 0,
    "start_time": "2023-07-15T20:41:12.185Z"
   },
   {
    "duration": 0,
    "start_time": "2023-07-15T20:41:12.187Z"
   },
   {
    "duration": 0,
    "start_time": "2023-07-15T20:41:12.188Z"
   },
   {
    "duration": 0,
    "start_time": "2023-07-15T20:41:12.189Z"
   },
   {
    "duration": 0,
    "start_time": "2023-07-15T20:41:12.190Z"
   },
   {
    "duration": 0,
    "start_time": "2023-07-15T20:41:12.192Z"
   },
   {
    "duration": 0,
    "start_time": "2023-07-15T20:41:12.192Z"
   },
   {
    "duration": 0,
    "start_time": "2023-07-15T20:41:12.193Z"
   },
   {
    "duration": 0,
    "start_time": "2023-07-15T20:41:12.194Z"
   },
   {
    "duration": 0,
    "start_time": "2023-07-15T20:41:12.196Z"
   },
   {
    "duration": 0,
    "start_time": "2023-07-15T20:41:12.196Z"
   },
   {
    "duration": 0,
    "start_time": "2023-07-15T20:41:12.197Z"
   },
   {
    "duration": 0,
    "start_time": "2023-07-15T20:41:12.198Z"
   },
   {
    "duration": 0,
    "start_time": "2023-07-15T20:41:12.200Z"
   },
   {
    "duration": 0,
    "start_time": "2023-07-15T20:41:12.201Z"
   },
   {
    "duration": 0,
    "start_time": "2023-07-15T20:41:12.202Z"
   },
   {
    "duration": 0,
    "start_time": "2023-07-15T20:41:12.203Z"
   },
   {
    "duration": 0,
    "start_time": "2023-07-15T20:41:12.204Z"
   },
   {
    "duration": 0,
    "start_time": "2023-07-15T20:41:12.205Z"
   },
   {
    "duration": 0,
    "start_time": "2023-07-15T20:41:12.206Z"
   },
   {
    "duration": 0,
    "start_time": "2023-07-15T20:41:12.207Z"
   },
   {
    "duration": 0,
    "start_time": "2023-07-15T20:41:12.269Z"
   },
   {
    "duration": 0,
    "start_time": "2023-07-15T20:41:12.270Z"
   },
   {
    "duration": 0,
    "start_time": "2023-07-15T20:41:12.271Z"
   },
   {
    "duration": 0,
    "start_time": "2023-07-15T20:41:12.272Z"
   },
   {
    "duration": 0,
    "start_time": "2023-07-15T20:41:12.272Z"
   },
   {
    "duration": 0,
    "start_time": "2023-07-15T20:41:12.273Z"
   },
   {
    "duration": 0,
    "start_time": "2023-07-15T20:41:12.274Z"
   },
   {
    "duration": 0,
    "start_time": "2023-07-15T20:41:12.274Z"
   },
   {
    "duration": 0,
    "start_time": "2023-07-15T20:41:12.275Z"
   },
   {
    "duration": 0,
    "start_time": "2023-07-15T20:41:12.277Z"
   },
   {
    "duration": 0,
    "start_time": "2023-07-15T20:41:12.278Z"
   },
   {
    "duration": 0,
    "start_time": "2023-07-15T20:41:12.279Z"
   },
   {
    "duration": 0,
    "start_time": "2023-07-15T20:41:12.281Z"
   },
   {
    "duration": 0,
    "start_time": "2023-07-15T20:41:12.282Z"
   },
   {
    "duration": 0,
    "start_time": "2023-07-15T20:41:12.283Z"
   },
   {
    "duration": 0,
    "start_time": "2023-07-15T20:41:12.284Z"
   },
   {
    "duration": 0,
    "start_time": "2023-07-15T20:41:12.285Z"
   },
   {
    "duration": 0,
    "start_time": "2023-07-15T20:41:12.286Z"
   },
   {
    "duration": 0,
    "start_time": "2023-07-15T20:41:12.287Z"
   },
   {
    "duration": 0,
    "start_time": "2023-07-15T20:41:12.289Z"
   },
   {
    "duration": 5,
    "start_time": "2023-07-15T20:41:24.294Z"
   },
   {
    "duration": 10,
    "start_time": "2023-07-15T20:42:04.250Z"
   },
   {
    "duration": 9,
    "start_time": "2023-07-15T20:42:15.003Z"
   },
   {
    "duration": 1401,
    "start_time": "2023-07-15T20:43:34.664Z"
   },
   {
    "duration": 60,
    "start_time": "2023-07-15T20:43:36.084Z"
   },
   {
    "duration": 217,
    "start_time": "2023-07-15T20:43:36.146Z"
   },
   {
    "duration": 35,
    "start_time": "2023-07-15T20:43:36.365Z"
   },
   {
    "duration": 23,
    "start_time": "2023-07-15T20:43:36.402Z"
   },
   {
    "duration": 49,
    "start_time": "2023-07-15T20:43:36.428Z"
   },
   {
    "duration": 19,
    "start_time": "2023-07-15T20:43:36.479Z"
   },
   {
    "duration": 7,
    "start_time": "2023-07-15T20:43:36.500Z"
   },
   {
    "duration": 24,
    "start_time": "2023-07-15T20:43:36.509Z"
   },
   {
    "duration": 5,
    "start_time": "2023-07-15T20:43:36.536Z"
   },
   {
    "duration": 13,
    "start_time": "2023-07-15T20:43:36.543Z"
   },
   {
    "duration": 31,
    "start_time": "2023-07-15T20:43:36.558Z"
   },
   {
    "duration": 25,
    "start_time": "2023-07-15T20:43:36.591Z"
   },
   {
    "duration": 11,
    "start_time": "2023-07-15T20:43:36.618Z"
   },
   {
    "duration": 40,
    "start_time": "2023-07-15T20:43:36.631Z"
   },
   {
    "duration": 11,
    "start_time": "2023-07-15T20:43:36.681Z"
   },
   {
    "duration": 22,
    "start_time": "2023-07-15T20:43:36.694Z"
   },
   {
    "duration": 5,
    "start_time": "2023-07-15T20:43:36.717Z"
   },
   {
    "duration": 23,
    "start_time": "2023-07-15T20:43:36.724Z"
   },
   {
    "duration": 19,
    "start_time": "2023-07-15T20:43:36.749Z"
   },
   {
    "duration": 7,
    "start_time": "2023-07-15T20:43:36.771Z"
   },
   {
    "duration": 45,
    "start_time": "2023-07-15T20:43:36.780Z"
   },
   {
    "duration": 75,
    "start_time": "2023-07-15T20:43:36.827Z"
   },
   {
    "duration": 15,
    "start_time": "2023-07-15T20:43:36.904Z"
   },
   {
    "duration": 14,
    "start_time": "2023-07-15T20:43:36.920Z"
   },
   {
    "duration": 26,
    "start_time": "2023-07-15T20:43:36.935Z"
   },
   {
    "duration": 29,
    "start_time": "2023-07-15T20:43:36.963Z"
   },
   {
    "duration": 45,
    "start_time": "2023-07-15T20:43:36.999Z"
   },
   {
    "duration": 17,
    "start_time": "2023-07-15T20:43:37.046Z"
   },
   {
    "duration": 26,
    "start_time": "2023-07-15T20:43:37.065Z"
   },
   {
    "duration": 30,
    "start_time": "2023-07-15T20:43:37.094Z"
   },
   {
    "duration": 324,
    "start_time": "2023-07-15T20:43:37.126Z"
   },
   {
    "duration": 36,
    "start_time": "2023-07-15T20:43:37.452Z"
   },
   {
    "duration": 30,
    "start_time": "2023-07-15T20:43:37.490Z"
   },
   {
    "duration": 23,
    "start_time": "2023-07-15T20:43:37.522Z"
   },
   {
    "duration": 47,
    "start_time": "2023-07-15T20:43:37.547Z"
   },
   {
    "duration": 5,
    "start_time": "2023-07-15T20:43:37.596Z"
   },
   {
    "duration": 38,
    "start_time": "2023-07-15T20:43:37.603Z"
   },
   {
    "duration": 244,
    "start_time": "2023-07-15T20:43:37.644Z"
   },
   {
    "duration": 14,
    "start_time": "2023-07-15T20:43:37.890Z"
   },
   {
    "duration": 16,
    "start_time": "2023-07-15T20:43:37.906Z"
   },
   {
    "duration": 34,
    "start_time": "2023-07-15T20:43:37.924Z"
   },
   {
    "duration": 1181,
    "start_time": "2023-07-15T20:43:37.960Z"
   },
   {
    "duration": 143,
    "start_time": "2023-07-15T20:43:39.143Z"
   },
   {
    "duration": 0,
    "start_time": "2023-07-15T20:43:39.296Z"
   },
   {
    "duration": 0,
    "start_time": "2023-07-15T20:43:39.297Z"
   },
   {
    "duration": 0,
    "start_time": "2023-07-15T20:43:39.300Z"
   },
   {
    "duration": 0,
    "start_time": "2023-07-15T20:43:39.305Z"
   },
   {
    "duration": 0,
    "start_time": "2023-07-15T20:43:39.306Z"
   },
   {
    "duration": 0,
    "start_time": "2023-07-15T20:43:39.307Z"
   },
   {
    "duration": 0,
    "start_time": "2023-07-15T20:43:39.309Z"
   },
   {
    "duration": 0,
    "start_time": "2023-07-15T20:43:39.310Z"
   },
   {
    "duration": 0,
    "start_time": "2023-07-15T20:43:39.311Z"
   },
   {
    "duration": 0,
    "start_time": "2023-07-15T20:43:39.312Z"
   },
   {
    "duration": 0,
    "start_time": "2023-07-15T20:43:39.312Z"
   },
   {
    "duration": 0,
    "start_time": "2023-07-15T20:43:39.314Z"
   },
   {
    "duration": 0,
    "start_time": "2023-07-15T20:43:39.315Z"
   },
   {
    "duration": 0,
    "start_time": "2023-07-15T20:43:39.315Z"
   },
   {
    "duration": 0,
    "start_time": "2023-07-15T20:43:39.316Z"
   },
   {
    "duration": 0,
    "start_time": "2023-07-15T20:43:39.317Z"
   },
   {
    "duration": 0,
    "start_time": "2023-07-15T20:43:39.324Z"
   },
   {
    "duration": 0,
    "start_time": "2023-07-15T20:43:39.326Z"
   },
   {
    "duration": 0,
    "start_time": "2023-07-15T20:43:39.327Z"
   },
   {
    "duration": 0,
    "start_time": "2023-07-15T20:43:39.328Z"
   },
   {
    "duration": 0,
    "start_time": "2023-07-15T20:43:39.329Z"
   },
   {
    "duration": 0,
    "start_time": "2023-07-15T20:43:39.331Z"
   },
   {
    "duration": 0,
    "start_time": "2023-07-15T20:43:39.332Z"
   },
   {
    "duration": 0,
    "start_time": "2023-07-15T20:43:39.334Z"
   },
   {
    "duration": 0,
    "start_time": "2023-07-15T20:43:39.335Z"
   },
   {
    "duration": 0,
    "start_time": "2023-07-15T20:43:39.337Z"
   },
   {
    "duration": 0,
    "start_time": "2023-07-15T20:43:39.373Z"
   },
   {
    "duration": 0,
    "start_time": "2023-07-15T20:43:39.374Z"
   },
   {
    "duration": 0,
    "start_time": "2023-07-15T20:43:39.378Z"
   },
   {
    "duration": 0,
    "start_time": "2023-07-15T20:43:39.379Z"
   },
   {
    "duration": 0,
    "start_time": "2023-07-15T20:43:39.381Z"
   },
   {
    "duration": 0,
    "start_time": "2023-07-15T20:43:39.383Z"
   },
   {
    "duration": 0,
    "start_time": "2023-07-15T20:43:39.385Z"
   },
   {
    "duration": 0,
    "start_time": "2023-07-15T20:43:39.387Z"
   },
   {
    "duration": 0,
    "start_time": "2023-07-15T20:43:39.389Z"
   },
   {
    "duration": 0,
    "start_time": "2023-07-15T20:43:39.391Z"
   },
   {
    "duration": 0,
    "start_time": "2023-07-15T20:43:39.394Z"
   },
   {
    "duration": 0,
    "start_time": "2023-07-15T20:43:39.395Z"
   },
   {
    "duration": 0,
    "start_time": "2023-07-15T20:43:39.396Z"
   },
   {
    "duration": 0,
    "start_time": "2023-07-15T20:43:39.398Z"
   },
   {
    "duration": 0,
    "start_time": "2023-07-15T20:43:39.400Z"
   },
   {
    "duration": 0,
    "start_time": "2023-07-15T20:43:39.401Z"
   },
   {
    "duration": 0,
    "start_time": "2023-07-15T20:43:39.402Z"
   },
   {
    "duration": 0,
    "start_time": "2023-07-15T20:43:39.403Z"
   },
   {
    "duration": 0,
    "start_time": "2023-07-15T20:43:39.404Z"
   },
   {
    "duration": 0,
    "start_time": "2023-07-15T20:43:39.405Z"
   },
   {
    "duration": 0,
    "start_time": "2023-07-15T20:43:39.407Z"
   },
   {
    "duration": 0,
    "start_time": "2023-07-15T20:43:39.408Z"
   },
   {
    "duration": 0,
    "start_time": "2023-07-15T20:43:39.409Z"
   },
   {
    "duration": 0,
    "start_time": "2023-07-15T20:43:39.410Z"
   },
   {
    "duration": 0,
    "start_time": "2023-07-15T20:43:39.412Z"
   },
   {
    "duration": 0,
    "start_time": "2023-07-15T20:43:39.413Z"
   },
   {
    "duration": 0,
    "start_time": "2023-07-15T20:43:39.414Z"
   },
   {
    "duration": 5,
    "start_time": "2023-07-15T20:44:03.642Z"
   },
   {
    "duration": 4,
    "start_time": "2023-07-15T20:44:13.847Z"
   },
   {
    "duration": 5,
    "start_time": "2023-07-15T20:44:14.788Z"
   },
   {
    "duration": 1411,
    "start_time": "2023-07-15T20:44:43.868Z"
   },
   {
    "duration": 58,
    "start_time": "2023-07-15T20:44:45.281Z"
   },
   {
    "duration": 191,
    "start_time": "2023-07-15T20:44:45.341Z"
   },
   {
    "duration": 19,
    "start_time": "2023-07-15T20:44:45.535Z"
   },
   {
    "duration": 39,
    "start_time": "2023-07-15T20:44:45.556Z"
   },
   {
    "duration": 22,
    "start_time": "2023-07-15T20:44:45.597Z"
   },
   {
    "duration": 11,
    "start_time": "2023-07-15T20:44:45.621Z"
   },
   {
    "duration": 34,
    "start_time": "2023-07-15T20:44:45.634Z"
   },
   {
    "duration": 19,
    "start_time": "2023-07-15T20:44:45.670Z"
   },
   {
    "duration": 6,
    "start_time": "2023-07-15T20:44:45.693Z"
   },
   {
    "duration": 11,
    "start_time": "2023-07-15T20:44:45.701Z"
   },
   {
    "duration": 19,
    "start_time": "2023-07-15T20:44:45.714Z"
   },
   {
    "duration": 48,
    "start_time": "2023-07-15T20:44:45.735Z"
   },
   {
    "duration": 11,
    "start_time": "2023-07-15T20:44:45.785Z"
   },
   {
    "duration": 19,
    "start_time": "2023-07-15T20:44:45.798Z"
   },
   {
    "duration": 12,
    "start_time": "2023-07-15T20:44:45.819Z"
   },
   {
    "duration": 15,
    "start_time": "2023-07-15T20:44:45.833Z"
   },
   {
    "duration": 21,
    "start_time": "2023-07-15T20:44:45.850Z"
   },
   {
    "duration": 25,
    "start_time": "2023-07-15T20:44:45.873Z"
   },
   {
    "duration": 17,
    "start_time": "2023-07-15T20:44:45.900Z"
   },
   {
    "duration": 5,
    "start_time": "2023-07-15T20:44:45.919Z"
   },
   {
    "duration": 7,
    "start_time": "2023-07-15T20:44:45.925Z"
   },
   {
    "duration": 46,
    "start_time": "2023-07-15T20:44:45.934Z"
   },
   {
    "duration": 12,
    "start_time": "2023-07-15T20:44:45.983Z"
   },
   {
    "duration": 12,
    "start_time": "2023-07-15T20:44:45.997Z"
   },
   {
    "duration": 22,
    "start_time": "2023-07-15T20:44:46.012Z"
   },
   {
    "duration": 42,
    "start_time": "2023-07-15T20:44:46.036Z"
   },
   {
    "duration": 22,
    "start_time": "2023-07-15T20:44:46.086Z"
   },
   {
    "duration": 13,
    "start_time": "2023-07-15T20:44:46.109Z"
   },
   {
    "duration": 35,
    "start_time": "2023-07-15T20:44:46.124Z"
   },
   {
    "duration": 29,
    "start_time": "2023-07-15T20:44:46.161Z"
   },
   {
    "duration": 317,
    "start_time": "2023-07-15T20:44:46.192Z"
   },
   {
    "duration": 28,
    "start_time": "2023-07-15T20:44:46.511Z"
   },
   {
    "duration": 4,
    "start_time": "2023-07-15T20:44:46.541Z"
   },
   {
    "duration": 54,
    "start_time": "2023-07-15T20:44:46.546Z"
   },
   {
    "duration": 31,
    "start_time": "2023-07-15T20:44:46.602Z"
   },
   {
    "duration": 5,
    "start_time": "2023-07-15T20:44:46.634Z"
   },
   {
    "duration": 40,
    "start_time": "2023-07-15T20:44:46.641Z"
   },
   {
    "duration": 216,
    "start_time": "2023-07-15T20:44:46.683Z"
   },
   {
    "duration": 14,
    "start_time": "2023-07-15T20:44:46.900Z"
   },
   {
    "duration": 9,
    "start_time": "2023-07-15T20:44:46.915Z"
   },
   {
    "duration": 7,
    "start_time": "2023-07-15T20:44:46.926Z"
   },
   {
    "duration": 1066,
    "start_time": "2023-07-15T20:44:46.935Z"
   },
   {
    "duration": 132,
    "start_time": "2023-07-15T20:44:48.003Z"
   },
   {
    "duration": 0,
    "start_time": "2023-07-15T20:44:48.137Z"
   },
   {
    "duration": 0,
    "start_time": "2023-07-15T20:44:48.139Z"
   },
   {
    "duration": 0,
    "start_time": "2023-07-15T20:44:48.140Z"
   },
   {
    "duration": 0,
    "start_time": "2023-07-15T20:44:48.141Z"
   },
   {
    "duration": 0,
    "start_time": "2023-07-15T20:44:48.142Z"
   },
   {
    "duration": 0,
    "start_time": "2023-07-15T20:44:48.143Z"
   },
   {
    "duration": 0,
    "start_time": "2023-07-15T20:44:48.146Z"
   },
   {
    "duration": 0,
    "start_time": "2023-07-15T20:44:48.148Z"
   },
   {
    "duration": 0,
    "start_time": "2023-07-15T20:44:48.149Z"
   },
   {
    "duration": 0,
    "start_time": "2023-07-15T20:44:48.167Z"
   },
   {
    "duration": 0,
    "start_time": "2023-07-15T20:44:48.169Z"
   },
   {
    "duration": 0,
    "start_time": "2023-07-15T20:44:48.170Z"
   },
   {
    "duration": 0,
    "start_time": "2023-07-15T20:44:48.172Z"
   },
   {
    "duration": 0,
    "start_time": "2023-07-15T20:44:48.173Z"
   },
   {
    "duration": 0,
    "start_time": "2023-07-15T20:44:48.175Z"
   },
   {
    "duration": 0,
    "start_time": "2023-07-15T20:44:48.176Z"
   },
   {
    "duration": 0,
    "start_time": "2023-07-15T20:44:48.177Z"
   },
   {
    "duration": 0,
    "start_time": "2023-07-15T20:44:48.178Z"
   },
   {
    "duration": 0,
    "start_time": "2023-07-15T20:44:48.180Z"
   },
   {
    "duration": 1,
    "start_time": "2023-07-15T20:44:48.181Z"
   },
   {
    "duration": 0,
    "start_time": "2023-07-15T20:44:48.183Z"
   },
   {
    "duration": 0,
    "start_time": "2023-07-15T20:44:48.184Z"
   },
   {
    "duration": 0,
    "start_time": "2023-07-15T20:44:48.185Z"
   },
   {
    "duration": 0,
    "start_time": "2023-07-15T20:44:48.186Z"
   },
   {
    "duration": 0,
    "start_time": "2023-07-15T20:44:48.188Z"
   },
   {
    "duration": 0,
    "start_time": "2023-07-15T20:44:48.189Z"
   },
   {
    "duration": 0,
    "start_time": "2023-07-15T20:44:48.190Z"
   },
   {
    "duration": 0,
    "start_time": "2023-07-15T20:44:48.191Z"
   },
   {
    "duration": 0,
    "start_time": "2023-07-15T20:44:48.193Z"
   },
   {
    "duration": 0,
    "start_time": "2023-07-15T20:44:48.194Z"
   },
   {
    "duration": 0,
    "start_time": "2023-07-15T20:44:48.195Z"
   },
   {
    "duration": 0,
    "start_time": "2023-07-15T20:44:48.196Z"
   },
   {
    "duration": 0,
    "start_time": "2023-07-15T20:44:48.197Z"
   },
   {
    "duration": 0,
    "start_time": "2023-07-15T20:44:48.198Z"
   },
   {
    "duration": 0,
    "start_time": "2023-07-15T20:44:48.199Z"
   },
   {
    "duration": 0,
    "start_time": "2023-07-15T20:44:48.200Z"
   },
   {
    "duration": 0,
    "start_time": "2023-07-15T20:44:48.202Z"
   },
   {
    "duration": 0,
    "start_time": "2023-07-15T20:44:48.203Z"
   },
   {
    "duration": 0,
    "start_time": "2023-07-15T20:44:48.205Z"
   },
   {
    "duration": 0,
    "start_time": "2023-07-15T20:44:48.205Z"
   },
   {
    "duration": 0,
    "start_time": "2023-07-15T20:44:48.206Z"
   },
   {
    "duration": 0,
    "start_time": "2023-07-15T20:44:48.268Z"
   },
   {
    "duration": 0,
    "start_time": "2023-07-15T20:44:48.269Z"
   },
   {
    "duration": 0,
    "start_time": "2023-07-15T20:44:48.270Z"
   },
   {
    "duration": 0,
    "start_time": "2023-07-15T20:44:48.271Z"
   },
   {
    "duration": 0,
    "start_time": "2023-07-15T20:44:48.273Z"
   },
   {
    "duration": 0,
    "start_time": "2023-07-15T20:44:48.274Z"
   },
   {
    "duration": 0,
    "start_time": "2023-07-15T20:44:48.275Z"
   },
   {
    "duration": 0,
    "start_time": "2023-07-15T20:44:48.276Z"
   },
   {
    "duration": 0,
    "start_time": "2023-07-15T20:44:48.278Z"
   },
   {
    "duration": 0,
    "start_time": "2023-07-15T20:44:48.279Z"
   },
   {
    "duration": 0,
    "start_time": "2023-07-15T20:44:48.280Z"
   },
   {
    "duration": 0,
    "start_time": "2023-07-15T20:44:48.282Z"
   },
   {
    "duration": 1322,
    "start_time": "2023-07-15T20:45:21.999Z"
   },
   {
    "duration": 58,
    "start_time": "2023-07-15T20:45:23.323Z"
   },
   {
    "duration": 362,
    "start_time": "2023-07-15T20:45:23.383Z"
   },
   {
    "duration": 23,
    "start_time": "2023-07-15T20:45:23.748Z"
   },
   {
    "duration": 28,
    "start_time": "2023-07-15T20:45:23.774Z"
   },
   {
    "duration": 27,
    "start_time": "2023-07-15T20:45:23.805Z"
   },
   {
    "duration": 39,
    "start_time": "2023-07-15T20:45:23.835Z"
   },
   {
    "duration": 10,
    "start_time": "2023-07-15T20:45:23.876Z"
   },
   {
    "duration": 20,
    "start_time": "2023-07-15T20:45:23.888Z"
   },
   {
    "duration": 11,
    "start_time": "2023-07-15T20:45:23.913Z"
   },
   {
    "duration": 31,
    "start_time": "2023-07-15T20:45:23.926Z"
   },
   {
    "duration": 24,
    "start_time": "2023-07-15T20:45:23.966Z"
   },
   {
    "duration": 29,
    "start_time": "2023-07-15T20:45:23.993Z"
   },
   {
    "duration": 15,
    "start_time": "2023-07-15T20:45:24.025Z"
   },
   {
    "duration": 13,
    "start_time": "2023-07-15T20:45:24.066Z"
   },
   {
    "duration": 11,
    "start_time": "2023-07-15T20:45:24.081Z"
   },
   {
    "duration": 19,
    "start_time": "2023-07-15T20:45:24.095Z"
   },
   {
    "duration": 7,
    "start_time": "2023-07-15T20:45:24.116Z"
   },
   {
    "duration": 51,
    "start_time": "2023-07-15T20:45:24.125Z"
   },
   {
    "duration": 23,
    "start_time": "2023-07-15T20:45:24.178Z"
   },
   {
    "duration": 8,
    "start_time": "2023-07-15T20:45:24.204Z"
   },
   {
    "duration": 7,
    "start_time": "2023-07-15T20:45:24.214Z"
   },
   {
    "duration": 55,
    "start_time": "2023-07-15T20:45:24.224Z"
   },
   {
    "duration": 12,
    "start_time": "2023-07-15T20:45:24.281Z"
   },
   {
    "duration": 13,
    "start_time": "2023-07-15T20:45:24.295Z"
   },
   {
    "duration": 15,
    "start_time": "2023-07-15T20:45:24.310Z"
   },
   {
    "duration": 9,
    "start_time": "2023-07-15T20:45:24.327Z"
   },
   {
    "duration": 20,
    "start_time": "2023-07-15T20:45:24.367Z"
   },
   {
    "duration": 14,
    "start_time": "2023-07-15T20:45:24.389Z"
   },
   {
    "duration": 14,
    "start_time": "2023-07-15T20:45:24.405Z"
   },
   {
    "duration": 51,
    "start_time": "2023-07-15T20:45:24.421Z"
   },
   {
    "duration": 318,
    "start_time": "2023-07-15T20:45:24.474Z"
   },
   {
    "duration": 25,
    "start_time": "2023-07-15T20:45:24.794Z"
   },
   {
    "duration": 3,
    "start_time": "2023-07-15T20:45:24.821Z"
   },
   {
    "duration": 44,
    "start_time": "2023-07-15T20:45:24.826Z"
   },
   {
    "duration": 33,
    "start_time": "2023-07-15T20:45:24.876Z"
   },
   {
    "duration": 5,
    "start_time": "2023-07-15T20:45:24.910Z"
   },
   {
    "duration": 50,
    "start_time": "2023-07-15T20:45:24.917Z"
   },
   {
    "duration": 211,
    "start_time": "2023-07-15T20:45:24.969Z"
   },
   {
    "duration": 13,
    "start_time": "2023-07-15T20:45:25.184Z"
   },
   {
    "duration": 10,
    "start_time": "2023-07-15T20:45:25.199Z"
   },
   {
    "duration": 8,
    "start_time": "2023-07-15T20:45:25.211Z"
   },
   {
    "duration": 5687,
    "start_time": "2023-07-15T20:45:25.220Z"
   },
   {
    "duration": 93,
    "start_time": "2023-07-15T20:45:30.909Z"
   },
   {
    "duration": 64,
    "start_time": "2023-07-15T20:45:31.004Z"
   },
   {
    "duration": 26,
    "start_time": "2023-07-15T20:45:31.070Z"
   },
   {
    "duration": 70,
    "start_time": "2023-07-15T20:45:31.098Z"
   },
   {
    "duration": 32,
    "start_time": "2023-07-15T20:45:31.170Z"
   },
   {
    "duration": 86,
    "start_time": "2023-07-15T20:45:31.205Z"
   },
   {
    "duration": 175,
    "start_time": "2023-07-15T20:45:31.294Z"
   },
   {
    "duration": 923,
    "start_time": "2023-07-15T20:45:31.472Z"
   },
   {
    "duration": 5,
    "start_time": "2023-07-15T20:45:32.397Z"
   },
   {
    "duration": 88,
    "start_time": "2023-07-15T20:45:32.404Z"
   },
   {
    "duration": 89,
    "start_time": "2023-07-15T20:45:32.494Z"
   },
   {
    "duration": 367,
    "start_time": "2023-07-15T20:45:32.585Z"
   },
   {
    "duration": 36,
    "start_time": "2023-07-15T20:45:32.954Z"
   },
   {
    "duration": 43,
    "start_time": "2023-07-15T20:45:32.992Z"
   },
   {
    "duration": 30,
    "start_time": "2023-07-15T20:45:33.037Z"
   },
   {
    "duration": 136,
    "start_time": "2023-07-15T20:45:33.069Z"
   },
   {
    "duration": 0,
    "start_time": "2023-07-15T20:45:33.207Z"
   },
   {
    "duration": 0,
    "start_time": "2023-07-15T20:45:33.209Z"
   },
   {
    "duration": 0,
    "start_time": "2023-07-15T20:45:33.210Z"
   },
   {
    "duration": 0,
    "start_time": "2023-07-15T20:45:33.211Z"
   },
   {
    "duration": 0,
    "start_time": "2023-07-15T20:45:33.212Z"
   },
   {
    "duration": 0,
    "start_time": "2023-07-15T20:45:33.214Z"
   },
   {
    "duration": 1,
    "start_time": "2023-07-15T20:45:33.214Z"
   },
   {
    "duration": 0,
    "start_time": "2023-07-15T20:45:33.216Z"
   },
   {
    "duration": 0,
    "start_time": "2023-07-15T20:45:33.217Z"
   },
   {
    "duration": 0,
    "start_time": "2023-07-15T20:45:33.218Z"
   },
   {
    "duration": 0,
    "start_time": "2023-07-15T20:45:33.219Z"
   },
   {
    "duration": 0,
    "start_time": "2023-07-15T20:45:33.220Z"
   },
   {
    "duration": 0,
    "start_time": "2023-07-15T20:45:33.221Z"
   },
   {
    "duration": 0,
    "start_time": "2023-07-15T20:45:33.222Z"
   },
   {
    "duration": 0,
    "start_time": "2023-07-15T20:45:33.224Z"
   },
   {
    "duration": 0,
    "start_time": "2023-07-15T20:45:33.225Z"
   },
   {
    "duration": 0,
    "start_time": "2023-07-15T20:45:33.227Z"
   },
   {
    "duration": 0,
    "start_time": "2023-07-15T20:45:33.267Z"
   },
   {
    "duration": 0,
    "start_time": "2023-07-15T20:45:33.268Z"
   },
   {
    "duration": 0,
    "start_time": "2023-07-15T20:45:33.269Z"
   },
   {
    "duration": 0,
    "start_time": "2023-07-15T20:45:33.271Z"
   },
   {
    "duration": 0,
    "start_time": "2023-07-15T20:45:33.272Z"
   },
   {
    "duration": 0,
    "start_time": "2023-07-15T20:45:33.273Z"
   },
   {
    "duration": 0,
    "start_time": "2023-07-15T20:45:33.274Z"
   },
   {
    "duration": 0,
    "start_time": "2023-07-15T20:45:33.275Z"
   },
   {
    "duration": 0,
    "start_time": "2023-07-15T20:45:33.276Z"
   },
   {
    "duration": 0,
    "start_time": "2023-07-15T20:45:33.278Z"
   },
   {
    "duration": 0,
    "start_time": "2023-07-15T20:45:33.279Z"
   },
   {
    "duration": 0,
    "start_time": "2023-07-15T20:45:33.280Z"
   },
   {
    "duration": 0,
    "start_time": "2023-07-15T20:45:33.282Z"
   },
   {
    "duration": 0,
    "start_time": "2023-07-15T20:45:33.283Z"
   },
   {
    "duration": 0,
    "start_time": "2023-07-15T20:45:33.284Z"
   },
   {
    "duration": 0,
    "start_time": "2023-07-15T20:45:33.285Z"
   },
   {
    "duration": 0,
    "start_time": "2023-07-15T20:45:33.286Z"
   },
   {
    "duration": 0,
    "start_time": "2023-07-15T20:45:33.287Z"
   },
   {
    "duration": 0,
    "start_time": "2023-07-15T20:45:33.289Z"
   },
   {
    "duration": 0,
    "start_time": "2023-07-15T20:45:33.290Z"
   },
   {
    "duration": 0,
    "start_time": "2023-07-15T20:45:33.292Z"
   },
   {
    "duration": 119,
    "start_time": "2023-07-15T20:46:14.838Z"
   },
   {
    "duration": 4,
    "start_time": "2023-07-15T20:47:06.156Z"
   },
   {
    "duration": 1307,
    "start_time": "2023-07-15T20:47:55.954Z"
   },
   {
    "duration": 55,
    "start_time": "2023-07-15T20:47:57.263Z"
   },
   {
    "duration": 155,
    "start_time": "2023-07-15T20:47:57.319Z"
   },
   {
    "duration": 20,
    "start_time": "2023-07-15T20:47:57.476Z"
   },
   {
    "duration": 23,
    "start_time": "2023-07-15T20:47:57.498Z"
   },
   {
    "duration": 21,
    "start_time": "2023-07-15T20:47:57.523Z"
   },
   {
    "duration": 39,
    "start_time": "2023-07-15T20:47:57.546Z"
   },
   {
    "duration": 7,
    "start_time": "2023-07-15T20:47:57.587Z"
   },
   {
    "duration": 27,
    "start_time": "2023-07-15T20:47:57.596Z"
   },
   {
    "duration": 16,
    "start_time": "2023-07-15T20:47:57.626Z"
   },
   {
    "duration": 8,
    "start_time": "2023-07-15T20:47:57.644Z"
   },
   {
    "duration": 30,
    "start_time": "2023-07-15T20:47:57.654Z"
   },
   {
    "duration": 24,
    "start_time": "2023-07-15T20:47:57.686Z"
   },
   {
    "duration": 11,
    "start_time": "2023-07-15T20:47:57.712Z"
   },
   {
    "duration": 13,
    "start_time": "2023-07-15T20:47:57.725Z"
   },
   {
    "duration": 34,
    "start_time": "2023-07-15T20:47:57.740Z"
   },
   {
    "duration": 16,
    "start_time": "2023-07-15T20:47:57.777Z"
   },
   {
    "duration": 5,
    "start_time": "2023-07-15T20:47:57.795Z"
   },
   {
    "duration": 11,
    "start_time": "2023-07-15T20:47:57.802Z"
   },
   {
    "duration": 17,
    "start_time": "2023-07-15T20:47:57.815Z"
   },
   {
    "duration": 44,
    "start_time": "2023-07-15T20:47:57.833Z"
   },
   {
    "duration": 19,
    "start_time": "2023-07-15T20:47:57.882Z"
   },
   {
    "duration": 34,
    "start_time": "2023-07-15T20:47:57.903Z"
   },
   {
    "duration": 11,
    "start_time": "2023-07-15T20:47:57.938Z"
   },
   {
    "duration": 16,
    "start_time": "2023-07-15T20:47:57.951Z"
   },
   {
    "duration": 38,
    "start_time": "2023-07-15T20:47:57.969Z"
   },
   {
    "duration": 21,
    "start_time": "2023-07-15T20:47:58.009Z"
   },
   {
    "duration": 15,
    "start_time": "2023-07-15T20:47:58.036Z"
   },
   {
    "duration": 15,
    "start_time": "2023-07-15T20:47:58.053Z"
   },
   {
    "duration": 15,
    "start_time": "2023-07-15T20:47:58.070Z"
   },
   {
    "duration": 28,
    "start_time": "2023-07-15T20:47:58.087Z"
   },
   {
    "duration": 314,
    "start_time": "2023-07-15T20:47:58.116Z"
   },
   {
    "duration": 35,
    "start_time": "2023-07-15T20:47:58.432Z"
   },
   {
    "duration": 5,
    "start_time": "2023-07-15T20:47:58.469Z"
   },
   {
    "duration": 20,
    "start_time": "2023-07-15T20:47:58.476Z"
   },
   {
    "duration": 33,
    "start_time": "2023-07-15T20:47:58.498Z"
   },
   {
    "duration": 69,
    "start_time": "2023-07-15T20:47:58.533Z"
   },
   {
    "duration": 222,
    "start_time": "2023-07-15T20:47:58.604Z"
   },
   {
    "duration": 15,
    "start_time": "2023-07-15T20:47:58.829Z"
   },
   {
    "duration": 5,
    "start_time": "2023-07-15T20:47:58.847Z"
   },
   {
    "duration": 4,
    "start_time": "2023-07-15T20:47:58.868Z"
   },
   {
    "duration": 26,
    "start_time": "2023-07-15T20:47:58.875Z"
   },
   {
    "duration": 5905,
    "start_time": "2023-07-15T20:47:58.903Z"
   },
   {
    "duration": 78,
    "start_time": "2023-07-15T20:48:04.811Z"
   },
   {
    "duration": 15,
    "start_time": "2023-07-15T20:48:04.896Z"
   },
   {
    "duration": 64,
    "start_time": "2023-07-15T20:48:04.913Z"
   },
   {
    "duration": 36,
    "start_time": "2023-07-15T20:48:04.979Z"
   },
   {
    "duration": 8,
    "start_time": "2023-07-15T20:48:05.017Z"
   },
   {
    "duration": 65,
    "start_time": "2023-07-15T20:48:05.026Z"
   },
   {
    "duration": 96,
    "start_time": "2023-07-15T20:48:05.093Z"
   },
   {
    "duration": 797,
    "start_time": "2023-07-15T20:48:05.191Z"
   },
   {
    "duration": 6,
    "start_time": "2023-07-15T20:48:05.990Z"
   },
   {
    "duration": 16,
    "start_time": "2023-07-15T20:48:05.997Z"
   },
   {
    "duration": 44,
    "start_time": "2023-07-15T20:48:06.066Z"
   },
   {
    "duration": 773,
    "start_time": "2023-07-15T20:48:06.112Z"
   },
   {
    "duration": 25,
    "start_time": "2023-07-15T20:48:06.888Z"
   },
   {
    "duration": 42,
    "start_time": "2023-07-15T20:48:06.968Z"
   },
   {
    "duration": 20,
    "start_time": "2023-07-15T20:48:07.066Z"
   },
   {
    "duration": 143,
    "start_time": "2023-07-15T20:48:07.088Z"
   },
   {
    "duration": 0,
    "start_time": "2023-07-15T20:48:07.234Z"
   },
   {
    "duration": 0,
    "start_time": "2023-07-15T20:48:07.235Z"
   },
   {
    "duration": 0,
    "start_time": "2023-07-15T20:48:07.237Z"
   },
   {
    "duration": 0,
    "start_time": "2023-07-15T20:48:07.239Z"
   },
   {
    "duration": 0,
    "start_time": "2023-07-15T20:48:07.240Z"
   },
   {
    "duration": 0,
    "start_time": "2023-07-15T20:48:07.241Z"
   },
   {
    "duration": 0,
    "start_time": "2023-07-15T20:48:07.243Z"
   },
   {
    "duration": 0,
    "start_time": "2023-07-15T20:48:07.267Z"
   },
   {
    "duration": 0,
    "start_time": "2023-07-15T20:48:07.269Z"
   },
   {
    "duration": 0,
    "start_time": "2023-07-15T20:48:07.271Z"
   },
   {
    "duration": 0,
    "start_time": "2023-07-15T20:48:07.271Z"
   },
   {
    "duration": 0,
    "start_time": "2023-07-15T20:48:07.273Z"
   },
   {
    "duration": 0,
    "start_time": "2023-07-15T20:48:07.274Z"
   },
   {
    "duration": 0,
    "start_time": "2023-07-15T20:48:07.276Z"
   },
   {
    "duration": 0,
    "start_time": "2023-07-15T20:48:07.277Z"
   },
   {
    "duration": 0,
    "start_time": "2023-07-15T20:48:07.278Z"
   },
   {
    "duration": 0,
    "start_time": "2023-07-15T20:48:07.279Z"
   },
   {
    "duration": 0,
    "start_time": "2023-07-15T20:48:07.281Z"
   },
   {
    "duration": 0,
    "start_time": "2023-07-15T20:48:07.283Z"
   },
   {
    "duration": 0,
    "start_time": "2023-07-15T20:48:07.284Z"
   },
   {
    "duration": 0,
    "start_time": "2023-07-15T20:48:07.286Z"
   },
   {
    "duration": 0,
    "start_time": "2023-07-15T20:48:07.287Z"
   },
   {
    "duration": 0,
    "start_time": "2023-07-15T20:48:07.288Z"
   },
   {
    "duration": 0,
    "start_time": "2023-07-15T20:48:07.289Z"
   },
   {
    "duration": 0,
    "start_time": "2023-07-15T20:48:07.290Z"
   },
   {
    "duration": 0,
    "start_time": "2023-07-15T20:48:07.291Z"
   },
   {
    "duration": 0,
    "start_time": "2023-07-15T20:48:07.293Z"
   },
   {
    "duration": 0,
    "start_time": "2023-07-15T20:48:07.294Z"
   },
   {
    "duration": 0,
    "start_time": "2023-07-15T20:48:07.295Z"
   },
   {
    "duration": 0,
    "start_time": "2023-07-15T20:48:07.296Z"
   },
   {
    "duration": 0,
    "start_time": "2023-07-15T20:48:07.297Z"
   },
   {
    "duration": 0,
    "start_time": "2023-07-15T20:48:07.299Z"
   },
   {
    "duration": 0,
    "start_time": "2023-07-15T20:48:07.300Z"
   },
   {
    "duration": 0,
    "start_time": "2023-07-15T20:48:07.301Z"
   },
   {
    "duration": 0,
    "start_time": "2023-07-15T20:48:07.302Z"
   },
   {
    "duration": 0,
    "start_time": "2023-07-15T20:48:07.303Z"
   },
   {
    "duration": 0,
    "start_time": "2023-07-15T20:48:07.304Z"
   },
   {
    "duration": 0,
    "start_time": "2023-07-15T20:48:07.305Z"
   },
   {
    "duration": 5,
    "start_time": "2023-07-15T20:48:46.642Z"
   },
   {
    "duration": 5,
    "start_time": "2023-07-15T20:48:57.734Z"
   },
   {
    "duration": 4,
    "start_time": "2023-07-15T20:49:08.406Z"
   },
   {
    "duration": 34,
    "start_time": "2023-07-15T20:51:29.233Z"
   },
   {
    "duration": 38,
    "start_time": "2023-07-15T20:52:23.175Z"
   },
   {
    "duration": 189,
    "start_time": "2023-07-15T20:52:27.584Z"
   },
   {
    "duration": 299,
    "start_time": "2023-07-15T20:53:58.038Z"
   },
   {
    "duration": 215,
    "start_time": "2023-07-15T20:55:06.115Z"
   },
   {
    "duration": 1367,
    "start_time": "2023-07-15T20:55:33.145Z"
   },
   {
    "duration": 63,
    "start_time": "2023-07-15T20:55:34.514Z"
   },
   {
    "duration": 340,
    "start_time": "2023-07-15T20:55:34.579Z"
   },
   {
    "duration": 22,
    "start_time": "2023-07-15T20:55:34.921Z"
   },
   {
    "duration": 50,
    "start_time": "2023-07-15T20:55:34.945Z"
   },
   {
    "duration": 34,
    "start_time": "2023-07-15T20:55:34.997Z"
   },
   {
    "duration": 14,
    "start_time": "2023-07-15T20:55:35.033Z"
   },
   {
    "duration": 8,
    "start_time": "2023-07-15T20:55:35.067Z"
   },
   {
    "duration": 25,
    "start_time": "2023-07-15T20:55:35.076Z"
   },
   {
    "duration": 6,
    "start_time": "2023-07-15T20:55:35.104Z"
   },
   {
    "duration": 10,
    "start_time": "2023-07-15T20:55:35.111Z"
   },
   {
    "duration": 25,
    "start_time": "2023-07-15T20:55:35.122Z"
   },
   {
    "duration": 35,
    "start_time": "2023-07-15T20:55:35.149Z"
   },
   {
    "duration": 12,
    "start_time": "2023-07-15T20:55:35.186Z"
   },
   {
    "duration": 24,
    "start_time": "2023-07-15T20:55:35.200Z"
   },
   {
    "duration": 10,
    "start_time": "2023-07-15T20:55:35.226Z"
   },
   {
    "duration": 25,
    "start_time": "2023-07-15T20:55:35.237Z"
   },
   {
    "duration": 15,
    "start_time": "2023-07-15T20:55:35.267Z"
   },
   {
    "duration": 43,
    "start_time": "2023-07-15T20:55:35.284Z"
   },
   {
    "duration": 50,
    "start_time": "2023-07-15T20:55:35.328Z"
   },
   {
    "duration": 5,
    "start_time": "2023-07-15T20:55:35.380Z"
   },
   {
    "duration": 7,
    "start_time": "2023-07-15T20:55:35.387Z"
   },
   {
    "duration": 22,
    "start_time": "2023-07-15T20:55:35.396Z"
   },
   {
    "duration": 14,
    "start_time": "2023-07-15T20:55:35.421Z"
   },
   {
    "duration": 43,
    "start_time": "2023-07-15T20:55:35.437Z"
   },
   {
    "duration": 23,
    "start_time": "2023-07-15T20:55:35.482Z"
   },
   {
    "duration": 13,
    "start_time": "2023-07-15T20:55:35.507Z"
   },
   {
    "duration": 25,
    "start_time": "2023-07-15T20:55:35.525Z"
   },
   {
    "duration": 19,
    "start_time": "2023-07-15T20:55:35.567Z"
   },
   {
    "duration": 36,
    "start_time": "2023-07-15T20:55:35.588Z"
   },
   {
    "duration": 33,
    "start_time": "2023-07-15T20:55:35.626Z"
   },
   {
    "duration": 325,
    "start_time": "2023-07-15T20:55:35.661Z"
   },
   {
    "duration": 27,
    "start_time": "2023-07-15T20:55:35.988Z"
   },
   {
    "duration": 5,
    "start_time": "2023-07-15T20:55:36.017Z"
   },
   {
    "duration": 28,
    "start_time": "2023-07-15T20:55:36.024Z"
   },
   {
    "duration": 34,
    "start_time": "2023-07-15T20:55:36.068Z"
   },
   {
    "duration": 35,
    "start_time": "2023-07-15T20:55:36.105Z"
   },
   {
    "duration": 225,
    "start_time": "2023-07-15T20:55:36.142Z"
   },
   {
    "duration": 16,
    "start_time": "2023-07-15T20:55:36.370Z"
   },
   {
    "duration": 13,
    "start_time": "2023-07-15T20:55:36.388Z"
   },
   {
    "duration": 17,
    "start_time": "2023-07-15T20:55:36.403Z"
   },
   {
    "duration": 5233,
    "start_time": "2023-07-15T20:55:36.422Z"
   },
   {
    "duration": 73,
    "start_time": "2023-07-15T20:55:41.657Z"
   },
   {
    "duration": 0,
    "start_time": "2023-07-15T20:55:41.733Z"
   },
   {
    "duration": 0,
    "start_time": "2023-07-15T20:55:41.734Z"
   },
   {
    "duration": 0,
    "start_time": "2023-07-15T20:55:41.736Z"
   },
   {
    "duration": 0,
    "start_time": "2023-07-15T20:55:41.737Z"
   },
   {
    "duration": 0,
    "start_time": "2023-07-15T20:55:41.739Z"
   },
   {
    "duration": 0,
    "start_time": "2023-07-15T20:55:41.740Z"
   },
   {
    "duration": 0,
    "start_time": "2023-07-15T20:55:41.741Z"
   },
   {
    "duration": 0,
    "start_time": "2023-07-15T20:55:41.742Z"
   },
   {
    "duration": 0,
    "start_time": "2023-07-15T20:55:41.743Z"
   },
   {
    "duration": 0,
    "start_time": "2023-07-15T20:55:41.744Z"
   },
   {
    "duration": 0,
    "start_time": "2023-07-15T20:55:41.746Z"
   },
   {
    "duration": 0,
    "start_time": "2023-07-15T20:55:41.747Z"
   },
   {
    "duration": 0,
    "start_time": "2023-07-15T20:55:41.748Z"
   },
   {
    "duration": 0,
    "start_time": "2023-07-15T20:55:41.749Z"
   },
   {
    "duration": 0,
    "start_time": "2023-07-15T20:55:41.750Z"
   },
   {
    "duration": 0,
    "start_time": "2023-07-15T20:55:41.752Z"
   },
   {
    "duration": 0,
    "start_time": "2023-07-15T20:55:41.753Z"
   },
   {
    "duration": 0,
    "start_time": "2023-07-15T20:55:41.754Z"
   },
   {
    "duration": 0,
    "start_time": "2023-07-15T20:55:41.755Z"
   },
   {
    "duration": 0,
    "start_time": "2023-07-15T20:55:41.756Z"
   },
   {
    "duration": 0,
    "start_time": "2023-07-15T20:55:41.757Z"
   },
   {
    "duration": 0,
    "start_time": "2023-07-15T20:55:41.758Z"
   },
   {
    "duration": 0,
    "start_time": "2023-07-15T20:55:41.760Z"
   },
   {
    "duration": 0,
    "start_time": "2023-07-15T20:55:41.761Z"
   },
   {
    "duration": 0,
    "start_time": "2023-07-15T20:55:41.762Z"
   },
   {
    "duration": 0,
    "start_time": "2023-07-15T20:55:41.763Z"
   },
   {
    "duration": 0,
    "start_time": "2023-07-15T20:55:41.764Z"
   },
   {
    "duration": 0,
    "start_time": "2023-07-15T20:55:41.766Z"
   },
   {
    "duration": 0,
    "start_time": "2023-07-15T20:55:41.767Z"
   },
   {
    "duration": 0,
    "start_time": "2023-07-15T20:55:41.768Z"
   },
   {
    "duration": 0,
    "start_time": "2023-07-15T20:55:41.769Z"
   },
   {
    "duration": 0,
    "start_time": "2023-07-15T20:55:41.771Z"
   },
   {
    "duration": 0,
    "start_time": "2023-07-15T20:55:41.772Z"
   },
   {
    "duration": 0,
    "start_time": "2023-07-15T20:55:41.773Z"
   },
   {
    "duration": 0,
    "start_time": "2023-07-15T20:55:41.775Z"
   },
   {
    "duration": 0,
    "start_time": "2023-07-15T20:55:41.776Z"
   },
   {
    "duration": 0,
    "start_time": "2023-07-15T20:55:41.777Z"
   },
   {
    "duration": 0,
    "start_time": "2023-07-15T20:55:41.778Z"
   },
   {
    "duration": 0,
    "start_time": "2023-07-15T20:55:41.779Z"
   },
   {
    "duration": 0,
    "start_time": "2023-07-15T20:55:41.781Z"
   },
   {
    "duration": 0,
    "start_time": "2023-07-15T20:55:41.782Z"
   },
   {
    "duration": 0,
    "start_time": "2023-07-15T20:55:41.782Z"
   },
   {
    "duration": 0,
    "start_time": "2023-07-15T20:55:41.784Z"
   },
   {
    "duration": 0,
    "start_time": "2023-07-15T20:55:41.784Z"
   },
   {
    "duration": 0,
    "start_time": "2023-07-15T20:55:41.785Z"
   },
   {
    "duration": 0,
    "start_time": "2023-07-15T20:55:41.787Z"
   },
   {
    "duration": 0,
    "start_time": "2023-07-15T20:55:41.788Z"
   },
   {
    "duration": 0,
    "start_time": "2023-07-15T20:55:41.790Z"
   },
   {
    "duration": 0,
    "start_time": "2023-07-15T20:55:41.791Z"
   },
   {
    "duration": 0,
    "start_time": "2023-07-15T20:55:41.793Z"
   },
   {
    "duration": 33,
    "start_time": "2023-07-15T20:55:54.292Z"
   },
   {
    "duration": 30,
    "start_time": "2023-07-15T20:56:20.255Z"
   },
   {
    "duration": 31,
    "start_time": "2023-07-15T20:56:24.188Z"
   },
   {
    "duration": 1316,
    "start_time": "2023-07-15T20:56:53.139Z"
   },
   {
    "duration": 67,
    "start_time": "2023-07-15T20:56:54.457Z"
   },
   {
    "duration": 285,
    "start_time": "2023-07-15T20:56:54.526Z"
   },
   {
    "duration": 26,
    "start_time": "2023-07-15T20:56:54.815Z"
   },
   {
    "duration": 43,
    "start_time": "2023-07-15T20:56:54.844Z"
   },
   {
    "duration": 25,
    "start_time": "2023-07-15T20:56:54.889Z"
   },
   {
    "duration": 11,
    "start_time": "2023-07-15T20:56:54.916Z"
   },
   {
    "duration": 7,
    "start_time": "2023-07-15T20:56:54.929Z"
   },
   {
    "duration": 41,
    "start_time": "2023-07-15T20:56:54.937Z"
   },
   {
    "duration": 5,
    "start_time": "2023-07-15T20:56:54.981Z"
   },
   {
    "duration": 13,
    "start_time": "2023-07-15T20:56:54.987Z"
   },
   {
    "duration": 22,
    "start_time": "2023-07-15T20:56:55.002Z"
   },
   {
    "duration": 64,
    "start_time": "2023-07-15T20:56:55.026Z"
   },
   {
    "duration": 12,
    "start_time": "2023-07-15T20:56:55.093Z"
   },
   {
    "duration": 19,
    "start_time": "2023-07-15T20:56:55.107Z"
   },
   {
    "duration": 18,
    "start_time": "2023-07-15T20:56:55.128Z"
   },
   {
    "duration": 35,
    "start_time": "2023-07-15T20:56:55.148Z"
   },
   {
    "duration": 12,
    "start_time": "2023-07-15T20:56:55.185Z"
   },
   {
    "duration": 11,
    "start_time": "2023-07-15T20:56:55.199Z"
   },
   {
    "duration": 19,
    "start_time": "2023-07-15T20:56:55.212Z"
   },
   {
    "duration": 5,
    "start_time": "2023-07-15T20:56:55.233Z"
   },
   {
    "duration": 27,
    "start_time": "2023-07-15T20:56:55.241Z"
   },
   {
    "duration": 19,
    "start_time": "2023-07-15T20:56:55.270Z"
   },
   {
    "duration": 17,
    "start_time": "2023-07-15T20:56:55.291Z"
   },
   {
    "duration": 11,
    "start_time": "2023-07-15T20:56:55.310Z"
   },
   {
    "duration": 16,
    "start_time": "2023-07-15T20:56:55.323Z"
   },
   {
    "duration": 11,
    "start_time": "2023-07-15T20:56:55.367Z"
   },
   {
    "duration": 16,
    "start_time": "2023-07-15T20:56:55.382Z"
   },
   {
    "duration": 14,
    "start_time": "2023-07-15T20:56:55.400Z"
   },
   {
    "duration": 14,
    "start_time": "2023-07-15T20:56:55.416Z"
   },
   {
    "duration": 60,
    "start_time": "2023-07-15T20:56:55.432Z"
   },
   {
    "duration": 302,
    "start_time": "2023-07-15T20:56:55.494Z"
   },
   {
    "duration": 27,
    "start_time": "2023-07-15T20:56:55.798Z"
   },
   {
    "duration": 5,
    "start_time": "2023-07-15T20:56:55.826Z"
   },
   {
    "duration": 37,
    "start_time": "2023-07-15T20:56:55.832Z"
   },
   {
    "duration": 35,
    "start_time": "2023-07-15T20:56:55.871Z"
   },
   {
    "duration": 32,
    "start_time": "2023-07-15T20:56:55.907Z"
   },
   {
    "duration": 211,
    "start_time": "2023-07-15T20:56:55.941Z"
   },
   {
    "duration": 20,
    "start_time": "2023-07-15T20:56:56.154Z"
   },
   {
    "duration": 5,
    "start_time": "2023-07-15T20:56:56.176Z"
   },
   {
    "duration": 4,
    "start_time": "2023-07-15T20:56:56.183Z"
   },
   {
    "duration": 5297,
    "start_time": "2023-07-15T20:56:56.188Z"
   },
   {
    "duration": 33,
    "start_time": "2023-07-15T20:57:01.487Z"
   },
   {
    "duration": 269,
    "start_time": "2023-07-15T20:57:01.522Z"
   },
   {
    "duration": 44,
    "start_time": "2023-07-15T20:57:01.793Z"
   },
   {
    "duration": 407,
    "start_time": "2023-07-15T20:57:01.839Z"
   },
   {
    "duration": 6,
    "start_time": "2023-07-15T20:57:02.248Z"
   },
   {
    "duration": 53,
    "start_time": "2023-07-15T20:57:02.266Z"
   },
   {
    "duration": 102,
    "start_time": "2023-07-15T20:57:02.322Z"
   },
   {
    "duration": 336,
    "start_time": "2023-07-15T20:57:02.427Z"
   },
   {
    "duration": 24,
    "start_time": "2023-07-15T20:57:02.767Z"
   },
   {
    "duration": 48,
    "start_time": "2023-07-15T20:57:02.793Z"
   },
   {
    "duration": 31,
    "start_time": "2023-07-15T20:57:02.843Z"
   },
   {
    "duration": 132,
    "start_time": "2023-07-15T20:57:02.876Z"
   },
   {
    "duration": 0,
    "start_time": "2023-07-15T20:57:03.010Z"
   },
   {
    "duration": 0,
    "start_time": "2023-07-15T20:57:03.012Z"
   },
   {
    "duration": 0,
    "start_time": "2023-07-15T20:57:03.013Z"
   },
   {
    "duration": 0,
    "start_time": "2023-07-15T20:57:03.014Z"
   },
   {
    "duration": 0,
    "start_time": "2023-07-15T20:57:03.015Z"
   },
   {
    "duration": 0,
    "start_time": "2023-07-15T20:57:03.016Z"
   },
   {
    "duration": 0,
    "start_time": "2023-07-15T20:57:03.018Z"
   },
   {
    "duration": 0,
    "start_time": "2023-07-15T20:57:03.019Z"
   },
   {
    "duration": 0,
    "start_time": "2023-07-15T20:57:03.020Z"
   },
   {
    "duration": 0,
    "start_time": "2023-07-15T20:57:03.021Z"
   },
   {
    "duration": 0,
    "start_time": "2023-07-15T20:57:03.022Z"
   },
   {
    "duration": 0,
    "start_time": "2023-07-15T20:57:03.023Z"
   },
   {
    "duration": 0,
    "start_time": "2023-07-15T20:57:03.025Z"
   },
   {
    "duration": 0,
    "start_time": "2023-07-15T20:57:03.026Z"
   },
   {
    "duration": 0,
    "start_time": "2023-07-15T20:57:03.027Z"
   },
   {
    "duration": 0,
    "start_time": "2023-07-15T20:57:03.029Z"
   },
   {
    "duration": 0,
    "start_time": "2023-07-15T20:57:03.030Z"
   },
   {
    "duration": 0,
    "start_time": "2023-07-15T20:57:03.031Z"
   },
   {
    "duration": 0,
    "start_time": "2023-07-15T20:57:03.068Z"
   },
   {
    "duration": 0,
    "start_time": "2023-07-15T20:57:03.070Z"
   },
   {
    "duration": 0,
    "start_time": "2023-07-15T20:57:03.071Z"
   },
   {
    "duration": 0,
    "start_time": "2023-07-15T20:57:03.073Z"
   },
   {
    "duration": 0,
    "start_time": "2023-07-15T20:57:03.075Z"
   },
   {
    "duration": 0,
    "start_time": "2023-07-15T20:57:03.077Z"
   },
   {
    "duration": 0,
    "start_time": "2023-07-15T20:57:03.078Z"
   },
   {
    "duration": 0,
    "start_time": "2023-07-15T20:57:03.080Z"
   },
   {
    "duration": 0,
    "start_time": "2023-07-15T20:57:03.081Z"
   },
   {
    "duration": 0,
    "start_time": "2023-07-15T20:57:03.082Z"
   },
   {
    "duration": 0,
    "start_time": "2023-07-15T20:57:03.084Z"
   },
   {
    "duration": 0,
    "start_time": "2023-07-15T20:57:03.085Z"
   },
   {
    "duration": 0,
    "start_time": "2023-07-15T20:57:03.087Z"
   },
   {
    "duration": 0,
    "start_time": "2023-07-15T20:57:03.089Z"
   },
   {
    "duration": 0,
    "start_time": "2023-07-15T20:57:03.090Z"
   },
   {
    "duration": 0,
    "start_time": "2023-07-15T20:57:03.092Z"
   },
   {
    "duration": 0,
    "start_time": "2023-07-15T20:57:03.093Z"
   },
   {
    "duration": 0,
    "start_time": "2023-07-15T20:57:03.095Z"
   },
   {
    "duration": 1,
    "start_time": "2023-07-15T20:57:03.096Z"
   },
   {
    "duration": 0,
    "start_time": "2023-07-15T20:57:03.098Z"
   },
   {
    "duration": 36,
    "start_time": "2023-07-15T20:59:46.887Z"
   },
   {
    "duration": 43,
    "start_time": "2023-07-15T20:59:53.582Z"
   },
   {
    "duration": 49,
    "start_time": "2023-07-15T21:00:01.272Z"
   },
   {
    "duration": 285,
    "start_time": "2023-07-15T21:00:21.137Z"
   },
   {
    "duration": 6,
    "start_time": "2023-07-15T21:00:29.411Z"
   },
   {
    "duration": 43,
    "start_time": "2023-07-15T21:02:05.961Z"
   },
   {
    "duration": 50,
    "start_time": "2023-07-15T21:03:54.965Z"
   },
   {
    "duration": 298,
    "start_time": "2023-07-15T21:04:01.813Z"
   },
   {
    "duration": 180,
    "start_time": "2023-07-15T21:04:46.416Z"
   },
   {
    "duration": 74,
    "start_time": "2023-07-15T21:05:21.943Z"
   },
   {
    "duration": 68,
    "start_time": "2023-07-15T21:05:30.807Z"
   },
   {
    "duration": 18,
    "start_time": "2023-07-15T21:06:48.688Z"
   },
   {
    "duration": 25,
    "start_time": "2023-07-15T21:07:07.880Z"
   },
   {
    "duration": 12,
    "start_time": "2023-07-15T21:11:46.418Z"
   },
   {
    "duration": 21,
    "start_time": "2023-07-15T21:12:21.173Z"
   },
   {
    "duration": 15,
    "start_time": "2023-07-15T21:12:27.545Z"
   },
   {
    "duration": 5,
    "start_time": "2023-07-15T21:12:41.200Z"
   },
   {
    "duration": 1280,
    "start_time": "2023-07-15T21:12:46.605Z"
   },
   {
    "duration": 75,
    "start_time": "2023-07-15T21:12:47.888Z"
   },
   {
    "duration": 265,
    "start_time": "2023-07-15T21:12:47.965Z"
   },
   {
    "duration": 19,
    "start_time": "2023-07-15T21:12:48.234Z"
   },
   {
    "duration": 47,
    "start_time": "2023-07-15T21:12:48.255Z"
   },
   {
    "duration": 30,
    "start_time": "2023-07-15T21:12:48.305Z"
   },
   {
    "duration": 32,
    "start_time": "2023-07-15T21:12:48.337Z"
   },
   {
    "duration": 8,
    "start_time": "2023-07-15T21:12:48.371Z"
   },
   {
    "duration": 16,
    "start_time": "2023-07-15T21:12:48.380Z"
   },
   {
    "duration": 7,
    "start_time": "2023-07-15T21:12:48.399Z"
   },
   {
    "duration": 11,
    "start_time": "2023-07-15T21:12:48.408Z"
   },
   {
    "duration": 54,
    "start_time": "2023-07-15T21:12:48.421Z"
   },
   {
    "duration": 25,
    "start_time": "2023-07-15T21:12:48.477Z"
   },
   {
    "duration": 13,
    "start_time": "2023-07-15T21:12:48.504Z"
   },
   {
    "duration": 10,
    "start_time": "2023-07-15T21:12:48.519Z"
   },
   {
    "duration": 38,
    "start_time": "2023-07-15T21:12:48.531Z"
   },
   {
    "duration": 19,
    "start_time": "2023-07-15T21:12:48.571Z"
   },
   {
    "duration": 7,
    "start_time": "2023-07-15T21:12:48.592Z"
   },
   {
    "duration": 10,
    "start_time": "2023-07-15T21:12:48.601Z"
   },
   {
    "duration": 55,
    "start_time": "2023-07-15T21:12:48.613Z"
   },
   {
    "duration": 5,
    "start_time": "2023-07-15T21:12:48.670Z"
   },
   {
    "duration": 10,
    "start_time": "2023-07-15T21:12:48.676Z"
   },
   {
    "duration": 32,
    "start_time": "2023-07-15T21:12:48.688Z"
   },
   {
    "duration": 12,
    "start_time": "2023-07-15T21:12:48.722Z"
   },
   {
    "duration": 44,
    "start_time": "2023-07-15T21:12:48.737Z"
   },
   {
    "duration": 35,
    "start_time": "2023-07-15T21:12:48.783Z"
   },
   {
    "duration": 16,
    "start_time": "2023-07-15T21:12:48.820Z"
   },
   {
    "duration": 39,
    "start_time": "2023-07-15T21:12:48.843Z"
   },
   {
    "duration": 18,
    "start_time": "2023-07-15T21:12:48.884Z"
   },
   {
    "duration": 21,
    "start_time": "2023-07-15T21:12:48.905Z"
   },
   {
    "duration": 65,
    "start_time": "2023-07-15T21:12:48.929Z"
   },
   {
    "duration": 324,
    "start_time": "2023-07-15T21:12:48.996Z"
   },
   {
    "duration": 28,
    "start_time": "2023-07-15T21:12:49.321Z"
   },
   {
    "duration": 21,
    "start_time": "2023-07-15T21:12:49.350Z"
   },
   {
    "duration": 18,
    "start_time": "2023-07-15T21:12:49.373Z"
   },
   {
    "duration": 37,
    "start_time": "2023-07-15T21:12:49.393Z"
   },
   {
    "duration": 58,
    "start_time": "2023-07-15T21:12:49.432Z"
   },
   {
    "duration": 203,
    "start_time": "2023-07-15T21:12:49.492Z"
   },
   {
    "duration": 13,
    "start_time": "2023-07-15T21:12:49.696Z"
   },
   {
    "duration": 6,
    "start_time": "2023-07-15T21:12:49.710Z"
   },
   {
    "duration": 11,
    "start_time": "2023-07-15T21:12:49.718Z"
   },
   {
    "duration": 6663,
    "start_time": "2023-07-15T21:12:49.731Z"
   },
   {
    "duration": 97,
    "start_time": "2023-07-15T21:12:56.397Z"
   },
   {
    "duration": 471,
    "start_time": "2023-07-15T21:12:56.496Z"
   },
   {
    "duration": 59,
    "start_time": "2023-07-15T21:12:56.969Z"
   },
   {
    "duration": 294,
    "start_time": "2023-07-15T21:12:57.030Z"
   },
   {
    "duration": 22,
    "start_time": "2023-07-15T21:12:57.326Z"
   },
   {
    "duration": 19,
    "start_time": "2023-07-15T21:12:57.350Z"
   },
   {
    "duration": 16,
    "start_time": "2023-07-15T21:12:57.371Z"
   },
   {
    "duration": 14,
    "start_time": "2023-07-15T21:12:57.389Z"
   },
   {
    "duration": 20,
    "start_time": "2023-07-15T21:12:57.404Z"
   },
   {
    "duration": 318,
    "start_time": "2023-07-15T21:12:57.426Z"
   },
   {
    "duration": 50,
    "start_time": "2023-07-15T21:12:57.747Z"
   },
   {
    "duration": 37,
    "start_time": "2023-07-15T21:12:57.799Z"
   },
   {
    "duration": 31,
    "start_time": "2023-07-15T21:12:57.838Z"
   },
   {
    "duration": 128,
    "start_time": "2023-07-15T21:12:57.871Z"
   },
   {
    "duration": 0,
    "start_time": "2023-07-15T21:12:58.001Z"
   },
   {
    "duration": 0,
    "start_time": "2023-07-15T21:12:58.002Z"
   },
   {
    "duration": 0,
    "start_time": "2023-07-15T21:12:58.004Z"
   },
   {
    "duration": 0,
    "start_time": "2023-07-15T21:12:58.005Z"
   },
   {
    "duration": 0,
    "start_time": "2023-07-15T21:12:58.005Z"
   },
   {
    "duration": 0,
    "start_time": "2023-07-15T21:12:58.007Z"
   },
   {
    "duration": 0,
    "start_time": "2023-07-15T21:12:58.008Z"
   },
   {
    "duration": 0,
    "start_time": "2023-07-15T21:12:58.010Z"
   },
   {
    "duration": 0,
    "start_time": "2023-07-15T21:12:58.011Z"
   },
   {
    "duration": 0,
    "start_time": "2023-07-15T21:12:58.013Z"
   },
   {
    "duration": 0,
    "start_time": "2023-07-15T21:12:58.014Z"
   },
   {
    "duration": 0,
    "start_time": "2023-07-15T21:12:58.015Z"
   },
   {
    "duration": 0,
    "start_time": "2023-07-15T21:12:58.016Z"
   },
   {
    "duration": 0,
    "start_time": "2023-07-15T21:12:58.017Z"
   },
   {
    "duration": 0,
    "start_time": "2023-07-15T21:12:58.019Z"
   },
   {
    "duration": 0,
    "start_time": "2023-07-15T21:12:58.020Z"
   },
   {
    "duration": 0,
    "start_time": "2023-07-15T21:12:58.021Z"
   },
   {
    "duration": 0,
    "start_time": "2023-07-15T21:12:58.022Z"
   },
   {
    "duration": 0,
    "start_time": "2023-07-15T21:12:58.023Z"
   },
   {
    "duration": 0,
    "start_time": "2023-07-15T21:12:58.024Z"
   },
   {
    "duration": 0,
    "start_time": "2023-07-15T21:12:58.066Z"
   },
   {
    "duration": 0,
    "start_time": "2023-07-15T21:12:58.067Z"
   },
   {
    "duration": 0,
    "start_time": "2023-07-15T21:12:58.069Z"
   },
   {
    "duration": 0,
    "start_time": "2023-07-15T21:12:58.070Z"
   },
   {
    "duration": 0,
    "start_time": "2023-07-15T21:12:58.072Z"
   },
   {
    "duration": 0,
    "start_time": "2023-07-15T21:12:58.073Z"
   },
   {
    "duration": 0,
    "start_time": "2023-07-15T21:12:58.075Z"
   },
   {
    "duration": 0,
    "start_time": "2023-07-15T21:12:58.076Z"
   },
   {
    "duration": 0,
    "start_time": "2023-07-15T21:12:58.077Z"
   },
   {
    "duration": 0,
    "start_time": "2023-07-15T21:12:58.078Z"
   },
   {
    "duration": 0,
    "start_time": "2023-07-15T21:12:58.079Z"
   },
   {
    "duration": 0,
    "start_time": "2023-07-15T21:12:58.080Z"
   },
   {
    "duration": 0,
    "start_time": "2023-07-15T21:12:58.081Z"
   },
   {
    "duration": 0,
    "start_time": "2023-07-15T21:12:58.083Z"
   },
   {
    "duration": 0,
    "start_time": "2023-07-15T21:12:58.084Z"
   },
   {
    "duration": 0,
    "start_time": "2023-07-15T21:12:58.085Z"
   },
   {
    "duration": 0,
    "start_time": "2023-07-15T21:12:58.086Z"
   },
   {
    "duration": 0,
    "start_time": "2023-07-15T21:12:58.087Z"
   },
   {
    "duration": 12,
    "start_time": "2023-07-15T21:13:35.863Z"
   },
   {
    "duration": 1288,
    "start_time": "2023-07-15T21:14:02.301Z"
   },
   {
    "duration": 55,
    "start_time": "2023-07-15T21:14:03.592Z"
   },
   {
    "duration": 226,
    "start_time": "2023-07-15T21:14:03.649Z"
   },
   {
    "duration": 22,
    "start_time": "2023-07-15T21:14:03.878Z"
   },
   {
    "duration": 38,
    "start_time": "2023-07-15T21:14:03.909Z"
   },
   {
    "duration": 42,
    "start_time": "2023-07-15T21:14:03.949Z"
   },
   {
    "duration": 18,
    "start_time": "2023-07-15T21:14:03.994Z"
   },
   {
    "duration": 9,
    "start_time": "2023-07-15T21:14:04.014Z"
   },
   {
    "duration": 45,
    "start_time": "2023-07-15T21:14:04.025Z"
   },
   {
    "duration": 8,
    "start_time": "2023-07-15T21:14:04.074Z"
   },
   {
    "duration": 34,
    "start_time": "2023-07-15T21:14:04.084Z"
   },
   {
    "duration": 20,
    "start_time": "2023-07-15T21:14:04.120Z"
   },
   {
    "duration": 32,
    "start_time": "2023-07-15T21:14:04.143Z"
   },
   {
    "duration": 17,
    "start_time": "2023-07-15T21:14:04.177Z"
   },
   {
    "duration": 19,
    "start_time": "2023-07-15T21:14:04.196Z"
   },
   {
    "duration": 26,
    "start_time": "2023-07-15T21:14:04.217Z"
   },
   {
    "duration": 29,
    "start_time": "2023-07-15T21:14:04.245Z"
   },
   {
    "duration": 15,
    "start_time": "2023-07-15T21:14:04.277Z"
   },
   {
    "duration": 25,
    "start_time": "2023-07-15T21:14:04.294Z"
   },
   {
    "duration": 38,
    "start_time": "2023-07-15T21:14:04.322Z"
   },
   {
    "duration": 5,
    "start_time": "2023-07-15T21:14:04.363Z"
   },
   {
    "duration": 18,
    "start_time": "2023-07-15T21:14:04.370Z"
   },
   {
    "duration": 27,
    "start_time": "2023-07-15T21:14:04.391Z"
   },
   {
    "duration": 12,
    "start_time": "2023-07-15T21:14:04.420Z"
   },
   {
    "duration": 26,
    "start_time": "2023-07-15T21:14:04.433Z"
   },
   {
    "duration": 30,
    "start_time": "2023-07-15T21:14:04.460Z"
   },
   {
    "duration": 11,
    "start_time": "2023-07-15T21:14:04.492Z"
   },
   {
    "duration": 25,
    "start_time": "2023-07-15T21:14:04.507Z"
   },
   {
    "duration": 23,
    "start_time": "2023-07-15T21:14:04.534Z"
   },
   {
    "duration": 18,
    "start_time": "2023-07-15T21:14:04.559Z"
   },
   {
    "duration": 22,
    "start_time": "2023-07-15T21:14:04.579Z"
   },
   {
    "duration": 316,
    "start_time": "2023-07-15T21:14:04.603Z"
   },
   {
    "duration": 28,
    "start_time": "2023-07-15T21:14:04.921Z"
   },
   {
    "duration": 18,
    "start_time": "2023-07-15T21:14:04.951Z"
   },
   {
    "duration": 22,
    "start_time": "2023-07-15T21:14:04.971Z"
   },
   {
    "duration": 34,
    "start_time": "2023-07-15T21:14:04.995Z"
   },
   {
    "duration": 70,
    "start_time": "2023-07-15T21:14:05.031Z"
   },
   {
    "duration": 208,
    "start_time": "2023-07-15T21:14:05.103Z"
   },
   {
    "duration": 12,
    "start_time": "2023-07-15T21:14:05.313Z"
   },
   {
    "duration": 10,
    "start_time": "2023-07-15T21:14:05.326Z"
   },
   {
    "duration": 10,
    "start_time": "2023-07-15T21:14:05.337Z"
   },
   {
    "duration": 5515,
    "start_time": "2023-07-15T21:14:05.348Z"
   },
   {
    "duration": 34,
    "start_time": "2023-07-15T21:14:10.866Z"
   },
   {
    "duration": 229,
    "start_time": "2023-07-15T21:14:10.902Z"
   },
   {
    "duration": 55,
    "start_time": "2023-07-15T21:14:11.133Z"
   },
   {
    "duration": 272,
    "start_time": "2023-07-15T21:14:11.190Z"
   },
   {
    "duration": 23,
    "start_time": "2023-07-15T21:14:11.466Z"
   },
   {
    "duration": 6,
    "start_time": "2023-07-15T21:14:11.490Z"
   },
   {
    "duration": 12,
    "start_time": "2023-07-15T21:14:11.498Z"
   },
   {
    "duration": 18,
    "start_time": "2023-07-15T21:14:11.512Z"
   },
   {
    "duration": 52,
    "start_time": "2023-07-15T21:14:11.532Z"
   },
   {
    "duration": 23,
    "start_time": "2023-07-15T21:14:11.586Z"
   },
   {
    "duration": 302,
    "start_time": "2023-07-15T21:14:11.612Z"
   },
   {
    "duration": 25,
    "start_time": "2023-07-15T21:14:11.916Z"
   },
   {
    "duration": 56,
    "start_time": "2023-07-15T21:14:11.943Z"
   },
   {
    "duration": 14,
    "start_time": "2023-07-15T21:14:12.001Z"
   },
   {
    "duration": 151,
    "start_time": "2023-07-15T21:14:12.018Z"
   },
   {
    "duration": 0,
    "start_time": "2023-07-15T21:14:12.172Z"
   },
   {
    "duration": 0,
    "start_time": "2023-07-15T21:14:12.173Z"
   },
   {
    "duration": 0,
    "start_time": "2023-07-15T21:14:12.174Z"
   },
   {
    "duration": 0,
    "start_time": "2023-07-15T21:14:12.176Z"
   },
   {
    "duration": 0,
    "start_time": "2023-07-15T21:14:12.177Z"
   },
   {
    "duration": 0,
    "start_time": "2023-07-15T21:14:12.178Z"
   },
   {
    "duration": 0,
    "start_time": "2023-07-15T21:14:12.180Z"
   },
   {
    "duration": 0,
    "start_time": "2023-07-15T21:14:12.181Z"
   },
   {
    "duration": 0,
    "start_time": "2023-07-15T21:14:12.182Z"
   },
   {
    "duration": 0,
    "start_time": "2023-07-15T21:14:12.183Z"
   },
   {
    "duration": 0,
    "start_time": "2023-07-15T21:14:12.185Z"
   },
   {
    "duration": 0,
    "start_time": "2023-07-15T21:14:12.186Z"
   },
   {
    "duration": 0,
    "start_time": "2023-07-15T21:14:12.188Z"
   },
   {
    "duration": 0,
    "start_time": "2023-07-15T21:14:12.189Z"
   },
   {
    "duration": 0,
    "start_time": "2023-07-15T21:14:12.190Z"
   },
   {
    "duration": 0,
    "start_time": "2023-07-15T21:14:12.192Z"
   },
   {
    "duration": 0,
    "start_time": "2023-07-15T21:14:12.193Z"
   },
   {
    "duration": 0,
    "start_time": "2023-07-15T21:14:12.195Z"
   },
   {
    "duration": 0,
    "start_time": "2023-07-15T21:14:12.196Z"
   },
   {
    "duration": 0,
    "start_time": "2023-07-15T21:14:12.198Z"
   },
   {
    "duration": 0,
    "start_time": "2023-07-15T21:14:12.199Z"
   },
   {
    "duration": 0,
    "start_time": "2023-07-15T21:14:12.201Z"
   },
   {
    "duration": 0,
    "start_time": "2023-07-15T21:14:12.202Z"
   },
   {
    "duration": 0,
    "start_time": "2023-07-15T21:14:12.203Z"
   },
   {
    "duration": 0,
    "start_time": "2023-07-15T21:14:12.205Z"
   },
   {
    "duration": 0,
    "start_time": "2023-07-15T21:14:12.206Z"
   },
   {
    "duration": 0,
    "start_time": "2023-07-15T21:14:12.208Z"
   },
   {
    "duration": 0,
    "start_time": "2023-07-15T21:14:12.209Z"
   },
   {
    "duration": 0,
    "start_time": "2023-07-15T21:14:12.211Z"
   },
   {
    "duration": 0,
    "start_time": "2023-07-15T21:14:12.212Z"
   },
   {
    "duration": 0,
    "start_time": "2023-07-15T21:14:12.214Z"
   },
   {
    "duration": 0,
    "start_time": "2023-07-15T21:14:12.215Z"
   },
   {
    "duration": 0,
    "start_time": "2023-07-15T21:14:12.269Z"
   },
   {
    "duration": 0,
    "start_time": "2023-07-15T21:14:12.271Z"
   },
   {
    "duration": 0,
    "start_time": "2023-07-15T21:14:12.274Z"
   },
   {
    "duration": 0,
    "start_time": "2023-07-15T21:14:12.284Z"
   },
   {
    "duration": 1,
    "start_time": "2023-07-15T21:14:12.285Z"
   },
   {
    "duration": 0,
    "start_time": "2023-07-15T21:14:12.288Z"
   },
   {
    "duration": 13,
    "start_time": "2023-07-15T21:15:11.510Z"
   },
   {
    "duration": 1325,
    "start_time": "2023-07-15T21:15:28.193Z"
   },
   {
    "duration": 69,
    "start_time": "2023-07-15T21:15:29.520Z"
   },
   {
    "duration": 152,
    "start_time": "2023-07-15T21:15:29.591Z"
   },
   {
    "duration": 25,
    "start_time": "2023-07-15T21:15:29.745Z"
   },
   {
    "duration": 25,
    "start_time": "2023-07-15T21:15:29.772Z"
   },
   {
    "duration": 24,
    "start_time": "2023-07-15T21:15:29.799Z"
   },
   {
    "duration": 14,
    "start_time": "2023-07-15T21:15:29.825Z"
   },
   {
    "duration": 8,
    "start_time": "2023-07-15T21:15:29.867Z"
   },
   {
    "duration": 24,
    "start_time": "2023-07-15T21:15:29.877Z"
   },
   {
    "duration": 6,
    "start_time": "2023-07-15T21:15:29.904Z"
   },
   {
    "duration": 10,
    "start_time": "2023-07-15T21:15:29.912Z"
   },
   {
    "duration": 47,
    "start_time": "2023-07-15T21:15:29.925Z"
   },
   {
    "duration": 27,
    "start_time": "2023-07-15T21:15:29.974Z"
   },
   {
    "duration": 14,
    "start_time": "2023-07-15T21:15:30.003Z"
   },
   {
    "duration": 53,
    "start_time": "2023-07-15T21:15:30.019Z"
   },
   {
    "duration": 42,
    "start_time": "2023-07-15T21:15:30.074Z"
   },
   {
    "duration": 68,
    "start_time": "2023-07-15T21:15:30.117Z"
   },
   {
    "duration": 31,
    "start_time": "2023-07-15T21:15:30.186Z"
   },
   {
    "duration": 47,
    "start_time": "2023-07-15T21:15:30.219Z"
   },
   {
    "duration": 103,
    "start_time": "2023-07-15T21:15:30.268Z"
   },
   {
    "duration": 81,
    "start_time": "2023-07-15T21:15:30.373Z"
   },
   {
    "duration": 45,
    "start_time": "2023-07-15T21:15:30.456Z"
   },
   {
    "duration": 84,
    "start_time": "2023-07-15T21:15:30.503Z"
   },
   {
    "duration": 41,
    "start_time": "2023-07-15T21:15:30.589Z"
   },
   {
    "duration": 27,
    "start_time": "2023-07-15T21:15:30.632Z"
   },
   {
    "duration": 44,
    "start_time": "2023-07-15T21:15:30.661Z"
   },
   {
    "duration": 44,
    "start_time": "2023-07-15T21:15:30.707Z"
   },
   {
    "duration": 43,
    "start_time": "2023-07-15T21:15:30.755Z"
   },
   {
    "duration": 26,
    "start_time": "2023-07-15T21:15:30.800Z"
   },
   {
    "duration": 45,
    "start_time": "2023-07-15T21:15:30.828Z"
   },
   {
    "duration": 69,
    "start_time": "2023-07-15T21:15:30.875Z"
   },
   {
    "duration": 345,
    "start_time": "2023-07-15T21:15:30.946Z"
   },
   {
    "duration": 27,
    "start_time": "2023-07-15T21:15:31.294Z"
   },
   {
    "duration": 103,
    "start_time": "2023-07-15T21:15:31.324Z"
   },
   {
    "duration": 39,
    "start_time": "2023-07-15T21:15:31.430Z"
   },
   {
    "duration": 53,
    "start_time": "2023-07-15T21:15:31.471Z"
   },
   {
    "duration": 57,
    "start_time": "2023-07-15T21:15:31.527Z"
   },
   {
    "duration": 238,
    "start_time": "2023-07-15T21:15:31.586Z"
   },
   {
    "duration": 13,
    "start_time": "2023-07-15T21:15:31.826Z"
   },
   {
    "duration": 25,
    "start_time": "2023-07-15T21:15:31.841Z"
   },
   {
    "duration": 49,
    "start_time": "2023-07-15T21:15:31.868Z"
   },
   {
    "duration": 5882,
    "start_time": "2023-07-15T21:15:31.919Z"
   },
   {
    "duration": 44,
    "start_time": "2023-07-15T21:15:37.803Z"
   },
   {
    "duration": 243,
    "start_time": "2023-07-15T21:15:37.849Z"
   },
   {
    "duration": 46,
    "start_time": "2023-07-15T21:15:38.094Z"
   },
   {
    "duration": 306,
    "start_time": "2023-07-15T21:15:38.142Z"
   },
   {
    "duration": 29,
    "start_time": "2023-07-15T21:15:38.450Z"
   },
   {
    "duration": 20,
    "start_time": "2023-07-15T21:15:38.481Z"
   },
   {
    "duration": 21,
    "start_time": "2023-07-15T21:15:38.503Z"
   },
   {
    "duration": 23,
    "start_time": "2023-07-15T21:15:38.526Z"
   },
   {
    "duration": 28,
    "start_time": "2023-07-15T21:15:38.552Z"
   },
   {
    "duration": 26,
    "start_time": "2023-07-15T21:15:38.583Z"
   },
   {
    "duration": 303,
    "start_time": "2023-07-15T21:15:38.611Z"
   },
   {
    "duration": 26,
    "start_time": "2023-07-15T21:15:38.916Z"
   },
   {
    "duration": 59,
    "start_time": "2023-07-15T21:15:38.944Z"
   },
   {
    "duration": 19,
    "start_time": "2023-07-15T21:15:39.005Z"
   },
   {
    "duration": 135,
    "start_time": "2023-07-15T21:15:39.026Z"
   },
   {
    "duration": 0,
    "start_time": "2023-07-15T21:15:39.166Z"
   },
   {
    "duration": 0,
    "start_time": "2023-07-15T21:15:39.168Z"
   },
   {
    "duration": 0,
    "start_time": "2023-07-15T21:15:39.169Z"
   },
   {
    "duration": 0,
    "start_time": "2023-07-15T21:15:39.170Z"
   },
   {
    "duration": 0,
    "start_time": "2023-07-15T21:15:39.172Z"
   },
   {
    "duration": 0,
    "start_time": "2023-07-15T21:15:39.172Z"
   },
   {
    "duration": 0,
    "start_time": "2023-07-15T21:15:39.175Z"
   },
   {
    "duration": 0,
    "start_time": "2023-07-15T21:15:39.177Z"
   },
   {
    "duration": 0,
    "start_time": "2023-07-15T21:15:39.179Z"
   },
   {
    "duration": 0,
    "start_time": "2023-07-15T21:15:39.180Z"
   },
   {
    "duration": 0,
    "start_time": "2023-07-15T21:15:39.181Z"
   },
   {
    "duration": 0,
    "start_time": "2023-07-15T21:15:39.182Z"
   },
   {
    "duration": 0,
    "start_time": "2023-07-15T21:15:39.183Z"
   },
   {
    "duration": 0,
    "start_time": "2023-07-15T21:15:39.184Z"
   },
   {
    "duration": 0,
    "start_time": "2023-07-15T21:15:39.185Z"
   },
   {
    "duration": 0,
    "start_time": "2023-07-15T21:15:39.186Z"
   },
   {
    "duration": 0,
    "start_time": "2023-07-15T21:15:39.187Z"
   },
   {
    "duration": 0,
    "start_time": "2023-07-15T21:15:39.188Z"
   },
   {
    "duration": 0,
    "start_time": "2023-07-15T21:15:39.189Z"
   },
   {
    "duration": 0,
    "start_time": "2023-07-15T21:15:39.190Z"
   },
   {
    "duration": 0,
    "start_time": "2023-07-15T21:15:39.191Z"
   },
   {
    "duration": 0,
    "start_time": "2023-07-15T21:15:39.192Z"
   },
   {
    "duration": 0,
    "start_time": "2023-07-15T21:15:39.193Z"
   },
   {
    "duration": 1,
    "start_time": "2023-07-15T21:15:39.194Z"
   },
   {
    "duration": 0,
    "start_time": "2023-07-15T21:15:39.196Z"
   },
   {
    "duration": 0,
    "start_time": "2023-07-15T21:15:39.197Z"
   },
   {
    "duration": 0,
    "start_time": "2023-07-15T21:15:39.198Z"
   },
   {
    "duration": 0,
    "start_time": "2023-07-15T21:15:39.200Z"
   },
   {
    "duration": 0,
    "start_time": "2023-07-15T21:15:39.201Z"
   },
   {
    "duration": 0,
    "start_time": "2023-07-15T21:15:39.202Z"
   },
   {
    "duration": 0,
    "start_time": "2023-07-15T21:15:39.203Z"
   },
   {
    "duration": 0,
    "start_time": "2023-07-15T21:15:39.204Z"
   },
   {
    "duration": 0,
    "start_time": "2023-07-15T21:15:39.206Z"
   },
   {
    "duration": 0,
    "start_time": "2023-07-15T21:15:39.207Z"
   },
   {
    "duration": 0,
    "start_time": "2023-07-15T21:15:39.267Z"
   },
   {
    "duration": 0,
    "start_time": "2023-07-15T21:15:39.269Z"
   },
   {
    "duration": 0,
    "start_time": "2023-07-15T21:15:39.270Z"
   },
   {
    "duration": 0,
    "start_time": "2023-07-15T21:15:39.271Z"
   },
   {
    "duration": 1332,
    "start_time": "2023-07-15T21:16:07.138Z"
   },
   {
    "duration": 52,
    "start_time": "2023-07-15T21:16:08.472Z"
   },
   {
    "duration": 153,
    "start_time": "2023-07-15T21:16:08.526Z"
   },
   {
    "duration": 21,
    "start_time": "2023-07-15T21:16:08.682Z"
   },
   {
    "duration": 25,
    "start_time": "2023-07-15T21:16:08.705Z"
   },
   {
    "duration": 51,
    "start_time": "2023-07-15T21:16:08.732Z"
   },
   {
    "duration": 13,
    "start_time": "2023-07-15T21:16:08.786Z"
   },
   {
    "duration": 9,
    "start_time": "2023-07-15T21:16:08.801Z"
   },
   {
    "duration": 15,
    "start_time": "2023-07-15T21:16:08.812Z"
   },
   {
    "duration": 36,
    "start_time": "2023-07-15T21:16:08.831Z"
   },
   {
    "duration": 25,
    "start_time": "2023-07-15T21:16:08.870Z"
   },
   {
    "duration": 30,
    "start_time": "2023-07-15T21:16:08.898Z"
   },
   {
    "duration": 23,
    "start_time": "2023-07-15T21:16:08.930Z"
   },
   {
    "duration": 13,
    "start_time": "2023-07-15T21:16:08.967Z"
   },
   {
    "duration": 12,
    "start_time": "2023-07-15T21:16:08.982Z"
   },
   {
    "duration": 12,
    "start_time": "2023-07-15T21:16:08.996Z"
   },
   {
    "duration": 24,
    "start_time": "2023-07-15T21:16:09.010Z"
   },
   {
    "duration": 32,
    "start_time": "2023-07-15T21:16:09.036Z"
   },
   {
    "duration": 14,
    "start_time": "2023-07-15T21:16:09.070Z"
   },
   {
    "duration": 30,
    "start_time": "2023-07-15T21:16:09.086Z"
   },
   {
    "duration": 6,
    "start_time": "2023-07-15T21:16:09.118Z"
   },
   {
    "duration": 75,
    "start_time": "2023-07-15T21:16:09.126Z"
   },
   {
    "duration": 42,
    "start_time": "2023-07-15T21:16:09.204Z"
   },
   {
    "duration": 13,
    "start_time": "2023-07-15T21:16:09.248Z"
   },
   {
    "duration": 14,
    "start_time": "2023-07-15T21:16:09.264Z"
   },
   {
    "duration": 19,
    "start_time": "2023-07-15T21:16:09.280Z"
   },
   {
    "duration": 12,
    "start_time": "2023-07-15T21:16:09.301Z"
   },
   {
    "duration": 56,
    "start_time": "2023-07-15T21:16:09.320Z"
   },
   {
    "duration": 19,
    "start_time": "2023-07-15T21:16:09.378Z"
   },
   {
    "duration": 25,
    "start_time": "2023-07-15T21:16:09.400Z"
   },
   {
    "duration": 49,
    "start_time": "2023-07-15T21:16:09.427Z"
   },
   {
    "duration": 310,
    "start_time": "2023-07-15T21:16:09.478Z"
   },
   {
    "duration": 29,
    "start_time": "2023-07-15T21:16:09.791Z"
   },
   {
    "duration": 19,
    "start_time": "2023-07-15T21:16:09.821Z"
   },
   {
    "duration": 33,
    "start_time": "2023-07-15T21:16:09.841Z"
   },
   {
    "duration": 35,
    "start_time": "2023-07-15T21:16:09.876Z"
   },
   {
    "duration": 55,
    "start_time": "2023-07-15T21:16:09.913Z"
   },
   {
    "duration": 216,
    "start_time": "2023-07-15T21:16:09.971Z"
   },
   {
    "duration": 18,
    "start_time": "2023-07-15T21:16:10.189Z"
   },
   {
    "duration": 6,
    "start_time": "2023-07-15T21:16:10.209Z"
   },
   {
    "duration": 5,
    "start_time": "2023-07-15T21:16:10.217Z"
   },
   {
    "duration": 6746,
    "start_time": "2023-07-15T21:16:10.224Z"
   },
   {
    "duration": 55,
    "start_time": "2023-07-15T21:16:16.973Z"
   },
   {
    "duration": 267,
    "start_time": "2023-07-15T21:16:17.030Z"
   },
   {
    "duration": 68,
    "start_time": "2023-07-15T21:16:17.300Z"
   },
   {
    "duration": 307,
    "start_time": "2023-07-15T21:16:17.371Z"
   },
   {
    "duration": 23,
    "start_time": "2023-07-15T21:16:17.681Z"
   },
   {
    "duration": 6,
    "start_time": "2023-07-15T21:16:17.707Z"
   },
   {
    "duration": 17,
    "start_time": "2023-07-15T21:16:17.715Z"
   },
   {
    "duration": 37,
    "start_time": "2023-07-15T21:16:17.734Z"
   },
   {
    "duration": 18,
    "start_time": "2023-07-15T21:16:17.773Z"
   },
   {
    "duration": 26,
    "start_time": "2023-07-15T21:16:17.794Z"
   },
   {
    "duration": 313,
    "start_time": "2023-07-15T21:16:17.822Z"
   },
   {
    "duration": 35,
    "start_time": "2023-07-15T21:16:18.137Z"
   },
   {
    "duration": 38,
    "start_time": "2023-07-15T21:16:18.173Z"
   },
   {
    "duration": 16,
    "start_time": "2023-07-15T21:16:18.213Z"
   },
   {
    "duration": 138,
    "start_time": "2023-07-15T21:16:18.231Z"
   },
   {
    "duration": 0,
    "start_time": "2023-07-15T21:16:18.372Z"
   },
   {
    "duration": 0,
    "start_time": "2023-07-15T21:16:18.374Z"
   },
   {
    "duration": 0,
    "start_time": "2023-07-15T21:16:18.375Z"
   },
   {
    "duration": 0,
    "start_time": "2023-07-15T21:16:18.377Z"
   },
   {
    "duration": 0,
    "start_time": "2023-07-15T21:16:18.379Z"
   },
   {
    "duration": 0,
    "start_time": "2023-07-15T21:16:18.380Z"
   },
   {
    "duration": 0,
    "start_time": "2023-07-15T21:16:18.382Z"
   },
   {
    "duration": 0,
    "start_time": "2023-07-15T21:16:18.383Z"
   },
   {
    "duration": 0,
    "start_time": "2023-07-15T21:16:18.384Z"
   },
   {
    "duration": 0,
    "start_time": "2023-07-15T21:16:18.386Z"
   },
   {
    "duration": 0,
    "start_time": "2023-07-15T21:16:18.388Z"
   },
   {
    "duration": 0,
    "start_time": "2023-07-15T21:16:18.389Z"
   },
   {
    "duration": 0,
    "start_time": "2023-07-15T21:16:18.390Z"
   },
   {
    "duration": 0,
    "start_time": "2023-07-15T21:16:18.391Z"
   },
   {
    "duration": 0,
    "start_time": "2023-07-15T21:16:18.393Z"
   },
   {
    "duration": 0,
    "start_time": "2023-07-15T21:16:18.395Z"
   },
   {
    "duration": 0,
    "start_time": "2023-07-15T21:16:18.396Z"
   },
   {
    "duration": 0,
    "start_time": "2023-07-15T21:16:18.398Z"
   },
   {
    "duration": 0,
    "start_time": "2023-07-15T21:16:18.399Z"
   },
   {
    "duration": 0,
    "start_time": "2023-07-15T21:16:18.401Z"
   },
   {
    "duration": 0,
    "start_time": "2023-07-15T21:16:18.403Z"
   },
   {
    "duration": 0,
    "start_time": "2023-07-15T21:16:18.405Z"
   },
   {
    "duration": 0,
    "start_time": "2023-07-15T21:16:18.406Z"
   },
   {
    "duration": 0,
    "start_time": "2023-07-15T21:16:18.467Z"
   },
   {
    "duration": 0,
    "start_time": "2023-07-15T21:16:18.469Z"
   },
   {
    "duration": 0,
    "start_time": "2023-07-15T21:16:18.471Z"
   },
   {
    "duration": 0,
    "start_time": "2023-07-15T21:16:18.473Z"
   },
   {
    "duration": 0,
    "start_time": "2023-07-15T21:16:18.474Z"
   },
   {
    "duration": 0,
    "start_time": "2023-07-15T21:16:18.476Z"
   },
   {
    "duration": 0,
    "start_time": "2023-07-15T21:16:18.477Z"
   },
   {
    "duration": 0,
    "start_time": "2023-07-15T21:16:18.479Z"
   },
   {
    "duration": 0,
    "start_time": "2023-07-15T21:16:18.481Z"
   },
   {
    "duration": 0,
    "start_time": "2023-07-15T21:16:18.483Z"
   },
   {
    "duration": 0,
    "start_time": "2023-07-15T21:16:18.485Z"
   },
   {
    "duration": 0,
    "start_time": "2023-07-15T21:16:18.486Z"
   },
   {
    "duration": 0,
    "start_time": "2023-07-15T21:16:18.488Z"
   },
   {
    "duration": 0,
    "start_time": "2023-07-15T21:16:18.489Z"
   },
   {
    "duration": 0,
    "start_time": "2023-07-15T21:16:18.492Z"
   },
   {
    "duration": 12,
    "start_time": "2023-07-15T21:16:44.935Z"
   },
   {
    "duration": 16,
    "start_time": "2023-07-15T21:17:03.461Z"
   },
   {
    "duration": 13,
    "start_time": "2023-07-15T21:17:09.520Z"
   },
   {
    "duration": 17,
    "start_time": "2023-07-15T21:17:14.750Z"
   },
   {
    "duration": 12,
    "start_time": "2023-07-15T21:17:35.634Z"
   },
   {
    "duration": 14,
    "start_time": "2023-07-15T21:18:03.135Z"
   },
   {
    "duration": 14,
    "start_time": "2023-07-15T21:18:32.763Z"
   },
   {
    "duration": 36,
    "start_time": "2023-07-15T21:18:38.646Z"
   },
   {
    "duration": 15,
    "start_time": "2023-07-15T21:19:29.269Z"
   },
   {
    "duration": 19,
    "start_time": "2023-07-15T21:19:38.770Z"
   },
   {
    "duration": 18,
    "start_time": "2023-07-15T21:21:10.680Z"
   },
   {
    "duration": 4,
    "start_time": "2023-07-15T21:22:12.388Z"
   },
   {
    "duration": 5,
    "start_time": "2023-07-15T21:22:22.692Z"
   },
   {
    "duration": 5,
    "start_time": "2023-07-15T21:22:56.780Z"
   },
   {
    "duration": 6,
    "start_time": "2023-07-15T21:23:10.345Z"
   },
   {
    "duration": 4,
    "start_time": "2023-07-15T21:23:51.011Z"
   },
   {
    "duration": 1260,
    "start_time": "2023-07-15T21:29:09.808Z"
   },
   {
    "duration": 67,
    "start_time": "2023-07-15T21:29:11.070Z"
   },
   {
    "duration": 307,
    "start_time": "2023-07-15T21:29:11.139Z"
   },
   {
    "duration": 19,
    "start_time": "2023-07-15T21:29:11.449Z"
   },
   {
    "duration": 32,
    "start_time": "2023-07-15T21:29:11.470Z"
   },
   {
    "duration": 22,
    "start_time": "2023-07-15T21:29:11.504Z"
   },
   {
    "duration": 42,
    "start_time": "2023-07-15T21:29:11.528Z"
   },
   {
    "duration": 18,
    "start_time": "2023-07-15T21:29:11.573Z"
   },
   {
    "duration": 17,
    "start_time": "2023-07-15T21:29:11.593Z"
   },
   {
    "duration": 35,
    "start_time": "2023-07-15T21:29:11.613Z"
   },
   {
    "duration": 9,
    "start_time": "2023-07-15T21:29:11.667Z"
   },
   {
    "duration": 49,
    "start_time": "2023-07-15T21:29:11.678Z"
   },
   {
    "duration": 39,
    "start_time": "2023-07-15T21:29:11.728Z"
   },
   {
    "duration": 21,
    "start_time": "2023-07-15T21:29:11.770Z"
   },
   {
    "duration": 24,
    "start_time": "2023-07-15T21:29:11.793Z"
   },
   {
    "duration": 10,
    "start_time": "2023-07-15T21:29:11.819Z"
   },
   {
    "duration": 20,
    "start_time": "2023-07-15T21:29:11.830Z"
   },
   {
    "duration": 9,
    "start_time": "2023-07-15T21:29:11.852Z"
   },
   {
    "duration": 25,
    "start_time": "2023-07-15T21:29:11.862Z"
   },
   {
    "duration": 29,
    "start_time": "2023-07-15T21:29:11.890Z"
   },
   {
    "duration": 23,
    "start_time": "2023-07-15T21:29:11.920Z"
   },
   {
    "duration": 19,
    "start_time": "2023-07-15T21:29:11.945Z"
   },
   {
    "duration": 61,
    "start_time": "2023-07-15T21:29:11.966Z"
   },
   {
    "duration": 11,
    "start_time": "2023-07-15T21:29:12.029Z"
   },
   {
    "duration": 13,
    "start_time": "2023-07-15T21:29:12.041Z"
   },
   {
    "duration": 17,
    "start_time": "2023-07-15T21:29:12.066Z"
   },
   {
    "duration": 31,
    "start_time": "2023-07-15T21:29:12.085Z"
   },
   {
    "duration": 63,
    "start_time": "2023-07-15T21:29:12.121Z"
   },
   {
    "duration": 16,
    "start_time": "2023-07-15T21:29:12.186Z"
   },
   {
    "duration": 18,
    "start_time": "2023-07-15T21:29:12.203Z"
   },
   {
    "duration": 56,
    "start_time": "2023-07-15T21:29:12.223Z"
   },
   {
    "duration": 455,
    "start_time": "2023-07-15T21:29:12.281Z"
   },
   {
    "duration": 32,
    "start_time": "2023-07-15T21:29:12.738Z"
   },
   {
    "duration": 39,
    "start_time": "2023-07-15T21:29:12.772Z"
   },
   {
    "duration": 48,
    "start_time": "2023-07-15T21:29:12.814Z"
   },
   {
    "duration": 71,
    "start_time": "2023-07-15T21:29:12.864Z"
   },
   {
    "duration": 36,
    "start_time": "2023-07-15T21:29:12.937Z"
   },
   {
    "duration": 213,
    "start_time": "2023-07-15T21:29:12.975Z"
   },
   {
    "duration": 14,
    "start_time": "2023-07-15T21:29:13.191Z"
   },
   {
    "duration": 17,
    "start_time": "2023-07-15T21:29:13.207Z"
   },
   {
    "duration": 16,
    "start_time": "2023-07-15T21:29:13.226Z"
   },
   {
    "duration": 5661,
    "start_time": "2023-07-15T21:29:13.244Z"
   },
   {
    "duration": 29,
    "start_time": "2023-07-15T21:29:18.907Z"
   },
   {
    "duration": 231,
    "start_time": "2023-07-15T21:29:18.938Z"
   },
   {
    "duration": 48,
    "start_time": "2023-07-15T21:29:19.171Z"
   },
   {
    "duration": 287,
    "start_time": "2023-07-15T21:29:19.220Z"
   },
   {
    "duration": 18,
    "start_time": "2023-07-15T21:29:19.509Z"
   },
   {
    "duration": 17,
    "start_time": "2023-07-15T21:29:19.529Z"
   },
   {
    "duration": 4,
    "start_time": "2023-07-15T21:29:19.567Z"
   },
   {
    "duration": 21,
    "start_time": "2023-07-15T21:29:19.573Z"
   },
   {
    "duration": 20,
    "start_time": "2023-07-15T21:29:19.597Z"
   },
   {
    "duration": 295,
    "start_time": "2023-07-15T21:29:19.618Z"
   },
   {
    "duration": 25,
    "start_time": "2023-07-15T21:29:19.915Z"
   },
   {
    "duration": 57,
    "start_time": "2023-07-15T21:29:19.942Z"
   },
   {
    "duration": 16,
    "start_time": "2023-07-15T21:29:20.001Z"
   },
   {
    "duration": 138,
    "start_time": "2023-07-15T21:29:20.018Z"
   },
   {
    "duration": 0,
    "start_time": "2023-07-15T21:29:20.158Z"
   },
   {
    "duration": 0,
    "start_time": "2023-07-15T21:29:20.160Z"
   },
   {
    "duration": 0,
    "start_time": "2023-07-15T21:29:20.166Z"
   },
   {
    "duration": 0,
    "start_time": "2023-07-15T21:29:20.168Z"
   },
   {
    "duration": 0,
    "start_time": "2023-07-15T21:29:20.169Z"
   },
   {
    "duration": 0,
    "start_time": "2023-07-15T21:29:20.170Z"
   },
   {
    "duration": 0,
    "start_time": "2023-07-15T21:29:20.171Z"
   },
   {
    "duration": 0,
    "start_time": "2023-07-15T21:29:20.172Z"
   },
   {
    "duration": 0,
    "start_time": "2023-07-15T21:29:20.173Z"
   },
   {
    "duration": 0,
    "start_time": "2023-07-15T21:29:20.174Z"
   },
   {
    "duration": 0,
    "start_time": "2023-07-15T21:29:20.175Z"
   },
   {
    "duration": 0,
    "start_time": "2023-07-15T21:29:20.176Z"
   },
   {
    "duration": 0,
    "start_time": "2023-07-15T21:29:20.177Z"
   },
   {
    "duration": 0,
    "start_time": "2023-07-15T21:29:20.178Z"
   },
   {
    "duration": 0,
    "start_time": "2023-07-15T21:29:20.179Z"
   },
   {
    "duration": 0,
    "start_time": "2023-07-15T21:29:20.180Z"
   },
   {
    "duration": 0,
    "start_time": "2023-07-15T21:29:20.181Z"
   },
   {
    "duration": 0,
    "start_time": "2023-07-15T21:29:20.182Z"
   },
   {
    "duration": 0,
    "start_time": "2023-07-15T21:29:20.184Z"
   },
   {
    "duration": 0,
    "start_time": "2023-07-15T21:29:20.185Z"
   },
   {
    "duration": 0,
    "start_time": "2023-07-15T21:29:20.186Z"
   },
   {
    "duration": 0,
    "start_time": "2023-07-15T21:29:20.187Z"
   },
   {
    "duration": 0,
    "start_time": "2023-07-15T21:29:20.188Z"
   },
   {
    "duration": 0,
    "start_time": "2023-07-15T21:29:20.189Z"
   },
   {
    "duration": 0,
    "start_time": "2023-07-15T21:29:20.191Z"
   },
   {
    "duration": 0,
    "start_time": "2023-07-15T21:29:20.193Z"
   },
   {
    "duration": 0,
    "start_time": "2023-07-15T21:29:20.194Z"
   },
   {
    "duration": 0,
    "start_time": "2023-07-15T21:29:20.195Z"
   },
   {
    "duration": 0,
    "start_time": "2023-07-15T21:29:20.197Z"
   },
   {
    "duration": 0,
    "start_time": "2023-07-15T21:29:20.200Z"
   },
   {
    "duration": 0,
    "start_time": "2023-07-15T21:29:20.204Z"
   },
   {
    "duration": 0,
    "start_time": "2023-07-15T21:29:20.205Z"
   },
   {
    "duration": 0,
    "start_time": "2023-07-15T21:29:20.206Z"
   },
   {
    "duration": 0,
    "start_time": "2023-07-15T21:29:20.207Z"
   },
   {
    "duration": 0,
    "start_time": "2023-07-15T21:29:20.209Z"
   },
   {
    "duration": 0,
    "start_time": "2023-07-15T21:29:20.268Z"
   },
   {
    "duration": 0,
    "start_time": "2023-07-15T21:29:20.268Z"
   },
   {
    "duration": 0,
    "start_time": "2023-07-15T21:29:20.269Z"
   },
   {
    "duration": 15,
    "start_time": "2023-07-15T21:33:27.982Z"
   },
   {
    "duration": 12,
    "start_time": "2023-07-15T21:33:35.376Z"
   },
   {
    "duration": 13,
    "start_time": "2023-07-15T21:33:35.839Z"
   },
   {
    "duration": 10,
    "start_time": "2023-07-15T21:33:36.656Z"
   },
   {
    "duration": 39,
    "start_time": "2023-07-15T21:33:45.700Z"
   },
   {
    "duration": 3,
    "start_time": "2023-07-15T21:33:46.080Z"
   },
   {
    "duration": 30,
    "start_time": "2023-07-15T21:33:46.761Z"
   },
   {
    "duration": 8,
    "start_time": "2023-07-15T21:33:47.285Z"
   },
   {
    "duration": 43,
    "start_time": "2023-07-15T21:33:48.140Z"
   },
   {
    "duration": 28,
    "start_time": "2023-07-15T21:33:49.596Z"
   },
   {
    "duration": 27,
    "start_time": "2023-07-15T21:33:51.047Z"
   },
   {
    "duration": 27,
    "start_time": "2023-07-15T21:33:51.568Z"
   },
   {
    "duration": 23,
    "start_time": "2023-07-15T21:33:52.085Z"
   },
   {
    "duration": 11,
    "start_time": "2023-07-15T21:33:52.547Z"
   },
   {
    "duration": 22,
    "start_time": "2023-07-15T21:33:54.157Z"
   },
   {
    "duration": 19,
    "start_time": "2023-07-15T21:33:54.721Z"
   },
   {
    "duration": 23,
    "start_time": "2023-07-15T21:33:55.280Z"
   },
   {
    "duration": 9,
    "start_time": "2023-07-15T21:33:56.412Z"
   },
   {
    "duration": 5,
    "start_time": "2023-07-15T21:33:56.787Z"
   },
   {
    "duration": 18,
    "start_time": "2023-07-15T21:33:57.102Z"
   },
   {
    "duration": 33,
    "start_time": "2023-07-15T21:33:58.635Z"
   },
   {
    "duration": 29,
    "start_time": "2023-07-15T21:33:59.195Z"
   },
   {
    "duration": 22,
    "start_time": "2023-07-15T21:33:59.466Z"
   },
   {
    "duration": 18,
    "start_time": "2023-07-15T21:33:59.756Z"
   },
   {
    "duration": 11,
    "start_time": "2023-07-15T21:34:00.054Z"
   },
   {
    "duration": 11,
    "start_time": "2023-07-15T21:34:00.313Z"
   },
   {
    "duration": 10,
    "start_time": "2023-07-15T21:34:00.582Z"
   },
   {
    "duration": 22,
    "start_time": "2023-07-15T21:34:01.697Z"
   },
   {
    "duration": 51,
    "start_time": "2023-07-15T21:34:02.002Z"
   },
   {
    "duration": 38,
    "start_time": "2023-07-15T21:34:02.277Z"
   },
   {
    "duration": 21,
    "start_time": "2023-07-15T21:34:02.779Z"
   },
   {
    "duration": 18,
    "start_time": "2023-07-15T21:34:03.416Z"
   },
   {
    "duration": 143,
    "start_time": "2023-07-15T21:34:03.700Z"
   },
   {
    "duration": 26,
    "start_time": "2023-07-15T21:34:03.950Z"
   },
   {
    "duration": 135,
    "start_time": "2023-07-15T21:34:04.258Z"
   },
   {
    "duration": 11,
    "start_time": "2023-07-15T21:34:04.553Z"
   },
   {
    "duration": 5,
    "start_time": "2023-07-15T21:34:04.863Z"
   },
   {
    "duration": 6,
    "start_time": "2023-07-15T21:34:06.205Z"
   },
   {
    "duration": 6,
    "start_time": "2023-07-15T21:34:06.488Z"
   },
   {
    "duration": 12,
    "start_time": "2023-07-15T21:40:06.134Z"
   },
   {
    "duration": 22,
    "start_time": "2023-07-15T21:40:13.166Z"
   },
   {
    "duration": 22,
    "start_time": "2023-07-15T21:40:31.388Z"
   },
   {
    "duration": 20,
    "start_time": "2023-07-15T21:40:43.794Z"
   },
   {
    "duration": 23,
    "start_time": "2023-07-15T21:40:59.438Z"
   },
   {
    "duration": 15,
    "start_time": "2023-07-15T21:41:27.990Z"
   },
   {
    "duration": 26,
    "start_time": "2023-07-15T21:41:32.355Z"
   },
   {
    "duration": 271,
    "start_time": "2023-07-15T21:41:44.361Z"
   },
   {
    "duration": 1336,
    "start_time": "2023-07-15T21:41:52.852Z"
   },
   {
    "duration": 51,
    "start_time": "2023-07-15T21:41:54.190Z"
   },
   {
    "duration": 287,
    "start_time": "2023-07-15T21:41:54.243Z"
   },
   {
    "duration": 21,
    "start_time": "2023-07-15T21:41:54.533Z"
   },
   {
    "duration": 29,
    "start_time": "2023-07-15T21:41:54.556Z"
   },
   {
    "duration": 22,
    "start_time": "2023-07-15T21:41:54.586Z"
   },
   {
    "duration": 12,
    "start_time": "2023-07-15T21:41:54.610Z"
   },
   {
    "duration": 6,
    "start_time": "2023-07-15T21:41:54.623Z"
   },
   {
    "duration": 47,
    "start_time": "2023-07-15T21:41:54.630Z"
   },
   {
    "duration": 9,
    "start_time": "2023-07-15T21:41:54.680Z"
   },
   {
    "duration": 9,
    "start_time": "2023-07-15T21:41:54.691Z"
   },
   {
    "duration": 15,
    "start_time": "2023-07-15T21:41:54.702Z"
   },
   {
    "duration": 48,
    "start_time": "2023-07-15T21:41:54.719Z"
   },
   {
    "duration": 12,
    "start_time": "2023-07-15T21:41:54.769Z"
   },
   {
    "duration": 18,
    "start_time": "2023-07-15T21:41:54.783Z"
   },
   {
    "duration": 16,
    "start_time": "2023-07-15T21:41:54.803Z"
   },
   {
    "duration": 24,
    "start_time": "2023-07-15T21:41:54.821Z"
   },
   {
    "duration": 21,
    "start_time": "2023-07-15T21:41:54.847Z"
   },
   {
    "duration": 9,
    "start_time": "2023-07-15T21:41:54.870Z"
   },
   {
    "duration": 26,
    "start_time": "2023-07-15T21:41:54.881Z"
   },
   {
    "duration": 4,
    "start_time": "2023-07-15T21:41:54.909Z"
   },
   {
    "duration": 20,
    "start_time": "2023-07-15T21:41:54.915Z"
   },
   {
    "duration": 45,
    "start_time": "2023-07-15T21:41:54.936Z"
   },
   {
    "duration": 11,
    "start_time": "2023-07-15T21:41:54.982Z"
   },
   {
    "duration": 12,
    "start_time": "2023-07-15T21:41:54.995Z"
   },
   {
    "duration": 25,
    "start_time": "2023-07-15T21:41:55.009Z"
   },
   {
    "duration": 41,
    "start_time": "2023-07-15T21:41:55.037Z"
   },
   {
    "duration": 21,
    "start_time": "2023-07-15T21:41:55.084Z"
   },
   {
    "duration": 14,
    "start_time": "2023-07-15T21:41:55.106Z"
   },
   {
    "duration": 13,
    "start_time": "2023-07-15T21:41:55.121Z"
   },
   {
    "duration": 51,
    "start_time": "2023-07-15T21:41:55.136Z"
   },
   {
    "duration": 298,
    "start_time": "2023-07-15T21:41:55.189Z"
   },
   {
    "duration": 27,
    "start_time": "2023-07-15T21:41:55.489Z"
   },
   {
    "duration": 4,
    "start_time": "2023-07-15T21:41:55.518Z"
   },
   {
    "duration": 16,
    "start_time": "2023-07-15T21:41:55.524Z"
   },
   {
    "duration": 32,
    "start_time": "2023-07-15T21:41:55.568Z"
   },
   {
    "duration": 32,
    "start_time": "2023-07-15T21:41:55.602Z"
   },
   {
    "duration": 209,
    "start_time": "2023-07-15T21:41:55.636Z"
   },
   {
    "duration": 20,
    "start_time": "2023-07-15T21:41:55.848Z"
   },
   {
    "duration": 4,
    "start_time": "2023-07-15T21:41:55.870Z"
   },
   {
    "duration": 6,
    "start_time": "2023-07-15T21:41:55.876Z"
   },
   {
    "duration": 5383,
    "start_time": "2023-07-15T21:41:55.884Z"
   },
   {
    "duration": 34,
    "start_time": "2023-07-15T21:42:01.269Z"
   },
   {
    "duration": 224,
    "start_time": "2023-07-15T21:42:01.304Z"
   },
   {
    "duration": 55,
    "start_time": "2023-07-15T21:42:01.530Z"
   },
   {
    "duration": 279,
    "start_time": "2023-07-15T21:42:01.586Z"
   },
   {
    "duration": 18,
    "start_time": "2023-07-15T21:42:01.867Z"
   },
   {
    "duration": 90,
    "start_time": "2023-07-15T21:42:01.886Z"
   },
   {
    "duration": 50,
    "start_time": "2023-07-15T21:42:01.978Z"
   },
   {
    "duration": 73,
    "start_time": "2023-07-15T21:42:02.030Z"
   },
   {
    "duration": 362,
    "start_time": "2023-07-15T21:42:02.105Z"
   },
   {
    "duration": 25,
    "start_time": "2023-07-15T21:42:02.470Z"
   },
   {
    "duration": 79,
    "start_time": "2023-07-15T21:42:02.497Z"
   },
   {
    "duration": 62,
    "start_time": "2023-07-15T21:42:02.578Z"
   },
   {
    "duration": 167,
    "start_time": "2023-07-15T21:42:02.642Z"
   },
   {
    "duration": 0,
    "start_time": "2023-07-15T21:42:02.811Z"
   },
   {
    "duration": 0,
    "start_time": "2023-07-15T21:42:02.813Z"
   },
   {
    "duration": 0,
    "start_time": "2023-07-15T21:42:02.815Z"
   },
   {
    "duration": 0,
    "start_time": "2023-07-15T21:42:02.816Z"
   },
   {
    "duration": 0,
    "start_time": "2023-07-15T21:42:02.818Z"
   },
   {
    "duration": 0,
    "start_time": "2023-07-15T21:42:02.819Z"
   },
   {
    "duration": 0,
    "start_time": "2023-07-15T21:42:02.820Z"
   },
   {
    "duration": 1,
    "start_time": "2023-07-15T21:42:02.821Z"
   },
   {
    "duration": 0,
    "start_time": "2023-07-15T21:42:02.823Z"
   },
   {
    "duration": 1,
    "start_time": "2023-07-15T21:42:02.823Z"
   },
   {
    "duration": 1,
    "start_time": "2023-07-15T21:42:02.824Z"
   },
   {
    "duration": 0,
    "start_time": "2023-07-15T21:42:02.826Z"
   },
   {
    "duration": 0,
    "start_time": "2023-07-15T21:42:02.827Z"
   },
   {
    "duration": 0,
    "start_time": "2023-07-15T21:42:02.828Z"
   },
   {
    "duration": 0,
    "start_time": "2023-07-15T21:42:02.829Z"
   },
   {
    "duration": 0,
    "start_time": "2023-07-15T21:42:02.830Z"
   },
   {
    "duration": 0,
    "start_time": "2023-07-15T21:42:02.832Z"
   },
   {
    "duration": 0,
    "start_time": "2023-07-15T21:42:02.833Z"
   },
   {
    "duration": 0,
    "start_time": "2023-07-15T21:42:02.868Z"
   },
   {
    "duration": 0,
    "start_time": "2023-07-15T21:42:02.869Z"
   },
   {
    "duration": 0,
    "start_time": "2023-07-15T21:42:02.870Z"
   },
   {
    "duration": 0,
    "start_time": "2023-07-15T21:42:02.871Z"
   },
   {
    "duration": 0,
    "start_time": "2023-07-15T21:42:02.872Z"
   },
   {
    "duration": 0,
    "start_time": "2023-07-15T21:42:02.873Z"
   },
   {
    "duration": 0,
    "start_time": "2023-07-15T21:42:02.874Z"
   },
   {
    "duration": 0,
    "start_time": "2023-07-15T21:42:02.875Z"
   },
   {
    "duration": 0,
    "start_time": "2023-07-15T21:42:02.876Z"
   },
   {
    "duration": 0,
    "start_time": "2023-07-15T21:42:02.878Z"
   },
   {
    "duration": 0,
    "start_time": "2023-07-15T21:42:02.879Z"
   },
   {
    "duration": 0,
    "start_time": "2023-07-15T21:42:02.880Z"
   },
   {
    "duration": 0,
    "start_time": "2023-07-15T21:42:02.882Z"
   },
   {
    "duration": 0,
    "start_time": "2023-07-15T21:42:02.883Z"
   },
   {
    "duration": 0,
    "start_time": "2023-07-15T21:42:02.885Z"
   },
   {
    "duration": 0,
    "start_time": "2023-07-15T21:42:02.886Z"
   },
   {
    "duration": 0,
    "start_time": "2023-07-15T21:42:02.887Z"
   },
   {
    "duration": 0,
    "start_time": "2023-07-15T21:42:02.888Z"
   },
   {
    "duration": 0,
    "start_time": "2023-07-15T21:42:02.890Z"
   },
   {
    "duration": 0,
    "start_time": "2023-07-15T21:42:02.891Z"
   },
   {
    "duration": 21,
    "start_time": "2023-07-15T21:42:19.863Z"
   },
   {
    "duration": 291,
    "start_time": "2023-07-15T21:42:27.881Z"
   },
   {
    "duration": 30,
    "start_time": "2023-07-15T21:48:16.281Z"
   },
   {
    "duration": 271,
    "start_time": "2023-07-15T21:50:40.562Z"
   },
   {
    "duration": 37,
    "start_time": "2023-07-15T21:51:17.807Z"
   },
   {
    "duration": 31,
    "start_time": "2023-07-15T21:51:34.795Z"
   },
   {
    "duration": 28,
    "start_time": "2023-07-15T21:52:42.235Z"
   },
   {
    "duration": 31,
    "start_time": "2023-07-15T21:53:25.621Z"
   },
   {
    "duration": 308,
    "start_time": "2023-07-15T21:53:37.862Z"
   },
   {
    "duration": 36,
    "start_time": "2023-07-15T21:53:45.022Z"
   },
   {
    "duration": 28,
    "start_time": "2023-07-15T21:53:56.548Z"
   },
   {
    "duration": 30,
    "start_time": "2023-07-15T21:54:09.208Z"
   },
   {
    "duration": 33,
    "start_time": "2023-07-15T21:54:21.713Z"
   },
   {
    "duration": 35,
    "start_time": "2023-07-15T21:54:37.134Z"
   },
   {
    "duration": 50,
    "start_time": "2023-07-15T21:55:14.718Z"
   },
   {
    "duration": 37,
    "start_time": "2023-07-15T21:55:30.379Z"
   },
   {
    "duration": 32,
    "start_time": "2023-07-15T21:55:51.317Z"
   },
   {
    "duration": 32,
    "start_time": "2023-07-15T21:56:04.322Z"
   },
   {
    "duration": 34,
    "start_time": "2023-07-15T21:56:30.444Z"
   },
   {
    "duration": 49,
    "start_time": "2023-07-15T21:56:50.440Z"
   },
   {
    "duration": 38,
    "start_time": "2023-07-15T21:58:22.536Z"
   },
   {
    "duration": 314,
    "start_time": "2023-07-15T22:01:35.958Z"
   },
   {
    "duration": 293,
    "start_time": "2023-07-15T22:02:48.074Z"
   },
   {
    "duration": 307,
    "start_time": "2023-07-15T22:04:19.462Z"
   },
   {
    "duration": 298,
    "start_time": "2023-07-15T22:04:24.537Z"
   },
   {
    "duration": 417,
    "start_time": "2023-07-15T22:04:37.588Z"
   },
   {
    "duration": 296,
    "start_time": "2023-07-15T22:04:55.037Z"
   },
   {
    "duration": 297,
    "start_time": "2023-07-15T22:04:59.720Z"
   },
   {
    "duration": 335,
    "start_time": "2023-07-15T22:05:12.250Z"
   },
   {
    "duration": 294,
    "start_time": "2023-07-15T22:05:16.120Z"
   },
   {
    "duration": 300,
    "start_time": "2023-07-15T22:05:25.180Z"
   },
   {
    "duration": 477,
    "start_time": "2023-07-15T22:05:33.617Z"
   },
   {
    "duration": 309,
    "start_time": "2023-07-15T22:06:25.544Z"
   },
   {
    "duration": 276,
    "start_time": "2023-07-15T22:06:30.778Z"
   },
   {
    "duration": 321,
    "start_time": "2023-07-15T22:06:37.835Z"
   },
   {
    "duration": 319,
    "start_time": "2023-07-15T22:06:42.634Z"
   },
   {
    "duration": 255,
    "start_time": "2023-07-15T22:06:47.492Z"
   },
   {
    "duration": 255,
    "start_time": "2023-07-15T22:06:56.546Z"
   },
   {
    "duration": 430,
    "start_time": "2023-07-15T22:07:01.287Z"
   },
   {
    "duration": 338,
    "start_time": "2023-07-15T22:08:31.046Z"
   },
   {
    "duration": 325,
    "start_time": "2023-07-15T22:08:37.544Z"
   },
   {
    "duration": 304,
    "start_time": "2023-07-15T22:08:45.151Z"
   },
   {
    "duration": 23,
    "start_time": "2023-07-15T22:15:05.631Z"
   },
   {
    "duration": 21,
    "start_time": "2023-07-15T22:15:33.273Z"
   },
   {
    "duration": 27,
    "start_time": "2023-07-15T22:16:39.439Z"
   },
   {
    "duration": 21,
    "start_time": "2023-07-15T22:17:26.599Z"
   },
   {
    "duration": 24,
    "start_time": "2023-07-15T22:17:30.784Z"
   },
   {
    "duration": 19,
    "start_time": "2023-07-15T22:17:31.647Z"
   },
   {
    "duration": 23,
    "start_time": "2023-07-15T22:20:23.777Z"
   },
   {
    "duration": 22,
    "start_time": "2023-07-15T22:21:08.310Z"
   },
   {
    "duration": 23,
    "start_time": "2023-07-15T22:21:17.915Z"
   },
   {
    "duration": 18,
    "start_time": "2023-07-15T22:21:18.683Z"
   },
   {
    "duration": 17,
    "start_time": "2023-07-15T22:21:19.774Z"
   },
   {
    "duration": 25,
    "start_time": "2023-07-15T22:22:01.798Z"
   },
   {
    "duration": 30,
    "start_time": "2023-07-15T22:22:02.642Z"
   },
   {
    "duration": 22,
    "start_time": "2023-07-15T22:22:03.221Z"
   },
   {
    "duration": 24,
    "start_time": "2023-07-15T22:22:03.827Z"
   },
   {
    "duration": 28,
    "start_time": "2023-07-15T22:22:30.516Z"
   },
   {
    "duration": 22,
    "start_time": "2023-07-15T22:22:31.018Z"
   },
   {
    "duration": 18,
    "start_time": "2023-07-15T22:22:31.857Z"
   },
   {
    "duration": 25,
    "start_time": "2023-07-15T22:22:32.313Z"
   },
   {
    "duration": 21,
    "start_time": "2023-07-15T22:23:32.041Z"
   },
   {
    "duration": 22,
    "start_time": "2023-07-15T22:24:35.179Z"
   },
   {
    "duration": 21,
    "start_time": "2023-07-15T22:24:54.410Z"
   },
   {
    "duration": 7,
    "start_time": "2023-07-15T22:25:52.163Z"
   },
   {
    "duration": 18,
    "start_time": "2023-07-15T22:28:54.514Z"
   },
   {
    "duration": 19,
    "start_time": "2023-07-15T22:29:33.247Z"
   },
   {
    "duration": 1284,
    "start_time": "2023-07-15T22:29:38.451Z"
   },
   {
    "duration": 202,
    "start_time": "2023-07-15T22:29:39.737Z"
   },
   {
    "duration": 257,
    "start_time": "2023-07-15T22:29:39.941Z"
   },
   {
    "duration": 25,
    "start_time": "2023-07-15T22:29:40.200Z"
   },
   {
    "duration": 18,
    "start_time": "2023-07-15T22:29:40.227Z"
   },
   {
    "duration": 39,
    "start_time": "2023-07-15T22:29:40.246Z"
   },
   {
    "duration": 21,
    "start_time": "2023-07-15T22:29:40.286Z"
   },
   {
    "duration": 11,
    "start_time": "2023-07-15T22:29:40.309Z"
   },
   {
    "duration": 22,
    "start_time": "2023-07-15T22:29:40.321Z"
   },
   {
    "duration": 28,
    "start_time": "2023-07-15T22:29:40.346Z"
   },
   {
    "duration": 8,
    "start_time": "2023-07-15T22:29:40.376Z"
   },
   {
    "duration": 13,
    "start_time": "2023-07-15T22:29:40.386Z"
   },
   {
    "duration": 18,
    "start_time": "2023-07-15T22:29:40.401Z"
   },
   {
    "duration": 21,
    "start_time": "2023-07-15T22:29:40.420Z"
   },
   {
    "duration": 27,
    "start_time": "2023-07-15T22:29:40.443Z"
   },
   {
    "duration": 15,
    "start_time": "2023-07-15T22:29:40.472Z"
   },
   {
    "duration": 9,
    "start_time": "2023-07-15T22:29:40.489Z"
   },
   {
    "duration": 23,
    "start_time": "2023-07-15T22:29:40.499Z"
   },
   {
    "duration": 6,
    "start_time": "2023-07-15T22:29:40.524Z"
   },
   {
    "duration": 38,
    "start_time": "2023-07-15T22:29:40.532Z"
   },
   {
    "duration": 26,
    "start_time": "2023-07-15T22:29:40.572Z"
   },
   {
    "duration": 5,
    "start_time": "2023-07-15T22:29:40.600Z"
   },
   {
    "duration": 10,
    "start_time": "2023-07-15T22:29:40.607Z"
   },
   {
    "duration": 50,
    "start_time": "2023-07-15T22:29:40.619Z"
   },
   {
    "duration": 11,
    "start_time": "2023-07-15T22:29:40.670Z"
   },
   {
    "duration": 15,
    "start_time": "2023-07-15T22:29:40.683Z"
   },
   {
    "duration": 14,
    "start_time": "2023-07-15T22:29:40.700Z"
   },
   {
    "duration": 10,
    "start_time": "2023-07-15T22:29:40.719Z"
   },
   {
    "duration": 46,
    "start_time": "2023-07-15T22:29:40.730Z"
   },
   {
    "duration": 13,
    "start_time": "2023-07-15T22:29:40.778Z"
   },
   {
    "duration": 12,
    "start_time": "2023-07-15T22:29:40.793Z"
   },
   {
    "duration": 22,
    "start_time": "2023-07-15T22:29:40.807Z"
   },
   {
    "duration": 320,
    "start_time": "2023-07-15T22:29:40.831Z"
   },
   {
    "duration": 34,
    "start_time": "2023-07-15T22:29:41.153Z"
   },
   {
    "duration": 6,
    "start_time": "2023-07-15T22:29:41.188Z"
   },
   {
    "duration": 23,
    "start_time": "2023-07-15T22:29:41.196Z"
   },
   {
    "duration": 48,
    "start_time": "2023-07-15T22:29:41.221Z"
   },
   {
    "duration": 32,
    "start_time": "2023-07-15T22:29:41.271Z"
   },
   {
    "duration": 209,
    "start_time": "2023-07-15T22:29:41.305Z"
   },
   {
    "duration": 11,
    "start_time": "2023-07-15T22:29:41.516Z"
   },
   {
    "duration": 14,
    "start_time": "2023-07-15T22:29:41.529Z"
   },
   {
    "duration": 9,
    "start_time": "2023-07-15T22:29:41.545Z"
   },
   {
    "duration": 6112,
    "start_time": "2023-07-15T22:29:41.567Z"
   },
   {
    "duration": 86,
    "start_time": "2023-07-15T22:29:47.681Z"
   },
   {
    "duration": 284,
    "start_time": "2023-07-15T22:29:47.770Z"
   },
   {
    "duration": 47,
    "start_time": "2023-07-15T22:29:48.056Z"
   },
   {
    "duration": 263,
    "start_time": "2023-07-15T22:29:48.105Z"
   },
   {
    "duration": 18,
    "start_time": "2023-07-15T22:29:48.370Z"
   },
   {
    "duration": 21,
    "start_time": "2023-07-15T22:29:48.390Z"
   },
   {
    "duration": 4,
    "start_time": "2023-07-15T22:29:48.413Z"
   },
   {
    "duration": 25,
    "start_time": "2023-07-15T22:29:48.419Z"
   },
   {
    "duration": 315,
    "start_time": "2023-07-15T22:29:48.468Z"
   },
   {
    "duration": 42,
    "start_time": "2023-07-15T22:29:48.785Z"
   },
   {
    "duration": 67,
    "start_time": "2023-07-15T22:29:48.829Z"
   },
   {
    "duration": 310,
    "start_time": "2023-07-15T22:29:48.898Z"
   },
   {
    "duration": 25,
    "start_time": "2023-07-15T22:29:49.210Z"
   },
   {
    "duration": 40,
    "start_time": "2023-07-15T22:29:49.237Z"
   },
   {
    "duration": 23,
    "start_time": "2023-07-15T22:29:49.278Z"
   },
   {
    "duration": 15,
    "start_time": "2023-07-15T22:29:49.303Z"
   },
   {
    "duration": 22,
    "start_time": "2023-07-15T22:29:49.320Z"
   },
   {
    "duration": 52,
    "start_time": "2023-07-15T22:29:49.345Z"
   },
   {
    "duration": 3,
    "start_time": "2023-07-15T22:29:49.399Z"
   },
   {
    "duration": 27,
    "start_time": "2023-07-15T22:29:49.404Z"
   },
   {
    "duration": 11,
    "start_time": "2023-07-15T22:29:49.433Z"
   },
   {
    "duration": 57,
    "start_time": "2023-07-15T22:29:49.446Z"
   },
   {
    "duration": 20,
    "start_time": "2023-07-15T22:29:49.505Z"
   },
   {
    "duration": 20,
    "start_time": "2023-07-15T22:29:49.527Z"
   },
   {
    "duration": 28,
    "start_time": "2023-07-15T22:29:49.568Z"
   },
   {
    "duration": 23,
    "start_time": "2023-07-15T22:29:49.598Z"
   },
   {
    "duration": 25,
    "start_time": "2023-07-15T22:29:49.623Z"
   },
   {
    "duration": 59,
    "start_time": "2023-07-15T22:29:49.650Z"
   },
   {
    "duration": 18,
    "start_time": "2023-07-15T22:29:49.711Z"
   },
   {
    "duration": 22,
    "start_time": "2023-07-15T22:29:49.731Z"
   },
   {
    "duration": 8,
    "start_time": "2023-07-15T22:29:49.755Z"
   },
   {
    "duration": 8,
    "start_time": "2023-07-15T22:29:49.765Z"
   },
   {
    "duration": 21,
    "start_time": "2023-07-15T22:29:49.775Z"
   },
   {
    "duration": 20,
    "start_time": "2023-07-15T22:29:49.798Z"
   },
   {
    "duration": 24,
    "start_time": "2023-07-15T22:29:49.819Z"
   },
   {
    "duration": 32,
    "start_time": "2023-07-15T22:29:49.845Z"
   },
   {
    "duration": 16,
    "start_time": "2023-07-15T22:29:49.879Z"
   },
   {
    "duration": 9,
    "start_time": "2023-07-15T22:29:49.897Z"
   },
   {
    "duration": 8,
    "start_time": "2023-07-15T22:29:49.911Z"
   },
   {
    "duration": 12,
    "start_time": "2023-07-15T22:29:49.920Z"
   },
   {
    "duration": 54,
    "start_time": "2023-07-15T22:29:49.934Z"
   },
   {
    "duration": 34,
    "start_time": "2023-07-15T22:29:49.990Z"
   },
   {
    "duration": 55,
    "start_time": "2023-07-15T22:29:50.026Z"
   },
   {
    "duration": 18,
    "start_time": "2023-07-15T22:29:50.083Z"
   },
   {
    "duration": 16,
    "start_time": "2023-07-15T22:29:50.102Z"
   },
   {
    "duration": 164,
    "start_time": "2023-07-15T22:29:50.120Z"
   },
   {
    "duration": 17,
    "start_time": "2023-07-15T22:29:50.286Z"
   },
   {
    "duration": 141,
    "start_time": "2023-07-15T22:29:50.304Z"
   },
   {
    "duration": 119,
    "start_time": "2023-07-15T22:29:50.447Z"
   },
   {
    "duration": 0,
    "start_time": "2023-07-15T22:29:50.568Z"
   },
   {
    "duration": 0,
    "start_time": "2023-07-15T22:29:50.569Z"
   },
   {
    "duration": 0,
    "start_time": "2023-07-15T22:29:50.570Z"
   },
   {
    "duration": 42,
    "start_time": "2023-07-15T22:40:40.592Z"
   },
   {
    "duration": 1299,
    "start_time": "2023-07-15T22:40:56.144Z"
   },
   {
    "duration": 59,
    "start_time": "2023-07-15T22:40:57.445Z"
   },
   {
    "duration": 221,
    "start_time": "2023-07-15T22:40:57.505Z"
   },
   {
    "duration": 18,
    "start_time": "2023-07-15T22:40:57.729Z"
   },
   {
    "duration": 41,
    "start_time": "2023-07-15T22:40:57.749Z"
   },
   {
    "duration": 33,
    "start_time": "2023-07-15T22:40:57.792Z"
   },
   {
    "duration": 14,
    "start_time": "2023-07-15T22:40:57.827Z"
   },
   {
    "duration": 30,
    "start_time": "2023-07-15T22:40:57.843Z"
   },
   {
    "duration": 22,
    "start_time": "2023-07-15T22:40:57.875Z"
   },
   {
    "duration": 7,
    "start_time": "2023-07-15T22:40:57.902Z"
   },
   {
    "duration": 12,
    "start_time": "2023-07-15T22:40:57.911Z"
   },
   {
    "duration": 42,
    "start_time": "2023-07-15T22:40:57.925Z"
   },
   {
    "duration": 25,
    "start_time": "2023-07-15T22:40:57.969Z"
   },
   {
    "duration": 13,
    "start_time": "2023-07-15T22:40:57.996Z"
   },
   {
    "duration": 11,
    "start_time": "2023-07-15T22:40:58.011Z"
   },
   {
    "duration": 43,
    "start_time": "2023-07-15T22:40:58.024Z"
   },
   {
    "duration": 19,
    "start_time": "2023-07-15T22:40:58.070Z"
   },
   {
    "duration": 6,
    "start_time": "2023-07-15T22:40:58.092Z"
   },
   {
    "duration": 15,
    "start_time": "2023-07-15T22:40:58.100Z"
   },
   {
    "duration": 18,
    "start_time": "2023-07-15T22:40:58.117Z"
   },
   {
    "duration": 36,
    "start_time": "2023-07-15T22:40:58.137Z"
   },
   {
    "duration": 10,
    "start_time": "2023-07-15T22:40:58.175Z"
   },
   {
    "duration": 22,
    "start_time": "2023-07-15T22:40:58.187Z"
   },
   {
    "duration": 12,
    "start_time": "2023-07-15T22:40:58.211Z"
   },
   {
    "duration": 19,
    "start_time": "2023-07-15T22:40:58.225Z"
   },
   {
    "duration": 17,
    "start_time": "2023-07-15T22:40:58.268Z"
   },
   {
    "duration": 28,
    "start_time": "2023-07-15T22:40:58.287Z"
   },
   {
    "duration": 17,
    "start_time": "2023-07-15T22:40:58.319Z"
   },
   {
    "duration": 37,
    "start_time": "2023-07-15T22:40:58.339Z"
   },
   {
    "duration": 20,
    "start_time": "2023-07-15T22:40:58.378Z"
   },
   {
    "duration": 31,
    "start_time": "2023-07-15T22:40:58.400Z"
   },
   {
    "duration": 339,
    "start_time": "2023-07-15T22:40:58.433Z"
   },
   {
    "duration": 30,
    "start_time": "2023-07-15T22:40:58.774Z"
   },
   {
    "duration": 6,
    "start_time": "2023-07-15T22:40:58.806Z"
   },
   {
    "duration": 23,
    "start_time": "2023-07-15T22:40:58.813Z"
   },
   {
    "duration": 62,
    "start_time": "2023-07-15T22:40:58.839Z"
   },
   {
    "duration": 65,
    "start_time": "2023-07-15T22:40:58.902Z"
   },
   {
    "duration": 214,
    "start_time": "2023-07-15T22:40:58.968Z"
   },
   {
    "duration": 12,
    "start_time": "2023-07-15T22:40:59.184Z"
   },
   {
    "duration": 11,
    "start_time": "2023-07-15T22:40:59.198Z"
   },
   {
    "duration": 9,
    "start_time": "2023-07-15T22:40:59.210Z"
   },
   {
    "duration": 5561,
    "start_time": "2023-07-15T22:40:59.221Z"
   },
   {
    "duration": 33,
    "start_time": "2023-07-15T22:41:04.784Z"
   },
   {
    "duration": 244,
    "start_time": "2023-07-15T22:41:04.818Z"
   },
   {
    "duration": 41,
    "start_time": "2023-07-15T22:41:05.067Z"
   },
   {
    "duration": 272,
    "start_time": "2023-07-15T22:41:05.110Z"
   },
   {
    "duration": 17,
    "start_time": "2023-07-15T22:41:05.384Z"
   },
   {
    "duration": 20,
    "start_time": "2023-07-15T22:41:05.403Z"
   },
   {
    "duration": 8,
    "start_time": "2023-07-15T22:41:05.425Z"
   },
   {
    "duration": 61,
    "start_time": "2023-07-15T22:41:05.435Z"
   },
   {
    "duration": 313,
    "start_time": "2023-07-15T22:41:05.499Z"
   },
   {
    "duration": 38,
    "start_time": "2023-07-15T22:41:05.814Z"
   },
   {
    "duration": 41,
    "start_time": "2023-07-15T22:41:05.867Z"
   },
   {
    "duration": 313,
    "start_time": "2023-07-15T22:41:05.910Z"
   },
   {
    "duration": 24,
    "start_time": "2023-07-15T22:41:06.225Z"
   },
   {
    "duration": 37,
    "start_time": "2023-07-15T22:41:06.251Z"
   },
   {
    "duration": 23,
    "start_time": "2023-07-15T22:41:06.290Z"
   },
   {
    "duration": 7,
    "start_time": "2023-07-15T22:41:06.315Z"
   },
   {
    "duration": 54,
    "start_time": "2023-07-15T22:41:06.323Z"
   },
   {
    "duration": 38,
    "start_time": "2023-07-15T22:41:06.379Z"
   },
   {
    "duration": 3,
    "start_time": "2023-07-15T22:41:06.418Z"
   },
   {
    "duration": 45,
    "start_time": "2023-07-15T22:41:06.423Z"
   },
   {
    "duration": 6,
    "start_time": "2023-07-15T22:41:06.470Z"
   },
   {
    "duration": 40,
    "start_time": "2023-07-15T22:41:06.477Z"
   },
   {
    "duration": 22,
    "start_time": "2023-07-15T22:41:06.518Z"
   },
   {
    "duration": 39,
    "start_time": "2023-07-15T22:41:06.541Z"
   },
   {
    "duration": 19,
    "start_time": "2023-07-15T22:41:06.582Z"
   },
   {
    "duration": 23,
    "start_time": "2023-07-15T22:41:06.603Z"
   },
   {
    "duration": 42,
    "start_time": "2023-07-15T22:41:06.628Z"
   },
   {
    "duration": 20,
    "start_time": "2023-07-15T22:41:06.672Z"
   },
   {
    "duration": 21,
    "start_time": "2023-07-15T22:41:06.694Z"
   },
   {
    "duration": 50,
    "start_time": "2023-07-15T22:41:06.717Z"
   },
   {
    "duration": 8,
    "start_time": "2023-07-15T22:41:06.769Z"
   },
   {
    "duration": 9,
    "start_time": "2023-07-15T22:41:06.779Z"
   },
   {
    "duration": 12,
    "start_time": "2023-07-15T22:41:06.790Z"
   },
   {
    "duration": 20,
    "start_time": "2023-07-15T22:41:06.804Z"
   },
   {
    "duration": 55,
    "start_time": "2023-07-15T22:41:06.826Z"
   },
   {
    "duration": 23,
    "start_time": "2023-07-15T22:41:06.883Z"
   },
   {
    "duration": 18,
    "start_time": "2023-07-15T22:41:06.908Z"
   },
   {
    "duration": 41,
    "start_time": "2023-07-15T22:41:06.928Z"
   },
   {
    "duration": 12,
    "start_time": "2023-07-15T22:41:06.971Z"
   },
   {
    "duration": 10,
    "start_time": "2023-07-15T22:41:06.989Z"
   },
   {
    "duration": 23,
    "start_time": "2023-07-15T22:41:07.000Z"
   },
   {
    "duration": 60,
    "start_time": "2023-07-15T22:41:07.025Z"
   },
   {
    "duration": 31,
    "start_time": "2023-07-15T22:41:07.088Z"
   },
   {
    "duration": 25,
    "start_time": "2023-07-15T22:41:07.120Z"
   },
   {
    "duration": 24,
    "start_time": "2023-07-15T22:41:07.168Z"
   },
   {
    "duration": 181,
    "start_time": "2023-07-15T22:41:07.194Z"
   },
   {
    "duration": 19,
    "start_time": "2023-07-15T22:41:07.377Z"
   },
   {
    "duration": 146,
    "start_time": "2023-07-15T22:41:07.398Z"
   },
   {
    "duration": 124,
    "start_time": "2023-07-15T22:41:07.546Z"
   },
   {
    "duration": 0,
    "start_time": "2023-07-15T22:41:07.672Z"
   },
   {
    "duration": 0,
    "start_time": "2023-07-15T22:41:07.673Z"
   },
   {
    "duration": 0,
    "start_time": "2023-07-15T22:41:07.674Z"
   },
   {
    "duration": 20,
    "start_time": "2023-07-15T22:42:01.101Z"
   },
   {
    "duration": 20,
    "start_time": "2023-07-15T22:43:58.197Z"
   },
   {
    "duration": 20,
    "start_time": "2023-07-15T22:44:40.594Z"
   },
   {
    "duration": 21,
    "start_time": "2023-07-15T22:45:36.557Z"
   },
   {
    "duration": 7,
    "start_time": "2023-07-15T22:46:23.350Z"
   },
   {
    "duration": 22,
    "start_time": "2023-07-15T22:47:05.883Z"
   },
   {
    "duration": 20,
    "start_time": "2023-07-15T22:47:09.318Z"
   },
   {
    "duration": 7,
    "start_time": "2023-07-15T22:49:09.066Z"
   },
   {
    "duration": 8,
    "start_time": "2023-07-15T22:52:04.003Z"
   },
   {
    "duration": 19,
    "start_time": "2023-07-15T22:52:44.561Z"
   },
   {
    "duration": 25,
    "start_time": "2023-07-15T22:53:21.230Z"
   },
   {
    "duration": 11,
    "start_time": "2023-07-15T22:54:31.178Z"
   },
   {
    "duration": 5,
    "start_time": "2023-07-15T22:55:03.105Z"
   },
   {
    "duration": 7,
    "start_time": "2023-07-15T22:55:53.845Z"
   },
   {
    "duration": 5,
    "start_time": "2023-07-15T22:57:48.613Z"
   },
   {
    "duration": 5,
    "start_time": "2023-07-15T22:59:06.741Z"
   },
   {
    "duration": 10,
    "start_time": "2023-07-15T22:59:23.040Z"
   },
   {
    "duration": 9,
    "start_time": "2023-07-15T22:59:26.358Z"
   },
   {
    "duration": 9,
    "start_time": "2023-07-15T22:59:48.702Z"
   },
   {
    "duration": 5,
    "start_time": "2023-07-15T22:59:54.517Z"
   },
   {
    "duration": 13,
    "start_time": "2023-07-15T23:02:18.607Z"
   },
   {
    "duration": 11,
    "start_time": "2023-07-15T23:02:34.878Z"
   },
   {
    "duration": 11,
    "start_time": "2023-07-15T23:02:44.680Z"
   },
   {
    "duration": 9,
    "start_time": "2023-07-15T23:04:12.402Z"
   },
   {
    "duration": 10,
    "start_time": "2023-07-15T23:04:16.951Z"
   },
   {
    "duration": 10,
    "start_time": "2023-07-15T23:04:46.528Z"
   },
   {
    "duration": 75,
    "start_time": "2023-07-15T23:04:51.190Z"
   },
   {
    "duration": 4,
    "start_time": "2023-07-15T23:05:22.653Z"
   },
   {
    "duration": 10,
    "start_time": "2023-07-15T23:05:54.298Z"
   },
   {
    "duration": 4,
    "start_time": "2023-07-15T23:05:54.822Z"
   },
   {
    "duration": 4,
    "start_time": "2023-07-15T23:05:55.470Z"
   },
   {
    "duration": 1270,
    "start_time": "2023-07-15T23:05:59.990Z"
   },
   {
    "duration": 58,
    "start_time": "2023-07-15T23:06:01.263Z"
   },
   {
    "duration": 228,
    "start_time": "2023-07-15T23:06:01.322Z"
   },
   {
    "duration": 19,
    "start_time": "2023-07-15T23:06:01.552Z"
   },
   {
    "duration": 125,
    "start_time": "2023-07-15T23:06:01.572Z"
   },
   {
    "duration": 133,
    "start_time": "2023-07-15T23:06:01.699Z"
   },
   {
    "duration": 43,
    "start_time": "2023-07-15T23:06:01.834Z"
   },
   {
    "duration": 84,
    "start_time": "2023-07-15T23:06:01.879Z"
   },
   {
    "duration": 62,
    "start_time": "2023-07-15T23:06:01.965Z"
   },
   {
    "duration": 54,
    "start_time": "2023-07-15T23:06:02.030Z"
   },
   {
    "duration": 119,
    "start_time": "2023-07-15T23:06:02.086Z"
   },
   {
    "duration": 91,
    "start_time": "2023-07-15T23:06:02.207Z"
   },
   {
    "duration": 74,
    "start_time": "2023-07-15T23:06:02.300Z"
   },
   {
    "duration": 61,
    "start_time": "2023-07-15T23:06:02.376Z"
   },
   {
    "duration": 63,
    "start_time": "2023-07-15T23:06:02.438Z"
   },
   {
    "duration": 38,
    "start_time": "2023-07-15T23:06:02.503Z"
   },
   {
    "duration": 73,
    "start_time": "2023-07-15T23:06:02.543Z"
   },
   {
    "duration": 101,
    "start_time": "2023-07-15T23:06:02.618Z"
   },
   {
    "duration": 49,
    "start_time": "2023-07-15T23:06:02.721Z"
   },
   {
    "duration": 67,
    "start_time": "2023-07-15T23:06:02.772Z"
   },
   {
    "duration": 13,
    "start_time": "2023-07-15T23:06:02.841Z"
   },
   {
    "duration": 38,
    "start_time": "2023-07-15T23:06:02.855Z"
   },
   {
    "duration": 82,
    "start_time": "2023-07-15T23:06:02.895Z"
   },
   {
    "duration": 34,
    "start_time": "2023-07-15T23:06:02.979Z"
   },
   {
    "duration": 30,
    "start_time": "2023-07-15T23:06:03.015Z"
   },
   {
    "duration": 52,
    "start_time": "2023-07-15T23:06:03.047Z"
   },
   {
    "duration": 48,
    "start_time": "2023-07-15T23:06:03.101Z"
   },
   {
    "duration": 79,
    "start_time": "2023-07-15T23:06:03.155Z"
   },
   {
    "duration": 21,
    "start_time": "2023-07-15T23:06:03.237Z"
   },
   {
    "duration": 40,
    "start_time": "2023-07-15T23:06:03.260Z"
   },
   {
    "duration": 51,
    "start_time": "2023-07-15T23:06:03.301Z"
   },
   {
    "duration": 289,
    "start_time": "2023-07-15T23:06:03.354Z"
   },
   {
    "duration": 33,
    "start_time": "2023-07-15T23:06:03.644Z"
   },
   {
    "duration": 3,
    "start_time": "2023-07-15T23:06:03.679Z"
   },
   {
    "duration": 18,
    "start_time": "2023-07-15T23:06:03.684Z"
   },
   {
    "duration": 32,
    "start_time": "2023-07-15T23:06:03.704Z"
   },
   {
    "duration": 52,
    "start_time": "2023-07-15T23:06:03.737Z"
   },
   {
    "duration": 223,
    "start_time": "2023-07-15T23:06:03.791Z"
   },
   {
    "duration": 11,
    "start_time": "2023-07-15T23:06:04.017Z"
   },
   {
    "duration": 7,
    "start_time": "2023-07-15T23:06:04.030Z"
   },
   {
    "duration": 18,
    "start_time": "2023-07-15T23:06:04.039Z"
   },
   {
    "duration": 5949,
    "start_time": "2023-07-15T23:06:04.058Z"
   },
   {
    "duration": 30,
    "start_time": "2023-07-15T23:06:10.010Z"
   },
   {
    "duration": 229,
    "start_time": "2023-07-15T23:06:10.041Z"
   },
   {
    "duration": 44,
    "start_time": "2023-07-15T23:06:10.273Z"
   },
   {
    "duration": 281,
    "start_time": "2023-07-15T23:06:10.319Z"
   },
   {
    "duration": 16,
    "start_time": "2023-07-15T23:06:10.603Z"
   },
   {
    "duration": 16,
    "start_time": "2023-07-15T23:06:10.620Z"
   },
   {
    "duration": 3,
    "start_time": "2023-07-15T23:06:10.638Z"
   },
   {
    "duration": 43,
    "start_time": "2023-07-15T23:06:10.643Z"
   },
   {
    "duration": 296,
    "start_time": "2023-07-15T23:06:10.688Z"
   },
   {
    "duration": 36,
    "start_time": "2023-07-15T23:06:10.986Z"
   },
   {
    "duration": 54,
    "start_time": "2023-07-15T23:06:11.024Z"
   },
   {
    "duration": 306,
    "start_time": "2023-07-15T23:06:11.080Z"
   },
   {
    "duration": 23,
    "start_time": "2023-07-15T23:06:11.387Z"
   },
   {
    "duration": 21,
    "start_time": "2023-07-15T23:06:11.412Z"
   },
   {
    "duration": 45,
    "start_time": "2023-07-15T23:06:11.435Z"
   },
   {
    "duration": 7,
    "start_time": "2023-07-15T23:06:11.482Z"
   },
   {
    "duration": 38,
    "start_time": "2023-07-15T23:06:11.492Z"
   },
   {
    "duration": 43,
    "start_time": "2023-07-15T23:06:11.532Z"
   },
   {
    "duration": 3,
    "start_time": "2023-07-15T23:06:11.577Z"
   },
   {
    "duration": 21,
    "start_time": "2023-07-15T23:06:11.583Z"
   },
   {
    "duration": 23,
    "start_time": "2023-07-15T23:06:11.606Z"
   },
   {
    "duration": 38,
    "start_time": "2023-07-15T23:06:11.630Z"
   },
   {
    "duration": 19,
    "start_time": "2023-07-15T23:06:11.670Z"
   },
   {
    "duration": 18,
    "start_time": "2023-07-15T23:06:11.691Z"
   },
   {
    "duration": 23,
    "start_time": "2023-07-15T23:06:11.711Z"
   },
   {
    "duration": 47,
    "start_time": "2023-07-15T23:06:11.736Z"
   },
   {
    "duration": 11,
    "start_time": "2023-07-15T23:06:11.785Z"
   },
   {
    "duration": 35,
    "start_time": "2023-07-15T23:06:11.797Z"
   },
   {
    "duration": 15,
    "start_time": "2023-07-15T23:06:11.834Z"
   },
   {
    "duration": 25,
    "start_time": "2023-07-15T23:06:11.851Z"
   },
   {
    "duration": 112,
    "start_time": "2023-07-15T23:06:11.878Z"
   },
   {
    "duration": 0,
    "start_time": "2023-07-15T23:06:11.992Z"
   },
   {
    "duration": 0,
    "start_time": "2023-07-15T23:06:11.993Z"
   },
   {
    "duration": 0,
    "start_time": "2023-07-15T23:06:11.994Z"
   },
   {
    "duration": 0,
    "start_time": "2023-07-15T23:06:11.995Z"
   },
   {
    "duration": 0,
    "start_time": "2023-07-15T23:06:11.996Z"
   },
   {
    "duration": 0,
    "start_time": "2023-07-15T23:06:11.997Z"
   },
   {
    "duration": 0,
    "start_time": "2023-07-15T23:06:11.998Z"
   },
   {
    "duration": 0,
    "start_time": "2023-07-15T23:06:11.999Z"
   },
   {
    "duration": 0,
    "start_time": "2023-07-15T23:06:12.000Z"
   },
   {
    "duration": 0,
    "start_time": "2023-07-15T23:06:12.001Z"
   },
   {
    "duration": 0,
    "start_time": "2023-07-15T23:06:12.002Z"
   },
   {
    "duration": 0,
    "start_time": "2023-07-15T23:06:12.003Z"
   },
   {
    "duration": 0,
    "start_time": "2023-07-15T23:06:12.004Z"
   },
   {
    "duration": 0,
    "start_time": "2023-07-15T23:06:12.005Z"
   },
   {
    "duration": 0,
    "start_time": "2023-07-15T23:06:12.006Z"
   },
   {
    "duration": 0,
    "start_time": "2023-07-15T23:06:12.007Z"
   },
   {
    "duration": 0,
    "start_time": "2023-07-15T23:06:12.008Z"
   },
   {
    "duration": 0,
    "start_time": "2023-07-15T23:06:12.009Z"
   },
   {
    "duration": 0,
    "start_time": "2023-07-15T23:06:12.010Z"
   },
   {
    "duration": 0,
    "start_time": "2023-07-15T23:06:12.012Z"
   },
   {
    "duration": 0,
    "start_time": "2023-07-15T23:06:12.012Z"
   },
   {
    "duration": 0,
    "start_time": "2023-07-15T23:06:12.013Z"
   },
   {
    "duration": 0,
    "start_time": "2023-07-15T23:06:12.014Z"
   },
   {
    "duration": 0,
    "start_time": "2023-07-15T23:06:12.016Z"
   },
   {
    "duration": 0,
    "start_time": "2023-07-15T23:06:12.017Z"
   },
   {
    "duration": 0,
    "start_time": "2023-07-15T23:06:12.018Z"
   },
   {
    "duration": 0,
    "start_time": "2023-07-15T23:06:12.019Z"
   },
   {
    "duration": 0,
    "start_time": "2023-07-15T23:06:12.020Z"
   },
   {
    "duration": 1266,
    "start_time": "2023-07-15T23:06:38.385Z"
   },
   {
    "duration": 60,
    "start_time": "2023-07-15T23:06:39.653Z"
   },
   {
    "duration": 169,
    "start_time": "2023-07-15T23:06:39.715Z"
   },
   {
    "duration": 18,
    "start_time": "2023-07-15T23:06:39.886Z"
   },
   {
    "duration": 22,
    "start_time": "2023-07-15T23:06:39.906Z"
   },
   {
    "duration": 41,
    "start_time": "2023-07-15T23:06:39.930Z"
   },
   {
    "duration": 12,
    "start_time": "2023-07-15T23:06:39.973Z"
   },
   {
    "duration": 18,
    "start_time": "2023-07-15T23:06:39.986Z"
   },
   {
    "duration": 22,
    "start_time": "2023-07-15T23:06:40.006Z"
   },
   {
    "duration": 19,
    "start_time": "2023-07-15T23:06:40.031Z"
   },
   {
    "duration": 25,
    "start_time": "2023-07-15T23:06:40.052Z"
   },
   {
    "duration": 26,
    "start_time": "2023-07-15T23:06:40.079Z"
   },
   {
    "duration": 27,
    "start_time": "2023-07-15T23:06:40.107Z"
   },
   {
    "duration": 13,
    "start_time": "2023-07-15T23:06:40.136Z"
   },
   {
    "duration": 27,
    "start_time": "2023-07-15T23:06:40.151Z"
   },
   {
    "duration": 14,
    "start_time": "2023-07-15T23:06:40.180Z"
   },
   {
    "duration": 16,
    "start_time": "2023-07-15T23:06:40.196Z"
   },
   {
    "duration": 5,
    "start_time": "2023-07-15T23:06:40.214Z"
   },
   {
    "duration": 11,
    "start_time": "2023-07-15T23:06:40.221Z"
   },
   {
    "duration": 39,
    "start_time": "2023-07-15T23:06:40.233Z"
   },
   {
    "duration": 5,
    "start_time": "2023-07-15T23:06:40.273Z"
   },
   {
    "duration": 16,
    "start_time": "2023-07-15T23:06:40.280Z"
   },
   {
    "duration": 21,
    "start_time": "2023-07-15T23:06:40.298Z"
   },
   {
    "duration": 10,
    "start_time": "2023-07-15T23:06:40.321Z"
   },
   {
    "duration": 9,
    "start_time": "2023-07-15T23:06:40.333Z"
   },
   {
    "duration": 37,
    "start_time": "2023-07-15T23:06:40.344Z"
   },
   {
    "duration": 10,
    "start_time": "2023-07-15T23:06:40.383Z"
   },
   {
    "duration": 16,
    "start_time": "2023-07-15T23:06:40.397Z"
   },
   {
    "duration": 12,
    "start_time": "2023-07-15T23:06:40.415Z"
   },
   {
    "duration": 47,
    "start_time": "2023-07-15T23:06:40.429Z"
   },
   {
    "duration": 21,
    "start_time": "2023-07-15T23:06:40.478Z"
   },
   {
    "duration": 282,
    "start_time": "2023-07-15T23:06:40.501Z"
   },
   {
    "duration": 25,
    "start_time": "2023-07-15T23:06:40.785Z"
   },
   {
    "duration": 4,
    "start_time": "2023-07-15T23:06:40.812Z"
   },
   {
    "duration": 54,
    "start_time": "2023-07-15T23:06:40.818Z"
   },
   {
    "duration": 35,
    "start_time": "2023-07-15T23:06:40.874Z"
   },
   {
    "duration": 57,
    "start_time": "2023-07-15T23:06:40.911Z"
   },
   {
    "duration": 199,
    "start_time": "2023-07-15T23:06:40.970Z"
   },
   {
    "duration": 14,
    "start_time": "2023-07-15T23:06:41.170Z"
   },
   {
    "duration": 28,
    "start_time": "2023-07-15T23:06:41.185Z"
   },
   {
    "duration": 14,
    "start_time": "2023-07-15T23:06:41.215Z"
   },
   {
    "duration": 5019,
    "start_time": "2023-07-15T23:06:41.231Z"
   },
   {
    "duration": 34,
    "start_time": "2023-07-15T23:06:46.252Z"
   },
   {
    "duration": 206,
    "start_time": "2023-07-15T23:06:46.288Z"
   },
   {
    "duration": 39,
    "start_time": "2023-07-15T23:06:46.496Z"
   },
   {
    "duration": 269,
    "start_time": "2023-07-15T23:06:46.537Z"
   },
   {
    "duration": 18,
    "start_time": "2023-07-15T23:06:46.808Z"
   },
   {
    "duration": 17,
    "start_time": "2023-07-15T23:06:46.828Z"
   },
   {
    "duration": 21,
    "start_time": "2023-07-15T23:06:46.847Z"
   },
   {
    "duration": 22,
    "start_time": "2023-07-15T23:06:46.870Z"
   },
   {
    "duration": 323,
    "start_time": "2023-07-15T23:06:46.893Z"
   },
   {
    "duration": 36,
    "start_time": "2023-07-15T23:06:47.218Z"
   },
   {
    "duration": 47,
    "start_time": "2023-07-15T23:06:47.255Z"
   },
   {
    "duration": 302,
    "start_time": "2023-07-15T23:06:47.303Z"
   },
   {
    "duration": 24,
    "start_time": "2023-07-15T23:06:47.606Z"
   },
   {
    "duration": 36,
    "start_time": "2023-07-15T23:06:47.631Z"
   },
   {
    "duration": 21,
    "start_time": "2023-07-15T23:06:47.668Z"
   },
   {
    "duration": 6,
    "start_time": "2023-07-15T23:06:47.691Z"
   },
   {
    "duration": 16,
    "start_time": "2023-07-15T23:06:47.698Z"
   },
   {
    "duration": 63,
    "start_time": "2023-07-15T23:06:47.715Z"
   },
   {
    "duration": 3,
    "start_time": "2023-07-15T23:06:47.780Z"
   },
   {
    "duration": 22,
    "start_time": "2023-07-15T23:06:47.785Z"
   },
   {
    "duration": 14,
    "start_time": "2023-07-15T23:06:47.809Z"
   },
   {
    "duration": 45,
    "start_time": "2023-07-15T23:06:47.824Z"
   },
   {
    "duration": 21,
    "start_time": "2023-07-15T23:06:47.871Z"
   },
   {
    "duration": 19,
    "start_time": "2023-07-15T23:06:47.894Z"
   },
   {
    "duration": 19,
    "start_time": "2023-07-15T23:06:47.915Z"
   },
   {
    "duration": 51,
    "start_time": "2023-07-15T23:06:47.936Z"
   },
   {
    "duration": 9,
    "start_time": "2023-07-15T23:06:47.989Z"
   },
   {
    "duration": 9,
    "start_time": "2023-07-15T23:06:47.999Z"
   },
   {
    "duration": 9,
    "start_time": "2023-07-15T23:06:48.009Z"
   },
   {
    "duration": 47,
    "start_time": "2023-07-15T23:06:48.020Z"
   },
   {
    "duration": 17,
    "start_time": "2023-07-15T23:06:48.069Z"
   },
   {
    "duration": 37,
    "start_time": "2023-07-15T23:06:48.088Z"
   },
   {
    "duration": 10,
    "start_time": "2023-07-15T23:06:48.127Z"
   },
   {
    "duration": 4,
    "start_time": "2023-07-15T23:06:48.139Z"
   },
   {
    "duration": 5,
    "start_time": "2023-07-15T23:06:48.145Z"
   },
   {
    "duration": 37,
    "start_time": "2023-07-15T23:06:48.152Z"
   },
   {
    "duration": 17,
    "start_time": "2023-07-15T23:06:48.191Z"
   },
   {
    "duration": 13,
    "start_time": "2023-07-15T23:06:48.209Z"
   },
   {
    "duration": 4,
    "start_time": "2023-07-15T23:06:48.224Z"
   },
   {
    "duration": 4,
    "start_time": "2023-07-15T23:06:48.233Z"
   },
   {
    "duration": 20,
    "start_time": "2023-07-15T23:06:48.239Z"
   },
   {
    "duration": 22,
    "start_time": "2023-07-15T23:06:48.261Z"
   },
   {
    "duration": 21,
    "start_time": "2023-07-15T23:06:48.284Z"
   },
   {
    "duration": 16,
    "start_time": "2023-07-15T23:06:48.307Z"
   },
   {
    "duration": 9,
    "start_time": "2023-07-15T23:06:48.324Z"
   },
   {
    "duration": 39,
    "start_time": "2023-07-15T23:06:48.335Z"
   },
   {
    "duration": 12,
    "start_time": "2023-07-15T23:06:48.376Z"
   },
   {
    "duration": 25,
    "start_time": "2023-07-15T23:06:48.390Z"
   },
   {
    "duration": 51,
    "start_time": "2023-07-15T23:06:48.418Z"
   },
   {
    "duration": 30,
    "start_time": "2023-07-15T23:06:48.472Z"
   },
   {
    "duration": 18,
    "start_time": "2023-07-15T23:06:48.504Z"
   },
   {
    "duration": 16,
    "start_time": "2023-07-15T23:06:48.524Z"
   },
   {
    "duration": 144,
    "start_time": "2023-07-15T23:06:48.568Z"
   },
   {
    "duration": 17,
    "start_time": "2023-07-15T23:06:48.714Z"
   },
   {
    "duration": 147,
    "start_time": "2023-07-15T23:06:48.732Z"
   },
   {
    "duration": 113,
    "start_time": "2023-07-15T23:06:48.881Z"
   },
   {
    "duration": 0,
    "start_time": "2023-07-15T23:06:48.996Z"
   },
   {
    "duration": 0,
    "start_time": "2023-07-15T23:06:48.997Z"
   },
   {
    "duration": 0,
    "start_time": "2023-07-15T23:06:48.998Z"
   },
   {
    "duration": 10,
    "start_time": "2023-07-15T23:07:28.470Z"
   },
   {
    "duration": 4,
    "start_time": "2023-07-15T23:07:34.826Z"
   },
   {
    "duration": 7,
    "start_time": "2023-07-15T23:10:15.849Z"
   },
   {
    "duration": 7,
    "start_time": "2023-07-15T23:10:40.641Z"
   },
   {
    "duration": 7,
    "start_time": "2023-07-15T23:12:15.778Z"
   },
   {
    "duration": 21,
    "start_time": "2023-07-15T23:13:45.591Z"
   },
   {
    "duration": 23,
    "start_time": "2023-07-15T23:15:27.210Z"
   },
   {
    "duration": 10,
    "start_time": "2023-07-15T23:16:08.121Z"
   },
   {
    "duration": 21,
    "start_time": "2023-07-15T23:16:22.120Z"
   },
   {
    "duration": 21,
    "start_time": "2023-07-15T23:16:22.497Z"
   },
   {
    "duration": 27,
    "start_time": "2023-07-15T23:16:22.841Z"
   },
   {
    "duration": 19,
    "start_time": "2023-07-15T23:16:23.140Z"
   },
   {
    "duration": 9,
    "start_time": "2023-07-15T23:16:23.617Z"
   },
   {
    "duration": 20,
    "start_time": "2023-07-15T23:17:07.110Z"
   },
   {
    "duration": 20,
    "start_time": "2023-07-15T23:17:08.720Z"
   },
   {
    "duration": 7,
    "start_time": "2023-07-15T23:19:06.286Z"
   },
   {
    "duration": 8,
    "start_time": "2023-07-15T23:19:49.703Z"
   },
   {
    "duration": 4,
    "start_time": "2023-07-15T23:20:03.426Z"
   },
   {
    "duration": 17,
    "start_time": "2023-07-15T23:21:57.955Z"
   },
   {
    "duration": 12,
    "start_time": "2023-07-15T23:23:30.829Z"
   },
   {
    "duration": 5,
    "start_time": "2023-07-15T23:23:42.841Z"
   },
   {
    "duration": 18,
    "start_time": "2023-07-15T23:24:42.505Z"
   },
   {
    "duration": 19,
    "start_time": "2023-07-15T23:25:19.040Z"
   },
   {
    "duration": 30,
    "start_time": "2023-07-15T23:26:38.423Z"
   },
   {
    "duration": 28,
    "start_time": "2023-07-15T23:26:50.037Z"
   },
   {
    "duration": 18,
    "start_time": "2023-07-15T23:27:51.447Z"
   },
   {
    "duration": 19,
    "start_time": "2023-07-15T23:28:18.912Z"
   },
   {
    "duration": 13,
    "start_time": "2023-07-15T23:28:58.764Z"
   },
   {
    "duration": 12,
    "start_time": "2023-07-15T23:29:12.975Z"
   },
   {
    "duration": 272,
    "start_time": "2023-07-15T23:30:49.922Z"
   },
   {
    "duration": 12,
    "start_time": "2023-07-15T23:32:01.032Z"
   },
   {
    "duration": 5,
    "start_time": "2023-07-15T23:32:01.532Z"
   },
   {
    "duration": 28,
    "start_time": "2023-07-15T23:32:40.642Z"
   },
   {
    "duration": 7,
    "start_time": "2023-07-15T23:32:53.852Z"
   },
   {
    "duration": 5,
    "start_time": "2023-07-15T23:32:57.554Z"
   },
   {
    "duration": 8,
    "start_time": "2023-07-15T23:33:01.349Z"
   },
   {
    "duration": 5,
    "start_time": "2023-07-15T23:33:02.036Z"
   },
   {
    "duration": 18,
    "start_time": "2023-07-15T23:34:19.470Z"
   },
   {
    "duration": 13,
    "start_time": "2023-07-15T23:34:19.849Z"
   },
   {
    "duration": 12,
    "start_time": "2023-07-15T23:34:20.196Z"
   },
   {
    "duration": 271,
    "start_time": "2023-07-15T23:34:20.597Z"
   },
   {
    "duration": 487,
    "start_time": "2023-07-15T23:34:45.695Z"
   },
   {
    "duration": 497,
    "start_time": "2023-07-15T23:35:03.407Z"
   },
   {
    "duration": 445,
    "start_time": "2023-07-15T23:35:21.041Z"
   },
   {
    "duration": 390,
    "start_time": "2023-07-15T23:35:29.081Z"
   },
   {
    "duration": 466,
    "start_time": "2023-07-15T23:35:49.826Z"
   },
   {
    "duration": 314,
    "start_time": "2023-07-15T23:35:59.479Z"
   },
   {
    "duration": 8,
    "start_time": "2023-07-15T23:37:20.516Z"
   },
   {
    "duration": 5,
    "start_time": "2023-07-15T23:37:21.018Z"
   },
   {
    "duration": 6,
    "start_time": "2023-07-15T23:39:31.482Z"
   },
   {
    "duration": 7,
    "start_time": "2023-07-15T23:39:42.003Z"
   },
   {
    "duration": 7,
    "start_time": "2023-07-15T23:39:42.327Z"
   },
   {
    "duration": 5,
    "start_time": "2023-07-15T23:39:42.829Z"
   },
   {
    "duration": 3,
    "start_time": "2023-07-15T23:40:55.929Z"
   },
   {
    "duration": 9,
    "start_time": "2023-07-15T23:41:00.535Z"
   },
   {
    "duration": 6,
    "start_time": "2023-07-15T23:41:01.769Z"
   },
   {
    "duration": 9,
    "start_time": "2023-07-15T23:44:35.116Z"
   },
   {
    "duration": 10,
    "start_time": "2023-07-15T23:45:46.249Z"
   },
   {
    "duration": 10,
    "start_time": "2023-07-15T23:45:49.831Z"
   },
   {
    "duration": 11,
    "start_time": "2023-07-15T23:45:52.910Z"
   },
   {
    "duration": 9,
    "start_time": "2023-07-15T23:46:10.636Z"
   },
   {
    "duration": 1238,
    "start_time": "2023-07-15T23:47:21.329Z"
   },
   {
    "duration": 159,
    "start_time": "2023-07-15T23:47:22.569Z"
   },
   {
    "duration": 192,
    "start_time": "2023-07-15T23:47:22.730Z"
   },
   {
    "duration": 18,
    "start_time": "2023-07-15T23:47:22.924Z"
   },
   {
    "duration": 38,
    "start_time": "2023-07-15T23:47:22.944Z"
   },
   {
    "duration": 22,
    "start_time": "2023-07-15T23:47:22.984Z"
   },
   {
    "duration": 12,
    "start_time": "2023-07-15T23:47:23.008Z"
   },
   {
    "duration": 12,
    "start_time": "2023-07-15T23:47:23.022Z"
   },
   {
    "duration": 33,
    "start_time": "2023-07-15T23:47:23.036Z"
   },
   {
    "duration": 18,
    "start_time": "2023-07-15T23:47:23.072Z"
   },
   {
    "duration": 17,
    "start_time": "2023-07-15T23:47:23.092Z"
   },
   {
    "duration": 28,
    "start_time": "2023-07-15T23:47:23.111Z"
   },
   {
    "duration": 36,
    "start_time": "2023-07-15T23:47:23.141Z"
   },
   {
    "duration": 17,
    "start_time": "2023-07-15T23:47:23.180Z"
   },
   {
    "duration": 18,
    "start_time": "2023-07-15T23:47:23.199Z"
   },
   {
    "duration": 10,
    "start_time": "2023-07-15T23:47:23.220Z"
   },
   {
    "duration": 17,
    "start_time": "2023-07-15T23:47:23.232Z"
   },
   {
    "duration": 20,
    "start_time": "2023-07-15T23:47:23.251Z"
   },
   {
    "duration": 22,
    "start_time": "2023-07-15T23:47:23.273Z"
   },
   {
    "duration": 33,
    "start_time": "2023-07-15T23:47:23.297Z"
   },
   {
    "duration": 5,
    "start_time": "2023-07-15T23:47:23.331Z"
   },
   {
    "duration": 11,
    "start_time": "2023-07-15T23:47:23.338Z"
   },
   {
    "duration": 34,
    "start_time": "2023-07-15T23:47:23.350Z"
   },
   {
    "duration": 11,
    "start_time": "2023-07-15T23:47:23.385Z"
   },
   {
    "duration": 31,
    "start_time": "2023-07-15T23:47:23.397Z"
   },
   {
    "duration": 24,
    "start_time": "2023-07-15T23:47:23.430Z"
   },
   {
    "duration": 22,
    "start_time": "2023-07-15T23:47:23.457Z"
   },
   {
    "duration": 19,
    "start_time": "2023-07-15T23:47:23.485Z"
   },
   {
    "duration": 15,
    "start_time": "2023-07-15T23:47:23.506Z"
   },
   {
    "duration": 23,
    "start_time": "2023-07-15T23:47:23.523Z"
   },
   {
    "duration": 36,
    "start_time": "2023-07-15T23:47:23.548Z"
   },
   {
    "duration": 287,
    "start_time": "2023-07-15T23:47:23.585Z"
   },
   {
    "duration": 32,
    "start_time": "2023-07-15T23:47:23.874Z"
   },
   {
    "duration": 6,
    "start_time": "2023-07-15T23:47:23.908Z"
   },
   {
    "duration": 27,
    "start_time": "2023-07-15T23:47:23.916Z"
   },
   {
    "duration": 56,
    "start_time": "2023-07-15T23:47:23.946Z"
   },
   {
    "duration": 41,
    "start_time": "2023-07-15T23:47:24.003Z"
   },
   {
    "duration": 201,
    "start_time": "2023-07-15T23:47:24.066Z"
   },
   {
    "duration": 13,
    "start_time": "2023-07-15T23:47:24.269Z"
   },
   {
    "duration": 11,
    "start_time": "2023-07-15T23:47:24.284Z"
   },
   {
    "duration": 8,
    "start_time": "2023-07-15T23:47:24.297Z"
   },
   {
    "duration": 4870,
    "start_time": "2023-07-15T23:47:24.307Z"
   },
   {
    "duration": 29,
    "start_time": "2023-07-15T23:47:29.179Z"
   },
   {
    "duration": 211,
    "start_time": "2023-07-15T23:47:29.210Z"
   },
   {
    "duration": 56,
    "start_time": "2023-07-15T23:47:29.422Z"
   },
   {
    "duration": 246,
    "start_time": "2023-07-15T23:47:29.480Z"
   },
   {
    "duration": 17,
    "start_time": "2023-07-15T23:47:29.728Z"
   },
   {
    "duration": 35,
    "start_time": "2023-07-15T23:47:29.746Z"
   },
   {
    "duration": 4,
    "start_time": "2023-07-15T23:47:29.783Z"
   },
   {
    "duration": 21,
    "start_time": "2023-07-15T23:47:29.788Z"
   },
   {
    "duration": 310,
    "start_time": "2023-07-15T23:47:29.811Z"
   },
   {
    "duration": 47,
    "start_time": "2023-07-15T23:47:30.122Z"
   },
   {
    "duration": 38,
    "start_time": "2023-07-15T23:47:30.171Z"
   },
   {
    "duration": 312,
    "start_time": "2023-07-15T23:47:30.211Z"
   },
   {
    "duration": 23,
    "start_time": "2023-07-15T23:47:30.525Z"
   },
   {
    "duration": 72,
    "start_time": "2023-07-15T23:47:30.549Z"
   },
   {
    "duration": 37,
    "start_time": "2023-07-15T23:47:30.623Z"
   },
   {
    "duration": 38,
    "start_time": "2023-07-15T23:47:30.661Z"
   },
   {
    "duration": 48,
    "start_time": "2023-07-15T23:47:30.701Z"
   },
   {
    "duration": 56,
    "start_time": "2023-07-15T23:47:30.751Z"
   },
   {
    "duration": 11,
    "start_time": "2023-07-15T23:47:30.809Z"
   },
   {
    "duration": 84,
    "start_time": "2023-07-15T23:47:30.822Z"
   },
   {
    "duration": 42,
    "start_time": "2023-07-15T23:47:30.907Z"
   },
   {
    "duration": 59,
    "start_time": "2023-07-15T23:47:30.951Z"
   },
   {
    "duration": 21,
    "start_time": "2023-07-15T23:47:31.012Z"
   },
   {
    "duration": 54,
    "start_time": "2023-07-15T23:47:31.035Z"
   },
   {
    "duration": 67,
    "start_time": "2023-07-15T23:47:31.091Z"
   },
   {
    "duration": 53,
    "start_time": "2023-07-15T23:47:31.161Z"
   },
   {
    "duration": 33,
    "start_time": "2023-07-15T23:47:31.216Z"
   },
   {
    "duration": 28,
    "start_time": "2023-07-15T23:47:31.252Z"
   },
   {
    "duration": 31,
    "start_time": "2023-07-15T23:47:31.283Z"
   },
   {
    "duration": 47,
    "start_time": "2023-07-15T23:47:31.317Z"
   },
   {
    "duration": 64,
    "start_time": "2023-07-15T23:47:31.366Z"
   },
   {
    "duration": 37,
    "start_time": "2023-07-15T23:47:31.432Z"
   },
   {
    "duration": 40,
    "start_time": "2023-07-15T23:47:31.471Z"
   },
   {
    "duration": 35,
    "start_time": "2023-07-15T23:47:31.513Z"
   },
   {
    "duration": 68,
    "start_time": "2023-07-15T23:47:31.550Z"
   },
   {
    "duration": 46,
    "start_time": "2023-07-15T23:47:31.620Z"
   },
   {
    "duration": 52,
    "start_time": "2023-07-15T23:47:31.668Z"
   },
   {
    "duration": 47,
    "start_time": "2023-07-15T23:47:31.722Z"
   },
   {
    "duration": 46,
    "start_time": "2023-07-15T23:47:31.771Z"
   },
   {
    "duration": 41,
    "start_time": "2023-07-15T23:47:31.823Z"
   },
   {
    "duration": 85,
    "start_time": "2023-07-15T23:47:31.866Z"
   },
   {
    "duration": 46,
    "start_time": "2023-07-15T23:47:31.953Z"
   },
   {
    "duration": 66,
    "start_time": "2023-07-15T23:47:32.002Z"
   },
   {
    "duration": 49,
    "start_time": "2023-07-15T23:47:32.070Z"
   },
   {
    "duration": 46,
    "start_time": "2023-07-15T23:47:32.121Z"
   },
   {
    "duration": 32,
    "start_time": "2023-07-15T23:47:32.169Z"
   },
   {
    "duration": 42,
    "start_time": "2023-07-15T23:47:32.203Z"
   },
   {
    "duration": 27,
    "start_time": "2023-07-15T23:47:32.247Z"
   },
   {
    "duration": 31,
    "start_time": "2023-07-15T23:47:32.277Z"
   },
   {
    "duration": 25,
    "start_time": "2023-07-15T23:47:32.310Z"
   },
   {
    "duration": 24,
    "start_time": "2023-07-15T23:47:32.336Z"
   },
   {
    "duration": 34,
    "start_time": "2023-07-15T23:47:32.362Z"
   },
   {
    "duration": 39,
    "start_time": "2023-07-15T23:47:32.398Z"
   },
   {
    "duration": 31,
    "start_time": "2023-07-15T23:47:32.439Z"
   },
   {
    "duration": 25,
    "start_time": "2023-07-15T23:47:32.473Z"
   },
   {
    "duration": 14,
    "start_time": "2023-07-15T23:47:32.500Z"
   },
   {
    "duration": 13,
    "start_time": "2023-07-15T23:47:32.515Z"
   },
   {
    "duration": 369,
    "start_time": "2023-07-15T23:47:32.530Z"
   },
   {
    "duration": 10,
    "start_time": "2023-07-15T23:47:32.901Z"
   },
   {
    "duration": 8,
    "start_time": "2023-07-15T23:47:32.913Z"
   },
   {
    "duration": 5,
    "start_time": "2023-07-15T23:47:32.922Z"
   },
   {
    "duration": 9,
    "start_time": "2023-07-15T23:48:51.765Z"
   },
   {
    "duration": 11,
    "start_time": "2023-07-15T23:49:38.827Z"
   },
   {
    "duration": 67,
    "start_time": "2023-07-15T23:49:57.963Z"
   },
   {
    "duration": 10,
    "start_time": "2023-07-15T23:50:46.207Z"
   },
   {
    "duration": 10,
    "start_time": "2023-07-15T23:50:59.490Z"
   },
   {
    "duration": 1243,
    "start_time": "2023-07-15T23:53:15.183Z"
   },
   {
    "duration": 55,
    "start_time": "2023-07-15T23:53:16.428Z"
   },
   {
    "duration": 461,
    "start_time": "2023-07-15T23:53:16.485Z"
   },
   {
    "duration": 17,
    "start_time": "2023-07-15T23:53:16.948Z"
   },
   {
    "duration": 21,
    "start_time": "2023-07-15T23:53:16.967Z"
   },
   {
    "duration": 21,
    "start_time": "2023-07-15T23:53:16.990Z"
   },
   {
    "duration": 11,
    "start_time": "2023-07-15T23:53:17.013Z"
   },
   {
    "duration": 10,
    "start_time": "2023-07-15T23:53:17.026Z"
   },
   {
    "duration": 36,
    "start_time": "2023-07-15T23:53:17.038Z"
   },
   {
    "duration": 5,
    "start_time": "2023-07-15T23:53:17.077Z"
   },
   {
    "duration": 25,
    "start_time": "2023-07-15T23:53:17.083Z"
   },
   {
    "duration": 19,
    "start_time": "2023-07-15T23:53:17.110Z"
   },
   {
    "duration": 22,
    "start_time": "2023-07-15T23:53:17.130Z"
   },
   {
    "duration": 18,
    "start_time": "2023-07-15T23:53:17.154Z"
   },
   {
    "duration": 13,
    "start_time": "2023-07-15T23:53:17.174Z"
   },
   {
    "duration": 8,
    "start_time": "2023-07-15T23:53:17.189Z"
   },
   {
    "duration": 14,
    "start_time": "2023-07-15T23:53:17.198Z"
   },
   {
    "duration": 6,
    "start_time": "2023-07-15T23:53:17.213Z"
   },
   {
    "duration": 10,
    "start_time": "2023-07-15T23:53:17.221Z"
   },
   {
    "duration": 45,
    "start_time": "2023-07-15T23:53:17.233Z"
   },
   {
    "duration": 4,
    "start_time": "2023-07-15T23:53:17.280Z"
   },
   {
    "duration": 6,
    "start_time": "2023-07-15T23:53:17.285Z"
   },
   {
    "duration": 22,
    "start_time": "2023-07-15T23:53:17.292Z"
   },
   {
    "duration": 10,
    "start_time": "2023-07-15T23:53:17.315Z"
   },
   {
    "duration": 41,
    "start_time": "2023-07-15T23:53:17.327Z"
   },
   {
    "duration": 15,
    "start_time": "2023-07-15T23:53:17.370Z"
   },
   {
    "duration": 9,
    "start_time": "2023-07-15T23:53:17.386Z"
   },
   {
    "duration": 16,
    "start_time": "2023-07-15T23:53:17.399Z"
   },
   {
    "duration": 32,
    "start_time": "2023-07-15T23:53:17.416Z"
   },
   {
    "duration": 26,
    "start_time": "2023-07-15T23:53:17.449Z"
   },
   {
    "duration": 23,
    "start_time": "2023-07-15T23:53:17.477Z"
   },
   {
    "duration": 302,
    "start_time": "2023-07-15T23:53:17.501Z"
   },
   {
    "duration": 28,
    "start_time": "2023-07-15T23:53:17.805Z"
   },
   {
    "duration": 5,
    "start_time": "2023-07-15T23:53:17.835Z"
   },
   {
    "duration": 33,
    "start_time": "2023-07-15T23:53:17.842Z"
   },
   {
    "duration": 33,
    "start_time": "2023-07-15T23:53:17.876Z"
   },
   {
    "duration": 33,
    "start_time": "2023-07-15T23:53:17.910Z"
   },
   {
    "duration": 212,
    "start_time": "2023-07-15T23:53:17.945Z"
   },
   {
    "duration": 19,
    "start_time": "2023-07-15T23:53:18.158Z"
   },
   {
    "duration": 4,
    "start_time": "2023-07-15T23:53:18.178Z"
   },
   {
    "duration": 6,
    "start_time": "2023-07-15T23:53:18.183Z"
   },
   {
    "duration": 4914,
    "start_time": "2023-07-15T23:53:18.191Z"
   },
   {
    "duration": 29,
    "start_time": "2023-07-15T23:53:23.107Z"
   },
   {
    "duration": 226,
    "start_time": "2023-07-15T23:53:23.138Z"
   },
   {
    "duration": 43,
    "start_time": "2023-07-15T23:53:23.366Z"
   },
   {
    "duration": 270,
    "start_time": "2023-07-15T23:53:23.411Z"
   },
   {
    "duration": 17,
    "start_time": "2023-07-15T23:53:23.683Z"
   },
   {
    "duration": 40,
    "start_time": "2023-07-15T23:53:23.702Z"
   },
   {
    "duration": 12,
    "start_time": "2023-07-15T23:53:23.745Z"
   },
   {
    "duration": 36,
    "start_time": "2023-07-15T23:53:23.759Z"
   },
   {
    "duration": 319,
    "start_time": "2023-07-15T23:53:23.797Z"
   },
   {
    "duration": 36,
    "start_time": "2023-07-15T23:53:24.118Z"
   },
   {
    "duration": 50,
    "start_time": "2023-07-15T23:53:24.155Z"
   },
   {
    "duration": 304,
    "start_time": "2023-07-15T23:53:24.207Z"
   },
   {
    "duration": 23,
    "start_time": "2023-07-15T23:53:24.513Z"
   },
   {
    "duration": 31,
    "start_time": "2023-07-15T23:53:24.538Z"
   },
   {
    "duration": 24,
    "start_time": "2023-07-15T23:53:24.570Z"
   },
   {
    "duration": 5,
    "start_time": "2023-07-15T23:53:24.596Z"
   },
   {
    "duration": 20,
    "start_time": "2023-07-15T23:53:24.603Z"
   },
   {
    "duration": 58,
    "start_time": "2023-07-15T23:53:24.625Z"
   },
   {
    "duration": 4,
    "start_time": "2023-07-15T23:53:24.685Z"
   },
   {
    "duration": 25,
    "start_time": "2023-07-15T23:53:24.690Z"
   },
   {
    "duration": 7,
    "start_time": "2023-07-15T23:53:24.717Z"
   },
   {
    "duration": 51,
    "start_time": "2023-07-15T23:53:24.726Z"
   },
   {
    "duration": 21,
    "start_time": "2023-07-15T23:53:24.779Z"
   },
   {
    "duration": 22,
    "start_time": "2023-07-15T23:53:24.802Z"
   },
   {
    "duration": 50,
    "start_time": "2023-07-15T23:53:24.825Z"
   },
   {
    "duration": 20,
    "start_time": "2023-07-15T23:53:24.876Z"
   },
   {
    "duration": 7,
    "start_time": "2023-07-15T23:53:24.898Z"
   },
   {
    "duration": 11,
    "start_time": "2023-07-15T23:53:24.906Z"
   },
   {
    "duration": 10,
    "start_time": "2023-07-15T23:53:24.919Z"
   },
   {
    "duration": 45,
    "start_time": "2023-07-15T23:53:24.930Z"
   },
   {
    "duration": 16,
    "start_time": "2023-07-15T23:53:24.977Z"
   },
   {
    "duration": 10,
    "start_time": "2023-07-15T23:53:24.995Z"
   },
   {
    "duration": 7,
    "start_time": "2023-07-15T23:53:25.007Z"
   },
   {
    "duration": 4,
    "start_time": "2023-07-15T23:53:25.016Z"
   },
   {
    "duration": 8,
    "start_time": "2023-07-15T23:53:25.022Z"
   },
   {
    "duration": 5,
    "start_time": "2023-07-15T23:53:25.032Z"
   },
   {
    "duration": 5,
    "start_time": "2023-07-15T23:53:25.067Z"
   },
   {
    "duration": 12,
    "start_time": "2023-07-15T23:53:25.074Z"
   },
   {
    "duration": 13,
    "start_time": "2023-07-15T23:53:25.088Z"
   },
   {
    "duration": 10,
    "start_time": "2023-07-15T23:53:25.106Z"
   },
   {
    "duration": 5,
    "start_time": "2023-07-15T23:53:25.117Z"
   },
   {
    "duration": 7,
    "start_time": "2023-07-15T23:53:25.124Z"
   },
   {
    "duration": 47,
    "start_time": "2023-07-15T23:53:25.133Z"
   },
   {
    "duration": 19,
    "start_time": "2023-07-15T23:53:25.181Z"
   },
   {
    "duration": 22,
    "start_time": "2023-07-15T23:53:25.202Z"
   },
   {
    "duration": 44,
    "start_time": "2023-07-15T23:53:25.225Z"
   },
   {
    "duration": 9,
    "start_time": "2023-07-15T23:53:25.270Z"
   },
   {
    "duration": 8,
    "start_time": "2023-07-15T23:53:25.281Z"
   },
   {
    "duration": 24,
    "start_time": "2023-07-15T23:53:25.291Z"
   },
   {
    "duration": 44,
    "start_time": "2023-07-15T23:53:25.317Z"
   },
   {
    "duration": 6,
    "start_time": "2023-07-15T23:53:25.362Z"
   },
   {
    "duration": 19,
    "start_time": "2023-07-15T23:53:25.369Z"
   },
   {
    "duration": 29,
    "start_time": "2023-07-15T23:53:25.390Z"
   },
   {
    "duration": 25,
    "start_time": "2023-07-15T23:53:25.420Z"
   },
   {
    "duration": 37,
    "start_time": "2023-07-15T23:53:25.447Z"
   },
   {
    "duration": 13,
    "start_time": "2023-07-15T23:53:25.486Z"
   },
   {
    "duration": 18,
    "start_time": "2023-07-15T23:53:25.501Z"
   },
   {
    "duration": 341,
    "start_time": "2023-07-15T23:53:25.521Z"
   },
   {
    "duration": 11,
    "start_time": "2023-07-15T23:53:25.864Z"
   },
   {
    "duration": 5,
    "start_time": "2023-07-15T23:53:25.877Z"
   },
   {
    "duration": 11,
    "start_time": "2023-07-15T23:53:45.945Z"
   },
   {
    "duration": 42,
    "start_time": "2023-07-16T19:52:36.208Z"
   },
   {
    "duration": 1353,
    "start_time": "2023-07-16T19:52:44.755Z"
   },
   {
    "duration": 73,
    "start_time": "2023-07-16T19:52:46.110Z"
   },
   {
    "duration": 441,
    "start_time": "2023-07-16T19:52:46.185Z"
   },
   {
    "duration": 16,
    "start_time": "2023-07-16T19:52:46.628Z"
   },
   {
    "duration": 25,
    "start_time": "2023-07-16T19:52:46.646Z"
   },
   {
    "duration": 47,
    "start_time": "2023-07-16T19:52:46.673Z"
   },
   {
    "duration": 12,
    "start_time": "2023-07-16T19:52:46.721Z"
   },
   {
    "duration": 17,
    "start_time": "2023-07-16T19:52:46.734Z"
   },
   {
    "duration": 18,
    "start_time": "2023-07-16T19:52:46.752Z"
   },
   {
    "duration": 8,
    "start_time": "2023-07-16T19:52:46.773Z"
   },
   {
    "duration": 23,
    "start_time": "2023-07-16T19:52:46.783Z"
   },
   {
    "duration": 23,
    "start_time": "2023-07-16T19:52:46.808Z"
   },
   {
    "duration": 41,
    "start_time": "2023-07-16T19:52:46.833Z"
   },
   {
    "duration": 24,
    "start_time": "2023-07-16T19:52:46.876Z"
   },
   {
    "duration": 17,
    "start_time": "2023-07-16T19:52:46.901Z"
   },
   {
    "duration": 27,
    "start_time": "2023-07-16T19:52:46.919Z"
   },
   {
    "duration": 33,
    "start_time": "2023-07-16T19:52:46.948Z"
   },
   {
    "duration": 4,
    "start_time": "2023-07-16T19:52:46.983Z"
   },
   {
    "duration": 11,
    "start_time": "2023-07-16T19:52:46.989Z"
   },
   {
    "duration": 18,
    "start_time": "2023-07-16T19:52:47.001Z"
   },
   {
    "duration": 5,
    "start_time": "2023-07-16T19:52:47.020Z"
   },
   {
    "duration": 13,
    "start_time": "2023-07-16T19:52:47.026Z"
   },
   {
    "duration": 23,
    "start_time": "2023-07-16T19:52:47.040Z"
   },
   {
    "duration": 8,
    "start_time": "2023-07-16T19:52:47.065Z"
   },
   {
    "duration": 11,
    "start_time": "2023-07-16T19:52:47.075Z"
   },
   {
    "duration": 20,
    "start_time": "2023-07-16T19:52:47.088Z"
   },
   {
    "duration": 7,
    "start_time": "2023-07-16T19:52:47.120Z"
   },
   {
    "duration": 13,
    "start_time": "2023-07-16T19:52:47.131Z"
   },
   {
    "duration": 12,
    "start_time": "2023-07-16T19:52:47.145Z"
   },
   {
    "duration": 25,
    "start_time": "2023-07-16T19:52:47.158Z"
   },
   {
    "duration": 70,
    "start_time": "2023-07-16T19:52:47.184Z"
   },
   {
    "duration": 242,
    "start_time": "2023-07-16T19:52:47.256Z"
   },
   {
    "duration": 35,
    "start_time": "2023-07-16T19:52:47.500Z"
   },
   {
    "duration": 4,
    "start_time": "2023-07-16T19:52:47.537Z"
   },
   {
    "duration": 106,
    "start_time": "2023-07-16T19:52:47.542Z"
   },
   {
    "duration": 56,
    "start_time": "2023-07-16T19:52:47.650Z"
   },
   {
    "duration": 67,
    "start_time": "2023-07-16T19:52:47.708Z"
   },
   {
    "duration": 158,
    "start_time": "2023-07-16T19:52:47.777Z"
   },
   {
    "duration": 10,
    "start_time": "2023-07-16T19:52:47.937Z"
   },
   {
    "duration": 23,
    "start_time": "2023-07-16T19:52:47.949Z"
   },
   {
    "duration": 9,
    "start_time": "2023-07-16T19:52:47.973Z"
   },
   {
    "duration": 4026,
    "start_time": "2023-07-16T19:52:47.983Z"
   },
   {
    "duration": 31,
    "start_time": "2023-07-16T19:52:52.011Z"
   },
   {
    "duration": 186,
    "start_time": "2023-07-16T19:52:52.044Z"
   },
   {
    "duration": 36,
    "start_time": "2023-07-16T19:52:52.233Z"
   },
   {
    "duration": 241,
    "start_time": "2023-07-16T19:52:52.270Z"
   },
   {
    "duration": 20,
    "start_time": "2023-07-16T19:52:52.512Z"
   },
   {
    "duration": 23,
    "start_time": "2023-07-16T19:52:52.533Z"
   },
   {
    "duration": 16,
    "start_time": "2023-07-16T19:52:52.558Z"
   },
   {
    "duration": 38,
    "start_time": "2023-07-16T19:52:52.576Z"
   },
   {
    "duration": 281,
    "start_time": "2023-07-16T19:52:52.615Z"
   },
   {
    "duration": 37,
    "start_time": "2023-07-16T19:52:52.897Z"
   },
   {
    "duration": 30,
    "start_time": "2023-07-16T19:52:52.936Z"
   },
   {
    "duration": 286,
    "start_time": "2023-07-16T19:52:52.968Z"
   },
   {
    "duration": 19,
    "start_time": "2023-07-16T19:52:53.255Z"
   },
   {
    "duration": 45,
    "start_time": "2023-07-16T19:52:53.275Z"
   },
   {
    "duration": 40,
    "start_time": "2023-07-16T19:52:53.321Z"
   },
   {
    "duration": 10,
    "start_time": "2023-07-16T19:52:53.362Z"
   },
   {
    "duration": 33,
    "start_time": "2023-07-16T19:52:53.374Z"
   },
   {
    "duration": 60,
    "start_time": "2023-07-16T19:52:53.408Z"
   },
   {
    "duration": 6,
    "start_time": "2023-07-16T19:52:53.469Z"
   },
   {
    "duration": 31,
    "start_time": "2023-07-16T19:52:53.476Z"
   },
   {
    "duration": 23,
    "start_time": "2023-07-16T19:52:53.509Z"
   },
   {
    "duration": 92,
    "start_time": "2023-07-16T19:52:53.533Z"
   },
   {
    "duration": 24,
    "start_time": "2023-07-16T19:52:53.627Z"
   },
   {
    "duration": 20,
    "start_time": "2023-07-16T19:52:53.653Z"
   },
   {
    "duration": 30,
    "start_time": "2023-07-16T19:52:53.674Z"
   },
   {
    "duration": 17,
    "start_time": "2023-07-16T19:52:53.705Z"
   },
   {
    "duration": 10,
    "start_time": "2023-07-16T19:52:53.723Z"
   },
   {
    "duration": 30,
    "start_time": "2023-07-16T19:52:53.735Z"
   },
   {
    "duration": 26,
    "start_time": "2023-07-16T19:52:53.766Z"
   },
   {
    "duration": 41,
    "start_time": "2023-07-16T19:52:53.793Z"
   },
   {
    "duration": 12,
    "start_time": "2023-07-16T19:52:53.836Z"
   },
   {
    "duration": 28,
    "start_time": "2023-07-16T19:52:53.849Z"
   },
   {
    "duration": 59,
    "start_time": "2023-07-16T19:52:53.878Z"
   },
   {
    "duration": 36,
    "start_time": "2023-07-16T19:52:53.939Z"
   },
   {
    "duration": 32,
    "start_time": "2023-07-16T19:52:53.976Z"
   },
   {
    "duration": 44,
    "start_time": "2023-07-16T19:52:54.009Z"
   },
   {
    "duration": 13,
    "start_time": "2023-07-16T19:52:54.055Z"
   },
   {
    "duration": 15,
    "start_time": "2023-07-16T19:52:54.070Z"
   },
   {
    "duration": 31,
    "start_time": "2023-07-16T19:52:54.086Z"
   },
   {
    "duration": 7,
    "start_time": "2023-07-16T19:52:54.122Z"
   },
   {
    "duration": 14,
    "start_time": "2023-07-16T19:52:54.130Z"
   },
   {
    "duration": 22,
    "start_time": "2023-07-16T19:52:54.145Z"
   },
   {
    "duration": 40,
    "start_time": "2023-07-16T19:52:54.168Z"
   },
   {
    "duration": 42,
    "start_time": "2023-07-16T19:52:54.209Z"
   },
   {
    "duration": 45,
    "start_time": "2023-07-16T19:52:54.252Z"
   },
   {
    "duration": 23,
    "start_time": "2023-07-16T19:52:54.299Z"
   },
   {
    "duration": 6,
    "start_time": "2023-07-16T19:52:54.324Z"
   },
   {
    "duration": 33,
    "start_time": "2023-07-16T19:52:54.332Z"
   },
   {
    "duration": 32,
    "start_time": "2023-07-16T19:52:54.366Z"
   },
   {
    "duration": 16,
    "start_time": "2023-07-16T19:52:54.399Z"
   },
   {
    "duration": 10,
    "start_time": "2023-07-16T19:52:54.417Z"
   },
   {
    "duration": 22,
    "start_time": "2023-07-16T19:52:54.428Z"
   },
   {
    "duration": 29,
    "start_time": "2023-07-16T19:52:54.452Z"
   },
   {
    "duration": 22,
    "start_time": "2023-07-16T19:52:54.482Z"
   },
   {
    "duration": 22,
    "start_time": "2023-07-16T19:52:54.505Z"
   },
   {
    "duration": 10,
    "start_time": "2023-07-16T19:52:54.529Z"
   },
   {
    "duration": 12,
    "start_time": "2023-07-16T19:52:54.541Z"
   },
   {
    "duration": 358,
    "start_time": "2023-07-16T19:52:54.555Z"
   },
   {
    "duration": 17,
    "start_time": "2023-07-16T19:52:54.915Z"
   },
   {
    "duration": 129,
    "start_time": "2023-07-16T19:52:54.934Z"
   },
   {
    "duration": 13,
    "start_time": "2023-07-16T19:53:08.724Z"
   },
   {
    "duration": 11,
    "start_time": "2023-07-16T19:53:12.498Z"
   },
   {
    "duration": 8,
    "start_time": "2023-07-16T19:54:29.018Z"
   },
   {
    "duration": 23,
    "start_time": "2023-07-16T19:54:36.024Z"
   },
   {
    "duration": 24,
    "start_time": "2023-07-16T20:01:15.372Z"
   },
   {
    "duration": 16,
    "start_time": "2023-07-16T20:02:04.223Z"
   },
   {
    "duration": 14,
    "start_time": "2023-07-16T20:03:05.443Z"
   },
   {
    "duration": 221,
    "start_time": "2023-07-16T20:04:41.899Z"
   },
   {
    "duration": 276,
    "start_time": "2023-07-16T20:05:26.908Z"
   },
   {
    "duration": 24,
    "start_time": "2023-07-16T20:10:46.219Z"
   },
   {
    "duration": 22,
    "start_time": "2023-07-16T20:10:58.250Z"
   },
   {
    "duration": 22,
    "start_time": "2023-07-16T20:11:37.400Z"
   },
   {
    "duration": 25,
    "start_time": "2023-07-16T20:12:22.499Z"
   },
   {
    "duration": 1084,
    "start_time": "2023-07-16T20:18:37.744Z"
   },
   {
    "duration": 48,
    "start_time": "2023-07-16T20:18:38.830Z"
   },
   {
    "duration": 288,
    "start_time": "2023-07-16T20:18:38.880Z"
   },
   {
    "duration": 15,
    "start_time": "2023-07-16T20:18:39.170Z"
   },
   {
    "duration": 19,
    "start_time": "2023-07-16T20:18:39.186Z"
   },
   {
    "duration": 28,
    "start_time": "2023-07-16T20:18:39.207Z"
   },
   {
    "duration": 13,
    "start_time": "2023-07-16T20:18:39.237Z"
   },
   {
    "duration": 31,
    "start_time": "2023-07-16T20:18:39.252Z"
   },
   {
    "duration": 18,
    "start_time": "2023-07-16T20:18:39.284Z"
   },
   {
    "duration": 18,
    "start_time": "2023-07-16T20:18:39.304Z"
   },
   {
    "duration": 31,
    "start_time": "2023-07-16T20:18:39.324Z"
   },
   {
    "duration": 23,
    "start_time": "2023-07-16T20:18:39.356Z"
   },
   {
    "duration": 52,
    "start_time": "2023-07-16T20:18:39.381Z"
   },
   {
    "duration": 40,
    "start_time": "2023-07-16T20:18:39.434Z"
   },
   {
    "duration": 30,
    "start_time": "2023-07-16T20:18:39.476Z"
   },
   {
    "duration": 35,
    "start_time": "2023-07-16T20:18:39.507Z"
   },
   {
    "duration": 29,
    "start_time": "2023-07-16T20:18:39.543Z"
   },
   {
    "duration": 48,
    "start_time": "2023-07-16T20:18:39.574Z"
   },
   {
    "duration": 43,
    "start_time": "2023-07-16T20:18:39.623Z"
   },
   {
    "duration": 38,
    "start_time": "2023-07-16T20:18:39.667Z"
   },
   {
    "duration": 27,
    "start_time": "2023-07-16T20:18:39.706Z"
   },
   {
    "duration": 32,
    "start_time": "2023-07-16T20:18:39.734Z"
   },
   {
    "duration": 9,
    "start_time": "2023-07-16T20:18:39.767Z"
   },
   {
    "duration": 44,
    "start_time": "2023-07-16T20:18:39.778Z"
   },
   {
    "duration": 60,
    "start_time": "2023-07-16T20:18:39.823Z"
   },
   {
    "duration": 7,
    "start_time": "2023-07-16T20:18:39.885Z"
   },
   {
    "duration": 21,
    "start_time": "2023-07-16T20:18:39.893Z"
   },
   {
    "duration": 11,
    "start_time": "2023-07-16T20:18:39.917Z"
   },
   {
    "duration": 25,
    "start_time": "2023-07-16T20:18:39.929Z"
   },
   {
    "duration": 16,
    "start_time": "2023-07-16T20:18:39.955Z"
   },
   {
    "duration": 242,
    "start_time": "2023-07-16T20:18:39.973Z"
   },
   {
    "duration": 21,
    "start_time": "2023-07-16T20:18:40.220Z"
   },
   {
    "duration": 98,
    "start_time": "2023-07-16T20:18:40.242Z"
   },
   {
    "duration": 74,
    "start_time": "2023-07-16T20:18:40.341Z"
   },
   {
    "duration": 37,
    "start_time": "2023-07-16T20:18:40.416Z"
   },
   {
    "duration": 27,
    "start_time": "2023-07-16T20:18:40.455Z"
   },
   {
    "duration": 185,
    "start_time": "2023-07-16T20:18:40.483Z"
   },
   {
    "duration": 9,
    "start_time": "2023-07-16T20:18:40.670Z"
   },
   {
    "duration": 51,
    "start_time": "2023-07-16T20:18:40.681Z"
   },
   {
    "duration": 31,
    "start_time": "2023-07-16T20:18:40.734Z"
   },
   {
    "duration": 4372,
    "start_time": "2023-07-16T20:18:40.767Z"
   },
   {
    "duration": 24,
    "start_time": "2023-07-16T20:18:45.140Z"
   },
   {
    "duration": 187,
    "start_time": "2023-07-16T20:18:45.165Z"
   },
   {
    "duration": 35,
    "start_time": "2023-07-16T20:18:45.353Z"
   },
   {
    "duration": 247,
    "start_time": "2023-07-16T20:18:45.390Z"
   },
   {
    "duration": 14,
    "start_time": "2023-07-16T20:18:45.639Z"
   },
   {
    "duration": 14,
    "start_time": "2023-07-16T20:18:45.654Z"
   },
   {
    "duration": 5,
    "start_time": "2023-07-16T20:18:45.670Z"
   },
   {
    "duration": 35,
    "start_time": "2023-07-16T20:18:45.677Z"
   },
   {
    "duration": 253,
    "start_time": "2023-07-16T20:18:45.713Z"
   },
   {
    "duration": 30,
    "start_time": "2023-07-16T20:18:45.967Z"
   },
   {
    "duration": 44,
    "start_time": "2023-07-16T20:18:45.999Z"
   },
   {
    "duration": 250,
    "start_time": "2023-07-16T20:18:46.044Z"
   },
   {
    "duration": 26,
    "start_time": "2023-07-16T20:18:46.296Z"
   },
   {
    "duration": 21,
    "start_time": "2023-07-16T20:18:46.323Z"
   },
   {
    "duration": 34,
    "start_time": "2023-07-16T20:18:46.346Z"
   },
   {
    "duration": 5,
    "start_time": "2023-07-16T20:18:46.382Z"
   },
   {
    "duration": 25,
    "start_time": "2023-07-16T20:18:46.388Z"
   },
   {
    "duration": 31,
    "start_time": "2023-07-16T20:18:46.414Z"
   },
   {
    "duration": 3,
    "start_time": "2023-07-16T20:18:46.446Z"
   },
   {
    "duration": 21,
    "start_time": "2023-07-16T20:18:46.450Z"
   },
   {
    "duration": 10,
    "start_time": "2023-07-16T20:18:46.472Z"
   },
   {
    "duration": 37,
    "start_time": "2023-07-16T20:18:46.483Z"
   },
   {
    "duration": 15,
    "start_time": "2023-07-16T20:18:46.522Z"
   },
   {
    "duration": 25,
    "start_time": "2023-07-16T20:18:46.538Z"
   },
   {
    "duration": 15,
    "start_time": "2023-07-16T20:18:46.564Z"
   },
   {
    "duration": 15,
    "start_time": "2023-07-16T20:18:46.581Z"
   },
   {
    "duration": 24,
    "start_time": "2023-07-16T20:18:46.597Z"
   },
   {
    "duration": 16,
    "start_time": "2023-07-16T20:18:46.623Z"
   },
   {
    "duration": 20,
    "start_time": "2023-07-16T20:18:46.641Z"
   },
   {
    "duration": 31,
    "start_time": "2023-07-16T20:18:46.663Z"
   },
   {
    "duration": 14,
    "start_time": "2023-07-16T20:18:46.696Z"
   },
   {
    "duration": 37,
    "start_time": "2023-07-16T20:18:46.711Z"
   },
   {
    "duration": 15,
    "start_time": "2023-07-16T20:18:46.749Z"
   },
   {
    "duration": 14,
    "start_time": "2023-07-16T20:18:46.766Z"
   },
   {
    "duration": 19,
    "start_time": "2023-07-16T20:18:46.781Z"
   },
   {
    "duration": 7,
    "start_time": "2023-07-16T20:18:46.801Z"
   },
   {
    "duration": 6,
    "start_time": "2023-07-16T20:18:46.810Z"
   },
   {
    "duration": 8,
    "start_time": "2023-07-16T20:18:46.817Z"
   },
   {
    "duration": 11,
    "start_time": "2023-07-16T20:18:46.827Z"
   },
   {
    "duration": 7,
    "start_time": "2023-07-16T20:18:46.839Z"
   },
   {
    "duration": 6,
    "start_time": "2023-07-16T20:18:46.851Z"
   },
   {
    "duration": 8,
    "start_time": "2023-07-16T20:18:46.858Z"
   },
   {
    "duration": 23,
    "start_time": "2023-07-16T20:18:46.867Z"
   },
   {
    "duration": 30,
    "start_time": "2023-07-16T20:18:46.891Z"
   },
   {
    "duration": 47,
    "start_time": "2023-07-16T20:18:46.923Z"
   },
   {
    "duration": 14,
    "start_time": "2023-07-16T20:18:46.971Z"
   },
   {
    "duration": 8,
    "start_time": "2023-07-16T20:18:46.986Z"
   },
   {
    "duration": 60,
    "start_time": "2023-07-16T20:18:46.995Z"
   },
   {
    "duration": 25,
    "start_time": "2023-07-16T20:18:47.057Z"
   },
   {
    "duration": 12,
    "start_time": "2023-07-16T20:18:47.084Z"
   },
   {
    "duration": 5,
    "start_time": "2023-07-16T20:18:47.098Z"
   },
   {
    "duration": 22,
    "start_time": "2023-07-16T20:18:47.104Z"
   },
   {
    "duration": 35,
    "start_time": "2023-07-16T20:18:47.128Z"
   },
   {
    "duration": 21,
    "start_time": "2023-07-16T20:18:47.165Z"
   },
   {
    "duration": 15,
    "start_time": "2023-07-16T20:18:47.188Z"
   },
   {
    "duration": 22,
    "start_time": "2023-07-16T20:18:47.205Z"
   },
   {
    "duration": 15,
    "start_time": "2023-07-16T20:18:47.229Z"
   },
   {
    "duration": 275,
    "start_time": "2023-07-16T20:18:47.245Z"
   },
   {
    "duration": 9,
    "start_time": "2023-07-16T20:18:47.522Z"
   },
   {
    "duration": 14,
    "start_time": "2023-07-16T20:18:47.533Z"
   },
   {
    "duration": 21,
    "start_time": "2023-07-16T20:18:47.548Z"
   },
   {
    "duration": 273,
    "start_time": "2023-07-16T20:18:47.570Z"
   },
   {
    "duration": 23,
    "start_time": "2023-07-16T20:18:47.845Z"
   },
   {
    "duration": 7,
    "start_time": "2023-07-16T20:24:50.605Z"
   },
   {
    "duration": 101,
    "start_time": "2023-07-16T20:26:51.200Z"
   },
   {
    "duration": 6,
    "start_time": "2023-07-16T20:27:10.261Z"
   },
   {
    "duration": 11,
    "start_time": "2023-07-16T20:27:30.634Z"
   },
   {
    "duration": 6,
    "start_time": "2023-07-16T20:27:42.557Z"
   }
  ],
  "kernelspec": {
   "display_name": "Python 3 (ipykernel)",
   "language": "python",
   "name": "python3"
  },
  "language_info": {
   "codemirror_mode": {
    "name": "ipython",
    "version": 3
   },
   "file_extension": ".py",
   "mimetype": "text/x-python",
   "name": "python",
   "nbconvert_exporter": "python",
   "pygments_lexer": "ipython3",
   "version": "3.9.7"
  },
  "toc": {
   "base_numbering": 1,
   "nav_menu": {},
   "number_sections": true,
   "sideBar": true,
   "skip_h1_title": true,
   "title_cell": "Table of Contents",
   "title_sidebar": "Contents",
   "toc_cell": false,
   "toc_position": {
    "height": "calc(100% - 180px)",
    "left": "10px",
    "top": "150px",
    "width": "165px"
   },
   "toc_section_display": true,
   "toc_window_display": true
  }
 },
 "nbformat": 4,
 "nbformat_minor": 2
}
